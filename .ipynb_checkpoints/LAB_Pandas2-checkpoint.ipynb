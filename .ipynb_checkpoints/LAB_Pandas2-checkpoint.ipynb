{
 "cells": [
  {
   "cell_type": "markdown",
   "metadata": {
    "colab_type": "text",
    "id": "view-in-github"
   },
   "source": [
    "<a href=\"https://colab.research.google.com/github/SSamiKocaaga/Data-Science/blob/main/LAB_Pandas2.ipynb\" target=\"_parent\"><img src=\"https://colab.research.google.com/assets/colab-badge.svg\" alt=\"Open In Colab\"/></a>"
   ]
  },
  {
   "cell_type": "code",
   "execution_count": 141,
   "metadata": {
    "colab": {
     "base_uri": "https://localhost:8080/"
    },
    "id": "2FXnLPgAWeC5",
    "outputId": "d3ed5cf3-b09a-4ed3-c2c8-41fe10c71f2a"
   },
   "outputs": [
    {
     "name": "stdout",
     "output_type": "stream",
     "text": [
      "Requirement already satisfied: pyforest in /usr/local/lib/python3.7/dist-packages (1.0.3)\n"
     ]
    }
   ],
   "source": [
    "pip install pyforest"
   ]
  },
  {
   "cell_type": "code",
   "execution_count": 142,
   "metadata": {
    "id": "hKjSy_mlkAbj"
   },
   "outputs": [],
   "source": [
    "import pandas as pd"
   ]
  },
  {
   "cell_type": "code",
   "execution_count": 143,
   "metadata": {
    "id": "GAKOcrjVcmyW"
   },
   "outputs": [],
   "source": [
    "import pyforest"
   ]
  },
  {
   "cell_type": "code",
   "execution_count": 144,
   "metadata": {
    "id": "88nWaMK_cuG_"
   },
   "outputs": [],
   "source": [
    "#help(pyforest)"
   ]
  },
  {
   "cell_type": "code",
   "execution_count": 145,
   "metadata": {
    "id": "7tAYoXr0cxwI"
   },
   "outputs": [],
   "source": [
    "#dir(pd)"
   ]
  },
  {
   "cell_type": "code",
   "execution_count": 146,
   "metadata": {
    "colab": {
     "base_uri": "https://localhost:8080/"
    },
    "id": "iynB9QC3dozf",
    "outputId": "8214ea45-9ec4-476a-ee5c-eaf99b8ab79f"
   },
   "outputs": [
    {
     "name": "stdout",
     "output_type": "stream",
     "text": [
      "Drive already mounted at /content/drive; to attempt to forcibly remount, call drive.mount(\"/content/drive\", force_remount=True).\n"
     ]
    }
   ],
   "source": [
    "from google.colab import drive\n",
    "drive.mount('/content/drive')"
   ]
  },
  {
   "cell_type": "code",
   "execution_count": 147,
   "metadata": {
    "id": "qcWc-NMSjiom"
   },
   "outputs": [],
   "source": [
    "path= '/content/drive/MyDrive/Colab Notebooks/SDG_SH_DTH_RNCOM.csv'"
   ]
  },
  {
   "cell_type": "code",
   "execution_count": 148,
   "metadata": {
    "id": "SvBBMh-jfJZK"
   },
   "outputs": [],
   "source": [
    "df = pd.read_csv(path, header=1)"
   ]
  },
  {
   "cell_type": "code",
   "execution_count": 149,
   "metadata": {
    "colab": {
     "base_uri": "https://localhost:8080/",
     "height": 204
    },
    "id": "oL0hAtTfg31g",
    "outputId": "d9ddded8-b52d-4e65-f664-cbdd284907c2"
   },
   "outputs": [
    {
     "data": {
      "text/html": [
       "<div>\n",
       "<style scoped>\n",
       "    .dataframe tbody tr th:only-of-type {\n",
       "        vertical-align: middle;\n",
       "    }\n",
       "\n",
       "    .dataframe tbody tr th {\n",
       "        vertical-align: top;\n",
       "    }\n",
       "\n",
       "    .dataframe thead th {\n",
       "        text-align: right;\n",
       "    }\n",
       "</style>\n",
       "<table border=\"1\" class=\"dataframe\">\n",
       "  <thead>\n",
       "    <tr style=\"text-align: right;\">\n",
       "      <th></th>\n",
       "      <th>Country</th>\n",
       "      <th>Year</th>\n",
       "      <th>Causes</th>\n",
       "      <th>Both sexes</th>\n",
       "      <th>Male</th>\n",
       "      <th>Female</th>\n",
       "    </tr>\n",
       "  </thead>\n",
       "  <tbody>\n",
       "    <tr>\n",
       "      <th>0</th>\n",
       "      <td>Afghanistan</td>\n",
       "      <td>2019</td>\n",
       "      <td>Malignant neoplasms</td>\n",
       "      <td>15565 [7609-28280]</td>\n",
       "      <td>7756 [3898-13841]</td>\n",
       "      <td>7809 [3711-14439]</td>\n",
       "    </tr>\n",
       "    <tr>\n",
       "      <th>1</th>\n",
       "      <td>Afghanistan</td>\n",
       "      <td>2019</td>\n",
       "      <td>Diabetes mellitus</td>\n",
       "      <td>8060 [3827-14468]</td>\n",
       "      <td>2612 [1377-4651]</td>\n",
       "      <td>5448 [2451-9817]</td>\n",
       "    </tr>\n",
       "    <tr>\n",
       "      <th>2</th>\n",
       "      <td>Afghanistan</td>\n",
       "      <td>2019</td>\n",
       "      <td>Cardiovascular diseases</td>\n",
       "      <td>71264 [42413-108472]</td>\n",
       "      <td>33793 [20550-51028]</td>\n",
       "      <td>37471 [21863-57444]</td>\n",
       "    </tr>\n",
       "    <tr>\n",
       "      <th>3</th>\n",
       "      <td>Afghanistan</td>\n",
       "      <td>2019</td>\n",
       "      <td>Chronic respiratory diseases</td>\n",
       "      <td>8285 [3618-14626]</td>\n",
       "      <td>3920 [1877-6745]</td>\n",
       "      <td>4365 [1741-7881]</td>\n",
       "    </tr>\n",
       "    <tr>\n",
       "      <th>4</th>\n",
       "      <td>Afghanistan</td>\n",
       "      <td>2018</td>\n",
       "      <td>Malignant neoplasms</td>\n",
       "      <td>15065 [7337-27401]</td>\n",
       "      <td>7534 [3766-13454]</td>\n",
       "      <td>7531 [3570-13948]</td>\n",
       "    </tr>\n",
       "  </tbody>\n",
       "</table>\n",
       "</div>"
      ],
      "text/plain": [
       "       Country  Year  ...                 Male               Female\n",
       "0  Afghanistan  2019  ...    7756 [3898-13841]    7809 [3711-14439]\n",
       "1  Afghanistan  2019  ...     2612 [1377-4651]     5448 [2451-9817]\n",
       "2  Afghanistan  2019  ...  33793 [20550-51028]  37471 [21863-57444]\n",
       "3  Afghanistan  2019  ...     3920 [1877-6745]     4365 [1741-7881]\n",
       "4  Afghanistan  2018  ...    7534 [3766-13454]    7531 [3570-13948]\n",
       "\n",
       "[5 rows x 6 columns]"
      ]
     },
     "execution_count": 149,
     "metadata": {
      "tags": []
     },
     "output_type": "execute_result"
    }
   ],
   "source": [
    "df.head()"
   ]
  },
  {
   "cell_type": "code",
   "execution_count": 150,
   "metadata": {
    "colab": {
     "base_uri": "https://localhost:8080/"
    },
    "id": "NmZTEgQypIxJ",
    "outputId": "8288aee6-c034-4a91-a731-53dd890164d7"
   },
   "outputs": [
    {
     "name": "stdout",
     "output_type": "stream",
     "text": [
      "Netherlands                                             80\n",
      "Nepal                                                   80\n",
      "Spain                                                   80\n",
      "Greece                                                  80\n",
      "Yemen                                                   80\n",
      "                                                        ..\n",
      "Grenada                                                 80\n",
      "United Kingdom of Great Britain and Northern Ireland    80\n",
      "Uganda                                                  80\n",
      "Nigeria                                                 80\n",
      "Japan                                                   80\n",
      "Name: Country, Length: 183, dtype: int64\n",
      "*-*-*-*-*-*-*-*-*-*-*-*-*-*-*-*-*-*-*-*-\n",
      "2015    732\n",
      "2007    732\n",
      "2008    732\n",
      "2016    732\n",
      "2001    732\n",
      "2009    732\n",
      "2017    732\n",
      "2002    732\n",
      "2010    732\n",
      "2018    732\n",
      "2003    732\n",
      "2011    732\n",
      "2019    732\n",
      "2004    732\n",
      "2012    732\n",
      "2005    732\n",
      "2013    732\n",
      "2006    732\n",
      "2014    732\n",
      "2000    732\n",
      "Name: Year, dtype: int64\n",
      "*-*-*-*-*-*-*-*-*-*-*-*-*-*-*-*-*-*-*-*-\n",
      " Cardiovascular diseases         3660\n",
      " Chronic respiratory diseases    3660\n",
      " Diabetes mellitus               3660\n",
      " Malignant neoplasms             3660\n",
      "Name: Causes, dtype: int64\n",
      "*-*-*-*-*-*-*-*-*-*-*-*-*-*-*-*-*-*-*-*-\n",
      "29 [18-43]             6\n",
      "27 [19-37]             4\n",
      "86 [50-141]            3\n",
      "35 [23-50]             3\n",
      "36 [26-49]             3\n",
      "                      ..\n",
      "73549 [62622-82537]    1\n",
      "30576 [24859-34308]    1\n",
      "13581 [9469-17440]     1\n",
      "2697 [1980-3487]       1\n",
      "7021 [4111-11167]      1\n",
      "Name:  Both sexes, Length: 14531, dtype: int64\n",
      "*-*-*-*-*-*-*-*-*-*-*-*-*-*-*-*-*-*-*-*-\n",
      "15 [10-22]          9\n",
      "25 [18-33]          7\n",
      "27 [17-41]          7\n",
      "17 [11-24]          6\n",
      "38 [29-49]          6\n",
      "                   ..\n",
      "2500 [1296-4427]    1\n",
      "2299 [1314-3848]    1\n",
      "519 [433-619]       1\n",
      "2687 [1538-4380]    1\n",
      "1071 [582-1764]     1\n",
      "Name:  Male, Length: 14337, dtype: int64\n",
      "*-*-*-*-*-*-*-*-*-*-*-*-*-*-*-*-*-*-*-*-\n",
      "13 [9-18]              16\n",
      "12 [7-19]              11\n",
      "12 [8-16]               9\n",
      "11 [6-17]               8\n",
      "43 [24-70]              7\n",
      "                       ..\n",
      "19593 [15301-23653]     1\n",
      "1664 [989-2560]         1\n",
      "216 [137-324]           1\n",
      "424 [191-758]           1\n",
      "7974 [6708-9274]        1\n",
      "Name:  Female, Length: 14331, dtype: int64\n",
      "*-*-*-*-*-*-*-*-*-*-*-*-*-*-*-*-*-*-*-*-\n"
     ]
    }
   ],
   "source": [
    "for i in df.columns:\n",
    "  print(df[i].value_counts(dropna = False))\n",
    "  print(\"*-\"*20)"
   ]
  },
  {
   "cell_type": "code",
   "execution_count": 151,
   "metadata": {
    "colab": {
     "base_uri": "https://localhost:8080/"
    },
    "id": "QA95djSjpWa5",
    "outputId": "d66acad0-e2f0-45b5-b670-5ed745f3939a"
   },
   "outputs": [
    {
     "data": {
      "text/plain": [
       "Index(['Country', 'Year', 'Causes', ' Both sexes', ' Male', ' Female'], dtype='object')"
      ]
     },
     "execution_count": 151,
     "metadata": {
      "tags": []
     },
     "output_type": "execute_result"
    }
   ],
   "source": [
    "df.columns"
   ]
  },
  {
   "cell_type": "code",
   "execution_count": 152,
   "metadata": {
    "id": "sqaiUvAwp_vK"
   },
   "outputs": [],
   "source": [
    "df.columns = df.columns.str.strip()"
   ]
  },
  {
   "cell_type": "code",
   "execution_count": 153,
   "metadata": {
    "colab": {
     "base_uri": "https://localhost:8080/"
    },
    "id": "mFdC8CMoqG2U",
    "outputId": "9a57cd56-f0bc-4204-9ca0-0d3db1a34ae8"
   },
   "outputs": [
    {
     "data": {
      "text/plain": [
       "Index(['Country', 'Year', 'Causes', 'Both sexes', 'Male', 'Female'], dtype='object')"
      ]
     },
     "execution_count": 153,
     "metadata": {
      "tags": []
     },
     "output_type": "execute_result"
    }
   ],
   "source": [
    "df.columns"
   ]
  },
  {
   "cell_type": "code",
   "execution_count": 154,
   "metadata": {
    "colab": {
     "base_uri": "https://localhost:8080/"
    },
    "id": "FQ3nkNwnqIKz",
    "outputId": "1ed9ba5c-7536-4a49-f27e-abdc2cfb69e4"
   },
   "outputs": [
    {
     "data": {
      "text/plain": [
       "array([' Malignant neoplasms', ' Diabetes mellitus',\n",
       "       ' Cardiovascular diseases', ' Chronic respiratory diseases'],\n",
       "      dtype=object)"
      ]
     },
     "execution_count": 154,
     "metadata": {
      "tags": []
     },
     "output_type": "execute_result"
    }
   ],
   "source": [
    "df.Causes.unique()"
   ]
  },
  {
   "cell_type": "code",
   "execution_count": 155,
   "metadata": {
    "colab": {
     "base_uri": "https://localhost:8080/"
    },
    "id": "wLGuDQOGqMoM",
    "outputId": "d1b6f17e-e9be-43eb-8ad8-055b29d8227e"
   },
   "outputs": [
    {
     "data": {
      "text/plain": [
       "Index(['Country', 'Causes', 'Both sexes', 'Male', 'Female'], dtype='object')"
      ]
     },
     "execution_count": 155,
     "metadata": {
      "tags": []
     },
     "output_type": "execute_result"
    }
   ],
   "source": [
    "df.select_dtypes('object').columns"
   ]
  },
  {
   "cell_type": "code",
   "execution_count": 156,
   "metadata": {
    "id": "I_U8Tmy5qV5i"
   },
   "outputs": [],
   "source": [
    "for column in df.select_dtypes('object').columns:\n",
    "  df[column] = df[column].apply(lambda x : x.strip())"
   ]
  },
  {
   "cell_type": "code",
   "execution_count": 157,
   "metadata": {
    "colab": {
     "base_uri": "https://localhost:8080/"
    },
    "id": "xy5zkq9BqlrY",
    "outputId": "3cbe4124-72d2-472b-bbef-f4c3e51a9265"
   },
   "outputs": [
    {
     "data": {
      "text/plain": [
       "array(['Malignant neoplasms', 'Diabetes mellitus',\n",
       "       'Cardiovascular diseases', 'Chronic respiratory diseases'],\n",
       "      dtype=object)"
      ]
     },
     "execution_count": 157,
     "metadata": {
      "tags": []
     },
     "output_type": "execute_result"
    }
   ],
   "source": [
    "df.Causes.unique()"
   ]
  },
  {
   "cell_type": "code",
   "execution_count": 158,
   "metadata": {
    "colab": {
     "base_uri": "https://localhost:8080/"
    },
    "id": "sAGjZ0lHqo98",
    "outputId": "a04364e0-249f-48fc-9a7d-5ed9b2454685"
   },
   "outputs": [
    {
     "data": {
      "text/plain": [
       "0          7756 [3898-13841]\n",
       "1           2612 [1377-4651]\n",
       "2        33793 [20550-51028]\n",
       "3           3920 [1877-6745]\n",
       "4          7534 [3766-13454]\n",
       "                ...         \n",
       "14635         996 [603-1513]\n",
       "14636       3838 [2512-5647]\n",
       "14637         810 [507-1246]\n",
       "14638       4425 [2818-6837]\n",
       "14639         983 [605-1481]\n",
       "Name: Male, Length: 14640, dtype: object"
      ]
     },
     "execution_count": 158,
     "metadata": {
      "tags": []
     },
     "output_type": "execute_result"
    }
   ],
   "source": [
    "df.Male"
   ]
  },
  {
   "cell_type": "code",
   "execution_count": 159,
   "metadata": {
    "colab": {
     "base_uri": "https://localhost:8080/"
    },
    "id": "MAXGBdGXrD_h",
    "outputId": "2178206e-eab0-48ff-ee6a-843530495165"
   },
   "outputs": [
    {
     "data": {
      "text/plain": [
       "0         7756\n",
       "1         2612\n",
       "2        33793\n",
       "3         3920\n",
       "4         7534\n",
       "         ...  \n",
       "14635      996\n",
       "14636     3838\n",
       "14637      810\n",
       "14638     4425\n",
       "14639      983\n",
       "Name: Male, Length: 14640, dtype: int64"
      ]
     },
     "execution_count": 159,
     "metadata": {
      "tags": []
     },
     "output_type": "execute_result"
    }
   ],
   "source": [
    "df.Male.apply(lambda x : x.split()[0]).astype('int')"
   ]
  },
  {
   "cell_type": "code",
   "execution_count": 160,
   "metadata": {
    "colab": {
     "base_uri": "https://localhost:8080/"
    },
    "id": "Zuax-aAKrYsT",
    "outputId": "08d90ec7-0992-44f9-90a3-8768f5e75add"
   },
   "outputs": [
    {
     "data": {
      "text/plain": [
       "0        13841\n",
       "1         4651\n",
       "2        51028\n",
       "3         6745\n",
       "4        13454\n",
       "         ...  \n",
       "14635     1513\n",
       "14636     5647\n",
       "14637     1246\n",
       "14638     6837\n",
       "14639     1481\n",
       "Name: Male, Length: 14640, dtype: object"
      ]
     },
     "execution_count": 160,
     "metadata": {
      "tags": []
     },
     "output_type": "execute_result"
    }
   ],
   "source": [
    "df.Male.apply(lambda x : x.split()[1].split('-')[1].strip('[]'))"
   ]
  },
  {
   "cell_type": "code",
   "execution_count": 161,
   "metadata": {
    "id": "4o1UsT6cr-Vt"
   },
   "outputs": [],
   "source": [
    "for i in df.columns[-3:]:\n",
    "  df[i+'_recent'] = df[i].apply(lambda x : x.split()[0]).astype('int')\n",
    "  df[i+'_min'] = df[i].apply(lambda x : x.split()[1].split('-')[0].strip('[]')).astype('int')\n",
    "  df[i+'_max'] = df[i].apply(lambda x : x.split()[1].split('-')[1].strip('[]')).astype('int')"
   ]
  },
  {
   "cell_type": "code",
   "execution_count": 162,
   "metadata": {
    "colab": {
     "base_uri": "https://localhost:8080/",
     "height": 796
    },
    "id": "PKm3jCNTv_2Z",
    "outputId": "951a3745-b22d-4d64-b0bc-d7cb929c2da5"
   },
   "outputs": [
    {
     "data": {
      "text/html": [
       "<div>\n",
       "<style scoped>\n",
       "    .dataframe tbody tr th:only-of-type {\n",
       "        vertical-align: middle;\n",
       "    }\n",
       "\n",
       "    .dataframe tbody tr th {\n",
       "        vertical-align: top;\n",
       "    }\n",
       "\n",
       "    .dataframe thead th {\n",
       "        text-align: right;\n",
       "    }\n",
       "</style>\n",
       "<table border=\"1\" class=\"dataframe\">\n",
       "  <thead>\n",
       "    <tr style=\"text-align: right;\">\n",
       "      <th></th>\n",
       "      <th>Country</th>\n",
       "      <th>Year</th>\n",
       "      <th>Causes</th>\n",
       "      <th>Both sexes</th>\n",
       "      <th>Male</th>\n",
       "      <th>Female</th>\n",
       "      <th>Both sexes_recent</th>\n",
       "      <th>Both sexes_min</th>\n",
       "      <th>Both sexes_max</th>\n",
       "      <th>Male_recent</th>\n",
       "      <th>Male_min</th>\n",
       "      <th>Male_max</th>\n",
       "      <th>Female_recent</th>\n",
       "      <th>Female_min</th>\n",
       "      <th>Female_max</th>\n",
       "    </tr>\n",
       "  </thead>\n",
       "  <tbody>\n",
       "    <tr>\n",
       "      <th>0</th>\n",
       "      <td>Afghanistan</td>\n",
       "      <td>2019</td>\n",
       "      <td>Malignant neoplasms</td>\n",
       "      <td>15565 [7609-28280]</td>\n",
       "      <td>7756 [3898-13841]</td>\n",
       "      <td>7809 [3711-14439]</td>\n",
       "      <td>15565</td>\n",
       "      <td>7609</td>\n",
       "      <td>28280</td>\n",
       "      <td>7756</td>\n",
       "      <td>3898</td>\n",
       "      <td>13841</td>\n",
       "      <td>7809</td>\n",
       "      <td>3711</td>\n",
       "      <td>14439</td>\n",
       "    </tr>\n",
       "    <tr>\n",
       "      <th>1</th>\n",
       "      <td>Afghanistan</td>\n",
       "      <td>2019</td>\n",
       "      <td>Diabetes mellitus</td>\n",
       "      <td>8060 [3827-14468]</td>\n",
       "      <td>2612 [1377-4651]</td>\n",
       "      <td>5448 [2451-9817]</td>\n",
       "      <td>8060</td>\n",
       "      <td>3827</td>\n",
       "      <td>14468</td>\n",
       "      <td>2612</td>\n",
       "      <td>1377</td>\n",
       "      <td>4651</td>\n",
       "      <td>5448</td>\n",
       "      <td>2451</td>\n",
       "      <td>9817</td>\n",
       "    </tr>\n",
       "    <tr>\n",
       "      <th>2</th>\n",
       "      <td>Afghanistan</td>\n",
       "      <td>2019</td>\n",
       "      <td>Cardiovascular diseases</td>\n",
       "      <td>71264 [42413-108472]</td>\n",
       "      <td>33793 [20550-51028]</td>\n",
       "      <td>37471 [21863-57444]</td>\n",
       "      <td>71264</td>\n",
       "      <td>42413</td>\n",
       "      <td>108472</td>\n",
       "      <td>33793</td>\n",
       "      <td>20550</td>\n",
       "      <td>51028</td>\n",
       "      <td>37471</td>\n",
       "      <td>21863</td>\n",
       "      <td>57444</td>\n",
       "    </tr>\n",
       "    <tr>\n",
       "      <th>3</th>\n",
       "      <td>Afghanistan</td>\n",
       "      <td>2019</td>\n",
       "      <td>Chronic respiratory diseases</td>\n",
       "      <td>8285 [3618-14626]</td>\n",
       "      <td>3920 [1877-6745]</td>\n",
       "      <td>4365 [1741-7881]</td>\n",
       "      <td>8285</td>\n",
       "      <td>3618</td>\n",
       "      <td>14626</td>\n",
       "      <td>3920</td>\n",
       "      <td>1877</td>\n",
       "      <td>6745</td>\n",
       "      <td>4365</td>\n",
       "      <td>1741</td>\n",
       "      <td>7881</td>\n",
       "    </tr>\n",
       "    <tr>\n",
       "      <th>4</th>\n",
       "      <td>Afghanistan</td>\n",
       "      <td>2018</td>\n",
       "      <td>Malignant neoplasms</td>\n",
       "      <td>15065 [7337-27401]</td>\n",
       "      <td>7534 [3766-13454]</td>\n",
       "      <td>7531 [3570-13948]</td>\n",
       "      <td>15065</td>\n",
       "      <td>7337</td>\n",
       "      <td>27401</td>\n",
       "      <td>7534</td>\n",
       "      <td>3766</td>\n",
       "      <td>13454</td>\n",
       "      <td>7531</td>\n",
       "      <td>3570</td>\n",
       "      <td>13948</td>\n",
       "    </tr>\n",
       "    <tr>\n",
       "      <th>...</th>\n",
       "      <td>...</td>\n",
       "      <td>...</td>\n",
       "      <td>...</td>\n",
       "      <td>...</td>\n",
       "      <td>...</td>\n",
       "      <td>...</td>\n",
       "      <td>...</td>\n",
       "      <td>...</td>\n",
       "      <td>...</td>\n",
       "      <td>...</td>\n",
       "      <td>...</td>\n",
       "      <td>...</td>\n",
       "      <td>...</td>\n",
       "      <td>...</td>\n",
       "      <td>...</td>\n",
       "    </tr>\n",
       "    <tr>\n",
       "      <th>14635</th>\n",
       "      <td>Zimbabwe</td>\n",
       "      <td>2001</td>\n",
       "      <td>Chronic respiratory diseases</td>\n",
       "      <td>1884 [1044-3046]</td>\n",
       "      <td>996 [603-1513]</td>\n",
       "      <td>887 [441-1533]</td>\n",
       "      <td>1884</td>\n",
       "      <td>1044</td>\n",
       "      <td>3046</td>\n",
       "      <td>996</td>\n",
       "      <td>603</td>\n",
       "      <td>1513</td>\n",
       "      <td>887</td>\n",
       "      <td>441</td>\n",
       "      <td>1533</td>\n",
       "    </tr>\n",
       "    <tr>\n",
       "      <th>14636</th>\n",
       "      <td>Zimbabwe</td>\n",
       "      <td>2000</td>\n",
       "      <td>Malignant neoplasms</td>\n",
       "      <td>7474 [4592-11441]</td>\n",
       "      <td>3838 [2512-5647]</td>\n",
       "      <td>3636 [2080-5794]</td>\n",
       "      <td>7474</td>\n",
       "      <td>4592</td>\n",
       "      <td>11441</td>\n",
       "      <td>3838</td>\n",
       "      <td>2512</td>\n",
       "      <td>5647</td>\n",
       "      <td>3636</td>\n",
       "      <td>2080</td>\n",
       "      <td>5794</td>\n",
       "    </tr>\n",
       "    <tr>\n",
       "      <th>14637</th>\n",
       "      <td>Zimbabwe</td>\n",
       "      <td>2000</td>\n",
       "      <td>Diabetes mellitus</td>\n",
       "      <td>2039 [1227-3219]</td>\n",
       "      <td>810 [507-1246]</td>\n",
       "      <td>1229 [720-1972]</td>\n",
       "      <td>2039</td>\n",
       "      <td>1227</td>\n",
       "      <td>3219</td>\n",
       "      <td>810</td>\n",
       "      <td>507</td>\n",
       "      <td>1246</td>\n",
       "      <td>1229</td>\n",
       "      <td>720</td>\n",
       "      <td>1972</td>\n",
       "    </tr>\n",
       "    <tr>\n",
       "      <th>14638</th>\n",
       "      <td>Zimbabwe</td>\n",
       "      <td>2000</td>\n",
       "      <td>Cardiovascular diseases</td>\n",
       "      <td>10368 [6335-16076]</td>\n",
       "      <td>4425 [2818-6837]</td>\n",
       "      <td>5943 [3516-9239]</td>\n",
       "      <td>10368</td>\n",
       "      <td>6335</td>\n",
       "      <td>16076</td>\n",
       "      <td>4425</td>\n",
       "      <td>2818</td>\n",
       "      <td>6837</td>\n",
       "      <td>5943</td>\n",
       "      <td>3516</td>\n",
       "      <td>9239</td>\n",
       "    </tr>\n",
       "    <tr>\n",
       "      <th>14639</th>\n",
       "      <td>Zimbabwe</td>\n",
       "      <td>2000</td>\n",
       "      <td>Chronic respiratory diseases</td>\n",
       "      <td>1861 [1039-2993]</td>\n",
       "      <td>983 [605-1481]</td>\n",
       "      <td>878 [435-1513]</td>\n",
       "      <td>1861</td>\n",
       "      <td>1039</td>\n",
       "      <td>2993</td>\n",
       "      <td>983</td>\n",
       "      <td>605</td>\n",
       "      <td>1481</td>\n",
       "      <td>878</td>\n",
       "      <td>435</td>\n",
       "      <td>1513</td>\n",
       "    </tr>\n",
       "  </tbody>\n",
       "</table>\n",
       "<p>14640 rows × 15 columns</p>\n",
       "</div>"
      ],
      "text/plain": [
       "           Country  Year  ... Female_min Female_max\n",
       "0      Afghanistan  2019  ...       3711      14439\n",
       "1      Afghanistan  2019  ...       2451       9817\n",
       "2      Afghanistan  2019  ...      21863      57444\n",
       "3      Afghanistan  2019  ...       1741       7881\n",
       "4      Afghanistan  2018  ...       3570      13948\n",
       "...            ...   ...  ...        ...        ...\n",
       "14635     Zimbabwe  2001  ...        441       1533\n",
       "14636     Zimbabwe  2000  ...       2080       5794\n",
       "14637     Zimbabwe  2000  ...        720       1972\n",
       "14638     Zimbabwe  2000  ...       3516       9239\n",
       "14639     Zimbabwe  2000  ...        435       1513\n",
       "\n",
       "[14640 rows x 15 columns]"
      ]
     },
     "execution_count": 162,
     "metadata": {
      "tags": []
     },
     "output_type": "execute_result"
    }
   ],
   "source": [
    "df"
   ]
  },
  {
   "cell_type": "code",
   "execution_count": 163,
   "metadata": {
    "id": "Gi1QykKRwhsA"
   },
   "outputs": [],
   "source": [
    "df_rearanged = df.drop(df.columns[3:6],axis=1)"
   ]
  },
  {
   "cell_type": "code",
   "execution_count": 164,
   "metadata": {
    "colab": {
     "base_uri": "https://localhost:8080/",
     "height": 521
    },
    "id": "Oo47V78wxNmE",
    "outputId": "bb422da2-90f7-44d1-dc92-c4ae786cb0bf"
   },
   "outputs": [
    {
     "data": {
      "text/html": [
       "<div>\n",
       "<style scoped>\n",
       "    .dataframe tbody tr th:only-of-type {\n",
       "        vertical-align: middle;\n",
       "    }\n",
       "\n",
       "    .dataframe tbody tr th {\n",
       "        vertical-align: top;\n",
       "    }\n",
       "\n",
       "    .dataframe thead th {\n",
       "        text-align: right;\n",
       "    }\n",
       "</style>\n",
       "<table border=\"1\" class=\"dataframe\">\n",
       "  <thead>\n",
       "    <tr style=\"text-align: right;\">\n",
       "      <th></th>\n",
       "      <th>Country</th>\n",
       "      <th>Year</th>\n",
       "      <th>Causes</th>\n",
       "      <th>Both sexes_recent</th>\n",
       "      <th>Both sexes_min</th>\n",
       "      <th>Both sexes_max</th>\n",
       "      <th>Male_recent</th>\n",
       "      <th>Male_min</th>\n",
       "      <th>Male_max</th>\n",
       "      <th>Female_recent</th>\n",
       "      <th>Female_min</th>\n",
       "      <th>Female_max</th>\n",
       "    </tr>\n",
       "  </thead>\n",
       "  <tbody>\n",
       "    <tr>\n",
       "      <th>0</th>\n",
       "      <td>Afghanistan</td>\n",
       "      <td>2019</td>\n",
       "      <td>Malignant neoplasms</td>\n",
       "      <td>15565</td>\n",
       "      <td>7609</td>\n",
       "      <td>28280</td>\n",
       "      <td>7756</td>\n",
       "      <td>3898</td>\n",
       "      <td>13841</td>\n",
       "      <td>7809</td>\n",
       "      <td>3711</td>\n",
       "      <td>14439</td>\n",
       "    </tr>\n",
       "    <tr>\n",
       "      <th>1</th>\n",
       "      <td>Afghanistan</td>\n",
       "      <td>2019</td>\n",
       "      <td>Diabetes mellitus</td>\n",
       "      <td>8060</td>\n",
       "      <td>3827</td>\n",
       "      <td>14468</td>\n",
       "      <td>2612</td>\n",
       "      <td>1377</td>\n",
       "      <td>4651</td>\n",
       "      <td>5448</td>\n",
       "      <td>2451</td>\n",
       "      <td>9817</td>\n",
       "    </tr>\n",
       "    <tr>\n",
       "      <th>2</th>\n",
       "      <td>Afghanistan</td>\n",
       "      <td>2019</td>\n",
       "      <td>Cardiovascular diseases</td>\n",
       "      <td>71264</td>\n",
       "      <td>42413</td>\n",
       "      <td>108472</td>\n",
       "      <td>33793</td>\n",
       "      <td>20550</td>\n",
       "      <td>51028</td>\n",
       "      <td>37471</td>\n",
       "      <td>21863</td>\n",
       "      <td>57444</td>\n",
       "    </tr>\n",
       "    <tr>\n",
       "      <th>3</th>\n",
       "      <td>Afghanistan</td>\n",
       "      <td>2019</td>\n",
       "      <td>Chronic respiratory diseases</td>\n",
       "      <td>8285</td>\n",
       "      <td>3618</td>\n",
       "      <td>14626</td>\n",
       "      <td>3920</td>\n",
       "      <td>1877</td>\n",
       "      <td>6745</td>\n",
       "      <td>4365</td>\n",
       "      <td>1741</td>\n",
       "      <td>7881</td>\n",
       "    </tr>\n",
       "    <tr>\n",
       "      <th>4</th>\n",
       "      <td>Afghanistan</td>\n",
       "      <td>2018</td>\n",
       "      <td>Malignant neoplasms</td>\n",
       "      <td>15065</td>\n",
       "      <td>7337</td>\n",
       "      <td>27401</td>\n",
       "      <td>7534</td>\n",
       "      <td>3766</td>\n",
       "      <td>13454</td>\n",
       "      <td>7531</td>\n",
       "      <td>3570</td>\n",
       "      <td>13948</td>\n",
       "    </tr>\n",
       "    <tr>\n",
       "      <th>...</th>\n",
       "      <td>...</td>\n",
       "      <td>...</td>\n",
       "      <td>...</td>\n",
       "      <td>...</td>\n",
       "      <td>...</td>\n",
       "      <td>...</td>\n",
       "      <td>...</td>\n",
       "      <td>...</td>\n",
       "      <td>...</td>\n",
       "      <td>...</td>\n",
       "      <td>...</td>\n",
       "      <td>...</td>\n",
       "    </tr>\n",
       "    <tr>\n",
       "      <th>14635</th>\n",
       "      <td>Zimbabwe</td>\n",
       "      <td>2001</td>\n",
       "      <td>Chronic respiratory diseases</td>\n",
       "      <td>1884</td>\n",
       "      <td>1044</td>\n",
       "      <td>3046</td>\n",
       "      <td>996</td>\n",
       "      <td>603</td>\n",
       "      <td>1513</td>\n",
       "      <td>887</td>\n",
       "      <td>441</td>\n",
       "      <td>1533</td>\n",
       "    </tr>\n",
       "    <tr>\n",
       "      <th>14636</th>\n",
       "      <td>Zimbabwe</td>\n",
       "      <td>2000</td>\n",
       "      <td>Malignant neoplasms</td>\n",
       "      <td>7474</td>\n",
       "      <td>4592</td>\n",
       "      <td>11441</td>\n",
       "      <td>3838</td>\n",
       "      <td>2512</td>\n",
       "      <td>5647</td>\n",
       "      <td>3636</td>\n",
       "      <td>2080</td>\n",
       "      <td>5794</td>\n",
       "    </tr>\n",
       "    <tr>\n",
       "      <th>14637</th>\n",
       "      <td>Zimbabwe</td>\n",
       "      <td>2000</td>\n",
       "      <td>Diabetes mellitus</td>\n",
       "      <td>2039</td>\n",
       "      <td>1227</td>\n",
       "      <td>3219</td>\n",
       "      <td>810</td>\n",
       "      <td>507</td>\n",
       "      <td>1246</td>\n",
       "      <td>1229</td>\n",
       "      <td>720</td>\n",
       "      <td>1972</td>\n",
       "    </tr>\n",
       "    <tr>\n",
       "      <th>14638</th>\n",
       "      <td>Zimbabwe</td>\n",
       "      <td>2000</td>\n",
       "      <td>Cardiovascular diseases</td>\n",
       "      <td>10368</td>\n",
       "      <td>6335</td>\n",
       "      <td>16076</td>\n",
       "      <td>4425</td>\n",
       "      <td>2818</td>\n",
       "      <td>6837</td>\n",
       "      <td>5943</td>\n",
       "      <td>3516</td>\n",
       "      <td>9239</td>\n",
       "    </tr>\n",
       "    <tr>\n",
       "      <th>14639</th>\n",
       "      <td>Zimbabwe</td>\n",
       "      <td>2000</td>\n",
       "      <td>Chronic respiratory diseases</td>\n",
       "      <td>1861</td>\n",
       "      <td>1039</td>\n",
       "      <td>2993</td>\n",
       "      <td>983</td>\n",
       "      <td>605</td>\n",
       "      <td>1481</td>\n",
       "      <td>878</td>\n",
       "      <td>435</td>\n",
       "      <td>1513</td>\n",
       "    </tr>\n",
       "  </tbody>\n",
       "</table>\n",
       "<p>14640 rows × 12 columns</p>\n",
       "</div>"
      ],
      "text/plain": [
       "           Country  Year  ... Female_min  Female_max\n",
       "0      Afghanistan  2019  ...       3711       14439\n",
       "1      Afghanistan  2019  ...       2451        9817\n",
       "2      Afghanistan  2019  ...      21863       57444\n",
       "3      Afghanistan  2019  ...       1741        7881\n",
       "4      Afghanistan  2018  ...       3570       13948\n",
       "...            ...   ...  ...        ...         ...\n",
       "14635     Zimbabwe  2001  ...        441        1533\n",
       "14636     Zimbabwe  2000  ...       2080        5794\n",
       "14637     Zimbabwe  2000  ...        720        1972\n",
       "14638     Zimbabwe  2000  ...       3516        9239\n",
       "14639     Zimbabwe  2000  ...        435        1513\n",
       "\n",
       "[14640 rows x 12 columns]"
      ]
     },
     "execution_count": 164,
     "metadata": {
      "tags": []
     },
     "output_type": "execute_result"
    }
   ],
   "source": [
    "df_rearranged"
   ]
  },
  {
   "cell_type": "code",
   "execution_count": 165,
   "metadata": {
    "colab": {
     "base_uri": "https://localhost:8080/"
    },
    "id": "E9r_KGNbxPP2",
    "outputId": "17260b6d-e4d0-4267-f6ad-2757c64ef69b"
   },
   "outputs": [
    {
     "data": {
      "text/plain": [
       "Country              False\n",
       "Year                 False\n",
       "Causes               False\n",
       "Both sexes_recent    False\n",
       "Both sexes_min       False\n",
       "Both sexes_max       False\n",
       "Male_recent          False\n",
       "Male_min             False\n",
       "Male_max             False\n",
       "Female_recent        False\n",
       "Female_min           False\n",
       "Female_max           False\n",
       "dtype: bool"
      ]
     },
     "execution_count": 165,
     "metadata": {
      "tags": []
     },
     "output_type": "execute_result"
    }
   ],
   "source": [
    "df_rearranged.isnull().any()"
   ]
  },
  {
   "cell_type": "code",
   "execution_count": 166,
   "metadata": {
    "colab": {
     "base_uri": "https://localhost:8080/",
     "height": 297
    },
    "id": "19N1GCYKyLFi",
    "outputId": "c7cacbc0-337c-4f80-d1e8-0a510a52f584"
   },
   "outputs": [
    {
     "data": {
      "text/html": [
       "<div>\n",
       "<style scoped>\n",
       "    .dataframe tbody tr th:only-of-type {\n",
       "        vertical-align: middle;\n",
       "    }\n",
       "\n",
       "    .dataframe tbody tr th {\n",
       "        vertical-align: top;\n",
       "    }\n",
       "\n",
       "    .dataframe thead th {\n",
       "        text-align: right;\n",
       "    }\n",
       "</style>\n",
       "<table border=\"1\" class=\"dataframe\">\n",
       "  <thead>\n",
       "    <tr style=\"text-align: right;\">\n",
       "      <th></th>\n",
       "      <th>Year</th>\n",
       "      <th>Both sexes_recent</th>\n",
       "      <th>Both sexes_min</th>\n",
       "      <th>Both sexes_max</th>\n",
       "      <th>Male_recent</th>\n",
       "      <th>Male_min</th>\n",
       "      <th>Male_max</th>\n",
       "      <th>Female_recent</th>\n",
       "      <th>Female_min</th>\n",
       "      <th>Female_max</th>\n",
       "    </tr>\n",
       "  </thead>\n",
       "  <tbody>\n",
       "    <tr>\n",
       "      <th>count</th>\n",
       "      <td>14,640</td>\n",
       "      <td>14,640</td>\n",
       "      <td>14,640</td>\n",
       "      <td>14,640</td>\n",
       "      <td>14,640</td>\n",
       "      <td>14,640</td>\n",
       "      <td>14,640</td>\n",
       "      <td>14,640</td>\n",
       "      <td>14,640</td>\n",
       "      <td>14,640</td>\n",
       "    </tr>\n",
       "    <tr>\n",
       "      <th>mean</th>\n",
       "      <td>2,010</td>\n",
       "      <td>39,983</td>\n",
       "      <td>31,587</td>\n",
       "      <td>49,221</td>\n",
       "      <td>21,311</td>\n",
       "      <td>17,140</td>\n",
       "      <td>26,038</td>\n",
       "      <td>18,672</td>\n",
       "      <td>14,447</td>\n",
       "      <td>23,183</td>\n",
       "    </tr>\n",
       "    <tr>\n",
       "      <th>std</th>\n",
       "      <td>6</td>\n",
       "      <td>198,613</td>\n",
       "      <td>165,303</td>\n",
       "      <td>232,468</td>\n",
       "      <td>112,578</td>\n",
       "      <td>94,515</td>\n",
       "      <td>131,513</td>\n",
       "      <td>87,033</td>\n",
       "      <td>71,645</td>\n",
       "      <td>102,106</td>\n",
       "    </tr>\n",
       "    <tr>\n",
       "      <th>min</th>\n",
       "      <td>2,000</td>\n",
       "      <td>13</td>\n",
       "      <td>8</td>\n",
       "      <td>18</td>\n",
       "      <td>7</td>\n",
       "      <td>4</td>\n",
       "      <td>11</td>\n",
       "      <td>5</td>\n",
       "      <td>3</td>\n",
       "      <td>6</td>\n",
       "    </tr>\n",
       "    <tr>\n",
       "      <th>25%</th>\n",
       "      <td>2,005</td>\n",
       "      <td>997</td>\n",
       "      <td>641</td>\n",
       "      <td>1,452</td>\n",
       "      <td>516</td>\n",
       "      <td>332</td>\n",
       "      <td>732</td>\n",
       "      <td>461</td>\n",
       "      <td>298</td>\n",
       "      <td>680</td>\n",
       "    </tr>\n",
       "    <tr>\n",
       "      <th>50%</th>\n",
       "      <td>2,010</td>\n",
       "      <td>4,478</td>\n",
       "      <td>2,842</td>\n",
       "      <td>6,454</td>\n",
       "      <td>2,259</td>\n",
       "      <td>1,456</td>\n",
       "      <td>3,188</td>\n",
       "      <td>2,104</td>\n",
       "      <td>1,354</td>\n",
       "      <td>3,102</td>\n",
       "    </tr>\n",
       "    <tr>\n",
       "      <th>75%</th>\n",
       "      <td>2,014</td>\n",
       "      <td>18,375</td>\n",
       "      <td>13,010</td>\n",
       "      <td>25,051</td>\n",
       "      <td>9,246</td>\n",
       "      <td>6,642</td>\n",
       "      <td>12,145</td>\n",
       "      <td>8,979</td>\n",
       "      <td>6,130</td>\n",
       "      <td>12,286</td>\n",
       "    </tr>\n",
       "    <tr>\n",
       "      <th>max</th>\n",
       "      <td>2,019</td>\n",
       "      <td>4,306,536</td>\n",
       "      <td>3,385,792</td>\n",
       "      <td>5,228,328</td>\n",
       "      <td>2,429,441</td>\n",
       "      <td>1,922,224</td>\n",
       "      <td>2,945,644</td>\n",
       "      <td>1,877,096</td>\n",
       "      <td>1,463,568</td>\n",
       "      <td>2,282,684</td>\n",
       "    </tr>\n",
       "  </tbody>\n",
       "</table>\n",
       "</div>"
      ],
      "text/plain": [
       "        Year  Both sexes_recent  ...  Female_min  Female_max\n",
       "count 14,640             14,640  ...      14,640      14,640\n",
       "mean   2,010             39,983  ...      14,447      23,183\n",
       "std        6            198,613  ...      71,645     102,106\n",
       "min    2,000                 13  ...           3           6\n",
       "25%    2,005                997  ...         298         680\n",
       "50%    2,010              4,478  ...       1,354       3,102\n",
       "75%    2,014             18,375  ...       6,130      12,286\n",
       "max    2,019          4,306,536  ...   1,463,568   2,282,684\n",
       "\n",
       "[8 rows x 10 columns]"
      ]
     },
     "execution_count": 166,
     "metadata": {
      "tags": []
     },
     "output_type": "execute_result"
    }
   ],
   "source": [
    "pd.options.display.float_format = '{:,.0f}'.format\n",
    "df_rearranged.describe()"
   ]
  },
  {
   "cell_type": "code",
   "execution_count": 167,
   "metadata": {
    "colab": {
     "base_uri": "https://localhost:8080/",
     "height": 114
    },
    "id": "ZPYIGzkmyrAN",
    "outputId": "42b0b02e-44d6-4c07-d71b-82fd8a599937"
   },
   "outputs": [
    {
     "data": {
      "text/html": [
       "<div>\n",
       "<style scoped>\n",
       "    .dataframe tbody tr th:only-of-type {\n",
       "        vertical-align: middle;\n",
       "    }\n",
       "\n",
       "    .dataframe tbody tr th {\n",
       "        vertical-align: top;\n",
       "    }\n",
       "\n",
       "    .dataframe thead th {\n",
       "        text-align: right;\n",
       "    }\n",
       "</style>\n",
       "<table border=\"1\" class=\"dataframe\">\n",
       "  <thead>\n",
       "    <tr style=\"text-align: right;\">\n",
       "      <th></th>\n",
       "      <th>Country</th>\n",
       "      <th>Year</th>\n",
       "      <th>Causes</th>\n",
       "      <th>Both sexes_recent</th>\n",
       "      <th>Both sexes_min</th>\n",
       "      <th>Both sexes_max</th>\n",
       "      <th>Male_recent</th>\n",
       "      <th>Male_min</th>\n",
       "      <th>Male_max</th>\n",
       "      <th>Female_recent</th>\n",
       "      <th>Female_min</th>\n",
       "      <th>Female_max</th>\n",
       "    </tr>\n",
       "  </thead>\n",
       "  <tbody>\n",
       "    <tr>\n",
       "      <th>2722</th>\n",
       "      <td>China</td>\n",
       "      <td>2019</td>\n",
       "      <td>Cardiovascular diseases</td>\n",
       "      <td>4306536</td>\n",
       "      <td>3385792</td>\n",
       "      <td>5228328</td>\n",
       "      <td>2429441</td>\n",
       "      <td>1922224</td>\n",
       "      <td>2945644</td>\n",
       "      <td>1877096</td>\n",
       "      <td>1463568</td>\n",
       "      <td>2282684</td>\n",
       "    </tr>\n",
       "  </tbody>\n",
       "</table>\n",
       "</div>"
      ],
      "text/plain": [
       "     Country  Year  ... Female_min  Female_max\n",
       "2722   China  2019  ...    1463568     2282684\n",
       "\n",
       "[1 rows x 12 columns]"
      ]
     },
     "execution_count": 167,
     "metadata": {
      "tags": []
     },
     "output_type": "execute_result"
    }
   ],
   "source": [
    "df_rearranged[df_rearranged['Both sexes_recent']== df_rearranged['Both sexes_recent'].max()]"
   ]
  },
  {
   "cell_type": "code",
   "execution_count": 168,
   "metadata": {
    "colab": {
     "base_uri": "https://localhost:8080/",
     "height": 114
    },
    "id": "lIDFXuokzk13",
    "outputId": "3110b49f-b4f1-481e-e3e5-5f7dee6bf273"
   },
   "outputs": [
    {
     "data": {
      "text/html": [
       "<div>\n",
       "<style scoped>\n",
       "    .dataframe tbody tr th:only-of-type {\n",
       "        vertical-align: middle;\n",
       "    }\n",
       "\n",
       "    .dataframe tbody tr th {\n",
       "        vertical-align: top;\n",
       "    }\n",
       "\n",
       "    .dataframe thead th {\n",
       "        text-align: right;\n",
       "    }\n",
       "</style>\n",
       "<table border=\"1\" class=\"dataframe\">\n",
       "  <thead>\n",
       "    <tr style=\"text-align: right;\">\n",
       "      <th></th>\n",
       "      <th>Country</th>\n",
       "      <th>Year</th>\n",
       "      <th>Causes</th>\n",
       "      <th>Both sexes_recent</th>\n",
       "      <th>Both sexes_min</th>\n",
       "      <th>Both sexes_max</th>\n",
       "      <th>Male_recent</th>\n",
       "      <th>Male_min</th>\n",
       "      <th>Male_max</th>\n",
       "      <th>Female_recent</th>\n",
       "      <th>Female_min</th>\n",
       "      <th>Female_max</th>\n",
       "    </tr>\n",
       "  </thead>\n",
       "  <tbody>\n",
       "    <tr>\n",
       "      <th>387</th>\n",
       "      <td>Antigua and Barbuda</td>\n",
       "      <td>2003</td>\n",
       "      <td>Chronic respiratory diseases</td>\n",
       "      <td>13</td>\n",
       "      <td>9</td>\n",
       "      <td>18</td>\n",
       "      <td>8</td>\n",
       "      <td>6</td>\n",
       "      <td>11</td>\n",
       "      <td>5</td>\n",
       "      <td>3</td>\n",
       "      <td>6</td>\n",
       "    </tr>\n",
       "  </tbody>\n",
       "</table>\n",
       "</div>"
      ],
      "text/plain": [
       "                 Country  Year  ... Female_min  Female_max\n",
       "387  Antigua and Barbuda  2003  ...          3           6\n",
       "\n",
       "[1 rows x 12 columns]"
      ]
     },
     "execution_count": 168,
     "metadata": {
      "tags": []
     },
     "output_type": "execute_result"
    }
   ],
   "source": [
    "df_rearranged[df_rearranged['Both sexes_recent']== df_rearranged['Both sexes_recent'].min()]"
   ]
  },
  {
   "cell_type": "code",
   "execution_count": 169,
   "metadata": {
    "colab": {
     "base_uri": "https://localhost:8080/"
    },
    "id": "A-8KdlTiz596",
    "outputId": "5fecfac9-13f5-490b-a513-905222101a4b"
   },
   "outputs": [
    {
     "name": "stdout",
     "output_type": "stream",
     "text": [
      "['Afghanistan' 'Algeria' 'Argentina' 'Australia' 'Azerbaijan' 'Bangladesh'\n",
      " 'Belarus' 'Brazil' 'Bulgaria' 'Canada' 'China' 'Colombia' 'Czechia'\n",
      " \"Democratic People's Republic of Korea\"\n",
      " 'Democratic Republic of the Congo' 'Egypt' 'Ethiopia' 'France' 'Germany'\n",
      " 'Greece' 'Hungary' 'India' 'Indonesia' 'Iran' 'Iraq' 'Italy' 'Japan'\n",
      " 'Kazakhstan' 'Malaysia' 'Mexico' 'Morocco' 'Myanmar' 'Netherlands'\n",
      " 'Nigeria' 'Pakistan' 'Philippines' 'Poland' 'Republic of Korea' 'Romania'\n",
      " 'Russian Federation' 'Saudi Arabia' 'Serbia' 'South Africa' 'Spain'\n",
      " 'Sudan' 'Thailand' 'Turkey' 'Ukraine'\n",
      " 'United Kingdom of Great Britain and Northern Ireland'\n",
      " 'United States of America' 'Uzbekistan' 'Venezuela' 'Viet Nam' 'Yemen']\n"
     ]
    }
   ],
   "source": [
    "print(df_rearranged[(df_rearranged['Both sexes_recent'] > 44442) & (df_rearranged['Male_recent'] > 22341) & (df_rearranged['Female_recent'] > 21756 )].Country.unique()) # IQR calculated manually"
   ]
  },
  {
   "cell_type": "code",
   "execution_count": 170,
   "metadata": {
    "id": "nxPYYliW0rQ8"
   },
   "outputs": [],
   "source": [
    "df_rearranged_pivot = pd.pivot_table(df_rearranged, values=['Both sexes_recent', 'Both sexes_min', 'Both sexes_max', 'Male_recent', 'Male_min', 'Male_max',\n",
    "       'Female_recent', 'Female_min', 'Female_max'], index= ['Country', 'Year', 'Causes'])"
   ]
  },
  {
   "cell_type": "code",
   "execution_count": 171,
   "metadata": {
    "colab": {
     "base_uri": "https://localhost:8080/",
     "height": 501
    },
    "id": "DihwhfkG1BhC",
    "outputId": "a13c903b-cbbb-4a99-9791-8bc76606319c"
   },
   "outputs": [
    {
     "data": {
      "text/html": [
       "<div>\n",
       "<style scoped>\n",
       "    .dataframe tbody tr th:only-of-type {\n",
       "        vertical-align: middle;\n",
       "    }\n",
       "\n",
       "    .dataframe tbody tr th {\n",
       "        vertical-align: top;\n",
       "    }\n",
       "\n",
       "    .dataframe thead th {\n",
       "        text-align: right;\n",
       "    }\n",
       "</style>\n",
       "<table border=\"1\" class=\"dataframe\">\n",
       "  <thead>\n",
       "    <tr style=\"text-align: right;\">\n",
       "      <th></th>\n",
       "      <th></th>\n",
       "      <th></th>\n",
       "      <th>Both sexes_max</th>\n",
       "      <th>Both sexes_min</th>\n",
       "      <th>Both sexes_recent</th>\n",
       "      <th>Female_max</th>\n",
       "      <th>Female_min</th>\n",
       "      <th>Female_recent</th>\n",
       "      <th>Male_max</th>\n",
       "      <th>Male_min</th>\n",
       "      <th>Male_recent</th>\n",
       "    </tr>\n",
       "    <tr>\n",
       "      <th>Country</th>\n",
       "      <th>Year</th>\n",
       "      <th>Causes</th>\n",
       "      <th></th>\n",
       "      <th></th>\n",
       "      <th></th>\n",
       "      <th></th>\n",
       "      <th></th>\n",
       "      <th></th>\n",
       "      <th></th>\n",
       "      <th></th>\n",
       "      <th></th>\n",
       "    </tr>\n",
       "  </thead>\n",
       "  <tbody>\n",
       "    <tr>\n",
       "      <th rowspan=\"5\" valign=\"top\">Afghanistan</th>\n",
       "      <th rowspan=\"4\" valign=\"top\">2000</th>\n",
       "      <th>Cardiovascular diseases</th>\n",
       "      <td>70123</td>\n",
       "      <td>25975</td>\n",
       "      <td>44706</td>\n",
       "      <td>34435</td>\n",
       "      <td>11921</td>\n",
       "      <td>21492</td>\n",
       "      <td>35688</td>\n",
       "      <td>14054</td>\n",
       "      <td>23214</td>\n",
       "    </tr>\n",
       "    <tr>\n",
       "      <th>Chronic respiratory diseases</th>\n",
       "      <td>11226</td>\n",
       "      <td>2398</td>\n",
       "      <td>6088</td>\n",
       "      <td>5486</td>\n",
       "      <td>1055</td>\n",
       "      <td>2914</td>\n",
       "      <td>5740</td>\n",
       "      <td>1343</td>\n",
       "      <td>3174</td>\n",
       "    </tr>\n",
       "    <tr>\n",
       "      <th>Diabetes mellitus</th>\n",
       "      <td>6103</td>\n",
       "      <td>1526</td>\n",
       "      <td>3218</td>\n",
       "      <td>3710</td>\n",
       "      <td>877</td>\n",
       "      <td>1936</td>\n",
       "      <td>2392</td>\n",
       "      <td>649</td>\n",
       "      <td>1282</td>\n",
       "    </tr>\n",
       "    <tr>\n",
       "      <th>Malignant neoplasms</th>\n",
       "      <td>16134</td>\n",
       "      <td>3751</td>\n",
       "      <td>8378</td>\n",
       "      <td>7918</td>\n",
       "      <td>1792</td>\n",
       "      <td>4075</td>\n",
       "      <td>8216</td>\n",
       "      <td>1959</td>\n",
       "      <td>4304</td>\n",
       "    </tr>\n",
       "    <tr>\n",
       "      <th>2001</th>\n",
       "      <th>Cardiovascular diseases</th>\n",
       "      <td>73446</td>\n",
       "      <td>27138</td>\n",
       "      <td>46859</td>\n",
       "      <td>36267</td>\n",
       "      <td>12531</td>\n",
       "      <td>22630</td>\n",
       "      <td>37179</td>\n",
       "      <td>14607</td>\n",
       "      <td>24229</td>\n",
       "    </tr>\n",
       "    <tr>\n",
       "      <th>...</th>\n",
       "      <th>...</th>\n",
       "      <th>...</th>\n",
       "      <td>...</td>\n",
       "      <td>...</td>\n",
       "      <td>...</td>\n",
       "      <td>...</td>\n",
       "      <td>...</td>\n",
       "      <td>...</td>\n",
       "      <td>...</td>\n",
       "      <td>...</td>\n",
       "      <td>...</td>\n",
       "    </tr>\n",
       "    <tr>\n",
       "      <th rowspan=\"5\" valign=\"top\">Zimbabwe</th>\n",
       "      <th>2018</th>\n",
       "      <th>Malignant neoplasms</th>\n",
       "      <td>16974</td>\n",
       "      <td>6208</td>\n",
       "      <td>10650</td>\n",
       "      <td>11038</td>\n",
       "      <td>3934</td>\n",
       "      <td>6887</td>\n",
       "      <td>5936</td>\n",
       "      <td>2274</td>\n",
       "      <td>3763</td>\n",
       "    </tr>\n",
       "    <tr>\n",
       "      <th rowspan=\"4\" valign=\"top\">2019</th>\n",
       "      <th>Cardiovascular diseases</th>\n",
       "      <td>27148</td>\n",
       "      <td>10438</td>\n",
       "      <td>17335</td>\n",
       "      <td>15524</td>\n",
       "      <td>6031</td>\n",
       "      <td>10035</td>\n",
       "      <td>11625</td>\n",
       "      <td>4407</td>\n",
       "      <td>7300</td>\n",
       "    </tr>\n",
       "    <tr>\n",
       "      <th>Chronic respiratory diseases</th>\n",
       "      <td>4904</td>\n",
       "      <td>1287</td>\n",
       "      <td>2807</td>\n",
       "      <td>2585</td>\n",
       "      <td>508</td>\n",
       "      <td>1381</td>\n",
       "      <td>2319</td>\n",
       "      <td>780</td>\n",
       "      <td>1426</td>\n",
       "    </tr>\n",
       "    <tr>\n",
       "      <th>Diabetes mellitus</th>\n",
       "      <td>6314</td>\n",
       "      <td>2305</td>\n",
       "      <td>3934</td>\n",
       "      <td>3888</td>\n",
       "      <td>1423</td>\n",
       "      <td>2404</td>\n",
       "      <td>2426</td>\n",
       "      <td>882</td>\n",
       "      <td>1530</td>\n",
       "    </tr>\n",
       "    <tr>\n",
       "      <th>Malignant neoplasms</th>\n",
       "      <td>17377</td>\n",
       "      <td>6293</td>\n",
       "      <td>10876</td>\n",
       "      <td>11249</td>\n",
       "      <td>3966</td>\n",
       "      <td>7002</td>\n",
       "      <td>6127</td>\n",
       "      <td>2328</td>\n",
       "      <td>3875</td>\n",
       "    </tr>\n",
       "  </tbody>\n",
       "</table>\n",
       "<p>14640 rows × 9 columns</p>\n",
       "</div>"
      ],
      "text/plain": [
       "                                               Both sexes_max  ...  Male_recent\n",
       "Country     Year Causes                                        ...             \n",
       "Afghanistan 2000 Cardiovascular diseases                70123  ...        23214\n",
       "                 Chronic respiratory diseases           11226  ...         3174\n",
       "                 Diabetes mellitus                       6103  ...         1282\n",
       "                 Malignant neoplasms                    16134  ...         4304\n",
       "            2001 Cardiovascular diseases                73446  ...        24229\n",
       "...                                                       ...  ...          ...\n",
       "Zimbabwe    2018 Malignant neoplasms                    16974  ...         3763\n",
       "            2019 Cardiovascular diseases                27148  ...         7300\n",
       "                 Chronic respiratory diseases            4904  ...         1426\n",
       "                 Diabetes mellitus                       6314  ...         1530\n",
       "                 Malignant neoplasms                    17377  ...         3875\n",
       "\n",
       "[14640 rows x 9 columns]"
      ]
     },
     "execution_count": 171,
     "metadata": {
      "tags": []
     },
     "output_type": "execute_result"
    }
   ],
   "source": [
    "df_rearranged_pivot"
   ]
  },
  {
   "cell_type": "code",
   "execution_count": 172,
   "metadata": {
    "colab": {
     "base_uri": "https://localhost:8080/",
     "height": 450
    },
    "id": "vAo9ayAI1fE5",
    "outputId": "7d139389-5b1b-4dd2-91da-eccfa0d8dda3"
   },
   "outputs": [
    {
     "data": {
      "text/html": [
       "<div>\n",
       "<style scoped>\n",
       "    .dataframe tbody tr th:only-of-type {\n",
       "        vertical-align: middle;\n",
       "    }\n",
       "\n",
       "    .dataframe tbody tr th {\n",
       "        vertical-align: top;\n",
       "    }\n",
       "\n",
       "    .dataframe thead th {\n",
       "        text-align: right;\n",
       "    }\n",
       "</style>\n",
       "<table border=\"1\" class=\"dataframe\">\n",
       "  <thead>\n",
       "    <tr style=\"text-align: right;\">\n",
       "      <th></th>\n",
       "      <th>Both sexes_max</th>\n",
       "      <th>Both sexes_min</th>\n",
       "      <th>Both sexes_recent</th>\n",
       "      <th>Female_max</th>\n",
       "      <th>Female_min</th>\n",
       "      <th>Female_recent</th>\n",
       "      <th>Male_max</th>\n",
       "      <th>Male_min</th>\n",
       "      <th>Male_recent</th>\n",
       "    </tr>\n",
       "    <tr>\n",
       "      <th>Country</th>\n",
       "      <th></th>\n",
       "      <th></th>\n",
       "      <th></th>\n",
       "      <th></th>\n",
       "      <th></th>\n",
       "      <th></th>\n",
       "      <th></th>\n",
       "      <th></th>\n",
       "      <th></th>\n",
       "    </tr>\n",
       "  </thead>\n",
       "  <tbody>\n",
       "    <tr>\n",
       "      <th>Afghanistan</th>\n",
       "      <td>14468</td>\n",
       "      <td>3827</td>\n",
       "      <td>8060</td>\n",
       "      <td>9817</td>\n",
       "      <td>2451</td>\n",
       "      <td>5448</td>\n",
       "      <td>4651</td>\n",
       "      <td>1377</td>\n",
       "      <td>2612</td>\n",
       "    </tr>\n",
       "    <tr>\n",
       "      <th>Albania</th>\n",
       "      <td>439</td>\n",
       "      <td>156</td>\n",
       "      <td>269</td>\n",
       "      <td>246</td>\n",
       "      <td>88</td>\n",
       "      <td>151</td>\n",
       "      <td>194</td>\n",
       "      <td>68</td>\n",
       "      <td>118</td>\n",
       "    </tr>\n",
       "    <tr>\n",
       "      <th>Algeria</th>\n",
       "      <td>11849</td>\n",
       "      <td>4065</td>\n",
       "      <td>7186</td>\n",
       "      <td>6815</td>\n",
       "      <td>2306</td>\n",
       "      <td>4071</td>\n",
       "      <td>5034</td>\n",
       "      <td>1759</td>\n",
       "      <td>3115</td>\n",
       "    </tr>\n",
       "    <tr>\n",
       "      <th>Angola</th>\n",
       "      <td>8070</td>\n",
       "      <td>3049</td>\n",
       "      <td>5143</td>\n",
       "      <td>3072</td>\n",
       "      <td>1086</td>\n",
       "      <td>1905</td>\n",
       "      <td>4998</td>\n",
       "      <td>1962</td>\n",
       "      <td>3238</td>\n",
       "    </tr>\n",
       "    <tr>\n",
       "      <th>Antigua and Barbuda</th>\n",
       "      <td>90</td>\n",
       "      <td>47</td>\n",
       "      <td>67</td>\n",
       "      <td>52</td>\n",
       "      <td>28</td>\n",
       "      <td>39</td>\n",
       "      <td>38</td>\n",
       "      <td>19</td>\n",
       "      <td>28</td>\n",
       "    </tr>\n",
       "    <tr>\n",
       "      <th>...</th>\n",
       "      <td>...</td>\n",
       "      <td>...</td>\n",
       "      <td>...</td>\n",
       "      <td>...</td>\n",
       "      <td>...</td>\n",
       "      <td>...</td>\n",
       "      <td>...</td>\n",
       "      <td>...</td>\n",
       "      <td>...</td>\n",
       "    </tr>\n",
       "    <tr>\n",
       "      <th>Venezuela</th>\n",
       "      <td>21794</td>\n",
       "      <td>9691</td>\n",
       "      <td>14969</td>\n",
       "      <td>11244</td>\n",
       "      <td>5035</td>\n",
       "      <td>7745</td>\n",
       "      <td>10550</td>\n",
       "      <td>4656</td>\n",
       "      <td>7224</td>\n",
       "    </tr>\n",
       "    <tr>\n",
       "      <th>Viet Nam</th>\n",
       "      <td>69161</td>\n",
       "      <td>27215</td>\n",
       "      <td>45193</td>\n",
       "      <td>42918</td>\n",
       "      <td>16745</td>\n",
       "      <td>28107</td>\n",
       "      <td>26244</td>\n",
       "      <td>10470</td>\n",
       "      <td>17086</td>\n",
       "    </tr>\n",
       "    <tr>\n",
       "      <th>Yemen</th>\n",
       "      <td>4601</td>\n",
       "      <td>1353</td>\n",
       "      <td>2627</td>\n",
       "      <td>2665</td>\n",
       "      <td>769</td>\n",
       "      <td>1512</td>\n",
       "      <td>1935</td>\n",
       "      <td>584</td>\n",
       "      <td>1114</td>\n",
       "    </tr>\n",
       "    <tr>\n",
       "      <th>Zambia</th>\n",
       "      <td>4586</td>\n",
       "      <td>1750</td>\n",
       "      <td>2935</td>\n",
       "      <td>1940</td>\n",
       "      <td>728</td>\n",
       "      <td>1232</td>\n",
       "      <td>2646</td>\n",
       "      <td>1021</td>\n",
       "      <td>1702</td>\n",
       "    </tr>\n",
       "    <tr>\n",
       "      <th>Zimbabwe</th>\n",
       "      <td>6314</td>\n",
       "      <td>2305</td>\n",
       "      <td>3934</td>\n",
       "      <td>3888</td>\n",
       "      <td>1423</td>\n",
       "      <td>2404</td>\n",
       "      <td>2426</td>\n",
       "      <td>882</td>\n",
       "      <td>1530</td>\n",
       "    </tr>\n",
       "  </tbody>\n",
       "</table>\n",
       "<p>183 rows × 9 columns</p>\n",
       "</div>"
      ],
      "text/plain": [
       "                     Both sexes_max  Both sexes_min  ...  Male_min  Male_recent\n",
       "Country                                              ...                       \n",
       "Afghanistan                   14468            3827  ...      1377         2612\n",
       "Albania                         439             156  ...        68          118\n",
       "Algeria                       11849            4065  ...      1759         3115\n",
       "Angola                         8070            3049  ...      1962         3238\n",
       "Antigua and Barbuda              90              47  ...        19           28\n",
       "...                             ...             ...  ...       ...          ...\n",
       "Venezuela                     21794            9691  ...      4656         7224\n",
       "Viet Nam                      69161           27215  ...     10470        17086\n",
       "Yemen                          4601            1353  ...       584         1114\n",
       "Zambia                         4586            1750  ...      1021         1702\n",
       "Zimbabwe                       6314            2305  ...       882         1530\n",
       "\n",
       "[183 rows x 9 columns]"
      ]
     },
     "execution_count": 172,
     "metadata": {
      "tags": []
     },
     "output_type": "execute_result"
    }
   ],
   "source": [
    "df_rearranged_pivot.xs((2019,'Diabetes mellitus'), level = [1, 'Causes'])"
   ]
  },
  {
   "cell_type": "code",
   "execution_count": 173,
   "metadata": {
    "colab": {
     "base_uri": "https://localhost:8080/",
     "height": 111
    },
    "id": "SFWquqq12Hch",
    "outputId": "fb471e21-5786-4e81-efc9-a8c4c285e588"
   },
   "outputs": [
    {
     "data": {
      "text/html": [
       "<div>\n",
       "<style scoped>\n",
       "    .dataframe tbody tr th:only-of-type {\n",
       "        vertical-align: middle;\n",
       "    }\n",
       "\n",
       "    .dataframe tbody tr th {\n",
       "        vertical-align: top;\n",
       "    }\n",
       "\n",
       "    .dataframe thead th {\n",
       "        text-align: right;\n",
       "    }\n",
       "</style>\n",
       "<table border=\"1\" class=\"dataframe\">\n",
       "  <thead>\n",
       "    <tr style=\"text-align: right;\">\n",
       "      <th></th>\n",
       "      <th>Both sexes_max</th>\n",
       "      <th>Both sexes_min</th>\n",
       "      <th>Both sexes_recent</th>\n",
       "      <th>Female_max</th>\n",
       "      <th>Female_min</th>\n",
       "      <th>Female_recent</th>\n",
       "      <th>Male_max</th>\n",
       "      <th>Male_min</th>\n",
       "      <th>Male_recent</th>\n",
       "    </tr>\n",
       "  </thead>\n",
       "  <tbody>\n",
       "    <tr>\n",
       "      <th>mean</th>\n",
       "      <td>14,672</td>\n",
       "      <td>7,463</td>\n",
       "      <td>10,678</td>\n",
       "      <td>7,400</td>\n",
       "      <td>3,726</td>\n",
       "      <td>5,382</td>\n",
       "      <td>7,272</td>\n",
       "      <td>3,737</td>\n",
       "      <td>5,296</td>\n",
       "    </tr>\n",
       "    <tr>\n",
       "      <th>median</th>\n",
       "      <td>3,612</td>\n",
       "      <td>1,423</td>\n",
       "      <td>2,363</td>\n",
       "      <td>1,941</td>\n",
       "      <td>769</td>\n",
       "      <td>1,300</td>\n",
       "      <td>1,604</td>\n",
       "      <td>661</td>\n",
       "      <td>1,078</td>\n",
       "    </tr>\n",
       "  </tbody>\n",
       "</table>\n",
       "</div>"
      ],
      "text/plain": [
       "        Both sexes_max  Both sexes_min  ...  Male_min  Male_recent\n",
       "mean            14,672           7,463  ...     3,737        5,296\n",
       "median           3,612           1,423  ...       661        1,078\n",
       "\n",
       "[2 rows x 9 columns]"
      ]
     },
     "execution_count": 173,
     "metadata": {
      "tags": []
     },
     "output_type": "execute_result"
    }
   ],
   "source": [
    "df_rearranged_pivot.xs((2019,'Diabetes mellitus'), level = [1, 'Causes']).agg(['mean','median'])"
   ]
  },
  {
   "cell_type": "code",
   "execution_count": 174,
   "metadata": {
    "colab": {
     "base_uri": "https://localhost:8080/",
     "height": 111
    },
    "id": "kyeyc1gk2qWb",
    "outputId": "c681a1f3-ff59-45ca-807c-2a4318d45936"
   },
   "outputs": [
    {
     "data": {
      "text/html": [
       "<div>\n",
       "<style scoped>\n",
       "    .dataframe tbody tr th:only-of-type {\n",
       "        vertical-align: middle;\n",
       "    }\n",
       "\n",
       "    .dataframe tbody tr th {\n",
       "        vertical-align: top;\n",
       "    }\n",
       "\n",
       "    .dataframe thead th {\n",
       "        text-align: right;\n",
       "    }\n",
       "</style>\n",
       "<table border=\"1\" class=\"dataframe\">\n",
       "  <thead>\n",
       "    <tr style=\"text-align: right;\">\n",
       "      <th></th>\n",
       "      <th>Both sexes_max</th>\n",
       "      <th>Both sexes_min</th>\n",
       "      <th>Both sexes_recent</th>\n",
       "      <th>Female_max</th>\n",
       "      <th>Female_min</th>\n",
       "      <th>Female_recent</th>\n",
       "      <th>Male_max</th>\n",
       "      <th>Male_min</th>\n",
       "      <th>Male_recent</th>\n",
       "    </tr>\n",
       "  </thead>\n",
       "  <tbody>\n",
       "    <tr>\n",
       "      <th>mean</th>\n",
       "      <td>8,095</td>\n",
       "      <td>4,650</td>\n",
       "      <td>6,196</td>\n",
       "      <td>4,263</td>\n",
       "      <td>2,448</td>\n",
       "      <td>3,267</td>\n",
       "      <td>3,832</td>\n",
       "      <td>2,202</td>\n",
       "      <td>2,930</td>\n",
       "    </tr>\n",
       "    <tr>\n",
       "      <th>median</th>\n",
       "      <td>2,033</td>\n",
       "      <td>952</td>\n",
       "      <td>1,415</td>\n",
       "      <td>1,134</td>\n",
       "      <td>521</td>\n",
       "      <td>753</td>\n",
       "      <td>917</td>\n",
       "      <td>423</td>\n",
       "      <td>636</td>\n",
       "    </tr>\n",
       "  </tbody>\n",
       "</table>\n",
       "</div>"
      ],
      "text/plain": [
       "        Both sexes_max  Both sexes_min  ...  Male_min  Male_recent\n",
       "mean             8,095           4,650  ...     2,202        2,930\n",
       "median           2,033             952  ...       423          636\n",
       "\n",
       "[2 rows x 9 columns]"
      ]
     },
     "execution_count": 174,
     "metadata": {
      "tags": []
     },
     "output_type": "execute_result"
    }
   ],
   "source": [
    "df_rearranged_pivot.xs((2000,'Diabetes mellitus'), level = [1, 'Causes']).agg(['mean','median'])"
   ]
  },
  {
   "cell_type": "code",
   "execution_count": 175,
   "metadata": {
    "colab": {
     "base_uri": "https://localhost:8080/",
     "height": 429
    },
    "id": "HB6dmjB22x7L",
    "outputId": "7c147a7a-99e9-464a-c83c-1685d41b357a"
   },
   "outputs": [
    {
     "data": {
      "application/javascript": [
       "\n",
       "        if (window._pyforest_update_imports_cell) { window._pyforest_update_imports_cell('import spacy\\nimport re\\nimport xgboost as xgb\\nfrom sklearn.manifold import TSNE\\nimport statistics\\nimport bokeh\\nimport matplotlib as mpl\\nimport pandas as pd\\nfrom sklearn.feature_extraction.text import TfidfVectorizer\\nimport pickle\\nimport lightgbm as lgb\\nimport numpy as np\\nimport altair as alt\\nfrom sklearn import svm\\nimport plotly as py\\nimport nltk\\nimport sys\\nimport seaborn as sns\\nfrom openpyxl import load_workbook\\nimport sklearn\\nimport pydot\\nimport plotly.express as px\\nimport gensim\\nimport os\\nimport glob\\nimport matplotlib.pyplot as plt'); }\n",
       "    "
      ],
      "text/plain": [
       "<IPython.core.display.Javascript object>"
      ]
     },
     "metadata": {
      "tags": []
     },
     "output_type": "display_data"
    },
    {
     "data": {
      "image/png": "[encoded data removed]",
      "text/plain": [
       "<Figure size 2160x360 with 1 Axes>"
      ]
     },
     "metadata": {
      "needs_background": "light",
      "tags": []
     },
     "output_type": "display_data"
    }
   ],
   "source": [
    "plt.figure(figsize=(30,5))\n",
    "df_rearranged_pivot.xs((2019,'Diabetes mellitus'), level = [1, 'Causes'])['Both sexes_recent'].plot.bar(color = 'red');"
   ]
  },
  {
   "cell_type": "code",
   "execution_count": 176,
   "metadata": {
    "colab": {
     "base_uri": "https://localhost:8080/",
     "height": 429
    },
    "id": "vh3DE3WI3dbB",
    "outputId": "cf4304ef-932f-4f43-e923-d9a58a24e2aa"
   },
   "outputs": [
    {
     "data": {
      "application/javascript": [
       "\n",
       "        if (window._pyforest_update_imports_cell) { window._pyforest_update_imports_cell('import spacy\\nimport re\\nimport xgboost as xgb\\nfrom sklearn.manifold import TSNE\\nimport statistics\\nimport bokeh\\nimport matplotlib as mpl\\nimport pandas as pd\\nfrom sklearn.feature_extraction.text import TfidfVectorizer\\nimport pickle\\nimport lightgbm as lgb\\nimport numpy as np\\nimport altair as alt\\nfrom sklearn import svm\\nimport plotly as py\\nimport nltk\\nimport sys\\nimport seaborn as sns\\nfrom openpyxl import load_workbook\\nimport sklearn\\nimport pydot\\nimport plotly.express as px\\nimport gensim\\nimport os\\nimport glob\\nimport matplotlib.pyplot as plt'); }\n",
       "    "
      ],
      "text/plain": [
       "<IPython.core.display.Javascript object>"
      ]
     },
     "metadata": {
      "tags": []
     },
     "output_type": "display_data"
    },
    {
     "data": {
      "image/png": "[encoded data removed]",
      "text/plain": [
       "<Figure size 2160x360 with 1 Axes>"
      ]
     },
     "metadata": {
      "needs_background": "light",
      "tags": []
     },
     "output_type": "display_data"
    }
   ],
   "source": [
    "plt.figure(figsize=(30,5))\n",
    "df_rearranged_pivot.xs((2000,'Diabetes mellitus'), level = [1, 'Causes'])['Both sexes_recent'].plot.bar();"
   ]
  },
  {
   "cell_type": "code",
   "execution_count": 177,
   "metadata": {
    "colab": {
     "base_uri": "https://localhost:8080/",
     "height": 429
    },
    "id": "KhVMfgfs3zTl",
    "outputId": "2ca859d5-5a6b-49e2-b1a7-3930bbfb2f4d"
   },
   "outputs": [
    {
     "data": {
      "application/javascript": [
       "\n",
       "        if (window._pyforest_update_imports_cell) { window._pyforest_update_imports_cell('import spacy\\nimport re\\nimport xgboost as xgb\\nfrom sklearn.manifold import TSNE\\nimport statistics\\nimport bokeh\\nimport matplotlib as mpl\\nimport pandas as pd\\nfrom sklearn.feature_extraction.text import TfidfVectorizer\\nimport pickle\\nimport lightgbm as lgb\\nimport numpy as np\\nimport altair as alt\\nfrom sklearn import svm\\nimport plotly as py\\nimport nltk\\nimport sys\\nimport seaborn as sns\\nfrom openpyxl import load_workbook\\nimport sklearn\\nimport pydot\\nimport plotly.express as px\\nimport gensim\\nimport os\\nimport glob\\nimport matplotlib.pyplot as plt'); }\n",
       "    "
      ],
      "text/plain": [
       "<IPython.core.display.Javascript object>"
      ]
     },
     "metadata": {
      "tags": []
     },
     "output_type": "display_data"
    },
    {
     "data": {
      "image/png": "[encoded data removed]",
      "text/plain": [
       "<Figure size 2160x360 with 1 Axes>"
      ]
     },
     "metadata": {
      "needs_background": "light",
      "tags": []
     },
     "output_type": "display_data"
    }
   ],
   "source": [
    "plt.figure(figsize=(30,5))\n",
    "df_rearranged_pivot.xs((2019,'Diabetes mellitus'), level = [1, 'Causes'])['Both sexes_recent'].plot.bar(color = 'red')\n",
    "df_rearranged_pivot.xs((2000,'Diabetes mellitus'), level = [1, 'Causes'])['Both sexes_recent'].plot.bar();"
   ]
  },
  {
   "cell_type": "code",
   "execution_count": 178,
   "metadata": {
    "id": "e8AHP4lX4GPv"
   },
   "outputs": [],
   "source": [
    "df_gdp = pd.read_csv('/content/drive/MyDrive/Colab Notebooks/Metadata_Country_API_NY.GDP.MKTP.KD.ZG_DS2_en_csv_v2_2055665.csv')"
   ]
  },
  {
   "cell_type": "code",
   "execution_count": 179,
   "metadata": {
    "colab": {
     "base_uri": "https://localhost:8080/",
     "height": 419
    },
    "id": "f4Mwn8Op5PMf",
    "outputId": "187a6b76-973e-4582-dff1-8b4ed32026da"
   },
   "outputs": [
    {
     "data": {
      "text/html": [
       "<div>\n",
       "<style scoped>\n",
       "    .dataframe tbody tr th:only-of-type {\n",
       "        vertical-align: middle;\n",
       "    }\n",
       "\n",
       "    .dataframe tbody tr th {\n",
       "        vertical-align: top;\n",
       "    }\n",
       "\n",
       "    .dataframe thead th {\n",
       "        text-align: right;\n",
       "    }\n",
       "</style>\n",
       "<table border=\"1\" class=\"dataframe\">\n",
       "  <thead>\n",
       "    <tr style=\"text-align: right;\">\n",
       "      <th></th>\n",
       "      <th>Country Code</th>\n",
       "      <th>Region</th>\n",
       "      <th>IncomeGroup</th>\n",
       "      <th>SpecialNotes</th>\n",
       "      <th>TableName</th>\n",
       "      <th>Unnamed: 5</th>\n",
       "    </tr>\n",
       "  </thead>\n",
       "  <tbody>\n",
       "    <tr>\n",
       "      <th>0</th>\n",
       "      <td>ABW</td>\n",
       "      <td>Latin America &amp; Caribbean</td>\n",
       "      <td>High income</td>\n",
       "      <td>NaN</td>\n",
       "      <td>Aruba</td>\n",
       "      <td>nan</td>\n",
       "    </tr>\n",
       "    <tr>\n",
       "      <th>1</th>\n",
       "      <td>AFG</td>\n",
       "      <td>South Asia</td>\n",
       "      <td>Low income</td>\n",
       "      <td>NaN</td>\n",
       "      <td>Afghanistan</td>\n",
       "      <td>nan</td>\n",
       "    </tr>\n",
       "    <tr>\n",
       "      <th>2</th>\n",
       "      <td>AGO</td>\n",
       "      <td>Sub-Saharan Africa</td>\n",
       "      <td>Lower middle income</td>\n",
       "      <td>NaN</td>\n",
       "      <td>Angola</td>\n",
       "      <td>nan</td>\n",
       "    </tr>\n",
       "    <tr>\n",
       "      <th>3</th>\n",
       "      <td>ALB</td>\n",
       "      <td>Europe &amp; Central Asia</td>\n",
       "      <td>Upper middle income</td>\n",
       "      <td>NaN</td>\n",
       "      <td>Albania</td>\n",
       "      <td>nan</td>\n",
       "    </tr>\n",
       "    <tr>\n",
       "      <th>4</th>\n",
       "      <td>AND</td>\n",
       "      <td>Europe &amp; Central Asia</td>\n",
       "      <td>High income</td>\n",
       "      <td>NaN</td>\n",
       "      <td>Andorra</td>\n",
       "      <td>nan</td>\n",
       "    </tr>\n",
       "    <tr>\n",
       "      <th>...</th>\n",
       "      <td>...</td>\n",
       "      <td>...</td>\n",
       "      <td>...</td>\n",
       "      <td>...</td>\n",
       "      <td>...</td>\n",
       "      <td>...</td>\n",
       "    </tr>\n",
       "    <tr>\n",
       "      <th>258</th>\n",
       "      <td>XKX</td>\n",
       "      <td>Europe &amp; Central Asia</td>\n",
       "      <td>Upper middle income</td>\n",
       "      <td>NaN</td>\n",
       "      <td>Kosovo</td>\n",
       "      <td>nan</td>\n",
       "    </tr>\n",
       "    <tr>\n",
       "      <th>259</th>\n",
       "      <td>YEM</td>\n",
       "      <td>Middle East &amp; North Africa</td>\n",
       "      <td>Low income</td>\n",
       "      <td>NaN</td>\n",
       "      <td>Yemen, Rep.</td>\n",
       "      <td>nan</td>\n",
       "    </tr>\n",
       "    <tr>\n",
       "      <th>260</th>\n",
       "      <td>ZAF</td>\n",
       "      <td>Sub-Saharan Africa</td>\n",
       "      <td>Upper middle income</td>\n",
       "      <td>Fiscal year end: March 31; reporting period fo...</td>\n",
       "      <td>South Africa</td>\n",
       "      <td>nan</td>\n",
       "    </tr>\n",
       "    <tr>\n",
       "      <th>261</th>\n",
       "      <td>ZMB</td>\n",
       "      <td>Sub-Saharan Africa</td>\n",
       "      <td>Lower middle income</td>\n",
       "      <td>National accounts data were rebased to reflect...</td>\n",
       "      <td>Zambia</td>\n",
       "      <td>nan</td>\n",
       "    </tr>\n",
       "    <tr>\n",
       "      <th>262</th>\n",
       "      <td>ZWE</td>\n",
       "      <td>Sub-Saharan Africa</td>\n",
       "      <td>Lower middle income</td>\n",
       "      <td>NaN</td>\n",
       "      <td>Zimbabwe</td>\n",
       "      <td>nan</td>\n",
       "    </tr>\n",
       "  </tbody>\n",
       "</table>\n",
       "<p>263 rows × 6 columns</p>\n",
       "</div>"
      ],
      "text/plain": [
       "    Country Code                      Region  ...     TableName Unnamed: 5\n",
       "0            ABW   Latin America & Caribbean  ...         Aruba        nan\n",
       "1            AFG                  South Asia  ...   Afghanistan        nan\n",
       "2            AGO          Sub-Saharan Africa  ...        Angola        nan\n",
       "3            ALB       Europe & Central Asia  ...       Albania        nan\n",
       "4            AND       Europe & Central Asia  ...       Andorra        nan\n",
       "..           ...                         ...  ...           ...        ...\n",
       "258          XKX       Europe & Central Asia  ...        Kosovo        nan\n",
       "259          YEM  Middle East & North Africa  ...   Yemen, Rep.        nan\n",
       "260          ZAF          Sub-Saharan Africa  ...  South Africa        nan\n",
       "261          ZMB          Sub-Saharan Africa  ...        Zambia        nan\n",
       "262          ZWE          Sub-Saharan Africa  ...      Zimbabwe        nan\n",
       "\n",
       "[263 rows x 6 columns]"
      ]
     },
     "execution_count": 179,
     "metadata": {
      "tags": []
     },
     "output_type": "execute_result"
    }
   ],
   "source": [
    "df_gdp"
   ]
  },
  {
   "cell_type": "code",
   "execution_count": 180,
   "metadata": {
    "colab": {
     "base_uri": "https://localhost:8080/"
    },
    "id": "LX2vyooa5Uco",
    "outputId": "349ff28c-543e-4c18-b065-e49b4f88d1c6"
   },
   "outputs": [
    {
     "name": "stdout",
     "output_type": "stream",
     "text": [
      "PSE    1\n",
      "POL    1\n",
      "MYS    1\n",
      "OSS    1\n",
      "NZL    1\n",
      "      ..\n",
      "EAS    1\n",
      "TZA    1\n",
      "RUS    1\n",
      "MKD    1\n",
      "SOM    1\n",
      "Name: Country Code, Length: 263, dtype: int64\n",
      "*-*-*-*-*-*-*-*-*-*-*-*-*-*-*-*-*-*-*-*-\n",
      "Europe & Central Asia         58\n",
      "Sub-Saharan Africa            48\n",
      "NaN                           46\n",
      "Latin America & Caribbean     42\n",
      "East Asia & Pacific           37\n",
      "Middle East & North Africa    21\n",
      "South Asia                     8\n",
      "North America                  3\n",
      "Name: Region, dtype: int64\n",
      "*-*-*-*-*-*-*-*-*-*-*-*-*-*-*-*-*-*-*-*-\n",
      "High income            82\n",
      "Upper middle income    56\n",
      "Lower middle income    50\n",
      "NaN                    46\n",
      "Low income             29\n",
      "Name: IncomeGroup, dtype: int64\n",
      "*-*-*-*-*-*-*-*-*-*-*-*-*-*-*-*-*-*-*-*-\n",
      "NaN                                                                                                                                                                                                                                                                                                                                                                     169\n",
      "Fiscal year end: March 31; reporting period for national accounts data: CY.                                                                                                                                                                                                                                                                                               7\n",
      "Fiscal year end: June 30; reporting period for national accounts data: FY.                                                                                                                                                                                                                                                                                                6\n",
      "Fiscal year ends on September 30; reporting period for national accounts data: FY.                                                                                                                                                                                                                                                                                        2\n",
      "Fiscal year end: March 31; reporting period for national accounts data: FY.                                                                                                                                                                                                                                                                                               2\n",
      "                                                                                                                                                                                                                                                                                                                                                                       ... \n",
      "Fiscal year end: March 31; reporting period for national accounts data: CY. Data for Indonesia include Timor-Leste through 1999 unless otherwise noted.                                                                                                                                                                                                                   1\n",
      "Small states (members of the Small States Forum) aggregate.                                                                                                                                                                                                                                                                                                               1\n",
      "Latin America & the Caribbean (IDA & IBRD countries) aggregate.                                                                                                                                                                                                                                                                                                           1\n",
      "A simple multiplier is used to convert the national currencies of EMU members to euros. The following irrevocable euro conversion rate was adopted by the EU Council on January 1, 1999: 1 euro = 13.7603 Austrian schilling. Please note that historical data before 1999 are not actual euros and are not comparable or suitable for aggregation across countries.      1\n",
      "National account data were adjusted to reflect the new banknote (1 new Dobra STN = 1000 old Dobra STD)                                                                                                                                                                                                                                                                    1\n",
      "Name: SpecialNotes, Length: 81, dtype: int64\n",
      "*-*-*-*-*-*-*-*-*-*-*-*-*-*-*-*-*-*-*-*-\n",
      "Other small states                1\n",
      "Jamaica                           1\n",
      "Bulgaria                          1\n",
      "Bahrain                           1\n",
      "Central Europe and the Baltics    1\n",
      "                                 ..\n",
      "Turkey                            1\n",
      "Malawi                            1\n",
      "IDA blend                         1\n",
      "Slovak Republic                   1\n",
      "Guyana                            1\n",
      "Name: TableName, Length: 263, dtype: int64\n",
      "*-*-*-*-*-*-*-*-*-*-*-*-*-*-*-*-*-*-*-*-\n",
      "nan    263\n",
      "Name: Unnamed: 5, dtype: int64\n",
      "*-*-*-*-*-*-*-*-*-*-*-*-*-*-*-*-*-*-*-*-\n"
     ]
    }
   ],
   "source": [
    "for i in df_gdp.columns:\n",
    "  print(df_gdp[i].value_counts(dropna = False))\n",
    "  print('*-'* 20)"
   ]
  },
  {
   "cell_type": "code",
   "execution_count": 181,
   "metadata": {
    "colab": {
     "base_uri": "https://localhost:8080/"
    },
    "id": "vcVB5PDd-pXV",
    "outputId": "f866ccf2-ddcb-4f0f-f695-d72c9adc1218"
   },
   "outputs": [
    {
     "data": {
      "text/plain": [
       "Country Code      0\n",
       "Region           46\n",
       "IncomeGroup      46\n",
       "SpecialNotes    169\n",
       "TableName         0\n",
       "Unnamed: 5      263\n",
       "dtype: int64"
      ]
     },
     "execution_count": 181,
     "metadata": {
      "tags": []
     },
     "output_type": "execute_result"
    }
   ],
   "source": [
    "df_gdp.isnull().sum()"
   ]
  },
  {
   "cell_type": "code",
   "execution_count": 182,
   "metadata": {
    "id": "Da4tjqOw_Hez"
   },
   "outputs": [],
   "source": [
    "df_gdp.dropna(axis=1, how='all',inplace=True)"
   ]
  },
  {
   "cell_type": "code",
   "execution_count": 183,
   "metadata": {
    "colab": {
     "base_uri": "https://localhost:8080/",
     "height": 204
    },
    "id": "CT6eClxt_Wzw",
    "outputId": "59eb0946-0693-483d-b28a-c82a30d8c792"
   },
   "outputs": [
    {
     "data": {
      "text/html": [
       "<div>\n",
       "<style scoped>\n",
       "    .dataframe tbody tr th:only-of-type {\n",
       "        vertical-align: middle;\n",
       "    }\n",
       "\n",
       "    .dataframe tbody tr th {\n",
       "        vertical-align: top;\n",
       "    }\n",
       "\n",
       "    .dataframe thead th {\n",
       "        text-align: right;\n",
       "    }\n",
       "</style>\n",
       "<table border=\"1\" class=\"dataframe\">\n",
       "  <thead>\n",
       "    <tr style=\"text-align: right;\">\n",
       "      <th></th>\n",
       "      <th>Country Code</th>\n",
       "      <th>Region</th>\n",
       "      <th>IncomeGroup</th>\n",
       "      <th>SpecialNotes</th>\n",
       "      <th>TableName</th>\n",
       "    </tr>\n",
       "  </thead>\n",
       "  <tbody>\n",
       "    <tr>\n",
       "      <th>0</th>\n",
       "      <td>ABW</td>\n",
       "      <td>Latin America &amp; Caribbean</td>\n",
       "      <td>High income</td>\n",
       "      <td>NaN</td>\n",
       "      <td>Aruba</td>\n",
       "    </tr>\n",
       "    <tr>\n",
       "      <th>1</th>\n",
       "      <td>AFG</td>\n",
       "      <td>South Asia</td>\n",
       "      <td>Low income</td>\n",
       "      <td>NaN</td>\n",
       "      <td>Afghanistan</td>\n",
       "    </tr>\n",
       "    <tr>\n",
       "      <th>2</th>\n",
       "      <td>AGO</td>\n",
       "      <td>Sub-Saharan Africa</td>\n",
       "      <td>Lower middle income</td>\n",
       "      <td>NaN</td>\n",
       "      <td>Angola</td>\n",
       "    </tr>\n",
       "    <tr>\n",
       "      <th>3</th>\n",
       "      <td>ALB</td>\n",
       "      <td>Europe &amp; Central Asia</td>\n",
       "      <td>Upper middle income</td>\n",
       "      <td>NaN</td>\n",
       "      <td>Albania</td>\n",
       "    </tr>\n",
       "    <tr>\n",
       "      <th>4</th>\n",
       "      <td>AND</td>\n",
       "      <td>Europe &amp; Central Asia</td>\n",
       "      <td>High income</td>\n",
       "      <td>NaN</td>\n",
       "      <td>Andorra</td>\n",
       "    </tr>\n",
       "  </tbody>\n",
       "</table>\n",
       "</div>"
      ],
      "text/plain": [
       "  Country Code                     Region  ... SpecialNotes    TableName\n",
       "0          ABW  Latin America & Caribbean  ...          NaN        Aruba\n",
       "1          AFG                 South Asia  ...          NaN  Afghanistan\n",
       "2          AGO         Sub-Saharan Africa  ...          NaN       Angola\n",
       "3          ALB      Europe & Central Asia  ...          NaN      Albania\n",
       "4          AND      Europe & Central Asia  ...          NaN      Andorra\n",
       "\n",
       "[5 rows x 5 columns]"
      ]
     },
     "execution_count": 183,
     "metadata": {
      "tags": []
     },
     "output_type": "execute_result"
    }
   ],
   "source": [
    "df_gdp.head()"
   ]
  },
  {
   "cell_type": "code",
   "execution_count": 184,
   "metadata": {
    "colab": {
     "base_uri": "https://localhost:8080/",
     "height": 419
    },
    "id": "yDWCf9EyDCew",
    "outputId": "142c6934-da42-4ebf-bc43-7824b970afa3"
   },
   "outputs": [
    {
     "data": {
      "text/html": [
       "<div>\n",
       "<style scoped>\n",
       "    .dataframe tbody tr th:only-of-type {\n",
       "        vertical-align: middle;\n",
       "    }\n",
       "\n",
       "    .dataframe tbody tr th {\n",
       "        vertical-align: top;\n",
       "    }\n",
       "\n",
       "    .dataframe thead th {\n",
       "        text-align: right;\n",
       "    }\n",
       "</style>\n",
       "<table border=\"1\" class=\"dataframe\">\n",
       "  <thead>\n",
       "    <tr style=\"text-align: right;\">\n",
       "      <th></th>\n",
       "      <th>Country Code</th>\n",
       "      <th>Region</th>\n",
       "      <th>IncomeGroup</th>\n",
       "      <th>TableName</th>\n",
       "    </tr>\n",
       "  </thead>\n",
       "  <tbody>\n",
       "    <tr>\n",
       "      <th>0</th>\n",
       "      <td>ABW</td>\n",
       "      <td>Latin America &amp; Caribbean</td>\n",
       "      <td>High income</td>\n",
       "      <td>Aruba</td>\n",
       "    </tr>\n",
       "    <tr>\n",
       "      <th>1</th>\n",
       "      <td>AFG</td>\n",
       "      <td>South Asia</td>\n",
       "      <td>Low income</td>\n",
       "      <td>Afghanistan</td>\n",
       "    </tr>\n",
       "    <tr>\n",
       "      <th>2</th>\n",
       "      <td>AGO</td>\n",
       "      <td>Sub-Saharan Africa</td>\n",
       "      <td>Lower middle income</td>\n",
       "      <td>Angola</td>\n",
       "    </tr>\n",
       "    <tr>\n",
       "      <th>3</th>\n",
       "      <td>ALB</td>\n",
       "      <td>Europe &amp; Central Asia</td>\n",
       "      <td>Upper middle income</td>\n",
       "      <td>Albania</td>\n",
       "    </tr>\n",
       "    <tr>\n",
       "      <th>4</th>\n",
       "      <td>AND</td>\n",
       "      <td>Europe &amp; Central Asia</td>\n",
       "      <td>High income</td>\n",
       "      <td>Andorra</td>\n",
       "    </tr>\n",
       "    <tr>\n",
       "      <th>...</th>\n",
       "      <td>...</td>\n",
       "      <td>...</td>\n",
       "      <td>...</td>\n",
       "      <td>...</td>\n",
       "    </tr>\n",
       "    <tr>\n",
       "      <th>258</th>\n",
       "      <td>XKX</td>\n",
       "      <td>Europe &amp; Central Asia</td>\n",
       "      <td>Upper middle income</td>\n",
       "      <td>Kosovo</td>\n",
       "    </tr>\n",
       "    <tr>\n",
       "      <th>259</th>\n",
       "      <td>YEM</td>\n",
       "      <td>Middle East &amp; North Africa</td>\n",
       "      <td>Low income</td>\n",
       "      <td>Yemen, Rep.</td>\n",
       "    </tr>\n",
       "    <tr>\n",
       "      <th>260</th>\n",
       "      <td>ZAF</td>\n",
       "      <td>Sub-Saharan Africa</td>\n",
       "      <td>Upper middle income</td>\n",
       "      <td>South Africa</td>\n",
       "    </tr>\n",
       "    <tr>\n",
       "      <th>261</th>\n",
       "      <td>ZMB</td>\n",
       "      <td>Sub-Saharan Africa</td>\n",
       "      <td>Lower middle income</td>\n",
       "      <td>Zambia</td>\n",
       "    </tr>\n",
       "    <tr>\n",
       "      <th>262</th>\n",
       "      <td>ZWE</td>\n",
       "      <td>Sub-Saharan Africa</td>\n",
       "      <td>Lower middle income</td>\n",
       "      <td>Zimbabwe</td>\n",
       "    </tr>\n",
       "  </tbody>\n",
       "</table>\n",
       "<p>263 rows × 4 columns</p>\n",
       "</div>"
      ],
      "text/plain": [
       "    Country Code                      Region          IncomeGroup     TableName\n",
       "0            ABW   Latin America & Caribbean          High income         Aruba\n",
       "1            AFG                  South Asia           Low income   Afghanistan\n",
       "2            AGO          Sub-Saharan Africa  Lower middle income        Angola\n",
       "3            ALB       Europe & Central Asia  Upper middle income       Albania\n",
       "4            AND       Europe & Central Asia          High income       Andorra\n",
       "..           ...                         ...                  ...           ...\n",
       "258          XKX       Europe & Central Asia  Upper middle income        Kosovo\n",
       "259          YEM  Middle East & North Africa           Low income   Yemen, Rep.\n",
       "260          ZAF          Sub-Saharan Africa  Upper middle income  South Africa\n",
       "261          ZMB          Sub-Saharan Africa  Lower middle income        Zambia\n",
       "262          ZWE          Sub-Saharan Africa  Lower middle income      Zimbabwe\n",
       "\n",
       "[263 rows x 4 columns]"
      ]
     },
     "execution_count": 184,
     "metadata": {
      "tags": []
     },
     "output_type": "execute_result"
    }
   ],
   "source": [
    "df_gdp.drop(df_gdp.columns[3], axis =1, inplace = True)\n",
    "df_gdp"
   ]
  },
  {
   "cell_type": "code",
   "execution_count": 185,
   "metadata": {
    "colab": {
     "base_uri": "https://localhost:8080/"
    },
    "id": "9vNlLtawDVue",
    "outputId": "19251991-701e-4c2f-e122-b5013aba06e2"
   },
   "outputs": [
    {
     "data": {
      "text/plain": [
       "Country Code     0\n",
       "Region          46\n",
       "IncomeGroup     46\n",
       "TableName        0\n",
       "dtype: int64"
      ]
     },
     "execution_count": 185,
     "metadata": {
      "tags": []
     },
     "output_type": "execute_result"
    }
   ],
   "source": [
    "df_gdp.isnull().sum()"
   ]
  },
  {
   "cell_type": "code",
   "execution_count": 186,
   "metadata": {
    "colab": {
     "base_uri": "https://localhost:8080/",
     "height": 1000
    },
    "id": "wApux1xqDeOM",
    "outputId": "dc184eeb-a6c7-4bfd-eae0-3181fa430a9b"
   },
   "outputs": [
    {
     "data": {
      "text/html": [
       "<div>\n",
       "<style scoped>\n",
       "    .dataframe tbody tr th:only-of-type {\n",
       "        vertical-align: middle;\n",
       "    }\n",
       "\n",
       "    .dataframe tbody tr th {\n",
       "        vertical-align: top;\n",
       "    }\n",
       "\n",
       "    .dataframe thead th {\n",
       "        text-align: right;\n",
       "    }\n",
       "</style>\n",
       "<table border=\"1\" class=\"dataframe\">\n",
       "  <thead>\n",
       "    <tr style=\"text-align: right;\">\n",
       "      <th></th>\n",
       "      <th>Country Code</th>\n",
       "      <th>Region</th>\n",
       "      <th>IncomeGroup</th>\n",
       "      <th>TableName</th>\n",
       "    </tr>\n",
       "  </thead>\n",
       "  <tbody>\n",
       "    <tr>\n",
       "      <th>5</th>\n",
       "      <td>ARB</td>\n",
       "      <td>NaN</td>\n",
       "      <td>NaN</td>\n",
       "      <td>Arab World</td>\n",
       "    </tr>\n",
       "    <tr>\n",
       "      <th>34</th>\n",
       "      <td>CEB</td>\n",
       "      <td>NaN</td>\n",
       "      <td>NaN</td>\n",
       "      <td>Central Europe and the Baltics</td>\n",
       "    </tr>\n",
       "    <tr>\n",
       "      <th>47</th>\n",
       "      <td>CSS</td>\n",
       "      <td>NaN</td>\n",
       "      <td>NaN</td>\n",
       "      <td>Caribbean small states</td>\n",
       "    </tr>\n",
       "    <tr>\n",
       "      <th>59</th>\n",
       "      <td>EAP</td>\n",
       "      <td>NaN</td>\n",
       "      <td>NaN</td>\n",
       "      <td>East Asia &amp; Pacific (excluding high income)</td>\n",
       "    </tr>\n",
       "    <tr>\n",
       "      <th>60</th>\n",
       "      <td>EAR</td>\n",
       "      <td>NaN</td>\n",
       "      <td>NaN</td>\n",
       "      <td>Early-demographic dividend</td>\n",
       "    </tr>\n",
       "    <tr>\n",
       "      <th>61</th>\n",
       "      <td>EAS</td>\n",
       "      <td>NaN</td>\n",
       "      <td>NaN</td>\n",
       "      <td>East Asia &amp; Pacific</td>\n",
       "    </tr>\n",
       "    <tr>\n",
       "      <th>62</th>\n",
       "      <td>ECA</td>\n",
       "      <td>NaN</td>\n",
       "      <td>NaN</td>\n",
       "      <td>Europe &amp; Central Asia (excluding high income)</td>\n",
       "    </tr>\n",
       "    <tr>\n",
       "      <th>63</th>\n",
       "      <td>ECS</td>\n",
       "      <td>NaN</td>\n",
       "      <td>NaN</td>\n",
       "      <td>Europe &amp; Central Asia</td>\n",
       "    </tr>\n",
       "    <tr>\n",
       "      <th>66</th>\n",
       "      <td>EMU</td>\n",
       "      <td>NaN</td>\n",
       "      <td>NaN</td>\n",
       "      <td>Euro area</td>\n",
       "    </tr>\n",
       "    <tr>\n",
       "      <th>71</th>\n",
       "      <td>EUU</td>\n",
       "      <td>NaN</td>\n",
       "      <td>NaN</td>\n",
       "      <td>European Union</td>\n",
       "    </tr>\n",
       "    <tr>\n",
       "      <th>72</th>\n",
       "      <td>FCS</td>\n",
       "      <td>NaN</td>\n",
       "      <td>NaN</td>\n",
       "      <td>Fragile and conflict affected situations</td>\n",
       "    </tr>\n",
       "    <tr>\n",
       "      <th>93</th>\n",
       "      <td>HIC</td>\n",
       "      <td>NaN</td>\n",
       "      <td>NaN</td>\n",
       "      <td>High income</td>\n",
       "    </tr>\n",
       "    <tr>\n",
       "      <th>96</th>\n",
       "      <td>HPC</td>\n",
       "      <td>NaN</td>\n",
       "      <td>NaN</td>\n",
       "      <td>Heavily indebted poor countries (HIPC)</td>\n",
       "    </tr>\n",
       "    <tr>\n",
       "      <th>100</th>\n",
       "      <td>IBD</td>\n",
       "      <td>NaN</td>\n",
       "      <td>NaN</td>\n",
       "      <td>IBRD only</td>\n",
       "    </tr>\n",
       "    <tr>\n",
       "      <th>101</th>\n",
       "      <td>IBT</td>\n",
       "      <td>NaN</td>\n",
       "      <td>NaN</td>\n",
       "      <td>IDA &amp; IBRD total</td>\n",
       "    </tr>\n",
       "    <tr>\n",
       "      <th>102</th>\n",
       "      <td>IDA</td>\n",
       "      <td>NaN</td>\n",
       "      <td>NaN</td>\n",
       "      <td>IDA total</td>\n",
       "    </tr>\n",
       "    <tr>\n",
       "      <th>103</th>\n",
       "      <td>IDB</td>\n",
       "      <td>NaN</td>\n",
       "      <td>NaN</td>\n",
       "      <td>IDA blend</td>\n",
       "    </tr>\n",
       "    <tr>\n",
       "      <th>105</th>\n",
       "      <td>IDX</td>\n",
       "      <td>NaN</td>\n",
       "      <td>NaN</td>\n",
       "      <td>IDA only</td>\n",
       "    </tr>\n",
       "    <tr>\n",
       "      <th>125</th>\n",
       "      <td>LAC</td>\n",
       "      <td>NaN</td>\n",
       "      <td>NaN</td>\n",
       "      <td>Latin America &amp; Caribbean (excluding high income)</td>\n",
       "    </tr>\n",
       "    <tr>\n",
       "      <th>131</th>\n",
       "      <td>LCN</td>\n",
       "      <td>NaN</td>\n",
       "      <td>NaN</td>\n",
       "      <td>Latin America &amp; Caribbean</td>\n",
       "    </tr>\n",
       "    <tr>\n",
       "      <th>132</th>\n",
       "      <td>LDC</td>\n",
       "      <td>NaN</td>\n",
       "      <td>NaN</td>\n",
       "      <td>Least developed countries: UN classification</td>\n",
       "    </tr>\n",
       "    <tr>\n",
       "      <th>133</th>\n",
       "      <td>LIC</td>\n",
       "      <td>NaN</td>\n",
       "      <td>NaN</td>\n",
       "      <td>Low income</td>\n",
       "    </tr>\n",
       "    <tr>\n",
       "      <th>136</th>\n",
       "      <td>LMC</td>\n",
       "      <td>NaN</td>\n",
       "      <td>NaN</td>\n",
       "      <td>Lower middle income</td>\n",
       "    </tr>\n",
       "    <tr>\n",
       "      <th>137</th>\n",
       "      <td>LMY</td>\n",
       "      <td>NaN</td>\n",
       "      <td>NaN</td>\n",
       "      <td>Low &amp; middle income</td>\n",
       "    </tr>\n",
       "    <tr>\n",
       "      <th>139</th>\n",
       "      <td>LTE</td>\n",
       "      <td>NaN</td>\n",
       "      <td>NaN</td>\n",
       "      <td>Late-demographic dividend</td>\n",
       "    </tr>\n",
       "    <tr>\n",
       "      <th>150</th>\n",
       "      <td>MEA</td>\n",
       "      <td>NaN</td>\n",
       "      <td>NaN</td>\n",
       "      <td>Middle East &amp; North Africa</td>\n",
       "    </tr>\n",
       "    <tr>\n",
       "      <th>153</th>\n",
       "      <td>MIC</td>\n",
       "      <td>NaN</td>\n",
       "      <td>NaN</td>\n",
       "      <td>Middle income</td>\n",
       "    </tr>\n",
       "    <tr>\n",
       "      <th>158</th>\n",
       "      <td>MNA</td>\n",
       "      <td>NaN</td>\n",
       "      <td>NaN</td>\n",
       "      <td>Middle East &amp; North Africa (excluding high inc...</td>\n",
       "    </tr>\n",
       "    <tr>\n",
       "      <th>167</th>\n",
       "      <td>NAC</td>\n",
       "      <td>NaN</td>\n",
       "      <td>NaN</td>\n",
       "      <td>North America</td>\n",
       "    </tr>\n",
       "    <tr>\n",
       "      <th>178</th>\n",
       "      <td>OED</td>\n",
       "      <td>NaN</td>\n",
       "      <td>NaN</td>\n",
       "      <td>OECD members</td>\n",
       "    </tr>\n",
       "    <tr>\n",
       "      <th>180</th>\n",
       "      <td>OSS</td>\n",
       "      <td>NaN</td>\n",
       "      <td>NaN</td>\n",
       "      <td>Other small states</td>\n",
       "    </tr>\n",
       "    <tr>\n",
       "      <th>188</th>\n",
       "      <td>PRE</td>\n",
       "      <td>NaN</td>\n",
       "      <td>NaN</td>\n",
       "      <td>Pre-demographic dividend</td>\n",
       "    </tr>\n",
       "    <tr>\n",
       "      <th>194</th>\n",
       "      <td>PSS</td>\n",
       "      <td>NaN</td>\n",
       "      <td>NaN</td>\n",
       "      <td>Pacific island small states</td>\n",
       "    </tr>\n",
       "    <tr>\n",
       "      <th>195</th>\n",
       "      <td>PST</td>\n",
       "      <td>NaN</td>\n",
       "      <td>NaN</td>\n",
       "      <td>Post-demographic dividend</td>\n",
       "    </tr>\n",
       "    <tr>\n",
       "      <th>201</th>\n",
       "      <td>SAS</td>\n",
       "      <td>NaN</td>\n",
       "      <td>NaN</td>\n",
       "      <td>South Asia</td>\n",
       "    </tr>\n",
       "    <tr>\n",
       "      <th>212</th>\n",
       "      <td>SSA</td>\n",
       "      <td>NaN</td>\n",
       "      <td>NaN</td>\n",
       "      <td>Sub-Saharan Africa (excluding high income)</td>\n",
       "    </tr>\n",
       "    <tr>\n",
       "      <th>214</th>\n",
       "      <td>SSF</td>\n",
       "      <td>NaN</td>\n",
       "      <td>NaN</td>\n",
       "      <td>Sub-Saharan Africa</td>\n",
       "    </tr>\n",
       "    <tr>\n",
       "      <th>215</th>\n",
       "      <td>SST</td>\n",
       "      <td>NaN</td>\n",
       "      <td>NaN</td>\n",
       "      <td>Small states</td>\n",
       "    </tr>\n",
       "    <tr>\n",
       "      <th>227</th>\n",
       "      <td>TEA</td>\n",
       "      <td>NaN</td>\n",
       "      <td>NaN</td>\n",
       "      <td>East Asia &amp; Pacific (IDA &amp; IBRD)</td>\n",
       "    </tr>\n",
       "    <tr>\n",
       "      <th>228</th>\n",
       "      <td>TEC</td>\n",
       "      <td>NaN</td>\n",
       "      <td>NaN</td>\n",
       "      <td>Europe &amp; Central Asia (IDA &amp; IBRD)</td>\n",
       "    </tr>\n",
       "    <tr>\n",
       "      <th>233</th>\n",
       "      <td>TLA</td>\n",
       "      <td>NaN</td>\n",
       "      <td>NaN</td>\n",
       "      <td>Latin America &amp; Caribbean (IDA &amp; IBRD)</td>\n",
       "    </tr>\n",
       "    <tr>\n",
       "      <th>235</th>\n",
       "      <td>TMN</td>\n",
       "      <td>NaN</td>\n",
       "      <td>NaN</td>\n",
       "      <td>Middle East &amp; North Africa (IDA &amp; IBRD)</td>\n",
       "    </tr>\n",
       "    <tr>\n",
       "      <th>237</th>\n",
       "      <td>TSA</td>\n",
       "      <td>NaN</td>\n",
       "      <td>NaN</td>\n",
       "      <td>South Asia (IDA &amp; IBRD)</td>\n",
       "    </tr>\n",
       "    <tr>\n",
       "      <th>238</th>\n",
       "      <td>TSS</td>\n",
       "      <td>NaN</td>\n",
       "      <td>NaN</td>\n",
       "      <td>Sub-Saharan Africa (IDA &amp; IBRD)</td>\n",
       "    </tr>\n",
       "    <tr>\n",
       "      <th>246</th>\n",
       "      <td>UMC</td>\n",
       "      <td>NaN</td>\n",
       "      <td>NaN</td>\n",
       "      <td>Upper middle income</td>\n",
       "    </tr>\n",
       "    <tr>\n",
       "      <th>256</th>\n",
       "      <td>WLD</td>\n",
       "      <td>NaN</td>\n",
       "      <td>NaN</td>\n",
       "      <td>World</td>\n",
       "    </tr>\n",
       "  </tbody>\n",
       "</table>\n",
       "</div>"
      ],
      "text/plain": [
       "    Country Code  ...                                          TableName\n",
       "5            ARB  ...                                         Arab World\n",
       "34           CEB  ...                     Central Europe and the Baltics\n",
       "47           CSS  ...                             Caribbean small states\n",
       "59           EAP  ...        East Asia & Pacific (excluding high income)\n",
       "60           EAR  ...                         Early-demographic dividend\n",
       "61           EAS  ...                                East Asia & Pacific\n",
       "62           ECA  ...      Europe & Central Asia (excluding high income)\n",
       "63           ECS  ...                              Europe & Central Asia\n",
       "66           EMU  ...                                          Euro area\n",
       "71           EUU  ...                                     European Union\n",
       "72           FCS  ...           Fragile and conflict affected situations\n",
       "93           HIC  ...                                        High income\n",
       "96           HPC  ...             Heavily indebted poor countries (HIPC)\n",
       "100          IBD  ...                                          IBRD only\n",
       "101          IBT  ...                                   IDA & IBRD total\n",
       "102          IDA  ...                                          IDA total\n",
       "103          IDB  ...                                          IDA blend\n",
       "105          IDX  ...                                           IDA only\n",
       "125          LAC  ...  Latin America & Caribbean (excluding high income)\n",
       "131          LCN  ...                          Latin America & Caribbean\n",
       "132          LDC  ...       Least developed countries: UN classification\n",
       "133          LIC  ...                                         Low income\n",
       "136          LMC  ...                                Lower middle income\n",
       "137          LMY  ...                                Low & middle income\n",
       "139          LTE  ...                          Late-demographic dividend\n",
       "150          MEA  ...                         Middle East & North Africa\n",
       "153          MIC  ...                                      Middle income\n",
       "158          MNA  ...  Middle East & North Africa (excluding high inc...\n",
       "167          NAC  ...                                      North America\n",
       "178          OED  ...                                       OECD members\n",
       "180          OSS  ...                                 Other small states\n",
       "188          PRE  ...                           Pre-demographic dividend\n",
       "194          PSS  ...                        Pacific island small states\n",
       "195          PST  ...                          Post-demographic dividend\n",
       "201          SAS  ...                                         South Asia\n",
       "212          SSA  ...         Sub-Saharan Africa (excluding high income)\n",
       "214          SSF  ...                                 Sub-Saharan Africa\n",
       "215          SST  ...                                       Small states\n",
       "227          TEA  ...                   East Asia & Pacific (IDA & IBRD)\n",
       "228          TEC  ...                 Europe & Central Asia (IDA & IBRD)\n",
       "233          TLA  ...             Latin America & Caribbean (IDA & IBRD)\n",
       "235          TMN  ...            Middle East & North Africa (IDA & IBRD)\n",
       "237          TSA  ...                            South Asia (IDA & IBRD)\n",
       "238          TSS  ...                    Sub-Saharan Africa (IDA & IBRD)\n",
       "246          UMC  ...                                Upper middle income\n",
       "256          WLD  ...                                              World\n",
       "\n",
       "[46 rows x 4 columns]"
      ]
     },
     "execution_count": 186,
     "metadata": {
      "tags": []
     },
     "output_type": "execute_result"
    }
   ],
   "source": [
    "df_gdp[df_gdp['Region'].isnull() | df_gdp['IncomeGroup'].isnull()]"
   ]
  },
  {
   "cell_type": "code",
   "execution_count": 187,
   "metadata": {
    "id": "wdp47aSADuMB"
   },
   "outputs": [],
   "source": [
    "df_gdp.dropna(inplace=True)"
   ]
  },
  {
   "cell_type": "code",
   "execution_count": 188,
   "metadata": {
    "colab": {
     "base_uri": "https://localhost:8080/",
     "height": 419
    },
    "id": "MpRKny-qD9Xp",
    "outputId": "20894484-170b-4008-97fa-32f1a4ae9d59"
   },
   "outputs": [
    {
     "data": {
      "text/html": [
       "<div>\n",
       "<style scoped>\n",
       "    .dataframe tbody tr th:only-of-type {\n",
       "        vertical-align: middle;\n",
       "    }\n",
       "\n",
       "    .dataframe tbody tr th {\n",
       "        vertical-align: top;\n",
       "    }\n",
       "\n",
       "    .dataframe thead th {\n",
       "        text-align: right;\n",
       "    }\n",
       "</style>\n",
       "<table border=\"1\" class=\"dataframe\">\n",
       "  <thead>\n",
       "    <tr style=\"text-align: right;\">\n",
       "      <th></th>\n",
       "      <th>Country Code</th>\n",
       "      <th>Region</th>\n",
       "      <th>IncomeGroup</th>\n",
       "      <th>TableName</th>\n",
       "    </tr>\n",
       "  </thead>\n",
       "  <tbody>\n",
       "    <tr>\n",
       "      <th>0</th>\n",
       "      <td>ABW</td>\n",
       "      <td>Latin America &amp; Caribbean</td>\n",
       "      <td>High income</td>\n",
       "      <td>Aruba</td>\n",
       "    </tr>\n",
       "    <tr>\n",
       "      <th>1</th>\n",
       "      <td>AFG</td>\n",
       "      <td>South Asia</td>\n",
       "      <td>Low income</td>\n",
       "      <td>Afghanistan</td>\n",
       "    </tr>\n",
       "    <tr>\n",
       "      <th>2</th>\n",
       "      <td>AGO</td>\n",
       "      <td>Sub-Saharan Africa</td>\n",
       "      <td>Lower middle income</td>\n",
       "      <td>Angola</td>\n",
       "    </tr>\n",
       "    <tr>\n",
       "      <th>3</th>\n",
       "      <td>ALB</td>\n",
       "      <td>Europe &amp; Central Asia</td>\n",
       "      <td>Upper middle income</td>\n",
       "      <td>Albania</td>\n",
       "    </tr>\n",
       "    <tr>\n",
       "      <th>4</th>\n",
       "      <td>AND</td>\n",
       "      <td>Europe &amp; Central Asia</td>\n",
       "      <td>High income</td>\n",
       "      <td>Andorra</td>\n",
       "    </tr>\n",
       "    <tr>\n",
       "      <th>...</th>\n",
       "      <td>...</td>\n",
       "      <td>...</td>\n",
       "      <td>...</td>\n",
       "      <td>...</td>\n",
       "    </tr>\n",
       "    <tr>\n",
       "      <th>258</th>\n",
       "      <td>XKX</td>\n",
       "      <td>Europe &amp; Central Asia</td>\n",
       "      <td>Upper middle income</td>\n",
       "      <td>Kosovo</td>\n",
       "    </tr>\n",
       "    <tr>\n",
       "      <th>259</th>\n",
       "      <td>YEM</td>\n",
       "      <td>Middle East &amp; North Africa</td>\n",
       "      <td>Low income</td>\n",
       "      <td>Yemen, Rep.</td>\n",
       "    </tr>\n",
       "    <tr>\n",
       "      <th>260</th>\n",
       "      <td>ZAF</td>\n",
       "      <td>Sub-Saharan Africa</td>\n",
       "      <td>Upper middle income</td>\n",
       "      <td>South Africa</td>\n",
       "    </tr>\n",
       "    <tr>\n",
       "      <th>261</th>\n",
       "      <td>ZMB</td>\n",
       "      <td>Sub-Saharan Africa</td>\n",
       "      <td>Lower middle income</td>\n",
       "      <td>Zambia</td>\n",
       "    </tr>\n",
       "    <tr>\n",
       "      <th>262</th>\n",
       "      <td>ZWE</td>\n",
       "      <td>Sub-Saharan Africa</td>\n",
       "      <td>Lower middle income</td>\n",
       "      <td>Zimbabwe</td>\n",
       "    </tr>\n",
       "  </tbody>\n",
       "</table>\n",
       "<p>217 rows × 4 columns</p>\n",
       "</div>"
      ],
      "text/plain": [
       "    Country Code                      Region          IncomeGroup     TableName\n",
       "0            ABW   Latin America & Caribbean          High income         Aruba\n",
       "1            AFG                  South Asia           Low income   Afghanistan\n",
       "2            AGO          Sub-Saharan Africa  Lower middle income        Angola\n",
       "3            ALB       Europe & Central Asia  Upper middle income       Albania\n",
       "4            AND       Europe & Central Asia          High income       Andorra\n",
       "..           ...                         ...                  ...           ...\n",
       "258          XKX       Europe & Central Asia  Upper middle income        Kosovo\n",
       "259          YEM  Middle East & North Africa           Low income   Yemen, Rep.\n",
       "260          ZAF          Sub-Saharan Africa  Upper middle income  South Africa\n",
       "261          ZMB          Sub-Saharan Africa  Lower middle income        Zambia\n",
       "262          ZWE          Sub-Saharan Africa  Lower middle income      Zimbabwe\n",
       "\n",
       "[217 rows x 4 columns]"
      ]
     },
     "execution_count": 188,
     "metadata": {
      "tags": []
     },
     "output_type": "execute_result"
    }
   ],
   "source": [
    "df_gdp"
   ]
  },
  {
   "cell_type": "code",
   "execution_count": 189,
   "metadata": {
    "colab": {
     "base_uri": "https://localhost:8080/",
     "height": 728
    },
    "id": "ssd-EhJIELqV",
    "outputId": "e5193183-46dc-4224-c2af-05f9d8b15f47"
   },
   "outputs": [
    {
     "data": {
      "text/html": [
       "<div>\n",
       "<style scoped>\n",
       "    .dataframe tbody tr th:only-of-type {\n",
       "        vertical-align: middle;\n",
       "    }\n",
       "\n",
       "    .dataframe tbody tr th {\n",
       "        vertical-align: top;\n",
       "    }\n",
       "\n",
       "    .dataframe thead th {\n",
       "        text-align: right;\n",
       "    }\n",
       "</style>\n",
       "<table border=\"1\" class=\"dataframe\">\n",
       "  <thead>\n",
       "    <tr style=\"text-align: right;\">\n",
       "      <th></th>\n",
       "      <th>Country</th>\n",
       "      <th>Year</th>\n",
       "      <th>Causes</th>\n",
       "      <th>Both sexes_recent</th>\n",
       "      <th>Both sexes_min</th>\n",
       "      <th>Both sexes_max</th>\n",
       "      <th>Male_recent</th>\n",
       "      <th>Male_min</th>\n",
       "      <th>Male_max</th>\n",
       "      <th>Female_recent</th>\n",
       "      <th>Female_min</th>\n",
       "      <th>Female_max</th>\n",
       "      <th>Country Code</th>\n",
       "      <th>Region</th>\n",
       "      <th>IncomeGroup</th>\n",
       "      <th>TableName</th>\n",
       "    </tr>\n",
       "  </thead>\n",
       "  <tbody>\n",
       "    <tr>\n",
       "      <th>0</th>\n",
       "      <td>Afghanistan</td>\n",
       "      <td>2019</td>\n",
       "      <td>Malignant neoplasms</td>\n",
       "      <td>15565</td>\n",
       "      <td>7609</td>\n",
       "      <td>28280</td>\n",
       "      <td>7756</td>\n",
       "      <td>3898</td>\n",
       "      <td>13841</td>\n",
       "      <td>7809</td>\n",
       "      <td>3711</td>\n",
       "      <td>14439</td>\n",
       "      <td>AFG</td>\n",
       "      <td>South Asia</td>\n",
       "      <td>Low income</td>\n",
       "      <td>Afghanistan</td>\n",
       "    </tr>\n",
       "    <tr>\n",
       "      <th>1</th>\n",
       "      <td>Afghanistan</td>\n",
       "      <td>2019</td>\n",
       "      <td>Diabetes mellitus</td>\n",
       "      <td>8060</td>\n",
       "      <td>3827</td>\n",
       "      <td>14468</td>\n",
       "      <td>2612</td>\n",
       "      <td>1377</td>\n",
       "      <td>4651</td>\n",
       "      <td>5448</td>\n",
       "      <td>2451</td>\n",
       "      <td>9817</td>\n",
       "      <td>AFG</td>\n",
       "      <td>South Asia</td>\n",
       "      <td>Low income</td>\n",
       "      <td>Afghanistan</td>\n",
       "    </tr>\n",
       "    <tr>\n",
       "      <th>2</th>\n",
       "      <td>Afghanistan</td>\n",
       "      <td>2019</td>\n",
       "      <td>Cardiovascular diseases</td>\n",
       "      <td>71264</td>\n",
       "      <td>42413</td>\n",
       "      <td>108472</td>\n",
       "      <td>33793</td>\n",
       "      <td>20550</td>\n",
       "      <td>51028</td>\n",
       "      <td>37471</td>\n",
       "      <td>21863</td>\n",
       "      <td>57444</td>\n",
       "      <td>AFG</td>\n",
       "      <td>South Asia</td>\n",
       "      <td>Low income</td>\n",
       "      <td>Afghanistan</td>\n",
       "    </tr>\n",
       "    <tr>\n",
       "      <th>3</th>\n",
       "      <td>Afghanistan</td>\n",
       "      <td>2019</td>\n",
       "      <td>Chronic respiratory diseases</td>\n",
       "      <td>8285</td>\n",
       "      <td>3618</td>\n",
       "      <td>14626</td>\n",
       "      <td>3920</td>\n",
       "      <td>1877</td>\n",
       "      <td>6745</td>\n",
       "      <td>4365</td>\n",
       "      <td>1741</td>\n",
       "      <td>7881</td>\n",
       "      <td>AFG</td>\n",
       "      <td>South Asia</td>\n",
       "      <td>Low income</td>\n",
       "      <td>Afghanistan</td>\n",
       "    </tr>\n",
       "    <tr>\n",
       "      <th>4</th>\n",
       "      <td>Afghanistan</td>\n",
       "      <td>2018</td>\n",
       "      <td>Malignant neoplasms</td>\n",
       "      <td>15065</td>\n",
       "      <td>7337</td>\n",
       "      <td>27401</td>\n",
       "      <td>7534</td>\n",
       "      <td>3766</td>\n",
       "      <td>13454</td>\n",
       "      <td>7531</td>\n",
       "      <td>3570</td>\n",
       "      <td>13948</td>\n",
       "      <td>AFG</td>\n",
       "      <td>South Asia</td>\n",
       "      <td>Low income</td>\n",
       "      <td>Afghanistan</td>\n",
       "    </tr>\n",
       "    <tr>\n",
       "      <th>...</th>\n",
       "      <td>...</td>\n",
       "      <td>...</td>\n",
       "      <td>...</td>\n",
       "      <td>...</td>\n",
       "      <td>...</td>\n",
       "      <td>...</td>\n",
       "      <td>...</td>\n",
       "      <td>...</td>\n",
       "      <td>...</td>\n",
       "      <td>...</td>\n",
       "      <td>...</td>\n",
       "      <td>...</td>\n",
       "      <td>...</td>\n",
       "      <td>...</td>\n",
       "      <td>...</td>\n",
       "      <td>...</td>\n",
       "    </tr>\n",
       "    <tr>\n",
       "      <th>12795</th>\n",
       "      <td>Zimbabwe</td>\n",
       "      <td>2001</td>\n",
       "      <td>Chronic respiratory diseases</td>\n",
       "      <td>1884</td>\n",
       "      <td>1044</td>\n",
       "      <td>3046</td>\n",
       "      <td>996</td>\n",
       "      <td>603</td>\n",
       "      <td>1513</td>\n",
       "      <td>887</td>\n",
       "      <td>441</td>\n",
       "      <td>1533</td>\n",
       "      <td>ZWE</td>\n",
       "      <td>Sub-Saharan Africa</td>\n",
       "      <td>Lower middle income</td>\n",
       "      <td>Zimbabwe</td>\n",
       "    </tr>\n",
       "    <tr>\n",
       "      <th>12796</th>\n",
       "      <td>Zimbabwe</td>\n",
       "      <td>2000</td>\n",
       "      <td>Malignant neoplasms</td>\n",
       "      <td>7474</td>\n",
       "      <td>4592</td>\n",
       "      <td>11441</td>\n",
       "      <td>3838</td>\n",
       "      <td>2512</td>\n",
       "      <td>5647</td>\n",
       "      <td>3636</td>\n",
       "      <td>2080</td>\n",
       "      <td>5794</td>\n",
       "      <td>ZWE</td>\n",
       "      <td>Sub-Saharan Africa</td>\n",
       "      <td>Lower middle income</td>\n",
       "      <td>Zimbabwe</td>\n",
       "    </tr>\n",
       "    <tr>\n",
       "      <th>12797</th>\n",
       "      <td>Zimbabwe</td>\n",
       "      <td>2000</td>\n",
       "      <td>Diabetes mellitus</td>\n",
       "      <td>2039</td>\n",
       "      <td>1227</td>\n",
       "      <td>3219</td>\n",
       "      <td>810</td>\n",
       "      <td>507</td>\n",
       "      <td>1246</td>\n",
       "      <td>1229</td>\n",
       "      <td>720</td>\n",
       "      <td>1972</td>\n",
       "      <td>ZWE</td>\n",
       "      <td>Sub-Saharan Africa</td>\n",
       "      <td>Lower middle income</td>\n",
       "      <td>Zimbabwe</td>\n",
       "    </tr>\n",
       "    <tr>\n",
       "      <th>12798</th>\n",
       "      <td>Zimbabwe</td>\n",
       "      <td>2000</td>\n",
       "      <td>Cardiovascular diseases</td>\n",
       "      <td>10368</td>\n",
       "      <td>6335</td>\n",
       "      <td>16076</td>\n",
       "      <td>4425</td>\n",
       "      <td>2818</td>\n",
       "      <td>6837</td>\n",
       "      <td>5943</td>\n",
       "      <td>3516</td>\n",
       "      <td>9239</td>\n",
       "      <td>ZWE</td>\n",
       "      <td>Sub-Saharan Africa</td>\n",
       "      <td>Lower middle income</td>\n",
       "      <td>Zimbabwe</td>\n",
       "    </tr>\n",
       "    <tr>\n",
       "      <th>12799</th>\n",
       "      <td>Zimbabwe</td>\n",
       "      <td>2000</td>\n",
       "      <td>Chronic respiratory diseases</td>\n",
       "      <td>1861</td>\n",
       "      <td>1039</td>\n",
       "      <td>2993</td>\n",
       "      <td>983</td>\n",
       "      <td>605</td>\n",
       "      <td>1481</td>\n",
       "      <td>878</td>\n",
       "      <td>435</td>\n",
       "      <td>1513</td>\n",
       "      <td>ZWE</td>\n",
       "      <td>Sub-Saharan Africa</td>\n",
       "      <td>Lower middle income</td>\n",
       "      <td>Zimbabwe</td>\n",
       "    </tr>\n",
       "  </tbody>\n",
       "</table>\n",
       "<p>12800 rows × 16 columns</p>\n",
       "</div>"
      ],
      "text/plain": [
       "           Country  Year  ...          IncomeGroup    TableName\n",
       "0      Afghanistan  2019  ...           Low income  Afghanistan\n",
       "1      Afghanistan  2019  ...           Low income  Afghanistan\n",
       "2      Afghanistan  2019  ...           Low income  Afghanistan\n",
       "3      Afghanistan  2019  ...           Low income  Afghanistan\n",
       "4      Afghanistan  2018  ...           Low income  Afghanistan\n",
       "...            ...   ...  ...                  ...          ...\n",
       "12795     Zimbabwe  2001  ...  Lower middle income     Zimbabwe\n",
       "12796     Zimbabwe  2000  ...  Lower middle income     Zimbabwe\n",
       "12797     Zimbabwe  2000  ...  Lower middle income     Zimbabwe\n",
       "12798     Zimbabwe  2000  ...  Lower middle income     Zimbabwe\n",
       "12799     Zimbabwe  2000  ...  Lower middle income     Zimbabwe\n",
       "\n",
       "[12800 rows x 16 columns]"
      ]
     },
     "execution_count": 189,
     "metadata": {
      "tags": []
     },
     "output_type": "execute_result"
    }
   ],
   "source": [
    "df_rearranged.merge(df_gdp,how='inner', left_on='Country', right_on='TableName')"
   ]
  },
  {
   "cell_type": "code",
   "execution_count": 190,
   "metadata": {
    "colab": {
     "base_uri": "https://localhost:8080/"
    },
    "id": "yoOwcq92EZD9",
    "outputId": "e4b7dec5-60b2-42a6-fdc1-8a67463ea503"
   },
   "outputs": [
    {
     "data": {
      "text/plain": [
       "(14640, 12)"
      ]
     },
     "execution_count": 190,
     "metadata": {
      "tags": []
     },
     "output_type": "execute_result"
    }
   ],
   "source": [
    "df_rearranged.shape"
   ]
  },
  {
   "cell_type": "code",
   "execution_count": 191,
   "metadata": {
    "colab": {
     "base_uri": "https://localhost:8080/"
    },
    "id": "kGjjYjNDEq6k",
    "outputId": "1c7cf14b-3764-4b8b-9a7d-1379e1ac288a"
   },
   "outputs": [
    {
     "data": {
      "text/plain": [
       "array(['Afghanistan', 'Albania', 'Algeria', 'Angola',\n",
       "       'Antigua and Barbuda', 'Argentina', 'Armenia', 'Australia',\n",
       "       'Austria', 'Azerbaijan', 'Bahamas', 'Bahrain', 'Bangladesh',\n",
       "       'Barbados', 'Belarus', 'Belgium', 'Belize', 'Benin', 'Bhutan',\n",
       "       'Bolivia', 'Bosnia and Herzegovina', 'Botswana', 'Brazil',\n",
       "       'Brunei Darussalam', 'Bulgaria', 'Burkina Faso', 'Burundi',\n",
       "       'Cabo Verde', 'Cambodia', 'Cameroon', 'Canada',\n",
       "       'Central African Republic', 'Chad', 'Chile', 'China', 'Colombia',\n",
       "       'Comoros', 'Congo', 'Costa Rica', \"Côte d'Ivoire\", 'Croatia',\n",
       "       'Cuba', 'Cyprus', 'Czechia',\n",
       "       \"Democratic People's Republic of Korea\",\n",
       "       'Democratic Republic of the Congo', 'Denmark', 'Djibouti',\n",
       "       'Dominican Republic', 'Ecuador', 'Egypt', 'El Salvador',\n",
       "       'Equatorial Guinea', 'Eritrea', 'Estonia', 'Eswatini', 'Ethiopia',\n",
       "       'Fiji', 'Finland', 'France', 'Gabon', 'Gambia', 'Georgia',\n",
       "       'Germany', 'Ghana', 'Greece', 'Grenada', 'Guatemala', 'Guinea',\n",
       "       'Guinea-Bissau', 'Guyana', 'Haiti', 'Honduras', 'Hungary',\n",
       "       'Iceland', 'India', 'Indonesia', 'Iran', 'Iraq', 'Ireland',\n",
       "       'Israel', 'Italy', 'Jamaica', 'Japan', 'Jordan', 'Kazakhstan',\n",
       "       'Kenya', 'Kiribati', 'Kuwait', 'Kyrgyzstan',\n",
       "       \"Lao People's Democratic Republic\", 'Latvia', 'Lebanon', 'Lesotho',\n",
       "       'Liberia', 'Libya', 'Lithuania', 'Luxembourg', 'Madagascar',\n",
       "       'Malawi', 'Malaysia', 'Maldives', 'Mali', 'Malta', 'Mauritania',\n",
       "       'Mauritius', 'Mexico', 'Micronesia', 'Mongolia', 'Montenegro',\n",
       "       'Morocco', 'Mozambique', 'Myanmar', 'Namibia', 'Nepal',\n",
       "       'Netherlands', 'New Zealand', 'Nicaragua', 'Niger', 'Nigeria',\n",
       "       'Norway', 'Oman', 'Pakistan', 'Panama', 'Papua New Guinea',\n",
       "       'Paraguay', 'Peru', 'Philippines', 'Poland', 'Portugal', 'Qatar',\n",
       "       'Republic of Korea', 'Republic of Moldova', 'North Macedonia',\n",
       "       'Romania', 'Russian Federation', 'Rwanda', 'Saint Lucia',\n",
       "       'Saint Vincent and the Grenadines', 'Samoa',\n",
       "       'Sao Tome and Principe', 'Saudi Arabia', 'Senegal', 'Serbia',\n",
       "       'Seychelles', 'Sierra Leone', 'Singapore', 'Slovakia', 'Slovenia',\n",
       "       'Solomon Islands', 'Somalia', 'South Africa', 'South Sudan',\n",
       "       'Spain', 'Sri Lanka', 'Sudan', 'Suriname', 'Sweden', 'Switzerland',\n",
       "       'Syrian Arab Republic', 'Tajikistan', 'Thailand', 'Timor-Leste',\n",
       "       'Togo', 'Tonga', 'Trinidad and Tobago', 'Tunisia', 'Turkey',\n",
       "       'Turkmenistan', 'Uganda', 'Ukraine', 'United Arab Emirates',\n",
       "       'United Kingdom of Great Britain and Northern Ireland',\n",
       "       'United Republic of Tanzania', 'United States of America',\n",
       "       'Uruguay', 'Uzbekistan', 'Vanuatu', 'Venezuela', 'Viet Nam',\n",
       "       'Yemen', 'Zambia', 'Zimbabwe'], dtype=object)"
      ]
     },
     "execution_count": 191,
     "metadata": {
      "tags": []
     },
     "output_type": "execute_result"
    }
   ],
   "source": [
    "df_rearranged.Country.unique()"
   ]
  },
  {
   "cell_type": "code",
   "execution_count": 192,
   "metadata": {
    "colab": {
     "base_uri": "https://localhost:8080/"
    },
    "id": "HnSCs4Q6Evai",
    "outputId": "859959da-1741-40ca-cec8-32e9aa1c556d"
   },
   "outputs": [
    {
     "data": {
      "text/plain": [
       "array(['Aruba', 'Afghanistan', 'Angola', 'Albania', 'Andorra',\n",
       "       'United Arab Emirates', 'Argentina', 'Armenia', 'American Samoa',\n",
       "       'Antigua and Barbuda', 'Australia', 'Austria', 'Azerbaijan',\n",
       "       'Burundi', 'Belgium', 'Benin', 'Burkina Faso', 'Bangladesh',\n",
       "       'Bulgaria', 'Bahrain', 'Bahamas, The', 'Bosnia and Herzegovina',\n",
       "       'Belarus', 'Belize', 'Bermuda', 'Bolivia', 'Brazil', 'Barbados',\n",
       "       'Brunei Darussalam', 'Bhutan', 'Botswana',\n",
       "       'Central African Republic', 'Canada', 'Switzerland',\n",
       "       'Channel Islands', 'Chile', 'China', \"Côte d'Ivoire\", 'Cameroon',\n",
       "       'Congo, Dem. Rep.', 'Congo, Rep.', 'Colombia', 'Comoros',\n",
       "       'Cabo Verde', 'Costa Rica', 'Cuba', 'Curaçao', 'Cayman Islands',\n",
       "       'Cyprus', 'Czech Republic', 'Germany', 'Djibouti', 'Dominica',\n",
       "       'Denmark', 'Dominican Republic', 'Algeria', 'Ecuador',\n",
       "       'Egypt, Arab Rep.', 'Eritrea', 'Spain', 'Estonia', 'Ethiopia',\n",
       "       'Finland', 'Fiji', 'France', 'Faroe Islands',\n",
       "       'Micronesia, Fed. Sts.', 'Gabon', 'United Kingdom', 'Georgia',\n",
       "       'Ghana', 'Gibraltar', 'Guinea', 'Gambia, The', 'Guinea-Bissau',\n",
       "       'Equatorial Guinea', 'Greece', 'Grenada', 'Greenland', 'Guatemala',\n",
       "       'Guam', 'Guyana', 'Hong Kong SAR, China', 'Honduras', 'Croatia',\n",
       "       'Haiti', 'Hungary', 'Indonesia', 'Isle of Man', 'India', 'Ireland',\n",
       "       'Iran, Islamic Rep.', 'Iraq', 'Iceland', 'Israel', 'Italy',\n",
       "       'Jamaica', 'Jordan', 'Japan', 'Kazakhstan', 'Kenya',\n",
       "       'Kyrgyz Republic', 'Cambodia', 'Kiribati', 'St. Kitts and Nevis',\n",
       "       'Korea, Rep.', 'Kuwait', 'Lao PDR', 'Lebanon', 'Liberia', 'Libya',\n",
       "       'St. Lucia', 'Liechtenstein', 'Sri Lanka', 'Lesotho', 'Lithuania',\n",
       "       'Luxembourg', 'Latvia', 'Macao SAR, China',\n",
       "       'St. Martin (French part)', 'Morocco', 'Monaco', 'Moldova',\n",
       "       'Madagascar', 'Maldives', 'Mexico', 'Marshall Islands',\n",
       "       'North Macedonia', 'Mali', 'Malta', 'Myanmar', 'Montenegro',\n",
       "       'Mongolia', 'Northern Mariana Islands', 'Mozambique', 'Mauritania',\n",
       "       'Mauritius', 'Malawi', 'Malaysia', 'Namibia', 'New Caledonia',\n",
       "       'Niger', 'Nigeria', 'Nicaragua', 'Netherlands', 'Norway', 'Nepal',\n",
       "       'Nauru', 'New Zealand', 'Oman', 'Pakistan', 'Panama', 'Peru',\n",
       "       'Philippines', 'Palau', 'Papua New Guinea', 'Poland',\n",
       "       'Puerto Rico', \"Korea, Dem. People's Rep.\", 'Portugal', 'Paraguay',\n",
       "       'West Bank and Gaza', 'French Polynesia', 'Qatar', 'Romania',\n",
       "       'Russian Federation', 'Rwanda', 'Saudi Arabia', 'Sudan', 'Senegal',\n",
       "       'Singapore', 'Solomon Islands', 'Sierra Leone', 'El Salvador',\n",
       "       'San Marino', 'Somalia', 'Serbia', 'South Sudan',\n",
       "       'São Tomé and Principe', 'Suriname', 'Slovak Republic', 'Slovenia',\n",
       "       'Sweden', 'Eswatini', 'Sint Maarten (Dutch part)', 'Seychelles',\n",
       "       'Syrian Arab Republic', 'Turks and Caicos Islands', 'Chad', 'Togo',\n",
       "       'Thailand', 'Tajikistan', 'Turkmenistan', 'Timor-Leste', 'Tonga',\n",
       "       'Trinidad and Tobago', 'Tunisia', 'Turkey', 'Tuvalu', 'Tanzania',\n",
       "       'Uganda', 'Ukraine', 'Uruguay', 'United States', 'Uzbekistan',\n",
       "       'St. Vincent and the Grenadines', 'Venezuela, RB',\n",
       "       'British Virgin Islands', 'Virgin Islands (U.S.)', 'Vietnam',\n",
       "       'Vanuatu', 'Samoa', 'Kosovo', 'Yemen, Rep.', 'South Africa',\n",
       "       'Zambia', 'Zimbabwe'], dtype=object)"
      ]
     },
     "execution_count": 192,
     "metadata": {
      "tags": []
     },
     "output_type": "execute_result"
    }
   ],
   "source": [
    "df_gdp.TableName.unique()"
   ]
  },
  {
   "cell_type": "code",
   "execution_count": 193,
   "metadata": {
    "id": "Mje3VOd_E6Ji"
   },
   "outputs": [],
   "source": [
    "def mismatch (onlynumber=False,only_out=True):\n",
    "  out_num= 0\n",
    "  for i in df_rearranged.Country.unique():\n",
    "    if sum(df_gdp.TableName.unique()==i):\n",
    "      if not onlynumber:\n",
    "        if not only_out:\n",
    "          print('in :', i)\n",
    "    else:\n",
    "      if not onlynumber:\n",
    "        print('out :',i)\n",
    "      out_num += 1\n",
    "  print(f'{out_num} mismatch(es) between those dataframes'.upper() )"
   ]
  },
  {
   "cell_type": "code",
   "execution_count": 194,
   "metadata": {
    "colab": {
     "base_uri": "https://localhost:8080/"
    },
    "id": "wlAUrNWmGBGn",
    "outputId": "456e4694-0044-496d-abe7-275187a79950"
   },
   "outputs": [
    {
     "name": "stdout",
     "output_type": "stream",
     "text": [
      "out : Bahamas\n",
      "out : Congo\n",
      "out : Czechia\n",
      "out : Democratic People's Republic of Korea\n",
      "out : Democratic Republic of the Congo\n",
      "out : Egypt\n",
      "out : Gambia\n",
      "out : Iran\n",
      "out : Kyrgyzstan\n",
      "out : Lao People's Democratic Republic\n",
      "out : Micronesia\n",
      "out : Republic of Korea\n",
      "out : Republic of Moldova\n",
      "out : Saint Lucia\n",
      "out : Saint Vincent and the Grenadines\n",
      "out : Sao Tome and Principe\n",
      "out : Slovakia\n",
      "out : United Kingdom of Great Britain and Northern Ireland\n",
      "out : United Republic of Tanzania\n",
      "out : United States of America\n",
      "out : Venezuela\n",
      "out : Viet Nam\n",
      "out : Yemen\n",
      "23 MISMATCH(ES) BETWEEN THOSE DATAFRAMES\n"
     ]
    }
   ],
   "source": [
    "mismatch(only_out=True)"
   ]
  },
  {
   "cell_type": "code",
   "execution_count": 195,
   "metadata": {
    "colab": {
     "base_uri": "https://localhost:8080/"
    },
    "id": "dIkyxks6GJSr",
    "outputId": "e001e996-ace0-402f-85a1-06ef491561ed"
   },
   "outputs": [
    {
     "data": {
      "text/plain": [
       "0             [Aruba]\n",
       "1       [Afghanistan]\n",
       "2            [Angola]\n",
       "3           [Albania]\n",
       "4           [Andorra]\n",
       "            ...      \n",
       "258          [Kosovo]\n",
       "259    [Yemen,  Rep.]\n",
       "260    [South Africa]\n",
       "261          [Zambia]\n",
       "262        [Zimbabwe]\n",
       "Name: TableName, Length: 217, dtype: object"
      ]
     },
     "execution_count": 195,
     "metadata": {
      "tags": []
     },
     "output_type": "execute_result"
    }
   ],
   "source": [
    "df_gdp.TableName.str.split(',')"
   ]
  },
  {
   "cell_type": "code",
   "execution_count": 196,
   "metadata": {
    "colab": {
     "base_uri": "https://localhost:8080/",
     "height": 35
    },
    "id": "ct72-Ag0GqXd",
    "outputId": "cd0c4a97-2824-4f71-a25a-0e53cadb4e92"
   },
   "outputs": [
    {
     "data": {
      "application/vnd.google.colaboratory.intrinsic+json": {
       "type": "string"
      },
      "text/plain": [
       "'Aruba'"
      ]
     },
     "execution_count": 196,
     "metadata": {
      "tags": []
     },
     "output_type": "execute_result"
    }
   ],
   "source": [
    "df_gdp.TableName.str.split(',')[0][0]"
   ]
  },
  {
   "cell_type": "code",
   "execution_count": 197,
   "metadata": {
    "colab": {
     "base_uri": "https://localhost:8080/"
    },
    "id": "FJXRtDm3Gwta",
    "outputId": "ec8641a1-6561-42c9-f4ed-0fb928a708b7"
   },
   "outputs": [
    {
     "data": {
      "text/plain": [
       "0             Aruba\n",
       "1       Afghanistan\n",
       "2            Angola\n",
       "3           Albania\n",
       "4           Andorra\n",
       "           ...     \n",
       "258          Kosovo\n",
       "259           Yemen\n",
       "260    South Africa\n",
       "261          Zambia\n",
       "262        Zimbabwe\n",
       "Name: TableName, Length: 217, dtype: object"
      ]
     },
     "execution_count": 197,
     "metadata": {
      "tags": []
     },
     "output_type": "execute_result"
    }
   ],
   "source": [
    "df_gdp.TableName.transform(lambda x : x.split(',')[0])"
   ]
  },
  {
   "cell_type": "code",
   "execution_count": 198,
   "metadata": {
    "id": "1w54LNRFG6zi"
   },
   "outputs": [],
   "source": [
    "df_gdp['TableName'] = df_gdp.TableName.transform(lambda x : x.split(',')[0])"
   ]
  },
  {
   "cell_type": "code",
   "execution_count": 199,
   "metadata": {
    "colab": {
     "base_uri": "https://localhost:8080/",
     "height": 728
    },
    "id": "BnND8Y2ZHHfW",
    "outputId": "c5e00399-ef89-4088-f44d-748aeb799c7e"
   },
   "outputs": [
    {
     "data": {
      "text/html": [
       "<div>\n",
       "<style scoped>\n",
       "    .dataframe tbody tr th:only-of-type {\n",
       "        vertical-align: middle;\n",
       "    }\n",
       "\n",
       "    .dataframe tbody tr th {\n",
       "        vertical-align: top;\n",
       "    }\n",
       "\n",
       "    .dataframe thead th {\n",
       "        text-align: right;\n",
       "    }\n",
       "</style>\n",
       "<table border=\"1\" class=\"dataframe\">\n",
       "  <thead>\n",
       "    <tr style=\"text-align: right;\">\n",
       "      <th></th>\n",
       "      <th>Country</th>\n",
       "      <th>Year</th>\n",
       "      <th>Causes</th>\n",
       "      <th>Both sexes_recent</th>\n",
       "      <th>Both sexes_min</th>\n",
       "      <th>Both sexes_max</th>\n",
       "      <th>Male_recent</th>\n",
       "      <th>Male_min</th>\n",
       "      <th>Male_max</th>\n",
       "      <th>Female_recent</th>\n",
       "      <th>Female_min</th>\n",
       "      <th>Female_max</th>\n",
       "      <th>Country Code</th>\n",
       "      <th>Region</th>\n",
       "      <th>IncomeGroup</th>\n",
       "      <th>TableName</th>\n",
       "    </tr>\n",
       "  </thead>\n",
       "  <tbody>\n",
       "    <tr>\n",
       "      <th>0</th>\n",
       "      <td>Afghanistan</td>\n",
       "      <td>2019</td>\n",
       "      <td>Malignant neoplasms</td>\n",
       "      <td>15565</td>\n",
       "      <td>7609</td>\n",
       "      <td>28280</td>\n",
       "      <td>7756</td>\n",
       "      <td>3898</td>\n",
       "      <td>13841</td>\n",
       "      <td>7809</td>\n",
       "      <td>3711</td>\n",
       "      <td>14439</td>\n",
       "      <td>AFG</td>\n",
       "      <td>South Asia</td>\n",
       "      <td>Low income</td>\n",
       "      <td>Afghanistan</td>\n",
       "    </tr>\n",
       "    <tr>\n",
       "      <th>1</th>\n",
       "      <td>Afghanistan</td>\n",
       "      <td>2019</td>\n",
       "      <td>Diabetes mellitus</td>\n",
       "      <td>8060</td>\n",
       "      <td>3827</td>\n",
       "      <td>14468</td>\n",
       "      <td>2612</td>\n",
       "      <td>1377</td>\n",
       "      <td>4651</td>\n",
       "      <td>5448</td>\n",
       "      <td>2451</td>\n",
       "      <td>9817</td>\n",
       "      <td>AFG</td>\n",
       "      <td>South Asia</td>\n",
       "      <td>Low income</td>\n",
       "      <td>Afghanistan</td>\n",
       "    </tr>\n",
       "    <tr>\n",
       "      <th>2</th>\n",
       "      <td>Afghanistan</td>\n",
       "      <td>2019</td>\n",
       "      <td>Cardiovascular diseases</td>\n",
       "      <td>71264</td>\n",
       "      <td>42413</td>\n",
       "      <td>108472</td>\n",
       "      <td>33793</td>\n",
       "      <td>20550</td>\n",
       "      <td>51028</td>\n",
       "      <td>37471</td>\n",
       "      <td>21863</td>\n",
       "      <td>57444</td>\n",
       "      <td>AFG</td>\n",
       "      <td>South Asia</td>\n",
       "      <td>Low income</td>\n",
       "      <td>Afghanistan</td>\n",
       "    </tr>\n",
       "    <tr>\n",
       "      <th>3</th>\n",
       "      <td>Afghanistan</td>\n",
       "      <td>2019</td>\n",
       "      <td>Chronic respiratory diseases</td>\n",
       "      <td>8285</td>\n",
       "      <td>3618</td>\n",
       "      <td>14626</td>\n",
       "      <td>3920</td>\n",
       "      <td>1877</td>\n",
       "      <td>6745</td>\n",
       "      <td>4365</td>\n",
       "      <td>1741</td>\n",
       "      <td>7881</td>\n",
       "      <td>AFG</td>\n",
       "      <td>South Asia</td>\n",
       "      <td>Low income</td>\n",
       "      <td>Afghanistan</td>\n",
       "    </tr>\n",
       "    <tr>\n",
       "      <th>4</th>\n",
       "      <td>Afghanistan</td>\n",
       "      <td>2018</td>\n",
       "      <td>Malignant neoplasms</td>\n",
       "      <td>15065</td>\n",
       "      <td>7337</td>\n",
       "      <td>27401</td>\n",
       "      <td>7534</td>\n",
       "      <td>3766</td>\n",
       "      <td>13454</td>\n",
       "      <td>7531</td>\n",
       "      <td>3570</td>\n",
       "      <td>13948</td>\n",
       "      <td>AFG</td>\n",
       "      <td>South Asia</td>\n",
       "      <td>Low income</td>\n",
       "      <td>Afghanistan</td>\n",
       "    </tr>\n",
       "    <tr>\n",
       "      <th>...</th>\n",
       "      <td>...</td>\n",
       "      <td>...</td>\n",
       "      <td>...</td>\n",
       "      <td>...</td>\n",
       "      <td>...</td>\n",
       "      <td>...</td>\n",
       "      <td>...</td>\n",
       "      <td>...</td>\n",
       "      <td>...</td>\n",
       "      <td>...</td>\n",
       "      <td>...</td>\n",
       "      <td>...</td>\n",
       "      <td>...</td>\n",
       "      <td>...</td>\n",
       "      <td>...</td>\n",
       "      <td>...</td>\n",
       "    </tr>\n",
       "    <tr>\n",
       "      <th>13515</th>\n",
       "      <td>Zimbabwe</td>\n",
       "      <td>2001</td>\n",
       "      <td>Chronic respiratory diseases</td>\n",
       "      <td>1884</td>\n",
       "      <td>1044</td>\n",
       "      <td>3046</td>\n",
       "      <td>996</td>\n",
       "      <td>603</td>\n",
       "      <td>1513</td>\n",
       "      <td>887</td>\n",
       "      <td>441</td>\n",
       "      <td>1533</td>\n",
       "      <td>ZWE</td>\n",
       "      <td>Sub-Saharan Africa</td>\n",
       "      <td>Lower middle income</td>\n",
       "      <td>Zimbabwe</td>\n",
       "    </tr>\n",
       "    <tr>\n",
       "      <th>13516</th>\n",
       "      <td>Zimbabwe</td>\n",
       "      <td>2000</td>\n",
       "      <td>Malignant neoplasms</td>\n",
       "      <td>7474</td>\n",
       "      <td>4592</td>\n",
       "      <td>11441</td>\n",
       "      <td>3838</td>\n",
       "      <td>2512</td>\n",
       "      <td>5647</td>\n",
       "      <td>3636</td>\n",
       "      <td>2080</td>\n",
       "      <td>5794</td>\n",
       "      <td>ZWE</td>\n",
       "      <td>Sub-Saharan Africa</td>\n",
       "      <td>Lower middle income</td>\n",
       "      <td>Zimbabwe</td>\n",
       "    </tr>\n",
       "    <tr>\n",
       "      <th>13517</th>\n",
       "      <td>Zimbabwe</td>\n",
       "      <td>2000</td>\n",
       "      <td>Diabetes mellitus</td>\n",
       "      <td>2039</td>\n",
       "      <td>1227</td>\n",
       "      <td>3219</td>\n",
       "      <td>810</td>\n",
       "      <td>507</td>\n",
       "      <td>1246</td>\n",
       "      <td>1229</td>\n",
       "      <td>720</td>\n",
       "      <td>1972</td>\n",
       "      <td>ZWE</td>\n",
       "      <td>Sub-Saharan Africa</td>\n",
       "      <td>Lower middle income</td>\n",
       "      <td>Zimbabwe</td>\n",
       "    </tr>\n",
       "    <tr>\n",
       "      <th>13518</th>\n",
       "      <td>Zimbabwe</td>\n",
       "      <td>2000</td>\n",
       "      <td>Cardiovascular diseases</td>\n",
       "      <td>10368</td>\n",
       "      <td>6335</td>\n",
       "      <td>16076</td>\n",
       "      <td>4425</td>\n",
       "      <td>2818</td>\n",
       "      <td>6837</td>\n",
       "      <td>5943</td>\n",
       "      <td>3516</td>\n",
       "      <td>9239</td>\n",
       "      <td>ZWE</td>\n",
       "      <td>Sub-Saharan Africa</td>\n",
       "      <td>Lower middle income</td>\n",
       "      <td>Zimbabwe</td>\n",
       "    </tr>\n",
       "    <tr>\n",
       "      <th>13519</th>\n",
       "      <td>Zimbabwe</td>\n",
       "      <td>2000</td>\n",
       "      <td>Chronic respiratory diseases</td>\n",
       "      <td>1861</td>\n",
       "      <td>1039</td>\n",
       "      <td>2993</td>\n",
       "      <td>983</td>\n",
       "      <td>605</td>\n",
       "      <td>1481</td>\n",
       "      <td>878</td>\n",
       "      <td>435</td>\n",
       "      <td>1513</td>\n",
       "      <td>ZWE</td>\n",
       "      <td>Sub-Saharan Africa</td>\n",
       "      <td>Lower middle income</td>\n",
       "      <td>Zimbabwe</td>\n",
       "    </tr>\n",
       "  </tbody>\n",
       "</table>\n",
       "<p>13520 rows × 16 columns</p>\n",
       "</div>"
      ],
      "text/plain": [
       "           Country  Year  ...          IncomeGroup    TableName\n",
       "0      Afghanistan  2019  ...           Low income  Afghanistan\n",
       "1      Afghanistan  2019  ...           Low income  Afghanistan\n",
       "2      Afghanistan  2019  ...           Low income  Afghanistan\n",
       "3      Afghanistan  2019  ...           Low income  Afghanistan\n",
       "4      Afghanistan  2018  ...           Low income  Afghanistan\n",
       "...            ...   ...  ...                  ...          ...\n",
       "13515     Zimbabwe  2001  ...  Lower middle income     Zimbabwe\n",
       "13516     Zimbabwe  2000  ...  Lower middle income     Zimbabwe\n",
       "13517     Zimbabwe  2000  ...  Lower middle income     Zimbabwe\n",
       "13518     Zimbabwe  2000  ...  Lower middle income     Zimbabwe\n",
       "13519     Zimbabwe  2000  ...  Lower middle income     Zimbabwe\n",
       "\n",
       "[13520 rows x 16 columns]"
      ]
     },
     "execution_count": 199,
     "metadata": {
      "tags": []
     },
     "output_type": "execute_result"
    }
   ],
   "source": [
    "df_rearranged.merge(df_gdp,how='inner', left_on='Country', right_on='TableName')"
   ]
  },
  {
   "cell_type": "code",
   "execution_count": 200,
   "metadata": {
    "colab": {
     "base_uri": "https://localhost:8080/"
    },
    "id": "8BA1EV32HSBJ",
    "outputId": "fca194a5-ae95-43c0-d634-af57be73a59b"
   },
   "outputs": [
    {
     "name": "stdout",
     "output_type": "stream",
     "text": [
      "15 MISMATCH(ES) BETWEEN THOSE DATAFRAMES\n"
     ]
    }
   ],
   "source": [
    "mismatch(True)"
   ]
  },
  {
   "cell_type": "code",
   "execution_count": 201,
   "metadata": {
    "colab": {
     "base_uri": "https://localhost:8080/"
    },
    "id": "Nc4c2DWuHWid",
    "outputId": "3cfea77b-a743-4f0c-824f-40eb05454938"
   },
   "outputs": [
    {
     "name": "stdout",
     "output_type": "stream",
     "text": [
      "out : Czechia\n",
      "out : Democratic People's Republic of Korea\n",
      "out : Democratic Republic of the Congo\n",
      "out : Kyrgyzstan\n",
      "out : Lao People's Democratic Republic\n",
      "out : Republic of Korea\n",
      "out : Republic of Moldova\n",
      "out : Saint Lucia\n",
      "out : Saint Vincent and the Grenadines\n",
      "out : Sao Tome and Principe\n",
      "out : Slovakia\n",
      "out : United Kingdom of Great Britain and Northern Ireland\n",
      "out : United Republic of Tanzania\n",
      "out : United States of America\n",
      "out : Viet Nam\n",
      "15 MISMATCH(ES) BETWEEN THOSE DATAFRAMES\n"
     ]
    }
   ],
   "source": [
    "mismatch()"
   ]
  },
  {
   "cell_type": "code",
   "execution_count": 202,
   "metadata": {
    "id": "k2_YTty9Hc0-"
   },
   "outputs": [],
   "source": [
    "df_gdp.loc[(df_gdp.TableName == 'Korea')  & (df_gdp['Country Code'] == 'KOR'), 'TableName'] = 'Republic of Korea'\n",
    "df_gdp.loc[(df_gdp.TableName == 'Korea')  & (df_gdp['Country Code'] == 'PRK'), 'TableName'] = \"Democratic People's Republic of Korea\""
   ]
  },
  {
   "cell_type": "code",
   "execution_count": 203,
   "metadata": {
    "colab": {
     "base_uri": "https://localhost:8080/"
    },
    "id": "QY7jxRApIrI2",
    "outputId": "0dbb4634-279c-4827-ed42-06c94e1cd807"
   },
   "outputs": [
    {
     "name": "stdout",
     "output_type": "stream",
     "text": [
      "out : Czechia\n",
      "out : Democratic Republic of the Congo\n",
      "out : Kyrgyzstan\n",
      "out : Lao People's Democratic Republic\n",
      "out : Republic of Moldova\n",
      "out : Saint Lucia\n",
      "out : Saint Vincent and the Grenadines\n",
      "out : Sao Tome and Principe\n",
      "out : Slovakia\n",
      "out : United Kingdom of Great Britain and Northern Ireland\n",
      "out : United Republic of Tanzania\n",
      "out : United States of America\n",
      "out : Viet Nam\n",
      "13 MISMATCH(ES) BETWEEN THOSE DATAFRAMES\n"
     ]
    }
   ],
   "source": [
    "mismatch()"
   ]
  },
  {
   "cell_type": "code",
   "execution_count": 204,
   "metadata": {
    "colab": {
     "base_uri": "https://localhost:8080/"
    },
    "id": "T1nJhLSJItCN",
    "outputId": "bc57c733-2e43-4cb6-870a-7994866a3d55"
   },
   "outputs": [
    {
     "data": {
      "text/plain": [
       "array(['Afghanistan', 'Albania', 'Algeria', 'Angola',\n",
       "       'Antigua and Barbuda', 'Argentina', 'Armenia', 'Australia',\n",
       "       'Austria', 'Azerbaijan', 'Bahamas', 'Bahrain', 'Bangladesh',\n",
       "       'Barbados', 'Belarus', 'Belgium', 'Belize', 'Benin', 'Bhutan',\n",
       "       'Bolivia', 'Bosnia and Herzegovina', 'Botswana', 'Brazil',\n",
       "       'Brunei Darussalam', 'Bulgaria', 'Burkina Faso', 'Burundi',\n",
       "       'Cabo Verde', 'Cambodia', 'Cameroon', 'Canada',\n",
       "       'Central African Republic', 'Chad', 'Chile', 'China', 'Colombia',\n",
       "       'Comoros', 'Congo', 'Costa Rica', \"Côte d'Ivoire\", 'Croatia',\n",
       "       'Cuba', 'Cyprus', 'Czechia',\n",
       "       \"Democratic People's Republic of Korea\",\n",
       "       'Democratic Republic of the Congo', 'Denmark', 'Djibouti',\n",
       "       'Dominican Republic', 'Ecuador', 'Egypt', 'El Salvador',\n",
       "       'Equatorial Guinea', 'Eritrea', 'Estonia', 'Eswatini', 'Ethiopia',\n",
       "       'Fiji', 'Finland', 'France', 'Gabon', 'Gambia', 'Georgia',\n",
       "       'Germany', 'Ghana', 'Greece', 'Grenada', 'Guatemala', 'Guinea',\n",
       "       'Guinea-Bissau', 'Guyana', 'Haiti', 'Honduras', 'Hungary',\n",
       "       'Iceland', 'India', 'Indonesia', 'Iran', 'Iraq', 'Ireland',\n",
       "       'Israel', 'Italy', 'Jamaica', 'Japan', 'Jordan', 'Kazakhstan',\n",
       "       'Kenya', 'Kiribati', 'Kuwait', 'Kyrgyzstan',\n",
       "       \"Lao People's Democratic Republic\", 'Latvia', 'Lebanon', 'Lesotho',\n",
       "       'Liberia', 'Libya', 'Lithuania', 'Luxembourg', 'Madagascar',\n",
       "       'Malawi', 'Malaysia', 'Maldives', 'Mali', 'Malta', 'Mauritania',\n",
       "       'Mauritius', 'Mexico', 'Micronesia', 'Mongolia', 'Montenegro',\n",
       "       'Morocco', 'Mozambique', 'Myanmar', 'Namibia', 'Nepal',\n",
       "       'Netherlands', 'New Zealand', 'Nicaragua', 'Niger', 'Nigeria',\n",
       "       'Norway', 'Oman', 'Pakistan', 'Panama', 'Papua New Guinea',\n",
       "       'Paraguay', 'Peru', 'Philippines', 'Poland', 'Portugal', 'Qatar',\n",
       "       'Republic of Korea', 'Republic of Moldova', 'North Macedonia',\n",
       "       'Romania', 'Russian Federation', 'Rwanda', 'Saint Lucia',\n",
       "       'Saint Vincent and the Grenadines', 'Samoa',\n",
       "       'Sao Tome and Principe', 'Saudi Arabia', 'Senegal', 'Serbia',\n",
       "       'Seychelles', 'Sierra Leone', 'Singapore', 'Slovakia', 'Slovenia',\n",
       "       'Solomon Islands', 'Somalia', 'South Africa', 'South Sudan',\n",
       "       'Spain', 'Sri Lanka', 'Sudan', 'Suriname', 'Sweden', 'Switzerland',\n",
       "       'Syrian Arab Republic', 'Tajikistan', 'Thailand', 'Timor-Leste',\n",
       "       'Togo', 'Tonga', 'Trinidad and Tobago', 'Tunisia', 'Turkey',\n",
       "       'Turkmenistan', 'Uganda', 'Ukraine', 'United Arab Emirates',\n",
       "       'United Kingdom of Great Britain and Northern Ireland',\n",
       "       'United Republic of Tanzania', 'United States of America',\n",
       "       'Uruguay', 'Uzbekistan', 'Vanuatu', 'Venezuela', 'Viet Nam',\n",
       "       'Yemen', 'Zambia', 'Zimbabwe'], dtype=object)"
      ]
     },
     "execution_count": 204,
     "metadata": {
      "tags": []
     },
     "output_type": "execute_result"
    }
   ],
   "source": [
    "df_rearranged.Country.unique()"
   ]
  },
  {
   "cell_type": "code",
   "execution_count": 205,
   "metadata": {
    "colab": {
     "base_uri": "https://localhost:8080/"
    },
    "id": "813I918XI6F1",
    "outputId": "ff960bf1-d3e5-40e7-a3eb-047ec6aad7e2"
   },
   "outputs": [
    {
     "data": {
      "text/plain": [
       "array(['Aruba', 'Afghanistan', 'Angola', 'Albania', 'Andorra',\n",
       "       'United Arab Emirates', 'Argentina', 'Armenia', 'American Samoa',\n",
       "       'Antigua and Barbuda', 'Australia', 'Austria', 'Azerbaijan',\n",
       "       'Burundi', 'Belgium', 'Benin', 'Burkina Faso', 'Bangladesh',\n",
       "       'Bulgaria', 'Bahrain', 'Bahamas', 'Bosnia and Herzegovina',\n",
       "       'Belarus', 'Belize', 'Bermuda', 'Bolivia', 'Brazil', 'Barbados',\n",
       "       'Brunei Darussalam', 'Bhutan', 'Botswana',\n",
       "       'Central African Republic', 'Canada', 'Switzerland',\n",
       "       'Channel Islands', 'Chile', 'China', \"Côte d'Ivoire\", 'Cameroon',\n",
       "       'Congo', 'Colombia', 'Comoros', 'Cabo Verde', 'Costa Rica', 'Cuba',\n",
       "       'Curaçao', 'Cayman Islands', 'Cyprus', 'Czech Republic', 'Germany',\n",
       "       'Djibouti', 'Dominica', 'Denmark', 'Dominican Republic', 'Algeria',\n",
       "       'Ecuador', 'Egypt', 'Eritrea', 'Spain', 'Estonia', 'Ethiopia',\n",
       "       'Finland', 'Fiji', 'France', 'Faroe Islands', 'Micronesia',\n",
       "       'Gabon', 'United Kingdom', 'Georgia', 'Ghana', 'Gibraltar',\n",
       "       'Guinea', 'Gambia', 'Guinea-Bissau', 'Equatorial Guinea', 'Greece',\n",
       "       'Grenada', 'Greenland', 'Guatemala', 'Guam', 'Guyana',\n",
       "       'Hong Kong SAR', 'Honduras', 'Croatia', 'Haiti', 'Hungary',\n",
       "       'Indonesia', 'Isle of Man', 'India', 'Ireland', 'Iran', 'Iraq',\n",
       "       'Iceland', 'Israel', 'Italy', 'Jamaica', 'Jordan', 'Japan',\n",
       "       'Kazakhstan', 'Kenya', 'Kyrgyz Republic', 'Cambodia', 'Kiribati',\n",
       "       'St. Kitts and Nevis', 'Republic of Korea', 'Kuwait', 'Lao PDR',\n",
       "       'Lebanon', 'Liberia', 'Libya', 'St. Lucia', 'Liechtenstein',\n",
       "       'Sri Lanka', 'Lesotho', 'Lithuania', 'Luxembourg', 'Latvia',\n",
       "       'Macao SAR', 'St. Martin (French part)', 'Morocco', 'Monaco',\n",
       "       'Moldova', 'Madagascar', 'Maldives', 'Mexico', 'Marshall Islands',\n",
       "       'North Macedonia', 'Mali', 'Malta', 'Myanmar', 'Montenegro',\n",
       "       'Mongolia', 'Northern Mariana Islands', 'Mozambique', 'Mauritania',\n",
       "       'Mauritius', 'Malawi', 'Malaysia', 'Namibia', 'New Caledonia',\n",
       "       'Niger', 'Nigeria', 'Nicaragua', 'Netherlands', 'Norway', 'Nepal',\n",
       "       'Nauru', 'New Zealand', 'Oman', 'Pakistan', 'Panama', 'Peru',\n",
       "       'Philippines', 'Palau', 'Papua New Guinea', 'Poland',\n",
       "       'Puerto Rico', \"Democratic People's Republic of Korea\", 'Portugal',\n",
       "       'Paraguay', 'West Bank and Gaza', 'French Polynesia', 'Qatar',\n",
       "       'Romania', 'Russian Federation', 'Rwanda', 'Saudi Arabia', 'Sudan',\n",
       "       'Senegal', 'Singapore', 'Solomon Islands', 'Sierra Leone',\n",
       "       'El Salvador', 'San Marino', 'Somalia', 'Serbia', 'South Sudan',\n",
       "       'São Tomé and Principe', 'Suriname', 'Slovak Republic', 'Slovenia',\n",
       "       'Sweden', 'Eswatini', 'Sint Maarten (Dutch part)', 'Seychelles',\n",
       "       'Syrian Arab Republic', 'Turks and Caicos Islands', 'Chad', 'Togo',\n",
       "       'Thailand', 'Tajikistan', 'Turkmenistan', 'Timor-Leste', 'Tonga',\n",
       "       'Trinidad and Tobago', 'Tunisia', 'Turkey', 'Tuvalu', 'Tanzania',\n",
       "       'Uganda', 'Ukraine', 'Uruguay', 'United States', 'Uzbekistan',\n",
       "       'St. Vincent and the Grenadines', 'Venezuela',\n",
       "       'British Virgin Islands', 'Virgin Islands (U.S.)', 'Vietnam',\n",
       "       'Vanuatu', 'Samoa', 'Kosovo', 'Yemen', 'South Africa', 'Zambia',\n",
       "       'Zimbabwe'], dtype=object)"
      ]
     },
     "execution_count": 205,
     "metadata": {
      "tags": []
     },
     "output_type": "execute_result"
    }
   ],
   "source": [
    "df_gdp.TableName.unique()"
   ]
  },
  {
   "cell_type": "code",
   "execution_count": 206,
   "metadata": {
    "id": "gL6O2JDTJHiU"
   },
   "outputs": [],
   "source": [
    "df_rearranged['Country'] = df_rearranged.Country.transform(lambda x : x.split('(')[0].strip())"
   ]
  },
  {
   "cell_type": "code",
   "execution_count": 207,
   "metadata": {
    "colab": {
     "base_uri": "https://localhost:8080/"
    },
    "id": "PMl7dge7JlJ0",
    "outputId": "a90159f9-0081-4cf2-d876-667204953ca4"
   },
   "outputs": [
    {
     "name": "stdout",
     "output_type": "stream",
     "text": [
      "out : Czechia\n",
      "out : Democratic Republic of the Congo\n",
      "out : Kyrgyzstan\n",
      "out : Lao People's Democratic Republic\n",
      "out : Republic of Moldova\n",
      "out : Saint Lucia\n",
      "out : Saint Vincent and the Grenadines\n",
      "out : Sao Tome and Principe\n",
      "out : Slovakia\n",
      "out : United Kingdom of Great Britain and Northern Ireland\n",
      "out : United Republic of Tanzania\n",
      "out : United States of America\n",
      "out : Viet Nam\n",
      "13 MISMATCH(ES) BETWEEN THOSE DATAFRAMES\n"
     ]
    }
   ],
   "source": [
    "mismatch()"
   ]
  },
  {
   "cell_type": "code",
   "execution_count": 208,
   "metadata": {
    "colab": {
     "base_uri": "https://localhost:8080/",
     "height": 80
    },
    "id": "xhwzNfHqJnT3",
    "outputId": "cd3de14c-c061-4f5d-b5d5-e50540ed2331"
   },
   "outputs": [
    {
     "data": {
      "text/html": [
       "<div>\n",
       "<style scoped>\n",
       "    .dataframe tbody tr th:only-of-type {\n",
       "        vertical-align: middle;\n",
       "    }\n",
       "\n",
       "    .dataframe tbody tr th {\n",
       "        vertical-align: top;\n",
       "    }\n",
       "\n",
       "    .dataframe thead th {\n",
       "        text-align: right;\n",
       "    }\n",
       "</style>\n",
       "<table border=\"1\" class=\"dataframe\">\n",
       "  <thead>\n",
       "    <tr style=\"text-align: right;\">\n",
       "      <th></th>\n",
       "      <th>Country Code</th>\n",
       "      <th>Region</th>\n",
       "      <th>IncomeGroup</th>\n",
       "      <th>TableName</th>\n",
       "    </tr>\n",
       "  </thead>\n",
       "  <tbody>\n",
       "    <tr>\n",
       "      <th>218</th>\n",
       "      <td>SVK</td>\n",
       "      <td>Europe &amp; Central Asia</td>\n",
       "      <td>High income</td>\n",
       "      <td>Slovak Republic</td>\n",
       "    </tr>\n",
       "  </tbody>\n",
       "</table>\n",
       "</div>"
      ],
      "text/plain": [
       "    Country Code                 Region  IncomeGroup        TableName\n",
       "218          SVK  Europe & Central Asia  High income  Slovak Republic"
      ]
     },
     "execution_count": 208,
     "metadata": {
      "tags": []
     },
     "output_type": "execute_result"
    }
   ],
   "source": [
    "df_gdp[df_gdp.TableName.str.contains('Slovak')]"
   ]
  },
  {
   "cell_type": "code",
   "execution_count": 209,
   "metadata": {
    "id": "8I7Gwbs8J15d"
   },
   "outputs": [],
   "source": [
    "df_gdp.loc[df_gdp.TableName.str.contains('Slovak'),'TableName'] = 'Slovakia'"
   ]
  },
  {
   "cell_type": "code",
   "execution_count": 210,
   "metadata": {
    "colab": {
     "base_uri": "https://localhost:8080/"
    },
    "id": "C2vlIUfGKKH5",
    "outputId": "3d940544-b6b5-4a9e-8f3d-088a002be927"
   },
   "outputs": [
    {
     "name": "stdout",
     "output_type": "stream",
     "text": [
      "out : Czechia\n",
      "out : Democratic Republic of the Congo\n",
      "out : Kyrgyzstan\n",
      "out : Lao People's Democratic Republic\n",
      "out : Republic of Moldova\n",
      "out : Saint Lucia\n",
      "out : Saint Vincent and the Grenadines\n",
      "out : Sao Tome and Principe\n",
      "out : United Kingdom of Great Britain and Northern Ireland\n",
      "out : United Republic of Tanzania\n",
      "out : United States of America\n",
      "out : Viet Nam\n",
      "12 MISMATCH(ES) BETWEEN THOSE DATAFRAMES\n"
     ]
    }
   ],
   "source": [
    "mismatch()"
   ]
  },
  {
   "cell_type": "code",
   "execution_count": 211,
   "metadata": {
    "colab": {
     "base_uri": "https://localhost:8080/",
     "height": 49
    },
    "id": "0scUVG9gKNB-",
    "outputId": "9b5a19a9-6f8e-46b6-d4e4-b8ff8a00da55"
   },
   "outputs": [
    {
     "data": {
      "text/html": [
       "<div>\n",
       "<style scoped>\n",
       "    .dataframe tbody tr th:only-of-type {\n",
       "        vertical-align: middle;\n",
       "    }\n",
       "\n",
       "    .dataframe tbody tr th {\n",
       "        vertical-align: top;\n",
       "    }\n",
       "\n",
       "    .dataframe thead th {\n",
       "        text-align: right;\n",
       "    }\n",
       "</style>\n",
       "<table border=\"1\" class=\"dataframe\">\n",
       "  <thead>\n",
       "    <tr style=\"text-align: right;\">\n",
       "      <th></th>\n",
       "      <th>Country Code</th>\n",
       "      <th>Region</th>\n",
       "      <th>IncomeGroup</th>\n",
       "      <th>TableName</th>\n",
       "    </tr>\n",
       "  </thead>\n",
       "  <tbody>\n",
       "  </tbody>\n",
       "</table>\n",
       "</div>"
      ],
      "text/plain": [
       "Empty DataFrame\n",
       "Columns: [Country Code, Region, IncomeGroup, TableName]\n",
       "Index: []"
      ]
     },
     "execution_count": 211,
     "metadata": {
      "tags": []
     },
     "output_type": "execute_result"
    }
   ],
   "source": [
    "df_gdp[df_gdp.TableName.str.contains('Sao')]"
   ]
  },
  {
   "cell_type": "code",
   "execution_count": 212,
   "metadata": {
    "colab": {
     "base_uri": "https://localhost:8080/",
     "height": 80
    },
    "id": "zYPxPH-ZKbsk",
    "outputId": "18b19459-86b4-4b67-ff56-c9c7acc538d2"
   },
   "outputs": [
    {
     "data": {
      "text/html": [
       "<div>\n",
       "<style scoped>\n",
       "    .dataframe tbody tr th:only-of-type {\n",
       "        vertical-align: middle;\n",
       "    }\n",
       "\n",
       "    .dataframe tbody tr th {\n",
       "        vertical-align: top;\n",
       "    }\n",
       "\n",
       "    .dataframe thead th {\n",
       "        text-align: right;\n",
       "    }\n",
       "</style>\n",
       "<table border=\"1\" class=\"dataframe\">\n",
       "  <thead>\n",
       "    <tr style=\"text-align: right;\">\n",
       "      <th></th>\n",
       "      <th>Country Code</th>\n",
       "      <th>Region</th>\n",
       "      <th>IncomeGroup</th>\n",
       "      <th>TableName</th>\n",
       "    </tr>\n",
       "  </thead>\n",
       "  <tbody>\n",
       "    <tr>\n",
       "      <th>216</th>\n",
       "      <td>STP</td>\n",
       "      <td>Sub-Saharan Africa</td>\n",
       "      <td>Lower middle income</td>\n",
       "      <td>São Tomé and Principe</td>\n",
       "    </tr>\n",
       "  </tbody>\n",
       "</table>\n",
       "</div>"
      ],
      "text/plain": [
       "    Country Code  ...              TableName\n",
       "216          STP  ...  São Tomé and Principe\n",
       "\n",
       "[1 rows x 4 columns]"
      ]
     },
     "execution_count": 212,
     "metadata": {
      "tags": []
     },
     "output_type": "execute_result"
    }
   ],
   "source": [
    "df_gdp[df_gdp.TableName.str.contains('Prin')]"
   ]
  },
  {
   "cell_type": "code",
   "execution_count": 213,
   "metadata": {
    "id": "91P4Pj6OKek5"
   },
   "outputs": [],
   "source": [
    "df_gdp.loc[df_gdp.TableName.str.contains('Prin'), 'TableName'] = \"Sao Tome and Principe\""
   ]
  },
  {
   "cell_type": "code",
   "execution_count": 214,
   "metadata": {
    "colab": {
     "base_uri": "https://localhost:8080/"
    },
    "id": "QP9hALspKvm-",
    "outputId": "7bae54e0-51d4-41de-8449-1ad951fedb73"
   },
   "outputs": [
    {
     "name": "stdout",
     "output_type": "stream",
     "text": [
      "11 MISMATCH(ES) BETWEEN THOSE DATAFRAMES\n"
     ]
    }
   ],
   "source": [
    "mismatch(True)"
   ]
  },
  {
   "cell_type": "code",
   "execution_count": 215,
   "metadata": {
    "colab": {
     "base_uri": "https://localhost:8080/",
     "height": 111
    },
    "id": "TBdKhUEHKyxK",
    "outputId": "96e16db8-0209-4065-b8ec-faf9e28ae131"
   },
   "outputs": [
    {
     "data": {
      "text/html": [
       "<div>\n",
       "<style scoped>\n",
       "    .dataframe tbody tr th:only-of-type {\n",
       "        vertical-align: middle;\n",
       "    }\n",
       "\n",
       "    .dataframe tbody tr th {\n",
       "        vertical-align: top;\n",
       "    }\n",
       "\n",
       "    .dataframe thead th {\n",
       "        text-align: right;\n",
       "    }\n",
       "</style>\n",
       "<table border=\"1\" class=\"dataframe\">\n",
       "  <thead>\n",
       "    <tr style=\"text-align: right;\">\n",
       "      <th></th>\n",
       "      <th>Country Code</th>\n",
       "      <th>Region</th>\n",
       "      <th>IncomeGroup</th>\n",
       "      <th>TableName</th>\n",
       "    </tr>\n",
       "  </thead>\n",
       "  <tbody>\n",
       "    <tr>\n",
       "      <th>41</th>\n",
       "      <td>COD</td>\n",
       "      <td>Sub-Saharan Africa</td>\n",
       "      <td>Low income</td>\n",
       "      <td>Congo</td>\n",
       "    </tr>\n",
       "    <tr>\n",
       "      <th>42</th>\n",
       "      <td>COG</td>\n",
       "      <td>Sub-Saharan Africa</td>\n",
       "      <td>Lower middle income</td>\n",
       "      <td>Congo</td>\n",
       "    </tr>\n",
       "  </tbody>\n",
       "</table>\n",
       "</div>"
      ],
      "text/plain": [
       "   Country Code              Region          IncomeGroup TableName\n",
       "41          COD  Sub-Saharan Africa           Low income     Congo\n",
       "42          COG  Sub-Saharan Africa  Lower middle income     Congo"
      ]
     },
     "execution_count": 215,
     "metadata": {
      "tags": []
     },
     "output_type": "execute_result"
    }
   ],
   "source": [
    "df_gdp[df_gdp.TableName.str.contains('Congo')]"
   ]
  },
  {
   "cell_type": "code",
   "execution_count": 216,
   "metadata": {
    "id": "B-UxTnCwK44s"
   },
   "outputs": [],
   "source": [
    "df_gdp.loc[(df_gdp.TableName == 'Congo')  & (df_gdp['Country Code'] == 'COD'), 'TableName'] = \"Democratic Republic of the Congo\""
   ]
  },
  {
   "cell_type": "code",
   "execution_count": 217,
   "metadata": {
    "colab": {
     "base_uri": "https://localhost:8080/"
    },
    "id": "E5sIR1igLQ82",
    "outputId": "fffeb543-9f86-45fd-9df3-72b5e1f07a12"
   },
   "outputs": [
    {
     "name": "stdout",
     "output_type": "stream",
     "text": [
      "out : Czechia\n",
      "out : Kyrgyzstan\n",
      "out : Lao People's Democratic Republic\n",
      "out : Republic of Moldova\n",
      "out : Saint Lucia\n",
      "out : Saint Vincent and the Grenadines\n",
      "out : United Kingdom of Great Britain and Northern Ireland\n",
      "out : United Republic of Tanzania\n",
      "out : United States of America\n",
      "out : Viet Nam\n",
      "10 MISMATCH(ES) BETWEEN THOSE DATAFRAMES\n"
     ]
    }
   ],
   "source": [
    "mismatch()"
   ]
  },
  {
   "cell_type": "code",
   "execution_count": 218,
   "metadata": {
    "colab": {
     "base_uri": "https://localhost:8080/",
     "height": 80
    },
    "id": "Eza8W6W-LTxU",
    "outputId": "50ddf342-dfea-4a3a-dbb3-5f7f356dddcf"
   },
   "outputs": [
    {
     "data": {
      "text/html": [
       "<div>\n",
       "<style scoped>\n",
       "    .dataframe tbody tr th:only-of-type {\n",
       "        vertical-align: middle;\n",
       "    }\n",
       "\n",
       "    .dataframe tbody tr th {\n",
       "        vertical-align: top;\n",
       "    }\n",
       "\n",
       "    .dataframe thead th {\n",
       "        text-align: right;\n",
       "    }\n",
       "</style>\n",
       "<table border=\"1\" class=\"dataframe\">\n",
       "  <thead>\n",
       "    <tr style=\"text-align: right;\">\n",
       "      <th></th>\n",
       "      <th>Country Code</th>\n",
       "      <th>Region</th>\n",
       "      <th>IncomeGroup</th>\n",
       "      <th>TableName</th>\n",
       "    </tr>\n",
       "  </thead>\n",
       "  <tbody>\n",
       "    <tr>\n",
       "      <th>130</th>\n",
       "      <td>LCA</td>\n",
       "      <td>Latin America &amp; Caribbean</td>\n",
       "      <td>Upper middle income</td>\n",
       "      <td>St. Lucia</td>\n",
       "    </tr>\n",
       "  </tbody>\n",
       "</table>\n",
       "</div>"
      ],
      "text/plain": [
       "    Country Code                     Region          IncomeGroup  TableName\n",
       "130          LCA  Latin America & Caribbean  Upper middle income  St. Lucia"
      ]
     },
     "execution_count": 218,
     "metadata": {
      "tags": []
     },
     "output_type": "execute_result"
    }
   ],
   "source": [
    "df_gdp[df_gdp.TableName.str.contains('Lucia')]"
   ]
  },
  {
   "cell_type": "code",
   "execution_count": 219,
   "metadata": {
    "id": "LyZmh6eULcLz"
   },
   "outputs": [],
   "source": [
    "df_gdp.loc[df_gdp.TableName.str.contains('Lucia'), 'TableName'] = \"Saint Lucia\""
   ]
  },
  {
   "cell_type": "code",
   "execution_count": 220,
   "metadata": {
    "colab": {
     "base_uri": "https://localhost:8080/"
    },
    "id": "CxfIfTANLkdr",
    "outputId": "c327f8e8-e6bc-4f98-870b-3d3ba8c8c8ed"
   },
   "outputs": [
    {
     "name": "stdout",
     "output_type": "stream",
     "text": [
      "out : Czechia\n",
      "out : Kyrgyzstan\n",
      "out : Lao People's Democratic Republic\n",
      "out : Republic of Moldova\n",
      "out : Saint Vincent and the Grenadines\n",
      "out : United Kingdom of Great Britain and Northern Ireland\n",
      "out : United Republic of Tanzania\n",
      "out : United States of America\n",
      "out : Viet Nam\n",
      "9 MISMATCH(ES) BETWEEN THOSE DATAFRAMES\n"
     ]
    }
   ],
   "source": [
    "mismatch()"
   ]
  },
  {
   "cell_type": "code",
   "execution_count": 221,
   "metadata": {
    "id": "d_ggX6EGLm9q"
   },
   "outputs": [],
   "source": [
    "def finder(value = ''):\n",
    "  if df_gdp.TableName.str.contains(value).sum():\n",
    "    print(df_gdp[df_gdp.TableName.str.contains(value)])\n",
    "  return df_rearranged[df_rearranged['Country'].str.contains(value)]['Country'].values[0]\n",
    "\n"
   ]
  },
  {
   "cell_type": "code",
   "execution_count": 222,
   "metadata": {
    "colab": {
     "base_uri": "https://localhost:8080/",
     "height": 69
    },
    "id": "1Y3noyTUMXdG",
    "outputId": "f222dafe-21c5-4da6-efa0-7f3f58eff2d7"
   },
   "outputs": [
    {
     "name": "stdout",
     "output_type": "stream",
     "text": [
      "   Country Code                 Region  IncomeGroup       TableName\n",
      "52          CZE  Europe & Central Asia  High income  Czech Republic\n"
     ]
    },
    {
     "data": {
      "application/vnd.google.colaboratory.intrinsic+json": {
       "type": "string"
      },
      "text/plain": [
       "'Czechia'"
      ]
     },
     "execution_count": 222,
     "metadata": {
      "tags": []
     },
     "output_type": "execute_result"
    }
   ],
   "source": [
    "finder('Czec')"
   ]
  },
  {
   "cell_type": "code",
   "execution_count": 223,
   "metadata": {
    "id": "f7LMzpWcMbHq"
   },
   "outputs": [],
   "source": [
    "def changer(last_val ='',first_val=''):\n",
    "  df_gdp.loc[df_gdp.TableName.str.contains(first_val),'TableName'] = last_val"
   ]
  },
  {
   "cell_type": "code",
   "execution_count": 224,
   "metadata": {
    "colab": {
     "base_uri": "https://localhost:8080/"
    },
    "id": "-t9_iZ6GM1jz",
    "outputId": "d7483f27-05b4-41cf-b95e-94028a0fbe5d"
   },
   "outputs": [
    {
     "name": "stdout",
     "output_type": "stream",
     "text": [
      "   Country Code                 Region  IncomeGroup       TableName\n",
      "52          CZE  Europe & Central Asia  High income  Czech Republic\n"
     ]
    }
   ],
   "source": [
    "changer(finder('Czec'),'Czec')"
   ]
  },
  {
   "cell_type": "code",
   "execution_count": 225,
   "metadata": {
    "colab": {
     "base_uri": "https://localhost:8080/"
    },
    "id": "1pdWaHolNJLX",
    "outputId": "70f74672-f48c-4f6c-dbb1-c682a8ebe674"
   },
   "outputs": [
    {
     "name": "stdout",
     "output_type": "stream",
     "text": [
      "out : Kyrgyzstan\n",
      "out : Lao People's Democratic Republic\n",
      "out : Republic of Moldova\n",
      "out : Saint Vincent and the Grenadines\n",
      "out : United Kingdom of Great Britain and Northern Ireland\n",
      "out : United Republic of Tanzania\n",
      "out : United States of America\n",
      "out : Viet Nam\n",
      "8 MISMATCH(ES) BETWEEN THOSE DATAFRAMES\n"
     ]
    }
   ],
   "source": [
    "mismatch()"
   ]
  },
  {
   "cell_type": "code",
   "execution_count": 226,
   "metadata": {
    "colab": {
     "base_uri": "https://localhost:8080/",
     "height": 69
    },
    "id": "w5lZSN_yNL7U",
    "outputId": "f52c4d35-b766-4775-abfc-c3d1911337cc"
   },
   "outputs": [
    {
     "name": "stdout",
     "output_type": "stream",
     "text": [
      "    Country Code                 Region          IncomeGroup        TableName\n",
      "119          KGZ  Europe & Central Asia  Lower middle income  Kyrgyz Republic\n"
     ]
    },
    {
     "data": {
      "application/vnd.google.colaboratory.intrinsic+json": {
       "type": "string"
      },
      "text/plain": [
       "'Kyrgyzstan'"
      ]
     },
     "execution_count": 226,
     "metadata": {
      "tags": []
     },
     "output_type": "execute_result"
    }
   ],
   "source": [
    "finder('Kyrg')"
   ]
  },
  {
   "cell_type": "code",
   "execution_count": 227,
   "metadata": {
    "colab": {
     "base_uri": "https://localhost:8080/"
    },
    "id": "a9LKWjCHNXcn",
    "outputId": "0fa11ad0-7ff0-4e97-ceb7-4c3ab536a282"
   },
   "outputs": [
    {
     "name": "stdout",
     "output_type": "stream",
     "text": [
      "    Country Code                 Region          IncomeGroup        TableName\n",
      "119          KGZ  Europe & Central Asia  Lower middle income  Kyrgyz Republic\n"
     ]
    }
   ],
   "source": [
    "changer(finder('Kyrg'),'Kyrg')"
   ]
  },
  {
   "cell_type": "code",
   "execution_count": 228,
   "metadata": {
    "colab": {
     "base_uri": "https://localhost:8080/"
    },
    "id": "qP2zYVc9NgyB",
    "outputId": "6a25b214-8192-4d53-f695-38d9f34cab4b"
   },
   "outputs": [
    {
     "name": "stdout",
     "output_type": "stream",
     "text": [
      "out : Lao People's Democratic Republic\n",
      "out : Republic of Moldova\n",
      "out : Saint Vincent and the Grenadines\n",
      "out : United Kingdom of Great Britain and Northern Ireland\n",
      "out : United Republic of Tanzania\n",
      "out : United States of America\n",
      "out : Viet Nam\n",
      "7 MISMATCH(ES) BETWEEN THOSE DATAFRAMES\n"
     ]
    }
   ],
   "source": [
    "mismatch()"
   ]
  },
  {
   "cell_type": "code",
   "execution_count": 229,
   "metadata": {
    "colab": {
     "base_uri": "https://localhost:8080/"
    },
    "id": "n8kYy9ToNjpw",
    "outputId": "41b1ef14-aa1e-48e8-da94-53c4ce301907"
   },
   "outputs": [
    {
     "name": "stdout",
     "output_type": "stream",
     "text": [
      "    Country Code               Region          IncomeGroup TableName\n",
      "126          LAO  East Asia & Pacific  Lower middle income   Lao PDR\n"
     ]
    }
   ],
   "source": [
    "changer(finder('Lao'), 'Lao')"
   ]
  },
  {
   "cell_type": "code",
   "execution_count": 230,
   "metadata": {
    "colab": {
     "base_uri": "https://localhost:8080/"
    },
    "id": "KsDF0rDvNtPb",
    "outputId": "94f3fa32-361c-49a4-e642-56deb9c75c1f"
   },
   "outputs": [
    {
     "name": "stdout",
     "output_type": "stream",
     "text": [
      "out : Republic of Moldova\n",
      "out : Saint Vincent and the Grenadines\n",
      "out : United Kingdom of Great Britain and Northern Ireland\n",
      "out : United Republic of Tanzania\n",
      "out : United States of America\n",
      "out : Viet Nam\n",
      "6 MISMATCH(ES) BETWEEN THOSE DATAFRAMES\n"
     ]
    }
   ],
   "source": [
    "mismatch()"
   ]
  },
  {
   "cell_type": "code",
   "execution_count": 231,
   "metadata": {
    "colab": {
     "base_uri": "https://localhost:8080/"
    },
    "id": "5JWy1WxBN1iM",
    "outputId": "fd60eecc-26ed-4814-f394-14c50018943f"
   },
   "outputs": [
    {
     "name": "stdout",
     "output_type": "stream",
     "text": [
      "    Country Code                 Region          IncomeGroup TableName\n",
      "147          MDA  Europe & Central Asia  Lower middle income   Moldova\n"
     ]
    }
   ],
   "source": [
    "changer(finder('Moldova'), 'Moldova')"
   ]
  },
  {
   "cell_type": "code",
   "execution_count": 232,
   "metadata": {
    "colab": {
     "base_uri": "https://localhost:8080/"
    },
    "id": "hchCT4emN8dr",
    "outputId": "4b3c39ad-c300-4a39-be03-f1d00bf1f84f"
   },
   "outputs": [
    {
     "name": "stdout",
     "output_type": "stream",
     "text": [
      "out : Saint Vincent and the Grenadines\n",
      "out : United Kingdom of Great Britain and Northern Ireland\n",
      "out : United Republic of Tanzania\n",
      "out : United States of America\n",
      "out : Viet Nam\n",
      "5 MISMATCH(ES) BETWEEN THOSE DATAFRAMES\n"
     ]
    }
   ],
   "source": [
    "mismatch()"
   ]
  },
  {
   "cell_type": "code",
   "execution_count": 233,
   "metadata": {
    "colab": {
     "base_uri": "https://localhost:8080/"
    },
    "id": "KGDMOZm8N_L5",
    "outputId": "e6a5d625-c092-4a2b-c696-4e8f1ceb819d"
   },
   "outputs": [
    {
     "name": "stdout",
     "output_type": "stream",
     "text": [
      "    Country Code  ...                       TableName\n",
      "250          VCT  ...  St. Vincent and the Grenadines\n",
      "\n",
      "[1 rows x 4 columns]\n"
     ]
    }
   ],
   "source": [
    "changer(finder('Vincent'), 'Vincent')"
   ]
  },
  {
   "cell_type": "code",
   "execution_count": 234,
   "metadata": {
    "colab": {
     "base_uri": "https://localhost:8080/"
    },
    "id": "ngRLUc9-OISH",
    "outputId": "fd16c5d7-6e26-4789-f42d-fe24d33e870c"
   },
   "outputs": [
    {
     "name": "stdout",
     "output_type": "stream",
     "text": [
      "out : United Kingdom of Great Britain and Northern Ireland\n",
      "out : United Republic of Tanzania\n",
      "out : United States of America\n",
      "out : Viet Nam\n",
      "4 MISMATCH(ES) BETWEEN THOSE DATAFRAMES\n"
     ]
    }
   ],
   "source": [
    "mismatch()"
   ]
  },
  {
   "cell_type": "code",
   "execution_count": 235,
   "metadata": {
    "colab": {
     "base_uri": "https://localhost:8080/"
    },
    "id": "MOwITARUOOVp",
    "outputId": "d292d8c1-efe5-45e5-d28e-0efa444e949f"
   },
   "outputs": [
    {
     "name": "stdout",
     "output_type": "stream",
     "text": [
      "   Country Code                 Region  IncomeGroup       TableName\n",
      "79          GBR  Europe & Central Asia  High income  United Kingdom\n",
      "out : United Republic of Tanzania\n",
      "out : United States of America\n",
      "out : Viet Nam\n",
      "3 MISMATCH(ES) BETWEEN THOSE DATAFRAMES\n"
     ]
    }
   ],
   "source": [
    "changer(finder('Kingdom'), 'Kingdom')\n",
    "mismatch()"
   ]
  },
  {
   "cell_type": "code",
   "execution_count": 236,
   "metadata": {
    "colab": {
     "base_uri": "https://localhost:8080/"
    },
    "id": "_37jYhHEOgd2",
    "outputId": "3e0c8d04-ed70-4ce2-e8ad-18ebc597c6d5"
   },
   "outputs": [
    {
     "name": "stdout",
     "output_type": "stream",
     "text": [
      "    Country Code              Region          IncomeGroup TableName\n",
      "243          TZA  Sub-Saharan Africa  Lower middle income  Tanzania\n",
      "out : United States of America\n",
      "out : Viet Nam\n",
      "2 MISMATCH(ES) BETWEEN THOSE DATAFRAMES\n"
     ]
    }
   ],
   "source": [
    "changer(finder('Tanz'), 'Tanz')\n",
    "mismatch()"
   ]
  },
  {
   "cell_type": "code",
   "execution_count": 237,
   "metadata": {
    "colab": {
     "base_uri": "https://localhost:8080/"
    },
    "id": "4Z0dXM5gOvzL",
    "outputId": "77db7719-fc5e-442c-83b0-d42220831424"
   },
   "outputs": [
    {
     "name": "stdout",
     "output_type": "stream",
     "text": [
      "    Country Code         Region  IncomeGroup      TableName\n",
      "248          USA  North America  High income  United States\n",
      "out : Viet Nam\n",
      "1 MISMATCH(ES) BETWEEN THOSE DATAFRAMES\n"
     ]
    }
   ],
   "source": [
    "changer(finder('State'), 'State')\n",
    "mismatch()"
   ]
  },
  {
   "cell_type": "code",
   "execution_count": 238,
   "metadata": {
    "colab": {
     "base_uri": "https://localhost:8080/"
    },
    "id": "5Q3xcJPYO21d",
    "outputId": "0d96413b-9e30-4b0c-8fdf-31aadbe6ea05"
   },
   "outputs": [
    {
     "name": "stdout",
     "output_type": "stream",
     "text": [
      "    Country Code               Region          IncomeGroup TableName\n",
      "254          VNM  East Asia & Pacific  Lower middle income   Vietnam\n",
      "0 MISMATCH(ES) BETWEEN THOSE DATAFRAMES\n"
     ]
    }
   ],
   "source": [
    "changer(finder('Viet'), 'Viet')\n",
    "mismatch()"
   ]
  },
  {
   "cell_type": "code",
   "execution_count": 240,
   "metadata": {
    "colab": {
     "base_uri": "https://localhost:8080/"
    },
    "id": "bJhKj1-3O7DU",
    "outputId": "d8045362-d10c-4433-b430-e1a0f988f249"
   },
   "outputs": [
    {
     "name": "stdout",
     "output_type": "stream",
     "text": [
      "in : Afghanistan\n",
      "in : Albania\n",
      "in : Algeria\n",
      "in : Angola\n",
      "in : Antigua and Barbuda\n",
      "in : Argentina\n",
      "in : Armenia\n",
      "in : Australia\n",
      "in : Austria\n",
      "in : Azerbaijan\n",
      "in : Bahamas\n",
      "in : Bahrain\n",
      "in : Bangladesh\n",
      "in : Barbados\n",
      "in : Belarus\n",
      "in : Belgium\n",
      "in : Belize\n",
      "in : Benin\n",
      "in : Bhutan\n",
      "in : Bolivia\n",
      "in : Bosnia and Herzegovina\n",
      "in : Botswana\n",
      "in : Brazil\n",
      "in : Brunei Darussalam\n",
      "in : Bulgaria\n",
      "in : Burkina Faso\n",
      "in : Burundi\n",
      "in : Cabo Verde\n",
      "in : Cambodia\n",
      "in : Cameroon\n",
      "in : Canada\n",
      "in : Central African Republic\n",
      "in : Chad\n",
      "in : Chile\n",
      "in : China\n",
      "in : Colombia\n",
      "in : Comoros\n",
      "in : Congo\n",
      "in : Costa Rica\n",
      "in : Côte d'Ivoire\n",
      "in : Croatia\n",
      "in : Cuba\n",
      "in : Cyprus\n",
      "in : Czechia\n",
      "in : Democratic People's Republic of Korea\n",
      "in : Democratic Republic of the Congo\n",
      "in : Denmark\n",
      "in : Djibouti\n",
      "in : Dominican Republic\n",
      "in : Ecuador\n",
      "in : Egypt\n",
      "in : El Salvador\n",
      "in : Equatorial Guinea\n",
      "in : Eritrea\n",
      "in : Estonia\n",
      "in : Eswatini\n",
      "in : Ethiopia\n",
      "in : Fiji\n",
      "in : Finland\n",
      "in : France\n",
      "in : Gabon\n",
      "in : Gambia\n",
      "in : Georgia\n",
      "in : Germany\n",
      "in : Ghana\n",
      "in : Greece\n",
      "in : Grenada\n",
      "in : Guatemala\n",
      "in : Guinea\n",
      "in : Guinea-Bissau\n",
      "in : Guyana\n",
      "in : Haiti\n",
      "in : Honduras\n",
      "in : Hungary\n",
      "in : Iceland\n",
      "in : India\n",
      "in : Indonesia\n",
      "in : Iran\n",
      "in : Iraq\n",
      "in : Ireland\n",
      "in : Israel\n",
      "in : Italy\n",
      "in : Jamaica\n",
      "in : Japan\n",
      "in : Jordan\n",
      "in : Kazakhstan\n",
      "in : Kenya\n",
      "in : Kiribati\n",
      "in : Kuwait\n",
      "in : Kyrgyzstan\n",
      "in : Lao People's Democratic Republic\n",
      "in : Latvia\n",
      "in : Lebanon\n",
      "in : Lesotho\n",
      "in : Liberia\n",
      "in : Libya\n",
      "in : Lithuania\n",
      "in : Luxembourg\n",
      "in : Madagascar\n",
      "in : Malawi\n",
      "in : Malaysia\n",
      "in : Maldives\n",
      "in : Mali\n",
      "in : Malta\n",
      "in : Mauritania\n",
      "in : Mauritius\n",
      "in : Mexico\n",
      "in : Micronesia\n",
      "in : Mongolia\n",
      "in : Montenegro\n",
      "in : Morocco\n",
      "in : Mozambique\n",
      "in : Myanmar\n",
      "in : Namibia\n",
      "in : Nepal\n",
      "in : Netherlands\n",
      "in : New Zealand\n",
      "in : Nicaragua\n",
      "in : Niger\n",
      "in : Nigeria\n",
      "in : Norway\n",
      "in : Oman\n",
      "in : Pakistan\n",
      "in : Panama\n",
      "in : Papua New Guinea\n",
      "in : Paraguay\n",
      "in : Peru\n",
      "in : Philippines\n",
      "in : Poland\n",
      "in : Portugal\n",
      "in : Qatar\n",
      "in : Republic of Korea\n",
      "in : Republic of Moldova\n",
      "in : North Macedonia\n",
      "in : Romania\n",
      "in : Russian Federation\n",
      "in : Rwanda\n",
      "in : Saint Lucia\n",
      "in : Saint Vincent and the Grenadines\n",
      "in : Samoa\n",
      "in : Sao Tome and Principe\n",
      "in : Saudi Arabia\n",
      "in : Senegal\n",
      "in : Serbia\n",
      "in : Seychelles\n",
      "in : Sierra Leone\n",
      "in : Singapore\n",
      "in : Slovakia\n",
      "in : Slovenia\n",
      "in : Solomon Islands\n",
      "in : Somalia\n",
      "in : South Africa\n",
      "in : South Sudan\n",
      "in : Spain\n",
      "in : Sri Lanka\n",
      "in : Sudan\n",
      "in : Suriname\n",
      "in : Sweden\n",
      "in : Switzerland\n",
      "in : Syrian Arab Republic\n",
      "in : Tajikistan\n",
      "in : Thailand\n",
      "in : Timor-Leste\n",
      "in : Togo\n",
      "in : Tonga\n",
      "in : Trinidad and Tobago\n",
      "in : Tunisia\n",
      "in : Turkey\n",
      "in : Turkmenistan\n",
      "in : Uganda\n",
      "in : Ukraine\n",
      "in : United Arab Emirates\n",
      "in : United Kingdom of Great Britain and Northern Ireland\n",
      "in : United Republic of Tanzania\n",
      "in : United States of America\n",
      "in : Uruguay\n",
      "in : Uzbekistan\n",
      "in : Vanuatu\n",
      "in : Venezuela\n",
      "in : Viet Nam\n",
      "in : Yemen\n",
      "in : Zambia\n",
      "in : Zimbabwe\n",
      "0 MISMATCH(ES) BETWEEN THOSE DATAFRAMES\n"
     ]
    }
   ],
   "source": [
    "mismatch(only_out=False)"
   ]
  },
  {
   "cell_type": "code",
   "execution_count": 241,
   "metadata": {
    "colab": {
     "base_uri": "https://localhost:8080/",
     "height": 728
    },
    "id": "6NeX3Y7zPbyF",
    "outputId": "3e2f0d5e-14c1-45d7-ce56-c509cd7dc523"
   },
   "outputs": [
    {
     "data": {
      "text/html": [
       "<div>\n",
       "<style scoped>\n",
       "    .dataframe tbody tr th:only-of-type {\n",
       "        vertical-align: middle;\n",
       "    }\n",
       "\n",
       "    .dataframe tbody tr th {\n",
       "        vertical-align: top;\n",
       "    }\n",
       "\n",
       "    .dataframe thead th {\n",
       "        text-align: right;\n",
       "    }\n",
       "</style>\n",
       "<table border=\"1\" class=\"dataframe\">\n",
       "  <thead>\n",
       "    <tr style=\"text-align: right;\">\n",
       "      <th></th>\n",
       "      <th>Country</th>\n",
       "      <th>Year</th>\n",
       "      <th>Causes</th>\n",
       "      <th>Both sexes_recent</th>\n",
       "      <th>Both sexes_min</th>\n",
       "      <th>Both sexes_max</th>\n",
       "      <th>Male_recent</th>\n",
       "      <th>Male_min</th>\n",
       "      <th>Male_max</th>\n",
       "      <th>Female_recent</th>\n",
       "      <th>Female_min</th>\n",
       "      <th>Female_max</th>\n",
       "      <th>Country Code</th>\n",
       "      <th>Region</th>\n",
       "      <th>IncomeGroup</th>\n",
       "      <th>TableName</th>\n",
       "    </tr>\n",
       "  </thead>\n",
       "  <tbody>\n",
       "    <tr>\n",
       "      <th>0</th>\n",
       "      <td>Afghanistan</td>\n",
       "      <td>2019</td>\n",
       "      <td>Malignant neoplasms</td>\n",
       "      <td>15565</td>\n",
       "      <td>7609</td>\n",
       "      <td>28280</td>\n",
       "      <td>7756</td>\n",
       "      <td>3898</td>\n",
       "      <td>13841</td>\n",
       "      <td>7809</td>\n",
       "      <td>3711</td>\n",
       "      <td>14439</td>\n",
       "      <td>AFG</td>\n",
       "      <td>South Asia</td>\n",
       "      <td>Low income</td>\n",
       "      <td>Afghanistan</td>\n",
       "    </tr>\n",
       "    <tr>\n",
       "      <th>1</th>\n",
       "      <td>Afghanistan</td>\n",
       "      <td>2019</td>\n",
       "      <td>Diabetes mellitus</td>\n",
       "      <td>8060</td>\n",
       "      <td>3827</td>\n",
       "      <td>14468</td>\n",
       "      <td>2612</td>\n",
       "      <td>1377</td>\n",
       "      <td>4651</td>\n",
       "      <td>5448</td>\n",
       "      <td>2451</td>\n",
       "      <td>9817</td>\n",
       "      <td>AFG</td>\n",
       "      <td>South Asia</td>\n",
       "      <td>Low income</td>\n",
       "      <td>Afghanistan</td>\n",
       "    </tr>\n",
       "    <tr>\n",
       "      <th>2</th>\n",
       "      <td>Afghanistan</td>\n",
       "      <td>2019</td>\n",
       "      <td>Cardiovascular diseases</td>\n",
       "      <td>71264</td>\n",
       "      <td>42413</td>\n",
       "      <td>108472</td>\n",
       "      <td>33793</td>\n",
       "      <td>20550</td>\n",
       "      <td>51028</td>\n",
       "      <td>37471</td>\n",
       "      <td>21863</td>\n",
       "      <td>57444</td>\n",
       "      <td>AFG</td>\n",
       "      <td>South Asia</td>\n",
       "      <td>Low income</td>\n",
       "      <td>Afghanistan</td>\n",
       "    </tr>\n",
       "    <tr>\n",
       "      <th>3</th>\n",
       "      <td>Afghanistan</td>\n",
       "      <td>2019</td>\n",
       "      <td>Chronic respiratory diseases</td>\n",
       "      <td>8285</td>\n",
       "      <td>3618</td>\n",
       "      <td>14626</td>\n",
       "      <td>3920</td>\n",
       "      <td>1877</td>\n",
       "      <td>6745</td>\n",
       "      <td>4365</td>\n",
       "      <td>1741</td>\n",
       "      <td>7881</td>\n",
       "      <td>AFG</td>\n",
       "      <td>South Asia</td>\n",
       "      <td>Low income</td>\n",
       "      <td>Afghanistan</td>\n",
       "    </tr>\n",
       "    <tr>\n",
       "      <th>4</th>\n",
       "      <td>Afghanistan</td>\n",
       "      <td>2018</td>\n",
       "      <td>Malignant neoplasms</td>\n",
       "      <td>15065</td>\n",
       "      <td>7337</td>\n",
       "      <td>27401</td>\n",
       "      <td>7534</td>\n",
       "      <td>3766</td>\n",
       "      <td>13454</td>\n",
       "      <td>7531</td>\n",
       "      <td>3570</td>\n",
       "      <td>13948</td>\n",
       "      <td>AFG</td>\n",
       "      <td>South Asia</td>\n",
       "      <td>Low income</td>\n",
       "      <td>Afghanistan</td>\n",
       "    </tr>\n",
       "    <tr>\n",
       "      <th>...</th>\n",
       "      <td>...</td>\n",
       "      <td>...</td>\n",
       "      <td>...</td>\n",
       "      <td>...</td>\n",
       "      <td>...</td>\n",
       "      <td>...</td>\n",
       "      <td>...</td>\n",
       "      <td>...</td>\n",
       "      <td>...</td>\n",
       "      <td>...</td>\n",
       "      <td>...</td>\n",
       "      <td>...</td>\n",
       "      <td>...</td>\n",
       "      <td>...</td>\n",
       "      <td>...</td>\n",
       "      <td>...</td>\n",
       "    </tr>\n",
       "    <tr>\n",
       "      <th>14635</th>\n",
       "      <td>Zimbabwe</td>\n",
       "      <td>2001</td>\n",
       "      <td>Chronic respiratory diseases</td>\n",
       "      <td>1884</td>\n",
       "      <td>1044</td>\n",
       "      <td>3046</td>\n",
       "      <td>996</td>\n",
       "      <td>603</td>\n",
       "      <td>1513</td>\n",
       "      <td>887</td>\n",
       "      <td>441</td>\n",
       "      <td>1533</td>\n",
       "      <td>ZWE</td>\n",
       "      <td>Sub-Saharan Africa</td>\n",
       "      <td>Lower middle income</td>\n",
       "      <td>Zimbabwe</td>\n",
       "    </tr>\n",
       "    <tr>\n",
       "      <th>14636</th>\n",
       "      <td>Zimbabwe</td>\n",
       "      <td>2000</td>\n",
       "      <td>Malignant neoplasms</td>\n",
       "      <td>7474</td>\n",
       "      <td>4592</td>\n",
       "      <td>11441</td>\n",
       "      <td>3838</td>\n",
       "      <td>2512</td>\n",
       "      <td>5647</td>\n",
       "      <td>3636</td>\n",
       "      <td>2080</td>\n",
       "      <td>5794</td>\n",
       "      <td>ZWE</td>\n",
       "      <td>Sub-Saharan Africa</td>\n",
       "      <td>Lower middle income</td>\n",
       "      <td>Zimbabwe</td>\n",
       "    </tr>\n",
       "    <tr>\n",
       "      <th>14637</th>\n",
       "      <td>Zimbabwe</td>\n",
       "      <td>2000</td>\n",
       "      <td>Diabetes mellitus</td>\n",
       "      <td>2039</td>\n",
       "      <td>1227</td>\n",
       "      <td>3219</td>\n",
       "      <td>810</td>\n",
       "      <td>507</td>\n",
       "      <td>1246</td>\n",
       "      <td>1229</td>\n",
       "      <td>720</td>\n",
       "      <td>1972</td>\n",
       "      <td>ZWE</td>\n",
       "      <td>Sub-Saharan Africa</td>\n",
       "      <td>Lower middle income</td>\n",
       "      <td>Zimbabwe</td>\n",
       "    </tr>\n",
       "    <tr>\n",
       "      <th>14638</th>\n",
       "      <td>Zimbabwe</td>\n",
       "      <td>2000</td>\n",
       "      <td>Cardiovascular diseases</td>\n",
       "      <td>10368</td>\n",
       "      <td>6335</td>\n",
       "      <td>16076</td>\n",
       "      <td>4425</td>\n",
       "      <td>2818</td>\n",
       "      <td>6837</td>\n",
       "      <td>5943</td>\n",
       "      <td>3516</td>\n",
       "      <td>9239</td>\n",
       "      <td>ZWE</td>\n",
       "      <td>Sub-Saharan Africa</td>\n",
       "      <td>Lower middle income</td>\n",
       "      <td>Zimbabwe</td>\n",
       "    </tr>\n",
       "    <tr>\n",
       "      <th>14639</th>\n",
       "      <td>Zimbabwe</td>\n",
       "      <td>2000</td>\n",
       "      <td>Chronic respiratory diseases</td>\n",
       "      <td>1861</td>\n",
       "      <td>1039</td>\n",
       "      <td>2993</td>\n",
       "      <td>983</td>\n",
       "      <td>605</td>\n",
       "      <td>1481</td>\n",
       "      <td>878</td>\n",
       "      <td>435</td>\n",
       "      <td>1513</td>\n",
       "      <td>ZWE</td>\n",
       "      <td>Sub-Saharan Africa</td>\n",
       "      <td>Lower middle income</td>\n",
       "      <td>Zimbabwe</td>\n",
       "    </tr>\n",
       "  </tbody>\n",
       "</table>\n",
       "<p>14640 rows × 16 columns</p>\n",
       "</div>"
      ],
      "text/plain": [
       "           Country  Year  ...          IncomeGroup    TableName\n",
       "0      Afghanistan  2019  ...           Low income  Afghanistan\n",
       "1      Afghanistan  2019  ...           Low income  Afghanistan\n",
       "2      Afghanistan  2019  ...           Low income  Afghanistan\n",
       "3      Afghanistan  2019  ...           Low income  Afghanistan\n",
       "4      Afghanistan  2018  ...           Low income  Afghanistan\n",
       "...            ...   ...  ...                  ...          ...\n",
       "14635     Zimbabwe  2001  ...  Lower middle income     Zimbabwe\n",
       "14636     Zimbabwe  2000  ...  Lower middle income     Zimbabwe\n",
       "14637     Zimbabwe  2000  ...  Lower middle income     Zimbabwe\n",
       "14638     Zimbabwe  2000  ...  Lower middle income     Zimbabwe\n",
       "14639     Zimbabwe  2000  ...  Lower middle income     Zimbabwe\n",
       "\n",
       "[14640 rows x 16 columns]"
      ]
     },
     "execution_count": 241,
     "metadata": {
      "tags": []
     },
     "output_type": "execute_result"
    }
   ],
   "source": [
    "df_rearranged.merge(df_gdp,how='inner', left_on='Country', right_on='TableName')"
   ]
  },
  {
   "cell_type": "code",
   "execution_count": 242,
   "metadata": {
    "colab": {
     "base_uri": "https://localhost:8080/"
    },
    "id": "vxPbZd9jPqgW",
    "outputId": "e9add0ec-1e19-409e-e440-25c6d645ff39"
   },
   "outputs": [
    {
     "data": {
      "text/plain": [
       "(14640, 12)"
      ]
     },
     "execution_count": 242,
     "metadata": {
      "tags": []
     },
     "output_type": "execute_result"
    }
   ],
   "source": [
    "df_rearanged.shape"
   ]
  },
  {
   "cell_type": "code",
   "execution_count": 243,
   "metadata": {
    "id": "qYL_9H0QPvsw"
   },
   "outputs": [],
   "source": [
    "df_merged = df_rearranged.merge(df_gdp,how='inner', left_on='Country', right_on='TableName')"
   ]
  },
  {
   "cell_type": "code",
   "execution_count": 244,
   "metadata": {
    "id": "AzXt27etP2oo"
   },
   "outputs": [],
   "source": [
    "df_merged.drop('TableName', axis =1, inplace=True)"
   ]
  },
  {
   "cell_type": "code",
   "execution_count": 248,
   "metadata": {
    "colab": {
     "base_uri": "https://localhost:8080/",
     "height": 204
    },
    "id": "4VXZSghwQFE1",
    "outputId": "5435f1fc-4cfc-432b-b6ef-8223fb4dcf06"
   },
   "outputs": [
    {
     "data": {
      "text/html": [
       "<div>\n",
       "<style scoped>\n",
       "    .dataframe tbody tr th:only-of-type {\n",
       "        vertical-align: middle;\n",
       "    }\n",
       "\n",
       "    .dataframe tbody tr th {\n",
       "        vertical-align: top;\n",
       "    }\n",
       "\n",
       "    .dataframe thead th {\n",
       "        text-align: right;\n",
       "    }\n",
       "</style>\n",
       "<table border=\"1\" class=\"dataframe\">\n",
       "  <thead>\n",
       "    <tr style=\"text-align: right;\">\n",
       "      <th></th>\n",
       "      <th>Male_recent</th>\n",
       "    </tr>\n",
       "    <tr>\n",
       "      <th>IncomeGroup</th>\n",
       "      <th></th>\n",
       "    </tr>\n",
       "  </thead>\n",
       "  <tbody>\n",
       "    <tr>\n",
       "      <th>Low income</th>\n",
       "      <td>12,442</td>\n",
       "    </tr>\n",
       "    <tr>\n",
       "      <th>High income</th>\n",
       "      <td>29,623</td>\n",
       "    </tr>\n",
       "    <tr>\n",
       "      <th>Lower middle income</th>\n",
       "      <td>51,360</td>\n",
       "    </tr>\n",
       "    <tr>\n",
       "      <th>Upper middle income</th>\n",
       "      <td>73,388</td>\n",
       "    </tr>\n",
       "  </tbody>\n",
       "</table>\n",
       "</div>"
      ],
      "text/plain": [
       "                     Male_recent\n",
       "IncomeGroup                     \n",
       "Low income                12,442\n",
       "High income               29,623\n",
       "Lower middle income       51,360\n",
       "Upper middle income       73,388"
      ]
     },
     "execution_count": 248,
     "metadata": {
      "tags": []
     },
     "output_type": "execute_result"
    }
   ],
   "source": [
    "df_merged.groupby(by=['IncomeGroup', 'Causes']) [['Male_recent']].mean().xs('Cardiovascular diseases',level=1).sort_values('Male_recent')"
   ]
  },
  {
   "cell_type": "code",
   "execution_count": 251,
   "metadata": {
    "colab": {
     "base_uri": "https://localhost:8080/",
     "height": 204
    },
    "id": "oeRr9rlLQZhY",
    "outputId": "ce739fb0-b31e-4817-e459-855c0065e678"
   },
   "outputs": [
    {
     "data": {
      "text/html": [
       "<div>\n",
       "<style scoped>\n",
       "    .dataframe tbody tr th:only-of-type {\n",
       "        vertical-align: middle;\n",
       "    }\n",
       "\n",
       "    .dataframe tbody tr th {\n",
       "        vertical-align: top;\n",
       "    }\n",
       "\n",
       "    .dataframe thead th {\n",
       "        text-align: right;\n",
       "    }\n",
       "</style>\n",
       "<table border=\"1\" class=\"dataframe\">\n",
       "  <thead>\n",
       "    <tr style=\"text-align: right;\">\n",
       "      <th></th>\n",
       "      <th>Female_recent</th>\n",
       "    </tr>\n",
       "    <tr>\n",
       "      <th>IncomeGroup</th>\n",
       "      <th></th>\n",
       "    </tr>\n",
       "  </thead>\n",
       "  <tbody>\n",
       "    <tr>\n",
       "      <th>Low income</th>\n",
       "      <td>12,772</td>\n",
       "    </tr>\n",
       "    <tr>\n",
       "      <th>High income</th>\n",
       "      <td>33,624</td>\n",
       "    </tr>\n",
       "    <tr>\n",
       "      <th>Lower middle income</th>\n",
       "      <td>44,423</td>\n",
       "    </tr>\n",
       "    <tr>\n",
       "      <th>Upper middle income</th>\n",
       "      <td>66,784</td>\n",
       "    </tr>\n",
       "  </tbody>\n",
       "</table>\n",
       "</div>"
      ],
      "text/plain": [
       "                     Female_recent\n",
       "IncomeGroup                       \n",
       "Low income                  12,772\n",
       "High income                 33,624\n",
       "Lower middle income         44,423\n",
       "Upper middle income         66,784"
      ]
     },
     "execution_count": 251,
     "metadata": {
      "tags": []
     },
     "output_type": "execute_result"
    }
   ],
   "source": [
    "df_merged.groupby(by=['IncomeGroup', 'Causes']) [['Female_recent']].mean().xs('Cardiovascular diseases',level=1).sort_values('Female_recent')"
   ]
  },
  {
   "cell_type": "code",
   "execution_count": 252,
   "metadata": {
    "colab": {
     "base_uri": "https://localhost:8080/",
     "height": 282
    },
    "id": "lPgU0fbqRLWN",
    "outputId": "32fd5a42-e2a6-40a8-b16d-f594dd67db23"
   },
   "outputs": [
    {
     "data": {
      "text/plain": [
       "<matplotlib.axes._subplots.AxesSubplot at 0x7f85afa47b90>"
      ]
     },
     "execution_count": 252,
     "metadata": {
      "tags": []
     },
     "output_type": "execute_result"
    },
    {
     "data": {
      "image/png": "[encoded data removed]",
      "text/plain": [
       "<Figure size 432x288 with 1 Axes>"
      ]
     },
     "metadata": {
      "needs_background": "light",
      "tags": []
     },
     "output_type": "display_data"
    }
   ],
   "source": [
    "df_merged.groupby(by=['IncomeGroup', 'Causes']) [['Male_recent']].median().sort_values('Male_recent').plot.barh()"
   ]
  },
  {
   "cell_type": "code",
   "execution_count": 253,
   "metadata": {
    "colab": {
     "base_uri": "https://localhost:8080/",
     "height": 282
    },
    "id": "znJeS6nVRoAI",
    "outputId": "edd79aaf-2aa4-44c6-db87-223c5c91a430"
   },
   "outputs": [
    {
     "data": {
      "text/plain": [
       "<matplotlib.axes._subplots.AxesSubplot at 0x7f85b01a92d0>"
      ]
     },
     "execution_count": 253,
     "metadata": {
      "tags": []
     },
     "output_type": "execute_result"
    },
    {
     "data": {
      "image/png": "[encoded data removed]",
      "text/plain": [
       "<Figure size 432x288 with 1 Axes>"
      ]
     },
     "metadata": {
      "needs_background": "light",
      "tags": []
     },
     "output_type": "display_data"
    }
   ],
   "source": [
    "df_merged.groupby(by=['IncomeGroup', 'Causes']) [['Female_recent']].median().sort_values('Female_recent').plot.barh()"
   ]
  },
  {
   "cell_type": "code",
   "execution_count": 255,
   "metadata": {
    "colab": {
     "base_uri": "https://localhost:8080/"
    },
    "id": "s6RvFXoZS2eA",
    "outputId": "8d82d362-7813-4e40-89d7-bc8f222f7bed"
   },
   "outputs": [
    {
     "data": {
      "text/plain": [
       "Index(['Country', 'Year', 'Causes', 'Both sexes_recent', 'Both sexes_min',\n",
       "       'Both sexes_max', 'Male_recent', 'Male_min', 'Male_max',\n",
       "       'Female_recent', 'Female_min', 'Female_max', 'Country Code', 'Region',\n",
       "       'IncomeGroup'],\n",
       "      dtype='object')"
      ]
     },
     "execution_count": 255,
     "metadata": {
      "tags": []
     },
     "output_type": "execute_result"
    }
   ],
   "source": [
    "df_merged.columns"
   ]
  },
  {
   "cell_type": "code",
   "execution_count": 256,
   "metadata": {
    "id": "dGupHXlESiXD"
   },
   "outputs": [],
   "source": [
    "df_merged_pivot = pd.pivot_table(df_merged,values = ['Both sexes_recent', 'Both sexes_min',\n",
    "       'Both sexes_max', 'Male_recent', 'Male_min', 'Male_max', 'Female_recent', 'Female_min', 'Female_max'], index = ['IncomeGroup',\n",
    "        'Region', 'Country', 'Year', 'Causes'] )"
   ]
  },
  {
   "cell_type": "code",
   "execution_count": 257,
   "metadata": {
    "colab": {
     "base_uri": "https://localhost:8080/",
     "height": 671
    },
    "id": "y-b8Y3M5Tgjt",
    "outputId": "3d65ce48-c56d-4244-e2bf-095ac290f050"
   },
   "outputs": [
    {
     "data": {
      "text/html": [
       "<div>\n",
       "<style scoped>\n",
       "    .dataframe tbody tr th:only-of-type {\n",
       "        vertical-align: middle;\n",
       "    }\n",
       "\n",
       "    .dataframe tbody tr th {\n",
       "        vertical-align: top;\n",
       "    }\n",
       "\n",
       "    .dataframe thead th {\n",
       "        text-align: right;\n",
       "    }\n",
       "</style>\n",
       "<table border=\"1\" class=\"dataframe\">\n",
       "  <thead>\n",
       "    <tr style=\"text-align: right;\">\n",
       "      <th></th>\n",
       "      <th></th>\n",
       "      <th></th>\n",
       "      <th></th>\n",
       "      <th></th>\n",
       "      <th>Both sexes_max</th>\n",
       "      <th>Both sexes_min</th>\n",
       "      <th>Both sexes_recent</th>\n",
       "      <th>Female_max</th>\n",
       "      <th>Female_min</th>\n",
       "      <th>Female_recent</th>\n",
       "      <th>Male_max</th>\n",
       "      <th>Male_min</th>\n",
       "      <th>Male_recent</th>\n",
       "    </tr>\n",
       "    <tr>\n",
       "      <th>IncomeGroup</th>\n",
       "      <th>Region</th>\n",
       "      <th>Country</th>\n",
       "      <th>Year</th>\n",
       "      <th>Causes</th>\n",
       "      <th></th>\n",
       "      <th></th>\n",
       "      <th></th>\n",
       "      <th></th>\n",
       "      <th></th>\n",
       "      <th></th>\n",
       "      <th></th>\n",
       "      <th></th>\n",
       "      <th></th>\n",
       "    </tr>\n",
       "  </thead>\n",
       "  <tbody>\n",
       "    <tr>\n",
       "      <th rowspan=\"5\" valign=\"top\">High income</th>\n",
       "      <th rowspan=\"5\" valign=\"top\">East Asia &amp; Pacific</th>\n",
       "      <th rowspan=\"5\" valign=\"top\">Australia</th>\n",
       "      <th rowspan=\"4\" valign=\"top\">2000</th>\n",
       "      <th>Cardiovascular diseases</th>\n",
       "      <td>54254</td>\n",
       "      <td>40271</td>\n",
       "      <td>47663</td>\n",
       "      <td>28696</td>\n",
       "      <td>20353</td>\n",
       "      <td>25006</td>\n",
       "      <td>25558</td>\n",
       "      <td>19918</td>\n",
       "      <td>22658</td>\n",
       "    </tr>\n",
       "    <tr>\n",
       "      <th>Chronic respiratory diseases</th>\n",
       "      <td>9984</td>\n",
       "      <td>6830</td>\n",
       "      <td>8487</td>\n",
       "      <td>4449</td>\n",
       "      <td>2752</td>\n",
       "      <td>3674</td>\n",
       "      <td>5535</td>\n",
       "      <td>4078</td>\n",
       "      <td>4813</td>\n",
       "    </tr>\n",
       "    <tr>\n",
       "      <th>Diabetes mellitus</th>\n",
       "      <td>3391</td>\n",
       "      <td>2486</td>\n",
       "      <td>2937</td>\n",
       "      <td>1627</td>\n",
       "      <td>1140</td>\n",
       "      <td>1389</td>\n",
       "      <td>1764</td>\n",
       "      <td>1345</td>\n",
       "      <td>1548</td>\n",
       "    </tr>\n",
       "    <tr>\n",
       "      <th>Malignant neoplasms</th>\n",
       "      <td>40612</td>\n",
       "      <td>29929</td>\n",
       "      <td>35245</td>\n",
       "      <td>17604</td>\n",
       "      <td>12959</td>\n",
       "      <td>15298</td>\n",
       "      <td>23008</td>\n",
       "      <td>16969</td>\n",
       "      <td>19947</td>\n",
       "    </tr>\n",
       "    <tr>\n",
       "      <th>2001</th>\n",
       "      <th>Cardiovascular diseases</th>\n",
       "      <td>53925</td>\n",
       "      <td>39668</td>\n",
       "      <td>47202</td>\n",
       "      <td>28368</td>\n",
       "      <td>19951</td>\n",
       "      <td>24650</td>\n",
       "      <td>25557</td>\n",
       "      <td>19717</td>\n",
       "      <td>22552</td>\n",
       "    </tr>\n",
       "    <tr>\n",
       "      <th>...</th>\n",
       "      <th>...</th>\n",
       "      <th>...</th>\n",
       "      <th>...</th>\n",
       "      <th>...</th>\n",
       "      <td>...</td>\n",
       "      <td>...</td>\n",
       "      <td>...</td>\n",
       "      <td>...</td>\n",
       "      <td>...</td>\n",
       "      <td>...</td>\n",
       "      <td>...</td>\n",
       "      <td>...</td>\n",
       "      <td>...</td>\n",
       "    </tr>\n",
       "    <tr>\n",
       "      <th rowspan=\"5\" valign=\"top\">Upper middle income</th>\n",
       "      <th rowspan=\"5\" valign=\"top\">Sub-Saharan Africa</th>\n",
       "      <th rowspan=\"5\" valign=\"top\">South Africa</th>\n",
       "      <th>2018</th>\n",
       "      <th>Malignant neoplasms</th>\n",
       "      <td>72458</td>\n",
       "      <td>43001</td>\n",
       "      <td>56728</td>\n",
       "      <td>36928</td>\n",
       "      <td>20317</td>\n",
       "      <td>28094</td>\n",
       "      <td>35530</td>\n",
       "      <td>22684</td>\n",
       "      <td>28635</td>\n",
       "    </tr>\n",
       "    <tr>\n",
       "      <th rowspan=\"4\" valign=\"top\">2019</th>\n",
       "      <th>Cardiovascular diseases</th>\n",
       "      <td>107835</td>\n",
       "      <td>69709</td>\n",
       "      <td>87794</td>\n",
       "      <td>55767</td>\n",
       "      <td>35406</td>\n",
       "      <td>45163</td>\n",
       "      <td>52068</td>\n",
       "      <td>34304</td>\n",
       "      <td>42630</td>\n",
       "    </tr>\n",
       "    <tr>\n",
       "      <th>Chronic respiratory diseases</th>\n",
       "      <td>25492</td>\n",
       "      <td>15117</td>\n",
       "      <td>19525</td>\n",
       "      <td>11969</td>\n",
       "      <td>6158</td>\n",
       "      <td>8558</td>\n",
       "      <td>13523</td>\n",
       "      <td>8958</td>\n",
       "      <td>10966</td>\n",
       "    </tr>\n",
       "    <tr>\n",
       "      <th>Diabetes mellitus</th>\n",
       "      <td>42803</td>\n",
       "      <td>27088</td>\n",
       "      <td>34401</td>\n",
       "      <td>23776</td>\n",
       "      <td>14922</td>\n",
       "      <td>19075</td>\n",
       "      <td>19027</td>\n",
       "      <td>12166</td>\n",
       "      <td>15327</td>\n",
       "    </tr>\n",
       "    <tr>\n",
       "      <th>Malignant neoplasms</th>\n",
       "      <td>73325</td>\n",
       "      <td>42812</td>\n",
       "      <td>56845</td>\n",
       "      <td>37339</td>\n",
       "      <td>20491</td>\n",
       "      <td>28315</td>\n",
       "      <td>35985</td>\n",
       "      <td>22321</td>\n",
       "      <td>28530</td>\n",
       "    </tr>\n",
       "  </tbody>\n",
       "</table>\n",
       "<p>14640 rows × 9 columns</p>\n",
       "</div>"
      ],
      "text/plain": [
       "                                                                                        Both sexes_max  ...  Male_recent\n",
       "IncomeGroup         Region              Country      Year Causes                                        ...             \n",
       "High income         East Asia & Pacific Australia    2000 Cardiovascular diseases                54254  ...        22658\n",
       "                                                          Chronic respiratory diseases            9984  ...         4813\n",
       "                                                          Diabetes mellitus                       3391  ...         1548\n",
       "                                                          Malignant neoplasms                    40612  ...        19947\n",
       "                                                     2001 Cardiovascular diseases                53925  ...        22552\n",
       "...                                                                                                ...  ...          ...\n",
       "Upper middle income Sub-Saharan Africa  South Africa 2018 Malignant neoplasms                    72458  ...        28635\n",
       "                                                     2019 Cardiovascular diseases               107835  ...        42630\n",
       "                                                          Chronic respiratory diseases           25492  ...        10966\n",
       "                                                          Diabetes mellitus                      42803  ...        15327\n",
       "                                                          Malignant neoplasms                    73325  ...        28530\n",
       "\n",
       "[14640 rows x 9 columns]"
      ]
     },
     "execution_count": 257,
     "metadata": {
      "tags": []
     },
     "output_type": "execute_result"
    }
   ],
   "source": [
    "df_merged_pivot"
   ]
  },
  {
   "cell_type": "code",
   "execution_count": 258,
   "metadata": {
    "id": "25AOBHApTidQ"
   },
   "outputs": [],
   "source": [
    "df_merged_pivot.to_excel('income_disease_by_year.xlsx')"
   ]
  }
 ],
 "metadata": {
  "colab": {
   "authorship_tag": "ABX9TyNNFoROnz2ogTTbwYVwA36T",
   "include_colab_link": true,
   "name": "LAB_Pandas2.ipynb",
   "provenance": []
  },
  "kernelspec": {
   "display_name": "Python 3",
   "language": "python",
   "name": "python3"
  },
  "language_info": {
   "codemirror_mode": {
    "name": "ipython",
    "version": 3
   },
   "file_extension": ".py",
   "mimetype": "text/x-python",
   "name": "python",
   "nbconvert_exporter": "python",
   "pygments_lexer": "ipython3",
   "version": "3.8.10"
  }
 },
 "nbformat": 4,
 "nbformat_minor": 1
}
