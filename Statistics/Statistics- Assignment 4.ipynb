{
 "cells": [
  {
   "cell_type": "markdown",
   "metadata": {},
   "source": [
    "### Statistics Assignment-4 (Hypothesis Testing)\n",
    "### EXERCISE 1.\n",
    "The hourly wages in a particular industry are normally distributed with mean <code> $13.20 and standard deviation $2.50. </code> A company in this industry employs 40 workers, paying them an average of <code>$12.20 </code> per hour. Can this company be accused of paying substandard wages? Use an α = .01 level test."
   ]
  },
  {
   "cell_type": "code",
   "execution_count": 10,
   "metadata": {},
   "outputs": [],
   "source": [
    "import pandas as pd\n",
    "from scipy import stats\n",
    "import matplotlib.pyplot as plt\n",
    "from math import sqrt"
   ]
  },
  {
   "cell_type": "code",
   "execution_count": 4,
   "metadata": {},
   "outputs": [],
   "source": [
    "Mu = 13.20\n",
    "Sigma = 2.5\n",
    "n = 40\n",
    "alpha = 0.01\n",
    "xbar = 12.20"
   ]
  },
  {
   "attachments": {
    "image.png": {
     "image/png": "[encoded data removed]"
    }
   },
   "cell_type": "markdown",
   "metadata": {},
   "source": [
    "![image.png](attachment:image.png)"
   ]
  },
  {
   "cell_type": "markdown",
   "metadata": {},
   "source": [
    "Null Hypotesis : Mean of wages H0 = 13.20\n",
    "Alternative Hypotesis:  Mean of wages H0 < 13.20\n",
    "\n",
    "Since variable continuous, N> 30 and sd is also known; we choose one sample z-test.\n"
   ]
  },
  {
   "cell_type": "code",
   "execution_count": 7,
   "metadata": {},
   "outputs": [
    {
     "data": {
      "text/plain": [
       "-2.5298221281347035"
      ]
     },
     "execution_count": 7,
     "metadata": {},
     "output_type": "execute_result"
    }
   ],
   "source": [
    "z = (12.20-13.20)/(2.5/sqrt(n))\n",
    "z"
   ]
  },
  {
   "cell_type": "code",
   "execution_count": 8,
   "metadata": {},
   "outputs": [
    {
     "data": {
      "text/plain": [
       "0.005706018193000826"
      ]
     },
     "execution_count": 8,
     "metadata": {},
     "output_type": "execute_result"
    }
   ],
   "source": [
    "pvalue = stats.norm.cdf(z)\n",
    "pvalue"
   ]
  },
  {
   "cell_type": "code",
   "execution_count": 9,
   "metadata": {},
   "outputs": [
    {
     "name": "stdout",
     "output_type": "stream",
     "text": [
      "Reject the Null Hypotesis\n"
     ]
    }
   ],
   "source": [
    "if pvalue < alpha:\n",
    "    print(\"Reject the Null Hypotesis\")\n",
    "else:\n",
    "    print(\"Fail to Reject Null Hypotesis\")"
   ]
  },
  {
   "cell_type": "markdown",
   "metadata": {},
   "source": [
    "### EXERCISE 2.\n",
    "Shear strength measurements derived from unconfined compression tests for two types of soils gave the results shown in the following document (measurements in tons per square foot). Do the soils appear to differ with respect to average shear strength, at the 1% significance level?"
   ]
  },
  {
   "cell_type": "markdown",
   "metadata": {},
   "source": [
    "Null Hypotesis :  MU1 = Mu2 <br>\n",
    "Alternative Hypotesis: MU1 != Mu2"
   ]
  },
  {
   "cell_type": "code",
   "execution_count": 12,
   "metadata": {},
   "outputs": [],
   "source": [
    "soil = pd.read_csv('soil - Sheet1.csv')"
   ]
  },
  {
   "cell_type": "code",
   "execution_count": 13,
   "metadata": {},
   "outputs": [
    {
     "data": {
      "text/html": [
       "<div>\n",
       "<style scoped>\n",
       "    .dataframe tbody tr th:only-of-type {\n",
       "        vertical-align: middle;\n",
       "    }\n",
       "\n",
       "    .dataframe tbody tr th {\n",
       "        vertical-align: top;\n",
       "    }\n",
       "\n",
       "    .dataframe thead th {\n",
       "        text-align: right;\n",
       "    }\n",
       "</style>\n",
       "<table border=\"1\" class=\"dataframe\">\n",
       "  <thead>\n",
       "    <tr style=\"text-align: right;\">\n",
       "      <th></th>\n",
       "      <th>Soil1</th>\n",
       "      <th>Soil2</th>\n",
       "    </tr>\n",
       "  </thead>\n",
       "  <tbody>\n",
       "    <tr>\n",
       "      <th>0</th>\n",
       "      <td>1.442</td>\n",
       "      <td>1.364</td>\n",
       "    </tr>\n",
       "    <tr>\n",
       "      <th>1</th>\n",
       "      <td>1.943</td>\n",
       "      <td>1.878</td>\n",
       "    </tr>\n",
       "    <tr>\n",
       "      <th>2</th>\n",
       "      <td>1.110</td>\n",
       "      <td>1.337</td>\n",
       "    </tr>\n",
       "    <tr>\n",
       "      <th>3</th>\n",
       "      <td>1.912</td>\n",
       "      <td>1.828</td>\n",
       "    </tr>\n",
       "    <tr>\n",
       "      <th>4</th>\n",
       "      <td>1.553</td>\n",
       "      <td>1.371</td>\n",
       "    </tr>\n",
       "  </tbody>\n",
       "</table>\n",
       "</div>"
      ],
      "text/plain": [
       "   Soil1  Soil2\n",
       "0  1.442  1.364\n",
       "1  1.943  1.878\n",
       "2  1.110  1.337\n",
       "3  1.912  1.828\n",
       "4  1.553  1.371"
      ]
     },
     "execution_count": 13,
     "metadata": {},
     "output_type": "execute_result"
    }
   ],
   "source": [
    "soil.head()"
   ]
  },
  {
   "cell_type": "code",
   "execution_count": 14,
   "metadata": {},
   "outputs": [
    {
     "data": {
      "text/html": [
       "<div>\n",
       "<style scoped>\n",
       "    .dataframe tbody tr th:only-of-type {\n",
       "        vertical-align: middle;\n",
       "    }\n",
       "\n",
       "    .dataframe tbody tr th {\n",
       "        vertical-align: top;\n",
       "    }\n",
       "\n",
       "    .dataframe thead th {\n",
       "        text-align: right;\n",
       "    }\n",
       "</style>\n",
       "<table border=\"1\" class=\"dataframe\">\n",
       "  <thead>\n",
       "    <tr style=\"text-align: right;\">\n",
       "      <th></th>\n",
       "      <th>Soil1</th>\n",
       "      <th>Soil2</th>\n",
       "    </tr>\n",
       "  </thead>\n",
       "  <tbody>\n",
       "    <tr>\n",
       "      <th>count</th>\n",
       "      <td>30.000000</td>\n",
       "      <td>35.000000</td>\n",
       "    </tr>\n",
       "    <tr>\n",
       "      <th>mean</th>\n",
       "      <td>1.691800</td>\n",
       "      <td>1.417114</td>\n",
       "    </tr>\n",
       "    <tr>\n",
       "      <th>std</th>\n",
       "      <td>0.206903</td>\n",
       "      <td>0.219184</td>\n",
       "    </tr>\n",
       "    <tr>\n",
       "      <th>min</th>\n",
       "      <td>1.110000</td>\n",
       "      <td>1.053000</td>\n",
       "    </tr>\n",
       "    <tr>\n",
       "      <th>25%</th>\n",
       "      <td>1.572000</td>\n",
       "      <td>1.231000</td>\n",
       "    </tr>\n",
       "    <tr>\n",
       "      <th>50%</th>\n",
       "      <td>1.675000</td>\n",
       "      <td>1.379000</td>\n",
       "    </tr>\n",
       "    <tr>\n",
       "      <th>75%</th>\n",
       "      <td>1.865250</td>\n",
       "      <td>1.559000</td>\n",
       "    </tr>\n",
       "    <tr>\n",
       "      <th>max</th>\n",
       "      <td>2.054000</td>\n",
       "      <td>1.878000</td>\n",
       "    </tr>\n",
       "  </tbody>\n",
       "</table>\n",
       "</div>"
      ],
      "text/plain": [
       "           Soil1      Soil2\n",
       "count  30.000000  35.000000\n",
       "mean    1.691800   1.417114\n",
       "std     0.206903   0.219184\n",
       "min     1.110000   1.053000\n",
       "25%     1.572000   1.231000\n",
       "50%     1.675000   1.379000\n",
       "75%     1.865250   1.559000\n",
       "max     2.054000   1.878000"
      ]
     },
     "execution_count": 14,
     "metadata": {},
     "output_type": "execute_result"
    }
   ],
   "source": [
    "soil.describe()"
   ]
  },
  {
   "cell_type": "markdown",
   "metadata": {},
   "source": [
    "2 contionous variable samples and samples are independent, n1=30 I'm choosin pooled t test"
   ]
  },
  {
   "cell_type": "code",
   "execution_count": 15,
   "metadata": {},
   "outputs": [
    {
     "name": "stdout",
     "output_type": "stream",
     "text": [
      "tscore : 5.1681473319343345, p_value: 2.59322873235282e-06\n"
     ]
    }
   ],
   "source": [
    "tscore, p_value = stats.ttest_ind(soil[\"Soil1\"].dropna(), soil[\"Soil2\"].dropna())\n",
    "print(\"tscore : {}, p_value: {}\".format(tscore,p_value))"
   ]
  },
  {
   "cell_type": "code",
   "execution_count": 16,
   "metadata": {},
   "outputs": [
    {
     "name": "stdout",
     "output_type": "stream",
     "text": [
      "Reject the Null Hypotesis\n"
     ]
    }
   ],
   "source": [
    "alpha = 0.01\n",
    "\n",
    "if p_value < alpha:\n",
    "    print(\"Reject the Null Hypotesis\")\n",
    "else:\n",
    "    print(\"Fail to reject Nul Hypotesis\")"
   ]
  },
  {
   "cell_type": "markdown",
   "metadata": {},
   "source": [
    "### EXERCISE 3.\n",
    "\n",
    "The following dataset is based on data provided by the World Bank (https://datacatalog.worldbank.org/dataset/education-statistics). World Bank Edstats.  2015 PISA Test Dataset\n",
    "\n",
    "Get descriptive statistics (the central tendency, dispersion and shape of a dataset’s distribution) for each continent group (AS, EU, AF, NA, SA, OC).\n",
    "Determine whether there is any difference (on the average) for the math scores among European (EU) and Asian (AS) countries (assume normality and equal variances). Draw side-by-side box plots."
   ]
  },
  {
   "cell_type": "code",
   "execution_count": 17,
   "metadata": {},
   "outputs": [
    {
     "data": {
      "text/html": [
       "<div>\n",
       "<style scoped>\n",
       "    .dataframe tbody tr th:only-of-type {\n",
       "        vertical-align: middle;\n",
       "    }\n",
       "\n",
       "    .dataframe tbody tr th {\n",
       "        vertical-align: top;\n",
       "    }\n",
       "\n",
       "    .dataframe thead th {\n",
       "        text-align: right;\n",
       "    }\n",
       "</style>\n",
       "<table border=\"1\" class=\"dataframe\">\n",
       "  <thead>\n",
       "    <tr style=\"text-align: right;\">\n",
       "      <th></th>\n",
       "      <th>Country Code</th>\n",
       "      <th>Continent_Code</th>\n",
       "      <th>internet_users_per_100</th>\n",
       "      <th>Math</th>\n",
       "      <th>Reading</th>\n",
       "      <th>Science</th>\n",
       "    </tr>\n",
       "  </thead>\n",
       "  <tbody>\n",
       "    <tr>\n",
       "      <th>0</th>\n",
       "      <td>ALB</td>\n",
       "      <td>EU</td>\n",
       "      <td>63.252933</td>\n",
       "      <td>413.1570</td>\n",
       "      <td>405.2588</td>\n",
       "      <td>427.2250</td>\n",
       "    </tr>\n",
       "    <tr>\n",
       "      <th>1</th>\n",
       "      <td>ARE</td>\n",
       "      <td>AS</td>\n",
       "      <td>90.500000</td>\n",
       "      <td>427.4827</td>\n",
       "      <td>433.5423</td>\n",
       "      <td>436.7311</td>\n",
       "    </tr>\n",
       "    <tr>\n",
       "      <th>2</th>\n",
       "      <td>ARG</td>\n",
       "      <td>SA</td>\n",
       "      <td>68.043064</td>\n",
       "      <td>409.0333</td>\n",
       "      <td>425.3031</td>\n",
       "      <td>432.2262</td>\n",
       "    </tr>\n",
       "    <tr>\n",
       "      <th>3</th>\n",
       "      <td>AUS</td>\n",
       "      <td>OC</td>\n",
       "      <td>84.560519</td>\n",
       "      <td>493.8962</td>\n",
       "      <td>502.9006</td>\n",
       "      <td>509.9939</td>\n",
       "    </tr>\n",
       "    <tr>\n",
       "      <th>4</th>\n",
       "      <td>AUT</td>\n",
       "      <td>EU</td>\n",
       "      <td>83.940142</td>\n",
       "      <td>496.7423</td>\n",
       "      <td>484.8656</td>\n",
       "      <td>495.0375</td>\n",
       "    </tr>\n",
       "    <tr>\n",
       "      <th>...</th>\n",
       "      <td>...</td>\n",
       "      <td>...</td>\n",
       "      <td>...</td>\n",
       "      <td>...</td>\n",
       "      <td>...</td>\n",
       "      <td>...</td>\n",
       "    </tr>\n",
       "    <tr>\n",
       "      <th>65</th>\n",
       "      <td>TUN</td>\n",
       "      <td>AF</td>\n",
       "      <td>48.519836</td>\n",
       "      <td>366.8180</td>\n",
       "      <td>361.0555</td>\n",
       "      <td>386.4034</td>\n",
       "    </tr>\n",
       "    <tr>\n",
       "      <th>66</th>\n",
       "      <td>TUR</td>\n",
       "      <td>EU</td>\n",
       "      <td>53.744979</td>\n",
       "      <td>420.4540</td>\n",
       "      <td>428.3351</td>\n",
       "      <td>425.4895</td>\n",
       "    </tr>\n",
       "    <tr>\n",
       "      <th>67</th>\n",
       "      <td>URY</td>\n",
       "      <td>SA</td>\n",
       "      <td>64.600000</td>\n",
       "      <td>417.9919</td>\n",
       "      <td>436.5721</td>\n",
       "      <td>435.3630</td>\n",
       "    </tr>\n",
       "    <tr>\n",
       "      <th>68</th>\n",
       "      <td>USA</td>\n",
       "      <td>NaN</td>\n",
       "      <td>74.554202</td>\n",
       "      <td>469.6285</td>\n",
       "      <td>496.9351</td>\n",
       "      <td>496.2424</td>\n",
       "    </tr>\n",
       "    <tr>\n",
       "      <th>69</th>\n",
       "      <td>VNM</td>\n",
       "      <td>AS</td>\n",
       "      <td>43.500000</td>\n",
       "      <td>494.5183</td>\n",
       "      <td>486.7738</td>\n",
       "      <td>524.6445</td>\n",
       "    </tr>\n",
       "  </tbody>\n",
       "</table>\n",
       "<p>70 rows × 6 columns</p>\n",
       "</div>"
      ],
      "text/plain": [
       "   Country Code Continent_Code  internet_users_per_100      Math   Reading  \\\n",
       "0           ALB             EU               63.252933  413.1570  405.2588   \n",
       "1           ARE             AS               90.500000  427.4827  433.5423   \n",
       "2           ARG             SA               68.043064  409.0333  425.3031   \n",
       "3           AUS             OC               84.560519  493.8962  502.9006   \n",
       "4           AUT             EU               83.940142  496.7423  484.8656   \n",
       "..          ...            ...                     ...       ...       ...   \n",
       "65          TUN             AF               48.519836  366.8180  361.0555   \n",
       "66          TUR             EU               53.744979  420.4540  428.3351   \n",
       "67          URY             SA               64.600000  417.9919  436.5721   \n",
       "68          USA            NaN               74.554202  469.6285  496.9351   \n",
       "69          VNM             AS               43.500000  494.5183  486.7738   \n",
       "\n",
       "     Science  \n",
       "0   427.2250  \n",
       "1   436.7311  \n",
       "2   432.2262  \n",
       "3   509.9939  \n",
       "4   495.0375  \n",
       "..       ...  \n",
       "65  386.4034  \n",
       "66  425.4895  \n",
       "67  435.3630  \n",
       "68  496.2424  \n",
       "69  524.6445  \n",
       "\n",
       "[70 rows x 6 columns]"
      ]
     },
     "execution_count": 17,
     "metadata": {},
     "output_type": "execute_result"
    }
   ],
   "source": [
    "df = pd.read_csv(\"2015 PISA Test - Sheet1.csv\")\n",
    "df"
   ]
  },
  {
   "cell_type": "code",
   "execution_count": 18,
   "metadata": {},
   "outputs": [
    {
     "name": "stdout",
     "output_type": "stream",
     "text": [
      "<class 'pandas.core.frame.DataFrame'>\n",
      "RangeIndex: 70 entries, 0 to 69\n",
      "Data columns (total 6 columns):\n",
      " #   Column                  Non-Null Count  Dtype  \n",
      "---  ------                  --------------  -----  \n",
      " 0   Country Code            70 non-null     object \n",
      " 1   Continent_Code          65 non-null     object \n",
      " 2   internet_users_per_100  70 non-null     float64\n",
      " 3   Math                    70 non-null     float64\n",
      " 4   Reading                 70 non-null     float64\n",
      " 5   Science                 70 non-null     float64\n",
      "dtypes: float64(4), object(2)\n",
      "memory usage: 3.4+ KB\n"
     ]
    }
   ],
   "source": [
    "df.info()"
   ]
  },
  {
   "cell_type": "code",
   "execution_count": 31,
   "metadata": {},
   "outputs": [
    {
     "data": {
      "text/html": [
       "<div>\n",
       "<style scoped>\n",
       "    .dataframe tbody tr th:only-of-type {\n",
       "        vertical-align: middle;\n",
       "    }\n",
       "\n",
       "    .dataframe tbody tr th {\n",
       "        vertical-align: top;\n",
       "    }\n",
       "\n",
       "    .dataframe thead th {\n",
       "        text-align: right;\n",
       "    }\n",
       "</style>\n",
       "<table border=\"1\" class=\"dataframe\">\n",
       "  <thead>\n",
       "    <tr style=\"text-align: right;\">\n",
       "      <th></th>\n",
       "      <th>internet_users_per_100</th>\n",
       "      <th>Math</th>\n",
       "      <th>Reading</th>\n",
       "      <th>Science</th>\n",
       "    </tr>\n",
       "  </thead>\n",
       "  <tbody>\n",
       "    <tr>\n",
       "      <th>count</th>\n",
       "      <td>70.000000</td>\n",
       "      <td>70.000000</td>\n",
       "      <td>70.000000</td>\n",
       "      <td>70.000000</td>\n",
       "    </tr>\n",
       "    <tr>\n",
       "      <th>mean</th>\n",
       "      <td>71.973099</td>\n",
       "      <td>460.971557</td>\n",
       "      <td>460.997291</td>\n",
       "      <td>465.439093</td>\n",
       "    </tr>\n",
       "    <tr>\n",
       "      <th>std</th>\n",
       "      <td>16.390632</td>\n",
       "      <td>53.327205</td>\n",
       "      <td>49.502679</td>\n",
       "      <td>48.397254</td>\n",
       "    </tr>\n",
       "    <tr>\n",
       "      <th>min</th>\n",
       "      <td>21.976068</td>\n",
       "      <td>327.702000</td>\n",
       "      <td>346.549000</td>\n",
       "      <td>331.638800</td>\n",
       "    </tr>\n",
       "    <tr>\n",
       "      <th>25%</th>\n",
       "      <td>60.899020</td>\n",
       "      <td>417.416075</td>\n",
       "      <td>426.948625</td>\n",
       "      <td>425.923375</td>\n",
       "    </tr>\n",
       "    <tr>\n",
       "      <th>50%</th>\n",
       "      <td>72.999350</td>\n",
       "      <td>477.607150</td>\n",
       "      <td>480.199850</td>\n",
       "      <td>475.400050</td>\n",
       "    </tr>\n",
       "    <tr>\n",
       "      <th>75%</th>\n",
       "      <td>85.026763</td>\n",
       "      <td>500.482925</td>\n",
       "      <td>499.687475</td>\n",
       "      <td>502.431250</td>\n",
       "    </tr>\n",
       "    <tr>\n",
       "      <th>max</th>\n",
       "      <td>98.200000</td>\n",
       "      <td>564.189700</td>\n",
       "      <td>535.100200</td>\n",
       "      <td>555.574700</td>\n",
       "    </tr>\n",
       "  </tbody>\n",
       "</table>\n",
       "</div>"
      ],
      "text/plain": [
       "       internet_users_per_100        Math     Reading     Science\n",
       "count               70.000000   70.000000   70.000000   70.000000\n",
       "mean                71.973099  460.971557  460.997291  465.439093\n",
       "std                 16.390632   53.327205   49.502679   48.397254\n",
       "min                 21.976068  327.702000  346.549000  331.638800\n",
       "25%                 60.899020  417.416075  426.948625  425.923375\n",
       "50%                 72.999350  477.607150  480.199850  475.400050\n",
       "75%                 85.026763  500.482925  499.687475  502.431250\n",
       "max                 98.200000  564.189700  535.100200  555.574700"
      ]
     },
     "execution_count": 31,
     "metadata": {},
     "output_type": "execute_result"
    }
   ],
   "source": [
    "df.describe()"
   ]
  },
  {
   "cell_type": "code",
   "execution_count": 19,
   "metadata": {},
   "outputs": [
    {
     "data": {
      "text/plain": [
       "EU    37\n",
       "AS    17\n",
       "SA     7\n",
       "AF     2\n",
       "OC     2\n",
       "Name: Continent_Code, dtype: int64"
      ]
     },
     "execution_count": 19,
     "metadata": {},
     "output_type": "execute_result"
    }
   ],
   "source": [
    "df[\"Continent_Code\"].value_counts()"
   ]
  },
  {
   "cell_type": "code",
   "execution_count": 20,
   "metadata": {},
   "outputs": [
    {
     "data": {
      "text/html": [
       "<div>\n",
       "<style scoped>\n",
       "    .dataframe tbody tr th:only-of-type {\n",
       "        vertical-align: middle;\n",
       "    }\n",
       "\n",
       "    .dataframe tbody tr th {\n",
       "        vertical-align: top;\n",
       "    }\n",
       "\n",
       "    .dataframe thead th {\n",
       "        text-align: right;\n",
       "    }\n",
       "</style>\n",
       "<table border=\"1\" class=\"dataframe\">\n",
       "  <thead>\n",
       "    <tr style=\"text-align: right;\">\n",
       "      <th></th>\n",
       "      <th>internet_users_per_100</th>\n",
       "      <th>Math</th>\n",
       "      <th>Reading</th>\n",
       "      <th>Science</th>\n",
       "    </tr>\n",
       "    <tr>\n",
       "      <th>Continent_Code</th>\n",
       "      <th></th>\n",
       "      <th></th>\n",
       "      <th></th>\n",
       "      <th></th>\n",
       "    </tr>\n",
       "  </thead>\n",
       "  <tbody>\n",
       "    <tr>\n",
       "      <th>AF</th>\n",
       "      <td>43.359918</td>\n",
       "      <td>363.212100</td>\n",
       "      <td>355.457400</td>\n",
       "      <td>381.074250</td>\n",
       "    </tr>\n",
       "    <tr>\n",
       "      <th>AS</th>\n",
       "      <td>68.455613</td>\n",
       "      <td>466.216647</td>\n",
       "      <td>454.059682</td>\n",
       "      <td>467.945847</td>\n",
       "    </tr>\n",
       "    <tr>\n",
       "      <th>EU</th>\n",
       "      <td>77.274888</td>\n",
       "      <td>477.981449</td>\n",
       "      <td>476.164608</td>\n",
       "      <td>478.299381</td>\n",
       "    </tr>\n",
       "    <tr>\n",
       "      <th>OC</th>\n",
       "      <td>86.391704</td>\n",
       "      <td>494.559750</td>\n",
       "      <td>506.085650</td>\n",
       "      <td>511.648700</td>\n",
       "    </tr>\n",
       "    <tr>\n",
       "      <th>SA</th>\n",
       "      <td>60.180494</td>\n",
       "      <td>402.887700</td>\n",
       "      <td>425.359229</td>\n",
       "      <td>421.747186</td>\n",
       "    </tr>\n",
       "  </tbody>\n",
       "</table>\n",
       "</div>"
      ],
      "text/plain": [
       "                internet_users_per_100        Math     Reading     Science\n",
       "Continent_Code                                                            \n",
       "AF                           43.359918  363.212100  355.457400  381.074250\n",
       "AS                           68.455613  466.216647  454.059682  467.945847\n",
       "EU                           77.274888  477.981449  476.164608  478.299381\n",
       "OC                           86.391704  494.559750  506.085650  511.648700\n",
       "SA                           60.180494  402.887700  425.359229  421.747186"
      ]
     },
     "execution_count": 20,
     "metadata": {},
     "output_type": "execute_result"
    }
   ],
   "source": [
    "df.groupby(\"Continent_Code\").mean()"
   ]
  },
  {
   "cell_type": "code",
   "execution_count": 21,
   "metadata": {},
   "outputs": [
    {
     "data": {
      "text/html": [
       "<div>\n",
       "<style scoped>\n",
       "    .dataframe tbody tr th:only-of-type {\n",
       "        vertical-align: middle;\n",
       "    }\n",
       "\n",
       "    .dataframe tbody tr th {\n",
       "        vertical-align: top;\n",
       "    }\n",
       "\n",
       "    .dataframe thead th {\n",
       "        text-align: right;\n",
       "    }\n",
       "</style>\n",
       "<table border=\"1\" class=\"dataframe\">\n",
       "  <thead>\n",
       "    <tr style=\"text-align: right;\">\n",
       "      <th></th>\n",
       "      <th>internet_users_per_100</th>\n",
       "      <th>Math</th>\n",
       "      <th>Reading</th>\n",
       "      <th>Science</th>\n",
       "    </tr>\n",
       "    <tr>\n",
       "      <th>Continent_Code</th>\n",
       "      <th></th>\n",
       "      <th></th>\n",
       "      <th></th>\n",
       "      <th></th>\n",
       "    </tr>\n",
       "  </thead>\n",
       "  <tbody>\n",
       "    <tr>\n",
       "      <th>AF</th>\n",
       "      <td>7.297226</td>\n",
       "      <td>5.099513</td>\n",
       "      <td>7.916909</td>\n",
       "      <td>7.536556</td>\n",
       "    </tr>\n",
       "    <tr>\n",
       "      <th>AS</th>\n",
       "      <td>21.086060</td>\n",
       "      <td>64.356490</td>\n",
       "      <td>57.048962</td>\n",
       "      <td>56.671371</td>\n",
       "    </tr>\n",
       "    <tr>\n",
       "      <th>EU</th>\n",
       "      <td>12.425773</td>\n",
       "      <td>35.150403</td>\n",
       "      <td>37.720545</td>\n",
       "      <td>34.450616</td>\n",
       "    </tr>\n",
       "    <tr>\n",
       "      <th>OC</th>\n",
       "      <td>2.589686</td>\n",
       "      <td>0.938401</td>\n",
       "      <td>4.504341</td>\n",
       "      <td>2.340241</td>\n",
       "    </tr>\n",
       "    <tr>\n",
       "      <th>SA</th>\n",
       "      <td>9.772455</td>\n",
       "      <td>18.128894</td>\n",
       "      <td>19.709688</td>\n",
       "      <td>18.470319</td>\n",
       "    </tr>\n",
       "  </tbody>\n",
       "</table>\n",
       "</div>"
      ],
      "text/plain": [
       "                internet_users_per_100       Math    Reading    Science\n",
       "Continent_Code                                                         \n",
       "AF                            7.297226   5.099513   7.916909   7.536556\n",
       "AS                           21.086060  64.356490  57.048962  56.671371\n",
       "EU                           12.425773  35.150403  37.720545  34.450616\n",
       "OC                            2.589686   0.938401   4.504341   2.340241\n",
       "SA                            9.772455  18.128894  19.709688  18.470319"
      ]
     },
     "execution_count": 21,
     "metadata": {},
     "output_type": "execute_result"
    }
   ],
   "source": [
    "df.groupby(\"Continent_Code\").std()"
   ]
  },
  {
   "cell_type": "code",
   "execution_count": 22,
   "metadata": {},
   "outputs": [
    {
     "data": {
      "text/html": [
       "<div>\n",
       "<style scoped>\n",
       "    .dataframe tbody tr th:only-of-type {\n",
       "        vertical-align: middle;\n",
       "    }\n",
       "\n",
       "    .dataframe tbody tr th {\n",
       "        vertical-align: top;\n",
       "    }\n",
       "\n",
       "    .dataframe thead th {\n",
       "        text-align: right;\n",
       "    }\n",
       "</style>\n",
       "<table border=\"1\" class=\"dataframe\">\n",
       "  <thead>\n",
       "    <tr style=\"text-align: right;\">\n",
       "      <th></th>\n",
       "      <th>internet_users_per_100</th>\n",
       "      <th>Math</th>\n",
       "      <th>Reading</th>\n",
       "      <th>Science</th>\n",
       "    </tr>\n",
       "    <tr>\n",
       "      <th>Continent_Code</th>\n",
       "      <th></th>\n",
       "      <th></th>\n",
       "      <th></th>\n",
       "      <th></th>\n",
       "    </tr>\n",
       "  </thead>\n",
       "  <tbody>\n",
       "    <tr>\n",
       "      <th>AF</th>\n",
       "      <td>43.359918</td>\n",
       "      <td>363.21210</td>\n",
       "      <td>355.45740</td>\n",
       "      <td>381.07425</td>\n",
       "    </tr>\n",
       "    <tr>\n",
       "      <th>AS</th>\n",
       "      <td>74.000000</td>\n",
       "      <td>459.81600</td>\n",
       "      <td>433.54230</td>\n",
       "      <td>456.48360</td>\n",
       "    </tr>\n",
       "    <tr>\n",
       "      <th>EU</th>\n",
       "      <td>76.184000</td>\n",
       "      <td>489.72870</td>\n",
       "      <td>487.25010</td>\n",
       "      <td>490.22500</td>\n",
       "    </tr>\n",
       "    <tr>\n",
       "      <th>OC</th>\n",
       "      <td>86.391704</td>\n",
       "      <td>494.55975</td>\n",
       "      <td>506.08565</td>\n",
       "      <td>511.64870</td>\n",
       "    </tr>\n",
       "    <tr>\n",
       "      <th>SA</th>\n",
       "      <td>64.289000</td>\n",
       "      <td>409.03330</td>\n",
       "      <td>425.30310</td>\n",
       "      <td>424.59050</td>\n",
       "    </tr>\n",
       "  </tbody>\n",
       "</table>\n",
       "</div>"
      ],
      "text/plain": [
       "                internet_users_per_100       Math    Reading    Science\n",
       "Continent_Code                                                         \n",
       "AF                           43.359918  363.21210  355.45740  381.07425\n",
       "AS                           74.000000  459.81600  433.54230  456.48360\n",
       "EU                           76.184000  489.72870  487.25010  490.22500\n",
       "OC                           86.391704  494.55975  506.08565  511.64870\n",
       "SA                           64.289000  409.03330  425.30310  424.59050"
      ]
     },
     "execution_count": 22,
     "metadata": {},
     "output_type": "execute_result"
    }
   ],
   "source": [
    "df.groupby(\"Continent_Code\").median()"
   ]
  },
  {
   "cell_type": "code",
   "execution_count": 23,
   "metadata": {},
   "outputs": [
    {
     "data": {
      "text/html": [
       "<div>\n",
       "<style scoped>\n",
       "    .dataframe tbody tr th:only-of-type {\n",
       "        vertical-align: middle;\n",
       "    }\n",
       "\n",
       "    .dataframe tbody tr th {\n",
       "        vertical-align: top;\n",
       "    }\n",
       "\n",
       "    .dataframe thead th {\n",
       "        text-align: right;\n",
       "    }\n",
       "</style>\n",
       "<table border=\"1\" class=\"dataframe\">\n",
       "  <thead>\n",
       "    <tr style=\"text-align: right;\">\n",
       "      <th></th>\n",
       "      <th>Country Code</th>\n",
       "      <th>internet_users_per_100</th>\n",
       "      <th>Math</th>\n",
       "      <th>Reading</th>\n",
       "      <th>Science</th>\n",
       "    </tr>\n",
       "    <tr>\n",
       "      <th>Continent_Code</th>\n",
       "      <th></th>\n",
       "      <th></th>\n",
       "      <th></th>\n",
       "      <th></th>\n",
       "      <th></th>\n",
       "    </tr>\n",
       "  </thead>\n",
       "  <tbody>\n",
       "    <tr>\n",
       "      <th>AF</th>\n",
       "      <td>([DZA], [1])</td>\n",
       "      <td>([38.2], [1])</td>\n",
       "      <td>([359.6062], [1])</td>\n",
       "      <td>([349.8593], [1])</td>\n",
       "      <td>([375.7451], [1])</td>\n",
       "    </tr>\n",
       "    <tr>\n",
       "      <th>AS</th>\n",
       "      <td>([ARE], [1])</td>\n",
       "      <td>([21.97606771], [1])</td>\n",
       "      <td>([380.259], [1])</td>\n",
       "      <td>([346.54900000000004], [1])</td>\n",
       "      <td>([386.4854], [1])</td>\n",
       "    </tr>\n",
       "    <tr>\n",
       "      <th>EU</th>\n",
       "      <td>([ALB], [1])</td>\n",
       "      <td>([53.74497914], [1])</td>\n",
       "      <td>([371.3114], [1])</td>\n",
       "      <td>([351.7415], [1])</td>\n",
       "      <td>([383.6824], [1])</td>\n",
       "    </tr>\n",
       "    <tr>\n",
       "      <th>OC</th>\n",
       "      <td>([AUS], [1])</td>\n",
       "      <td>([84.56051935], [1])</td>\n",
       "      <td>([493.8962], [1])</td>\n",
       "      <td>([502.9006], [1])</td>\n",
       "      <td>([509.9939], [1])</td>\n",
       "    </tr>\n",
       "    <tr>\n",
       "      <th>SA</th>\n",
       "      <td>([ARG], [1])</td>\n",
       "      <td>([40.9], [1])</td>\n",
       "      <td>([377.0695], [1])</td>\n",
       "      <td>([397.5414], [1])</td>\n",
       "      <td>([396.6836], [1])</td>\n",
       "    </tr>\n",
       "  </tbody>\n",
       "</table>\n",
       "</div>"
      ],
      "text/plain": [
       "                Country Code internet_users_per_100               Math  \\\n",
       "Continent_Code                                                           \n",
       "AF              ([DZA], [1])          ([38.2], [1])  ([359.6062], [1])   \n",
       "AS              ([ARE], [1])   ([21.97606771], [1])   ([380.259], [1])   \n",
       "EU              ([ALB], [1])   ([53.74497914], [1])  ([371.3114], [1])   \n",
       "OC              ([AUS], [1])   ([84.56051935], [1])  ([493.8962], [1])   \n",
       "SA              ([ARG], [1])          ([40.9], [1])  ([377.0695], [1])   \n",
       "\n",
       "                                    Reading            Science  \n",
       "Continent_Code                                                  \n",
       "AF                        ([349.8593], [1])  ([375.7451], [1])  \n",
       "AS              ([346.54900000000004], [1])  ([386.4854], [1])  \n",
       "EU                        ([351.7415], [1])  ([383.6824], [1])  \n",
       "OC                        ([502.9006], [1])  ([509.9939], [1])  \n",
       "SA                        ([397.5414], [1])  ([396.6836], [1])  "
      ]
     },
     "execution_count": 23,
     "metadata": {},
     "output_type": "execute_result"
    }
   ],
   "source": [
    "df.groupby(\"Continent_Code\").agg(stats.mode)"
   ]
  },
  {
   "cell_type": "code",
   "execution_count": 24,
   "metadata": {},
   "outputs": [
    {
     "data": {
      "text/plain": [
       "0    413.1570\n",
       "1    496.7423\n",
       "2    506.9844\n",
       "3    441.1899\n",
       "4    521.2506\n",
       "Name: Math, dtype: float64"
      ]
     },
     "execution_count": 24,
     "metadata": {},
     "output_type": "execute_result"
    }
   ],
   "source": [
    "EU = df[df[\"Continent_Code\"]==\"EU\"][\"Math\"].reset_index(drop = True)\n",
    "EU.head()"
   ]
  },
  {
   "cell_type": "code",
   "execution_count": 25,
   "metadata": {},
   "outputs": [
    {
     "data": {
      "text/plain": [
       "0    427.4827\n",
       "1    531.2961\n",
       "2    403.8332\n",
       "3    547.9310\n",
       "4    386.1096\n",
       "Name: Math, dtype: float64"
      ]
     },
     "execution_count": 25,
     "metadata": {},
     "output_type": "execute_result"
    }
   ],
   "source": [
    "AS=df[df[\"Continent_Code\"]==\"AS\"][\"Math\"].reset_index(drop = True)\n",
    "AS.head()"
   ]
  },
  {
   "cell_type": "markdown",
   "metadata": {},
   "source": [
    "H0 : Mu1=Mu2\n",
    "H1 : Mu1!=Mu2\n"
   ]
  },
  {
   "cell_type": "code",
   "execution_count": 26,
   "metadata": {},
   "outputs": [],
   "source": [
    "alpha = 0.05"
   ]
  },
  {
   "cell_type": "code",
   "execution_count": 27,
   "metadata": {},
   "outputs": [
    {
     "data": {
      "text/plain": [
       "Ttest_indResult(statistic=0.870055317967983, pvalue=0.38826888111307345)"
      ]
     },
     "execution_count": 27,
     "metadata": {},
     "output_type": "execute_result"
    }
   ],
   "source": [
    "stats.ttest_ind(EU,AS)"
   ]
  },
  {
   "cell_type": "code",
   "execution_count": 28,
   "metadata": {},
   "outputs": [
    {
     "name": "stdout",
     "output_type": "stream",
     "text": [
      "tscore : 0.870055317967983, p_value: 0.38826888111307345\n"
     ]
    }
   ],
   "source": [
    "tscore, p_value = stats.ttest_ind(EU,AS)\n",
    "print(\"tscore : {}, p_value: {}\".format(tscore, p_value))"
   ]
  },
  {
   "cell_type": "code",
   "execution_count": 29,
   "metadata": {},
   "outputs": [
    {
     "name": "stdout",
     "output_type": "stream",
     "text": [
      "Fail to reject Null hypotesis, so we can't say there is a difference (on the average) \n",
      "     among European (EU) and Asian (AS) countries for the math scores.\n"
     ]
    }
   ],
   "source": [
    "alpha = 0.05\n",
    "\n",
    "if p_value < alpha:\n",
    "    print(\"Reject the Null Hypotesiz so we can say there is a difference (on the average) among \\\n",
    "    European (EU) and Asian (AS) countries for the math scores.\")\n",
    "else:\n",
    "    print(\"Fail to reject Null hypotesis, so we can't say there is a difference (on the average) \\n \\\n",
    "    among European (EU) and Asian (AS) countries for the math scores.\")"
   ]
  },
  {
   "cell_type": "code",
   "execution_count": 34,
   "metadata": {},
   "outputs": [
    {
     "data": {
      "image/png": "[encoded data removed]",
      "text/plain": [
       "<Figure size 720x360 with 1 Axes>"
      ]
     },
     "metadata": {
      "needs_background": "light"
     },
     "output_type": "display_data"
    }
   ],
   "source": [
    "labels = [\"EU\",\"AS\"]\n",
    "fig, ax = plt.subplots(figsize=(10, 5))\n",
    "ax.boxplot(list([EU,AS]))\n",
    "ax.set_xticklabels(labels);"
   ]
  },
  {
   "cell_type": "code",
   "execution_count": null,
   "metadata": {},
   "outputs": [],
   "source": []
  }
 ],
 "metadata": {
  "kernelspec": {
   "display_name": "Python 3",
   "language": "python",
   "name": "python3"
  },
  "language_info": {
   "codemirror_mode": {
    "name": "ipython",
    "version": 3
   },
   "file_extension": ".py",
   "mimetype": "text/x-python",
   "name": "python",
   "nbconvert_exporter": "python",
   "pygments_lexer": "ipython3",
   "version": "3.8.5"
  }
 },
 "nbformat": 4,
 "nbformat_minor": 4
}
