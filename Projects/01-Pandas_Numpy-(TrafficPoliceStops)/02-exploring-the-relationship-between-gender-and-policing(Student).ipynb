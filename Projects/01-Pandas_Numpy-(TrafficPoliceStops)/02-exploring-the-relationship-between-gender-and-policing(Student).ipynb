{
 "cells": [
  {
   "cell_type": "markdown",
   "metadata": {},
   "source": [
    "___\n",
    "\n",
    "<p style=\"text-align: center;\"><img src=\"https://docs.google.com/uc?id=1lY0Uj5R04yMY3-ZppPWxqCr5pvBLYPnV\" class=\"img-fluid\" alt=\"CLRSWY\"></p>\n",
    "\n",
    "___"
   ]
  },
  {
   "cell_type": "markdown",
   "metadata": {},
   "source": [
    "<h1><p style=\"text-align: center;\">Data Analysis with Python <br>Project - 1</p><h1> - Traffic Police Stops <img src=\"https://docs.google.com/uc?id=17CPCwi3_VvzcS87TOsh4_U8eExOhL6Ki\" class=\"img-fluid\" alt=\"CLRSWY\" width=\"200\" height=\"100\"> "
   ]
  },
  {
   "cell_type": "markdown",
   "metadata": {},
   "source": [
    "Does the ``gender`` of a driver have an impact on police behavior during a traffic stop? **In this chapter**, you will explore that question while practicing filtering, grouping, method chaining, Boolean math, string methods, and more!"
   ]
  },
  {
   "cell_type": "markdown",
   "metadata": {},
   "source": [
    "***"
   ]
  },
  {
   "cell_type": "markdown",
   "metadata": {},
   "source": [
    "## Examining traffic violations"
   ]
  },
  {
   "cell_type": "markdown",
   "metadata": {},
   "source": [
    "Before comparing the violations being committed by each gender, you should examine the ``violations`` committed by all drivers to get a baseline understanding of the data.\n",
    "\n",
    "In this exercise, you'll count the unique values in the ``violation`` column, and then separately express those counts as proportions."
   ]
  },
  {
   "cell_type": "markdown",
   "metadata": {},
   "source": [
    "> Before starting your work in this section **repeat the steps which you did in the previos chapter for preparing the data.** Continue to this chapter based on where you were in the end of the previous chapter."
   ]
  },
  {
   "cell_type": "code",
   "execution_count": 1,
   "metadata": {},
   "outputs": [],
   "source": [
    "import numpy as pd\n",
    "import pandas as pd"
   ]
  },
  {
   "cell_type": "code",
   "execution_count": 3,
   "metadata": {},
   "outputs": [],
   "source": [
    "ri = pd.read_csv('RI_cleaned.csv', low_memory=False)"
   ]
  },
  {
   "cell_type": "code",
   "execution_count": 4,
   "metadata": {},
   "outputs": [],
   "source": [
    "ri = ri.drop(['county_name','county_fips','fine_grained_location','state'], axis=1)"
   ]
  },
  {
   "cell_type": "code",
   "execution_count": 5,
   "metadata": {},
   "outputs": [],
   "source": [
    "ri.dropna(how='all', subset=['driver_gender'],inplace=True)"
   ]
  },
  {
   "cell_type": "code",
   "execution_count": 6,
   "metadata": {},
   "outputs": [],
   "source": [
    "ri['is_arrested'] = ri['is_arrested'].astype('bool')"
   ]
  },
  {
   "cell_type": "code",
   "execution_count": 7,
   "metadata": {},
   "outputs": [],
   "source": [
    "combined = ri['stop_date'] + ' ' + ri['stop_time']"
   ]
  },
  {
   "cell_type": "code",
   "execution_count": 8,
   "metadata": {},
   "outputs": [],
   "source": [
    "ri['stop_datetime'] = pd.to_datetime(combined)"
   ]
  },
  {
   "cell_type": "code",
   "execution_count": 9,
   "metadata": {},
   "outputs": [],
   "source": [
    "ri = ri.set_index(pd.DatetimeIndex(ri['stop_datetime']))"
   ]
  },
  {
   "cell_type": "code",
   "execution_count": 10,
   "metadata": {},
   "outputs": [],
   "source": [
    "ri.drop('stop_datetime', axis = 1, inplace = True)"
   ]
  },
  {
   "cell_type": "code",
   "execution_count": 11,
   "metadata": {
    "scrolled": true
   },
   "outputs": [
    {
     "data": {
      "text/plain": [
       "Index(['id', 'stop_date', 'stop_time', 'location_raw', 'police_department',\n",
       "       'driver_gender', 'driver_age_raw', 'driver_age', 'driver_race_raw',\n",
       "       'driver_race', 'violation_raw', 'violation', 'search_conducted',\n",
       "       'search_type_raw', 'search_type', 'contraband_found', 'stop_outcome',\n",
       "       'is_arrested', 'stop_duration', 'out_of_state', 'drugs_related_stop',\n",
       "       'district'],\n",
       "      dtype='object')"
      ]
     },
     "execution_count": 11,
     "metadata": {},
     "output_type": "execute_result"
    }
   ],
   "source": [
    "ri.columns"
   ]
  },
  {
   "cell_type": "code",
   "execution_count": 12,
   "metadata": {},
   "outputs": [
    {
     "data": {
      "text/plain": [
       "id                     object\n",
       "stop_date              object\n",
       "stop_time              object\n",
       "location_raw           object\n",
       "police_department      object\n",
       "driver_gender          object\n",
       "driver_age_raw        float64\n",
       "driver_age            float64\n",
       "driver_race_raw        object\n",
       "driver_race            object\n",
       "violation_raw          object\n",
       "violation              object\n",
       "search_conducted       object\n",
       "search_type_raw        object\n",
       "search_type            object\n",
       "contraband_found         bool\n",
       "stop_outcome           object\n",
       "is_arrested              bool\n",
       "stop_duration          object\n",
       "out_of_state           object\n",
       "drugs_related_stop       bool\n",
       "district               object\n",
       "dtype: object"
      ]
     },
     "execution_count": 12,
     "metadata": {},
     "output_type": "execute_result"
    }
   ],
   "source": [
    "ri.dtypes"
   ]
  },
  {
   "cell_type": "code",
   "execution_count": 13,
   "metadata": {},
   "outputs": [
    {
     "data": {
      "text/plain": [
       "DatetimeIndex(['2005-01-02 01:55:00', '2005-01-02 20:30:00',\n",
       "               '2005-01-04 12:55:00', '2005-01-06 01:30:00',\n",
       "               '2005-01-12 08:05:00', '2005-01-18 08:15:00',\n",
       "               '2005-01-18 17:13:00', '2005-01-23 23:15:00',\n",
       "               '2005-01-24 20:32:00', '2005-02-09 03:05:00',\n",
       "               ...\n",
       "               '2015-12-31 22:10:00', '2015-12-31 22:14:00',\n",
       "               '2015-12-31 22:26:00', '2015-12-31 22:38:00',\n",
       "               '2015-12-31 22:39:00', '2015-12-31 22:46:00',\n",
       "               '2015-12-31 22:47:00', '2015-12-31 23:08:00',\n",
       "               '2015-12-31 23:44:00', '2015-12-31 23:48:00'],\n",
       "              dtype='datetime64[ns]', name='stop_datetime', length=480584, freq=None)"
      ]
     },
     "execution_count": 13,
     "metadata": {},
     "output_type": "execute_result"
    }
   ],
   "source": [
    "ri.index"
   ]
  },
  {
   "cell_type": "code",
   "execution_count": 14,
   "metadata": {},
   "outputs": [
    {
     "data": {
      "text/html": [
       "<div>\n",
       "<style scoped>\n",
       "    .dataframe tbody tr th:only-of-type {\n",
       "        vertical-align: middle;\n",
       "    }\n",
       "\n",
       "    .dataframe tbody tr th {\n",
       "        vertical-align: top;\n",
       "    }\n",
       "\n",
       "    .dataframe thead th {\n",
       "        text-align: right;\n",
       "    }\n",
       "</style>\n",
       "<table border=\"1\" class=\"dataframe\">\n",
       "  <thead>\n",
       "    <tr style=\"text-align: right;\">\n",
       "      <th></th>\n",
       "      <th>id</th>\n",
       "      <th>stop_date</th>\n",
       "      <th>stop_time</th>\n",
       "      <th>location_raw</th>\n",
       "      <th>police_department</th>\n",
       "      <th>driver_gender</th>\n",
       "      <th>driver_age_raw</th>\n",
       "      <th>driver_age</th>\n",
       "      <th>driver_race_raw</th>\n",
       "      <th>driver_race</th>\n",
       "      <th>...</th>\n",
       "      <th>search_conducted</th>\n",
       "      <th>search_type_raw</th>\n",
       "      <th>search_type</th>\n",
       "      <th>contraband_found</th>\n",
       "      <th>stop_outcome</th>\n",
       "      <th>is_arrested</th>\n",
       "      <th>stop_duration</th>\n",
       "      <th>out_of_state</th>\n",
       "      <th>drugs_related_stop</th>\n",
       "      <th>district</th>\n",
       "    </tr>\n",
       "    <tr>\n",
       "      <th>stop_datetime</th>\n",
       "      <th></th>\n",
       "      <th></th>\n",
       "      <th></th>\n",
       "      <th></th>\n",
       "      <th></th>\n",
       "      <th></th>\n",
       "      <th></th>\n",
       "      <th></th>\n",
       "      <th></th>\n",
       "      <th></th>\n",
       "      <th></th>\n",
       "      <th></th>\n",
       "      <th></th>\n",
       "      <th></th>\n",
       "      <th></th>\n",
       "      <th></th>\n",
       "      <th></th>\n",
       "      <th></th>\n",
       "      <th></th>\n",
       "      <th></th>\n",
       "      <th></th>\n",
       "    </tr>\n",
       "  </thead>\n",
       "  <tbody>\n",
       "    <tr>\n",
       "      <th>2005-01-02 01:55:00</th>\n",
       "      <td>RI-2005-00001</td>\n",
       "      <td>2005-01-02</td>\n",
       "      <td>01:55</td>\n",
       "      <td>Zone K1</td>\n",
       "      <td>600</td>\n",
       "      <td>M</td>\n",
       "      <td>1985.0</td>\n",
       "      <td>20.0</td>\n",
       "      <td>W</td>\n",
       "      <td>White</td>\n",
       "      <td>...</td>\n",
       "      <td>False</td>\n",
       "      <td>NaN</td>\n",
       "      <td>NaN</td>\n",
       "      <td>False</td>\n",
       "      <td>Citation</td>\n",
       "      <td>False</td>\n",
       "      <td>0-15 Min</td>\n",
       "      <td>False</td>\n",
       "      <td>False</td>\n",
       "      <td>Zone K1</td>\n",
       "    </tr>\n",
       "    <tr>\n",
       "      <th>2005-01-02 20:30:00</th>\n",
       "      <td>RI-2005-00002</td>\n",
       "      <td>2005-01-02</td>\n",
       "      <td>20:30</td>\n",
       "      <td>Zone X4</td>\n",
       "      <td>500</td>\n",
       "      <td>M</td>\n",
       "      <td>1987.0</td>\n",
       "      <td>18.0</td>\n",
       "      <td>W</td>\n",
       "      <td>White</td>\n",
       "      <td>...</td>\n",
       "      <td>False</td>\n",
       "      <td>NaN</td>\n",
       "      <td>NaN</td>\n",
       "      <td>False</td>\n",
       "      <td>Citation</td>\n",
       "      <td>False</td>\n",
       "      <td>16-30 Min</td>\n",
       "      <td>False</td>\n",
       "      <td>False</td>\n",
       "      <td>Zone X4</td>\n",
       "    </tr>\n",
       "    <tr>\n",
       "      <th>2005-01-04 12:55:00</th>\n",
       "      <td>RI-2005-00004</td>\n",
       "      <td>2005-01-04</td>\n",
       "      <td>12:55</td>\n",
       "      <td>Zone X4</td>\n",
       "      <td>500</td>\n",
       "      <td>M</td>\n",
       "      <td>1986.0</td>\n",
       "      <td>19.0</td>\n",
       "      <td>W</td>\n",
       "      <td>White</td>\n",
       "      <td>...</td>\n",
       "      <td>False</td>\n",
       "      <td>NaN</td>\n",
       "      <td>NaN</td>\n",
       "      <td>False</td>\n",
       "      <td>Citation</td>\n",
       "      <td>False</td>\n",
       "      <td>0-15 Min</td>\n",
       "      <td>False</td>\n",
       "      <td>False</td>\n",
       "      <td>Zone X4</td>\n",
       "    </tr>\n",
       "    <tr>\n",
       "      <th>2005-01-06 01:30:00</th>\n",
       "      <td>RI-2005-00005</td>\n",
       "      <td>2005-01-06</td>\n",
       "      <td>01:30</td>\n",
       "      <td>Zone X4</td>\n",
       "      <td>500</td>\n",
       "      <td>M</td>\n",
       "      <td>1978.0</td>\n",
       "      <td>27.0</td>\n",
       "      <td>B</td>\n",
       "      <td>Black</td>\n",
       "      <td>...</td>\n",
       "      <td>False</td>\n",
       "      <td>NaN</td>\n",
       "      <td>NaN</td>\n",
       "      <td>False</td>\n",
       "      <td>Citation</td>\n",
       "      <td>False</td>\n",
       "      <td>0-15 Min</td>\n",
       "      <td>False</td>\n",
       "      <td>False</td>\n",
       "      <td>Zone X4</td>\n",
       "    </tr>\n",
       "    <tr>\n",
       "      <th>2005-01-12 08:05:00</th>\n",
       "      <td>RI-2005-00006</td>\n",
       "      <td>2005-01-12</td>\n",
       "      <td>08:05</td>\n",
       "      <td>Zone X1</td>\n",
       "      <td>000</td>\n",
       "      <td>M</td>\n",
       "      <td>1973.0</td>\n",
       "      <td>32.0</td>\n",
       "      <td>B</td>\n",
       "      <td>Black</td>\n",
       "      <td>...</td>\n",
       "      <td>False</td>\n",
       "      <td>NaN</td>\n",
       "      <td>NaN</td>\n",
       "      <td>False</td>\n",
       "      <td>Citation</td>\n",
       "      <td>False</td>\n",
       "      <td>30+ Min</td>\n",
       "      <td>True</td>\n",
       "      <td>False</td>\n",
       "      <td>Zone X1</td>\n",
       "    </tr>\n",
       "  </tbody>\n",
       "</table>\n",
       "<p>5 rows × 22 columns</p>\n",
       "</div>"
      ],
      "text/plain": [
       "                                id   stop_date stop_time location_raw  \\\n",
       "stop_datetime                                                           \n",
       "2005-01-02 01:55:00  RI-2005-00001  2005-01-02     01:55      Zone K1   \n",
       "2005-01-02 20:30:00  RI-2005-00002  2005-01-02     20:30      Zone X4   \n",
       "2005-01-04 12:55:00  RI-2005-00004  2005-01-04     12:55      Zone X4   \n",
       "2005-01-06 01:30:00  RI-2005-00005  2005-01-06     01:30      Zone X4   \n",
       "2005-01-12 08:05:00  RI-2005-00006  2005-01-12     08:05      Zone X1   \n",
       "\n",
       "                    police_department driver_gender  driver_age_raw  \\\n",
       "stop_datetime                                                         \n",
       "2005-01-02 01:55:00               600             M          1985.0   \n",
       "2005-01-02 20:30:00               500             M          1987.0   \n",
       "2005-01-04 12:55:00               500             M          1986.0   \n",
       "2005-01-06 01:30:00               500             M          1978.0   \n",
       "2005-01-12 08:05:00               000             M          1973.0   \n",
       "\n",
       "                     driver_age driver_race_raw driver_race  ...  \\\n",
       "stop_datetime                                                ...   \n",
       "2005-01-02 01:55:00        20.0               W       White  ...   \n",
       "2005-01-02 20:30:00        18.0               W       White  ...   \n",
       "2005-01-04 12:55:00        19.0               W       White  ...   \n",
       "2005-01-06 01:30:00        27.0               B       Black  ...   \n",
       "2005-01-12 08:05:00        32.0               B       Black  ...   \n",
       "\n",
       "                    search_conducted search_type_raw search_type  \\\n",
       "stop_datetime                                                      \n",
       "2005-01-02 01:55:00            False             NaN         NaN   \n",
       "2005-01-02 20:30:00            False             NaN         NaN   \n",
       "2005-01-04 12:55:00            False             NaN         NaN   \n",
       "2005-01-06 01:30:00            False             NaN         NaN   \n",
       "2005-01-12 08:05:00            False             NaN         NaN   \n",
       "\n",
       "                    contraband_found stop_outcome  is_arrested stop_duration  \\\n",
       "stop_datetime                                                                  \n",
       "2005-01-02 01:55:00            False     Citation        False      0-15 Min   \n",
       "2005-01-02 20:30:00            False     Citation        False     16-30 Min   \n",
       "2005-01-04 12:55:00            False     Citation        False      0-15 Min   \n",
       "2005-01-06 01:30:00            False     Citation        False      0-15 Min   \n",
       "2005-01-12 08:05:00            False     Citation        False       30+ Min   \n",
       "\n",
       "                     out_of_state drugs_related_stop district  \n",
       "stop_datetime                                                  \n",
       "2005-01-02 01:55:00         False              False  Zone K1  \n",
       "2005-01-02 20:30:00         False              False  Zone X4  \n",
       "2005-01-04 12:55:00         False              False  Zone X4  \n",
       "2005-01-06 01:30:00         False              False  Zone X4  \n",
       "2005-01-12 08:05:00          True              False  Zone X1  \n",
       "\n",
       "[5 rows x 22 columns]"
      ]
     },
     "execution_count": 14,
     "metadata": {},
     "output_type": "execute_result"
    }
   ],
   "source": [
    "ri.head()"
   ]
  },
  {
   "cell_type": "markdown",
   "metadata": {},
   "source": [
    "**INSTRUCTIONS**\n",
    "\n",
    "*   Count the unique values in the ``violation`` column, to see what violations are being committed by all drivers.\n",
    "*   Express the violation counts as proportions of the total."
   ]
  },
  {
   "cell_type": "code",
   "execution_count": 15,
   "metadata": {},
   "outputs": [
    {
     "data": {
      "text/plain": [
       "Speeding               268736\n",
       "Moving violation        90228\n",
       "Equipment               61250\n",
       "Other                   24216\n",
       "Registration/plates     19830\n",
       "Seat belt               16324\n",
       "Name: violation, dtype: int64"
      ]
     },
     "execution_count": 15,
     "metadata": {},
     "output_type": "execute_result"
    }
   ],
   "source": [
    "ri['violation'].value_counts(dropna=False)"
   ]
  },
  {
   "cell_type": "code",
   "execution_count": 16,
   "metadata": {},
   "outputs": [
    {
     "data": {
      "text/plain": [
       "480584"
      ]
     },
     "execution_count": 16,
     "metadata": {},
     "output_type": "execute_result"
    }
   ],
   "source": [
    "len(ri['violation'])"
   ]
  },
  {
   "cell_type": "code",
   "execution_count": 17,
   "metadata": {
    "scrolled": true
   },
   "outputs": [
    {
     "data": {
      "text/plain": [
       "0"
      ]
     },
     "execution_count": 17,
     "metadata": {},
     "output_type": "execute_result"
    }
   ],
   "source": [
    "ri['violation'].isnull().sum()"
   ]
  },
  {
   "cell_type": "code",
   "execution_count": 18,
   "metadata": {},
   "outputs": [
    {
     "data": {
      "text/plain": [
       "Speeding               55.918632\n",
       "Moving violation       18.774658\n",
       "Equipment              12.744910\n",
       "Other                   5.038869\n",
       "Registration/plates     4.126230\n",
       "Seat belt               3.396701\n",
       "Name: violation, dtype: float64"
      ]
     },
     "execution_count": 18,
     "metadata": {},
     "output_type": "execute_result"
    }
   ],
   "source": [
    "(ri['violation'].value_counts(dropna=False)/len(ri['violation'])) * 100"
   ]
  },
  {
   "cell_type": "markdown",
   "metadata": {},
   "source": [
    "***"
   ]
  },
  {
   "cell_type": "markdown",
   "metadata": {},
   "source": [
    "## Comparing violations by gender"
   ]
  },
  {
   "cell_type": "markdown",
   "metadata": {},
   "source": [
    "The question we're trying to answer is whether male and female drivers tend to commit different types of traffic violations.\n",
    "\n",
    "You'll first create a ``DataFrame`` for each gender, and then analyze the ``violations`` in each ``DataFrame`` separately."
   ]
  },
  {
   "cell_type": "markdown",
   "metadata": {},
   "source": [
    "**INSTRUCTIONS**\n",
    "\n",
    "*   Create a ``DataFrame``, female, that only contains rows in which ``driver_gender`` is ``'F'``.\n",
    "*   Create a ``DataFrame``, male, that only contains rows in which ``driver_gender`` is ``'M'``.\n",
    "*   Count the ``violations`` committed by female drivers and express them as proportions.\n",
    "*   Count the violations committed by male drivers and express them as proportions."
   ]
  },
  {
   "cell_type": "code",
   "execution_count": 19,
   "metadata": {},
   "outputs": [],
   "source": [
    "pd.set_option('display.max_columns', 50)"
   ]
  },
  {
   "cell_type": "code",
   "execution_count": 20,
   "metadata": {},
   "outputs": [
    {
     "data": {
      "text/html": [
       "<div>\n",
       "<style scoped>\n",
       "    .dataframe tbody tr th:only-of-type {\n",
       "        vertical-align: middle;\n",
       "    }\n",
       "\n",
       "    .dataframe tbody tr th {\n",
       "        vertical-align: top;\n",
       "    }\n",
       "\n",
       "    .dataframe thead th {\n",
       "        text-align: right;\n",
       "    }\n",
       "</style>\n",
       "<table border=\"1\" class=\"dataframe\">\n",
       "  <thead>\n",
       "    <tr style=\"text-align: right;\">\n",
       "      <th></th>\n",
       "      <th>id</th>\n",
       "      <th>stop_date</th>\n",
       "      <th>stop_time</th>\n",
       "      <th>location_raw</th>\n",
       "      <th>police_department</th>\n",
       "      <th>driver_gender</th>\n",
       "      <th>driver_age_raw</th>\n",
       "      <th>driver_age</th>\n",
       "      <th>driver_race_raw</th>\n",
       "      <th>driver_race</th>\n",
       "      <th>violation_raw</th>\n",
       "      <th>violation</th>\n",
       "      <th>search_conducted</th>\n",
       "      <th>search_type_raw</th>\n",
       "      <th>search_type</th>\n",
       "      <th>contraband_found</th>\n",
       "      <th>stop_outcome</th>\n",
       "      <th>is_arrested</th>\n",
       "      <th>stop_duration</th>\n",
       "      <th>out_of_state</th>\n",
       "      <th>drugs_related_stop</th>\n",
       "      <th>district</th>\n",
       "    </tr>\n",
       "    <tr>\n",
       "      <th>stop_datetime</th>\n",
       "      <th></th>\n",
       "      <th></th>\n",
       "      <th></th>\n",
       "      <th></th>\n",
       "      <th></th>\n",
       "      <th></th>\n",
       "      <th></th>\n",
       "      <th></th>\n",
       "      <th></th>\n",
       "      <th></th>\n",
       "      <th></th>\n",
       "      <th></th>\n",
       "      <th></th>\n",
       "      <th></th>\n",
       "      <th></th>\n",
       "      <th></th>\n",
       "      <th></th>\n",
       "      <th></th>\n",
       "      <th></th>\n",
       "      <th></th>\n",
       "      <th></th>\n",
       "      <th></th>\n",
       "    </tr>\n",
       "  </thead>\n",
       "  <tbody>\n",
       "    <tr>\n",
       "      <th>2013-08-15 16:01:00</th>\n",
       "      <td>RI-2013-27768</td>\n",
       "      <td>2013-08-15</td>\n",
       "      <td>16:01</td>\n",
       "      <td>Zone X3</td>\n",
       "      <td>200</td>\n",
       "      <td>M</td>\n",
       "      <td>1985.0</td>\n",
       "      <td>28.0</td>\n",
       "      <td>H</td>\n",
       "      <td>Hispanic</td>\n",
       "      <td>Speeding</td>\n",
       "      <td>Speeding</td>\n",
       "      <td>True</td>\n",
       "      <td>Incident to Arrest</td>\n",
       "      <td>Incident to Arrest</td>\n",
       "      <td>False</td>\n",
       "      <td>Arrest Driver</td>\n",
       "      <td>True</td>\n",
       "      <td>0-15 Min</td>\n",
       "      <td>False</td>\n",
       "      <td>False</td>\n",
       "      <td>Zone X3</td>\n",
       "    </tr>\n",
       "    <tr>\n",
       "      <th>2006-07-07 03:10:00</th>\n",
       "      <td>RI-2006-30510</td>\n",
       "      <td>2006-07-07</td>\n",
       "      <td>03:10</td>\n",
       "      <td>Zone K1</td>\n",
       "      <td>600</td>\n",
       "      <td>M</td>\n",
       "      <td>1989.0</td>\n",
       "      <td>17.0</td>\n",
       "      <td>B</td>\n",
       "      <td>Black</td>\n",
       "      <td>Speeding</td>\n",
       "      <td>Speeding</td>\n",
       "      <td>False</td>\n",
       "      <td>NaN</td>\n",
       "      <td>NaN</td>\n",
       "      <td>False</td>\n",
       "      <td>Citation</td>\n",
       "      <td>False</td>\n",
       "      <td>0-15 Min</td>\n",
       "      <td>True</td>\n",
       "      <td>False</td>\n",
       "      <td>Zone K1</td>\n",
       "    </tr>\n",
       "    <tr>\n",
       "      <th>2011-05-04 20:31:00</th>\n",
       "      <td>RI-2011-13573</td>\n",
       "      <td>2011-05-04</td>\n",
       "      <td>20:31</td>\n",
       "      <td>Zone X3</td>\n",
       "      <td>200</td>\n",
       "      <td>M</td>\n",
       "      <td>1975.0</td>\n",
       "      <td>36.0</td>\n",
       "      <td>W</td>\n",
       "      <td>White</td>\n",
       "      <td>Equipment/Inspection Violation</td>\n",
       "      <td>Equipment</td>\n",
       "      <td>False</td>\n",
       "      <td>NaN</td>\n",
       "      <td>NaN</td>\n",
       "      <td>False</td>\n",
       "      <td>Citation</td>\n",
       "      <td>False</td>\n",
       "      <td>0-15 Min</td>\n",
       "      <td>True</td>\n",
       "      <td>False</td>\n",
       "      <td>Zone X3</td>\n",
       "    </tr>\n",
       "    <tr>\n",
       "      <th>2015-10-03 10:22:00</th>\n",
       "      <td>RI-2015-35798</td>\n",
       "      <td>2015-10-03</td>\n",
       "      <td>10:22</td>\n",
       "      <td>Zone X4</td>\n",
       "      <td>500</td>\n",
       "      <td>M</td>\n",
       "      <td>1958.0</td>\n",
       "      <td>57.0</td>\n",
       "      <td>B</td>\n",
       "      <td>Black</td>\n",
       "      <td>Equipment/Inspection Violation</td>\n",
       "      <td>Equipment</td>\n",
       "      <td>False</td>\n",
       "      <td>NaN</td>\n",
       "      <td>NaN</td>\n",
       "      <td>False</td>\n",
       "      <td>Citation</td>\n",
       "      <td>False</td>\n",
       "      <td>0-15 Min</td>\n",
       "      <td>False</td>\n",
       "      <td>False</td>\n",
       "      <td>Zone X4</td>\n",
       "    </tr>\n",
       "    <tr>\n",
       "      <th>2006-11-15 10:35:00</th>\n",
       "      <td>RI-2006-51155</td>\n",
       "      <td>2006-11-15</td>\n",
       "      <td>10:35</td>\n",
       "      <td>Zone X4</td>\n",
       "      <td>500</td>\n",
       "      <td>M</td>\n",
       "      <td>1959.0</td>\n",
       "      <td>47.0</td>\n",
       "      <td>W</td>\n",
       "      <td>White</td>\n",
       "      <td>Speeding</td>\n",
       "      <td>Speeding</td>\n",
       "      <td>False</td>\n",
       "      <td>NaN</td>\n",
       "      <td>NaN</td>\n",
       "      <td>False</td>\n",
       "      <td>Citation</td>\n",
       "      <td>False</td>\n",
       "      <td>0-15 Min</td>\n",
       "      <td>True</td>\n",
       "      <td>False</td>\n",
       "      <td>Zone X4</td>\n",
       "    </tr>\n",
       "    <tr>\n",
       "      <th>2013-07-11 07:35:00</th>\n",
       "      <td>RI-2013-23548</td>\n",
       "      <td>2013-07-11</td>\n",
       "      <td>07:35</td>\n",
       "      <td>Zone K3</td>\n",
       "      <td>300</td>\n",
       "      <td>F</td>\n",
       "      <td>1969.0</td>\n",
       "      <td>44.0</td>\n",
       "      <td>W</td>\n",
       "      <td>White</td>\n",
       "      <td>Other Traffic Violation</td>\n",
       "      <td>Moving violation</td>\n",
       "      <td>True</td>\n",
       "      <td>Probable Cause</td>\n",
       "      <td>Probable Cause</td>\n",
       "      <td>True</td>\n",
       "      <td>Warning</td>\n",
       "      <td>False</td>\n",
       "      <td>0-15 Min</td>\n",
       "      <td>False</td>\n",
       "      <td>False</td>\n",
       "      <td>Zone K3</td>\n",
       "    </tr>\n",
       "    <tr>\n",
       "      <th>2013-11-23 15:00:00</th>\n",
       "      <td>RI-2013-40245</td>\n",
       "      <td>2013-11-23</td>\n",
       "      <td>15:00</td>\n",
       "      <td>Zone X4</td>\n",
       "      <td>500</td>\n",
       "      <td>M</td>\n",
       "      <td>1990.0</td>\n",
       "      <td>23.0</td>\n",
       "      <td>W</td>\n",
       "      <td>White</td>\n",
       "      <td>Speeding</td>\n",
       "      <td>Speeding</td>\n",
       "      <td>False</td>\n",
       "      <td>NaN</td>\n",
       "      <td>NaN</td>\n",
       "      <td>False</td>\n",
       "      <td>Citation</td>\n",
       "      <td>False</td>\n",
       "      <td>16-30 Min</td>\n",
       "      <td>False</td>\n",
       "      <td>False</td>\n",
       "      <td>Zone X4</td>\n",
       "    </tr>\n",
       "    <tr>\n",
       "      <th>2006-12-16 02:21:00</th>\n",
       "      <td>RI-2006-56090</td>\n",
       "      <td>2006-12-16</td>\n",
       "      <td>02:21</td>\n",
       "      <td>Zone K3</td>\n",
       "      <td>300</td>\n",
       "      <td>M</td>\n",
       "      <td>1982.0</td>\n",
       "      <td>24.0</td>\n",
       "      <td>W</td>\n",
       "      <td>White</td>\n",
       "      <td>Speeding</td>\n",
       "      <td>Speeding</td>\n",
       "      <td>False</td>\n",
       "      <td>NaN</td>\n",
       "      <td>NaN</td>\n",
       "      <td>False</td>\n",
       "      <td>Citation</td>\n",
       "      <td>False</td>\n",
       "      <td>0-15 Min</td>\n",
       "      <td>True</td>\n",
       "      <td>False</td>\n",
       "      <td>Zone K3</td>\n",
       "    </tr>\n",
       "    <tr>\n",
       "      <th>2015-04-27 09:25:00</th>\n",
       "      <td>RI-2015-13582</td>\n",
       "      <td>2015-04-27</td>\n",
       "      <td>09:25</td>\n",
       "      <td>Zone X3</td>\n",
       "      <td>200</td>\n",
       "      <td>M</td>\n",
       "      <td>1985.0</td>\n",
       "      <td>30.0</td>\n",
       "      <td>W</td>\n",
       "      <td>White</td>\n",
       "      <td>Seatbelt Violation</td>\n",
       "      <td>Seat belt</td>\n",
       "      <td>False</td>\n",
       "      <td>NaN</td>\n",
       "      <td>NaN</td>\n",
       "      <td>False</td>\n",
       "      <td>Citation</td>\n",
       "      <td>False</td>\n",
       "      <td>0-15 Min</td>\n",
       "      <td>False</td>\n",
       "      <td>False</td>\n",
       "      <td>Zone X3</td>\n",
       "    </tr>\n",
       "    <tr>\n",
       "      <th>2008-08-20 12:12:00</th>\n",
       "      <td>RI-2008-31096</td>\n",
       "      <td>2008-08-20</td>\n",
       "      <td>12:12</td>\n",
       "      <td>Zone X3</td>\n",
       "      <td>200</td>\n",
       "      <td>F</td>\n",
       "      <td>1963.0</td>\n",
       "      <td>45.0</td>\n",
       "      <td>W</td>\n",
       "      <td>White</td>\n",
       "      <td>Speeding</td>\n",
       "      <td>Speeding</td>\n",
       "      <td>False</td>\n",
       "      <td>NaN</td>\n",
       "      <td>NaN</td>\n",
       "      <td>False</td>\n",
       "      <td>Citation</td>\n",
       "      <td>False</td>\n",
       "      <td>0-15 Min</td>\n",
       "      <td>True</td>\n",
       "      <td>False</td>\n",
       "      <td>Zone X3</td>\n",
       "    </tr>\n",
       "  </tbody>\n",
       "</table>\n",
       "</div>"
      ],
      "text/plain": [
       "                                id   stop_date stop_time location_raw  \\\n",
       "stop_datetime                                                           \n",
       "2013-08-15 16:01:00  RI-2013-27768  2013-08-15     16:01      Zone X3   \n",
       "2006-07-07 03:10:00  RI-2006-30510  2006-07-07     03:10      Zone K1   \n",
       "2011-05-04 20:31:00  RI-2011-13573  2011-05-04     20:31      Zone X3   \n",
       "2015-10-03 10:22:00  RI-2015-35798  2015-10-03     10:22      Zone X4   \n",
       "2006-11-15 10:35:00  RI-2006-51155  2006-11-15     10:35      Zone X4   \n",
       "2013-07-11 07:35:00  RI-2013-23548  2013-07-11     07:35      Zone K3   \n",
       "2013-11-23 15:00:00  RI-2013-40245  2013-11-23     15:00      Zone X4   \n",
       "2006-12-16 02:21:00  RI-2006-56090  2006-12-16     02:21      Zone K3   \n",
       "2015-04-27 09:25:00  RI-2015-13582  2015-04-27     09:25      Zone X3   \n",
       "2008-08-20 12:12:00  RI-2008-31096  2008-08-20     12:12      Zone X3   \n",
       "\n",
       "                    police_department driver_gender  driver_age_raw  \\\n",
       "stop_datetime                                                         \n",
       "2013-08-15 16:01:00               200             M          1985.0   \n",
       "2006-07-07 03:10:00               600             M          1989.0   \n",
       "2011-05-04 20:31:00               200             M          1975.0   \n",
       "2015-10-03 10:22:00               500             M          1958.0   \n",
       "2006-11-15 10:35:00               500             M          1959.0   \n",
       "2013-07-11 07:35:00               300             F          1969.0   \n",
       "2013-11-23 15:00:00               500             M          1990.0   \n",
       "2006-12-16 02:21:00               300             M          1982.0   \n",
       "2015-04-27 09:25:00               200             M          1985.0   \n",
       "2008-08-20 12:12:00               200             F          1963.0   \n",
       "\n",
       "                     driver_age driver_race_raw driver_race  \\\n",
       "stop_datetime                                                 \n",
       "2013-08-15 16:01:00        28.0               H    Hispanic   \n",
       "2006-07-07 03:10:00        17.0               B       Black   \n",
       "2011-05-04 20:31:00        36.0               W       White   \n",
       "2015-10-03 10:22:00        57.0               B       Black   \n",
       "2006-11-15 10:35:00        47.0               W       White   \n",
       "2013-07-11 07:35:00        44.0               W       White   \n",
       "2013-11-23 15:00:00        23.0               W       White   \n",
       "2006-12-16 02:21:00        24.0               W       White   \n",
       "2015-04-27 09:25:00        30.0               W       White   \n",
       "2008-08-20 12:12:00        45.0               W       White   \n",
       "\n",
       "                                      violation_raw         violation  \\\n",
       "stop_datetime                                                           \n",
       "2013-08-15 16:01:00                        Speeding          Speeding   \n",
       "2006-07-07 03:10:00                        Speeding          Speeding   \n",
       "2011-05-04 20:31:00  Equipment/Inspection Violation         Equipment   \n",
       "2015-10-03 10:22:00  Equipment/Inspection Violation         Equipment   \n",
       "2006-11-15 10:35:00                        Speeding          Speeding   \n",
       "2013-07-11 07:35:00         Other Traffic Violation  Moving violation   \n",
       "2013-11-23 15:00:00                        Speeding          Speeding   \n",
       "2006-12-16 02:21:00                        Speeding          Speeding   \n",
       "2015-04-27 09:25:00              Seatbelt Violation         Seat belt   \n",
       "2008-08-20 12:12:00                        Speeding          Speeding   \n",
       "\n",
       "                    search_conducted     search_type_raw         search_type  \\\n",
       "stop_datetime                                                                  \n",
       "2013-08-15 16:01:00             True  Incident to Arrest  Incident to Arrest   \n",
       "2006-07-07 03:10:00            False                 NaN                 NaN   \n",
       "2011-05-04 20:31:00            False                 NaN                 NaN   \n",
       "2015-10-03 10:22:00            False                 NaN                 NaN   \n",
       "2006-11-15 10:35:00            False                 NaN                 NaN   \n",
       "2013-07-11 07:35:00             True      Probable Cause      Probable Cause   \n",
       "2013-11-23 15:00:00            False                 NaN                 NaN   \n",
       "2006-12-16 02:21:00            False                 NaN                 NaN   \n",
       "2015-04-27 09:25:00            False                 NaN                 NaN   \n",
       "2008-08-20 12:12:00            False                 NaN                 NaN   \n",
       "\n",
       "                     contraband_found   stop_outcome  is_arrested  \\\n",
       "stop_datetime                                                       \n",
       "2013-08-15 16:01:00             False  Arrest Driver         True   \n",
       "2006-07-07 03:10:00             False       Citation        False   \n",
       "2011-05-04 20:31:00             False       Citation        False   \n",
       "2015-10-03 10:22:00             False       Citation        False   \n",
       "2006-11-15 10:35:00             False       Citation        False   \n",
       "2013-07-11 07:35:00              True        Warning        False   \n",
       "2013-11-23 15:00:00             False       Citation        False   \n",
       "2006-12-16 02:21:00             False       Citation        False   \n",
       "2015-04-27 09:25:00             False       Citation        False   \n",
       "2008-08-20 12:12:00             False       Citation        False   \n",
       "\n",
       "                    stop_duration out_of_state  drugs_related_stop district  \n",
       "stop_datetime                                                                \n",
       "2013-08-15 16:01:00      0-15 Min        False               False  Zone X3  \n",
       "2006-07-07 03:10:00      0-15 Min         True               False  Zone K1  \n",
       "2011-05-04 20:31:00      0-15 Min         True               False  Zone X3  \n",
       "2015-10-03 10:22:00      0-15 Min        False               False  Zone X4  \n",
       "2006-11-15 10:35:00      0-15 Min         True               False  Zone X4  \n",
       "2013-07-11 07:35:00      0-15 Min        False               False  Zone K3  \n",
       "2013-11-23 15:00:00     16-30 Min        False               False  Zone X4  \n",
       "2006-12-16 02:21:00      0-15 Min         True               False  Zone K3  \n",
       "2015-04-27 09:25:00      0-15 Min        False               False  Zone X3  \n",
       "2008-08-20 12:12:00      0-15 Min         True               False  Zone X3  "
      ]
     },
     "execution_count": 20,
     "metadata": {},
     "output_type": "execute_result"
    }
   ],
   "source": [
    "ri.sample(10)"
   ]
  },
  {
   "cell_type": "code",
   "execution_count": 21,
   "metadata": {},
   "outputs": [],
   "source": [
    "dff = ri[ri['driver_gender'] == 'F']"
   ]
  },
  {
   "cell_type": "code",
   "execution_count": 22,
   "metadata": {},
   "outputs": [
    {
     "name": "stdout",
     "output_type": "stream",
     "text": [
      "<class 'pandas.core.frame.DataFrame'>\n",
      "DatetimeIndex: 131138 entries, 2005-02-24 01:20:00 to 2015-12-31 22:39:00\n",
      "Data columns (total 22 columns):\n",
      " #   Column              Non-Null Count   Dtype  \n",
      "---  ------              --------------   -----  \n",
      " 0   id                  131138 non-null  object \n",
      " 1   stop_date           131138 non-null  object \n",
      " 2   stop_time           131138 non-null  object \n",
      " 3   location_raw        131138 non-null  object \n",
      " 4   police_department   131138 non-null  object \n",
      " 5   driver_gender       131138 non-null  object \n",
      " 6   driver_age_raw      131137 non-null  float64\n",
      " 7   driver_age          130828 non-null  float64\n",
      " 8   driver_race_raw     131138 non-null  object \n",
      " 9   driver_race         131138 non-null  object \n",
      " 10  violation_raw       131138 non-null  object \n",
      " 11  violation           131138 non-null  object \n",
      " 12  search_conducted    131138 non-null  object \n",
      " 13  search_type_raw     2459 non-null    object \n",
      " 14  search_type         2459 non-null    object \n",
      " 15  contraband_found    131138 non-null  bool   \n",
      " 16  stop_outcome        131138 non-null  object \n",
      " 17  is_arrested         131138 non-null  bool   \n",
      " 18  stop_duration       131138 non-null  object \n",
      " 19  out_of_state        130958 non-null  object \n",
      " 20  drugs_related_stop  131138 non-null  bool   \n",
      " 21  district            131138 non-null  object \n",
      "dtypes: bool(3), float64(2), object(17)\n",
      "memory usage: 20.4+ MB\n"
     ]
    }
   ],
   "source": [
    "dff.info()"
   ]
  },
  {
   "cell_type": "code",
   "execution_count": 23,
   "metadata": {},
   "outputs": [],
   "source": [
    "dfm = ri[ri['driver_gender'] == 'M']"
   ]
  },
  {
   "cell_type": "code",
   "execution_count": 24,
   "metadata": {},
   "outputs": [
    {
     "data": {
      "text/plain": [
       "violation\n",
       "Equipment              14039\n",
       "Moving violation       17911\n",
       "Other                   3791\n",
       "Registration/plates     5649\n",
       "Seat belt               3550\n",
       "Speeding               86198\n",
       "dtype: int64"
      ]
     },
     "execution_count": 24,
     "metadata": {},
     "output_type": "execute_result"
    }
   ],
   "source": [
    "violation_F = dff.groupby('violation').size()\n",
    "violation_F"
   ]
  },
  {
   "cell_type": "code",
   "execution_count": 25,
   "metadata": {},
   "outputs": [
    {
     "data": {
      "text/plain": [
       "131138"
      ]
     },
     "execution_count": 25,
     "metadata": {},
     "output_type": "execute_result"
    }
   ],
   "source": [
    "len(dff)"
   ]
  },
  {
   "cell_type": "code",
   "execution_count": 26,
   "metadata": {},
   "outputs": [
    {
     "data": {
      "text/plain": [
       "violation\n",
       "Equipment              10.705516\n",
       "Moving violation       13.658131\n",
       "Other                   2.890848\n",
       "Registration/plates     4.307676\n",
       "Seat belt               2.707072\n",
       "Speeding               65.730757\n",
       "dtype: float64"
      ]
     },
     "execution_count": 26,
     "metadata": {},
     "output_type": "execute_result"
    }
   ],
   "source": [
    "(violation_F/len(dff)) * 100"
   ]
  },
  {
   "cell_type": "code",
   "execution_count": 27,
   "metadata": {},
   "outputs": [],
   "source": [
    "dfm = ri[ri['driver_gender'] == 'M']"
   ]
  },
  {
   "cell_type": "code",
   "execution_count": 40,
   "metadata": {},
   "outputs": [
    {
     "name": "stdout",
     "output_type": "stream",
     "text": [
      "<class 'pandas.core.frame.DataFrame'>\n",
      "DatetimeIndex: 349446 entries, 2005-01-02 01:55:00 to 2015-12-31 23:48:00\n",
      "Data columns (total 22 columns):\n",
      " #   Column              Non-Null Count   Dtype  \n",
      "---  ------              --------------   -----  \n",
      " 0   id                  349446 non-null  object \n",
      " 1   stop_date           349446 non-null  object \n",
      " 2   stop_time           349446 non-null  object \n",
      " 3   location_raw        349446 non-null  object \n",
      " 4   police_department   349446 non-null  object \n",
      " 5   driver_gender       349446 non-null  object \n",
      " 6   driver_age_raw      349446 non-null  float64\n",
      " 7   driver_age          348118 non-null  float64\n",
      " 8   driver_race_raw     349446 non-null  object \n",
      " 9   driver_race         349446 non-null  object \n",
      " 10  violation_raw       349446 non-null  object \n",
      " 11  violation           349446 non-null  object \n",
      " 12  search_conducted    349446 non-null  object \n",
      " 13  search_type_raw     15303 non-null   object \n",
      " 14  search_type         15303 non-null   object \n",
      " 15  contraband_found    349446 non-null  bool   \n",
      " 16  stop_outcome        349446 non-null  object \n",
      " 17  is_arrested         349446 non-null  bool   \n",
      " 18  stop_duration       349446 non-null  object \n",
      " 19  out_of_state        348818 non-null  object \n",
      " 20  drugs_related_stop  349446 non-null  bool   \n",
      " 21  district            349446 non-null  object \n",
      "dtypes: bool(3), float64(2), object(17)\n",
      "memory usage: 54.3+ MB\n"
     ]
    }
   ],
   "source": [
    "dfm.info()"
   ]
  },
  {
   "cell_type": "code",
   "execution_count": 28,
   "metadata": {},
   "outputs": [
    {
     "data": {
      "text/plain": [
       "violation\n",
       "Equipment               47211\n",
       "Moving violation        72317\n",
       "Other                   20425\n",
       "Registration/plates     14181\n",
       "Seat belt               12774\n",
       "Speeding               182538\n",
       "dtype: int64"
      ]
     },
     "execution_count": 28,
     "metadata": {},
     "output_type": "execute_result"
    }
   ],
   "source": [
    "violation_M = dfm.groupby('violation').size()\n",
    "violation_M"
   ]
  },
  {
   "cell_type": "code",
   "execution_count": 29,
   "metadata": {},
   "outputs": [
    {
     "data": {
      "text/plain": [
       "violation\n",
       "Equipment              13.510242\n",
       "Moving violation       20.694757\n",
       "Other                   5.844966\n",
       "Registration/plates     4.058138\n",
       "Seat belt               3.655500\n",
       "Speeding               52.236397\n",
       "dtype: float64"
      ]
     },
     "execution_count": 29,
     "metadata": {},
     "output_type": "execute_result"
    }
   ],
   "source": [
    "(violation_M/len(dfm)) * 100"
   ]
  },
  {
   "cell_type": "markdown",
   "metadata": {},
   "source": [
    "***"
   ]
  },
  {
   "cell_type": "markdown",
   "metadata": {},
   "source": [
    "## Comparing speeding outcomes by gender"
   ]
  },
  {
   "cell_type": "markdown",
   "metadata": {},
   "source": [
    "When a driver is pulled over for speeding, many people believe that gender has an impact on whether the driver will receive a ticket or a warning. Can you find evidence of this in the dataset?\n",
    "\n",
    "First, you'll create two ``DataFrames`` of drivers who were stopped for ``speeding``: one containing ***females*** and the other containing ***males***.\n",
    "\n",
    "Then, for each **gender**, you'll use the ``stop_outcome`` column to calculate what percentage of stops resulted in a ``\"Citation\"`` (meaning a ticket) versus a ``\"Warning\"``."
   ]
  },
  {
   "cell_type": "markdown",
   "metadata": {},
   "source": [
    "**INSTRUCTIONS**\n",
    "\n",
    "*   Create a ``DataFrame``, ``female_and_speeding``, that only includes female drivers who were stopped for speeding.\n",
    "*   Create a ``DataFrame``, ``male_and_speeding``, that only includes male drivers who were stopped for speeding.\n",
    "*   Count the **stop outcomes** for the female drivers and express them as proportions.\n",
    "*   Count the **stop outcomes** for the male drivers and express them as proportions."
   ]
  },
  {
   "cell_type": "code",
   "execution_count": 30,
   "metadata": {},
   "outputs": [],
   "source": [
    "female_and_speeding = dff[dff['violation'] == 'Speeding']"
   ]
  },
  {
   "cell_type": "code",
   "execution_count": 31,
   "metadata": {
    "scrolled": true
   },
   "outputs": [],
   "source": [
    "male_and_speeding = dfm[dfm['violation'] == 'Speeding']"
   ]
  },
  {
   "cell_type": "code",
   "execution_count": 32,
   "metadata": {},
   "outputs": [
    {
     "data": {
      "text/plain": [
       "0"
      ]
     },
     "execution_count": 32,
     "metadata": {},
     "output_type": "execute_result"
    }
   ],
   "source": [
    "female_and_speeding['stop_outcome'].isnull().sum()"
   ]
  },
  {
   "cell_type": "code",
   "execution_count": 33,
   "metadata": {},
   "outputs": [
    {
     "data": {
      "text/plain": [
       "Citation            82168\n",
       "Warning              3362\n",
       "Arrest Driver         456\n",
       "Arrest Passenger       89\n",
       "N/D                    78\n",
       "No Action              45\n",
       "Name: stop_outcome, dtype: int64"
      ]
     },
     "execution_count": 33,
     "metadata": {},
     "output_type": "execute_result"
    }
   ],
   "source": [
    "female_and_speeding['stop_outcome'].value_counts()"
   ]
  },
  {
   "cell_type": "code",
   "execution_count": 34,
   "metadata": {},
   "outputs": [
    {
     "data": {
      "text/plain": [
       "Citation            95.324718\n",
       "Warning              3.900323\n",
       "Arrest Driver        0.529015\n",
       "Arrest Passenger     0.103251\n",
       "N/D                  0.090489\n",
       "No Action            0.052205\n",
       "Name: stop_outcome, dtype: float64"
      ]
     },
     "execution_count": 34,
     "metadata": {},
     "output_type": "execute_result"
    }
   ],
   "source": [
    "(female_and_speeding['stop_outcome'].value_counts()/len(female_and_speeding['stop_outcome'])) * 100"
   ]
  },
  {
   "cell_type": "code",
   "execution_count": 35,
   "metadata": {},
   "outputs": [
    {
     "data": {
      "text/plain": [
       "Citation            172432\n",
       "Warning               6587\n",
       "Arrest Driver         2878\n",
       "Arrest Passenger       231\n",
       "N/D                    216\n",
       "No Action              194\n",
       "Name: stop_outcome, dtype: int64"
      ]
     },
     "execution_count": 35,
     "metadata": {},
     "output_type": "execute_result"
    }
   ],
   "source": [
    "male_and_speeding['stop_outcome'].value_counts()"
   ]
  },
  {
   "cell_type": "code",
   "execution_count": 36,
   "metadata": {},
   "outputs": [
    {
     "data": {
      "text/plain": [
       "Citation            94.463619\n",
       "Warning              3.608564\n",
       "Arrest Driver        1.576658\n",
       "Arrest Passenger     0.126549\n",
       "N/D                  0.118332\n",
       "No Action            0.106279\n",
       "Name: stop_outcome, dtype: float64"
      ]
     },
     "execution_count": 36,
     "metadata": {},
     "output_type": "execute_result"
    }
   ],
   "source": [
    "(male_and_speeding['stop_outcome'].value_counts()/len(male_and_speeding['stop_outcome'])) * 100"
   ]
  },
  {
   "cell_type": "markdown",
   "metadata": {},
   "source": [
    "***"
   ]
  },
  {
   "cell_type": "markdown",
   "metadata": {},
   "source": [
    "## Calculating the search rate"
   ]
  },
  {
   "cell_type": "markdown",
   "metadata": {},
   "source": [
    "During a traffic stop, the police officer sometimes conducts a search of the vehicle. In this exercise, you'll calculate the percentage of all stops that result in a vehicle search, also known as the **search rate**."
   ]
  },
  {
   "cell_type": "markdown",
   "metadata": {},
   "source": [
    "**INSTRUCTIONS**\n",
    "\n",
    "*   Check the data type of ``search_conducted`` to confirm that it's a ``Boolean Series``.\n",
    "*   Calculate the search rate by counting the ``Series`` values and expressing them as proportions.\n",
    "*   Calculate the search rate by taking the mean of the ``Series``. (It should match the proportion of ``True`` values calculated above.)"
   ]
  },
  {
   "cell_type": "code",
   "execution_count": 37,
   "metadata": {},
   "outputs": [
    {
     "data": {
      "text/plain": [
       "stop_datetime\n",
       "2005-01-02 01:55:00    False\n",
       "2005-01-02 20:30:00    False\n",
       "2005-01-04 12:55:00    False\n",
       "2005-01-06 01:30:00    False\n",
       "2005-01-12 08:05:00    False\n",
       "Name: search_conducted, dtype: object"
      ]
     },
     "execution_count": 37,
     "metadata": {},
     "output_type": "execute_result"
    }
   ],
   "source": [
    "ri['search_conducted'].head()"
   ]
  },
  {
   "cell_type": "code",
   "execution_count": 38,
   "metadata": {
    "scrolled": true
   },
   "outputs": [
    {
     "data": {
      "text/plain": [
       "False    96.30408\n",
       "True      3.69592\n",
       "Name: search_conducted, dtype: float64"
      ]
     },
     "execution_count": 38,
     "metadata": {},
     "output_type": "execute_result"
    }
   ],
   "source": [
    "(ri['search_conducted'].value_counts()/len(ri))* 100"
   ]
  },
  {
   "cell_type": "code",
   "execution_count": 39,
   "metadata": {},
   "outputs": [
    {
     "data": {
      "text/plain": [
       "3.6959199640437466"
      ]
     },
     "execution_count": 39,
     "metadata": {},
     "output_type": "execute_result"
    }
   ],
   "source": [
    "ri['search_conducted'].mean()*100"
   ]
  },
  {
   "cell_type": "markdown",
   "metadata": {},
   "source": [
    "***"
   ]
  },
  {
   "cell_type": "markdown",
   "metadata": {},
   "source": [
    "## Comparing search rates by gender"
   ]
  },
  {
   "cell_type": "markdown",
   "metadata": {},
   "source": [
    "You'll compare the rates at which **female** and **male** drivers are searched during a traffic stop. Remember that the vehicle search rate across all stops is about **3.8%**.\n",
    "\n",
    "First, you'll filter the ``DataFrame`` by gender and calculate the search rate for each group separately. Then, you'll perform the same calculation for both genders at once using a ``.groupby()``."
   ]
  },
  {
   "cell_type": "markdown",
   "metadata": {},
   "source": [
    "**INSTRUCTIONS 1/3**\n",
    "\n",
    "*   Filter the ``DataFrame`` to only include **female** drivers, and then calculate the search rate by taking the mean of ``search_conducted``."
   ]
  },
  {
   "cell_type": "code",
   "execution_count": 40,
   "metadata": {},
   "outputs": [
    {
     "data": {
      "text/plain": [
       "0.018751239152648355"
      ]
     },
     "execution_count": 40,
     "metadata": {},
     "output_type": "execute_result"
    }
   ],
   "source": [
    "female_search_rate = dff['search_conducted'].mean()\n",
    "female_search_rate"
   ]
  },
  {
   "cell_type": "code",
   "execution_count": 41,
   "metadata": {},
   "outputs": [
    {
     "data": {
      "text/plain": [
       "stop_datetime\n",
       "2005-02-24 01:20:00    False\n",
       "2005-03-14 10:00:00    False\n",
       "2005-03-29 23:20:00    False\n",
       "2005-06-06 13:20:00    False\n",
       "2005-06-18 16:30:00    False\n",
       "                       ...  \n",
       "2015-12-31 21:59:00    False\n",
       "2015-12-31 22:09:00    False\n",
       "2015-12-31 22:10:00    False\n",
       "2015-12-31 22:10:00    False\n",
       "2015-12-31 22:39:00    False\n",
       "Name: search_conducted, Length: 131138, dtype: object"
      ]
     },
     "execution_count": 41,
     "metadata": {},
     "output_type": "execute_result"
    }
   ],
   "source": [
    "dff['search_conducted']"
   ]
  },
  {
   "cell_type": "markdown",
   "metadata": {},
   "source": [
    "**INSTRUCTIONS 2/3**\n",
    "\n",
    "*   Filter the ``DataFrame`` to only include **male** drivers, and then repeat the search rate calculation."
   ]
  },
  {
   "cell_type": "code",
   "execution_count": 42,
   "metadata": {},
   "outputs": [
    {
     "data": {
      "text/plain": [
       "0.04379217389811301"
      ]
     },
     "execution_count": 42,
     "metadata": {},
     "output_type": "execute_result"
    }
   ],
   "source": [
    "male_search_rate = dfm['search_conducted'].mean()\n",
    "male_search_rate"
   ]
  },
  {
   "cell_type": "markdown",
   "metadata": {},
   "source": [
    "**INSTRUCTIONS 3/3**\n",
    "\n",
    "*   Group by driver gender to calculate the search rate for both groups simultaneously. (It should match the previous results.)"
   ]
  },
  {
   "cell_type": "code",
   "execution_count": 43,
   "metadata": {},
   "outputs": [
    {
     "data": {
      "text/plain": [
       "Index(['id', 'stop_date', 'stop_time', 'location_raw', 'police_department',\n",
       "       'driver_gender', 'driver_age_raw', 'driver_age', 'driver_race_raw',\n",
       "       'driver_race', 'violation_raw', 'violation', 'search_conducted',\n",
       "       'search_type_raw', 'search_type', 'contraband_found', 'stop_outcome',\n",
       "       'is_arrested', 'stop_duration', 'out_of_state', 'drugs_related_stop',\n",
       "       'district'],\n",
       "      dtype='object')"
      ]
     },
     "execution_count": 43,
     "metadata": {},
     "output_type": "execute_result"
    }
   ],
   "source": [
    "ri.columns"
   ]
  },
  {
   "cell_type": "code",
   "execution_count": 44,
   "metadata": {},
   "outputs": [
    {
     "data": {
      "text/html": [
       "<div>\n",
       "<style scoped>\n",
       "    .dataframe tbody tr th:only-of-type {\n",
       "        vertical-align: middle;\n",
       "    }\n",
       "\n",
       "    .dataframe tbody tr th {\n",
       "        vertical-align: top;\n",
       "    }\n",
       "\n",
       "    .dataframe thead th {\n",
       "        text-align: right;\n",
       "    }\n",
       "</style>\n",
       "<table border=\"1\" class=\"dataframe\">\n",
       "  <thead>\n",
       "    <tr style=\"text-align: right;\">\n",
       "      <th></th>\n",
       "      <th></th>\n",
       "      <th>search_conducted</th>\n",
       "    </tr>\n",
       "    <tr>\n",
       "      <th>driver_gender</th>\n",
       "      <th>search_conducted</th>\n",
       "      <th></th>\n",
       "    </tr>\n",
       "  </thead>\n",
       "  <tbody>\n",
       "    <tr>\n",
       "      <th rowspan=\"2\" valign=\"top\">F</th>\n",
       "      <th>False</th>\n",
       "      <td>98.124876</td>\n",
       "    </tr>\n",
       "    <tr>\n",
       "      <th>True</th>\n",
       "      <td>1.875124</td>\n",
       "    </tr>\n",
       "    <tr>\n",
       "      <th rowspan=\"2\" valign=\"top\">M</th>\n",
       "      <th>False</th>\n",
       "      <td>95.620783</td>\n",
       "    </tr>\n",
       "    <tr>\n",
       "      <th>True</th>\n",
       "      <td>4.379217</td>\n",
       "    </tr>\n",
       "  </tbody>\n",
       "</table>\n",
       "</div>"
      ],
      "text/plain": [
       "                                search_conducted\n",
       "driver_gender search_conducted                  \n",
       "F             False                    98.124876\n",
       "              True                      1.875124\n",
       "M             False                    95.620783\n",
       "              True                      4.379217"
      ]
     },
     "execution_count": 44,
     "metadata": {},
     "output_type": "execute_result"
    }
   ],
   "source": [
    "ri.groupby(['driver_gender', 'search_conducted']).agg({'search_conducted':'count'}).groupby(level=0).apply(lambda x:\n",
    "                                                 100 * x / float(x.sum()))"
   ]
  },
  {
   "cell_type": "markdown",
   "metadata": {},
   "source": [
    "***"
   ]
  },
  {
   "cell_type": "markdown",
   "metadata": {},
   "source": [
    "## Adding a second factor to the analysis"
   ]
  },
  {
   "cell_type": "markdown",
   "metadata": {},
   "source": [
    "Even though the search rate for males is much higher than for females, it's possible that the difference is mostly due to a second factor.\n",
    "\n",
    "For example, you might hypothesize that the search rate varies by violation type, and the difference in search rate between males and females is because they tend to commit different violations.\n",
    "\n",
    "You can test this hypothesis by examining the search rate for each combination of gender and violation. If the hypothesis was true, you would find that males and females are searched at about the same rate for each violation. Find out below if that's the case!"
   ]
  },
  {
   "cell_type": "markdown",
   "metadata": {},
   "source": [
    "**INSTRUCTIONS 1/2**\n",
    "\n",
    "*   Use a ``.groupby()`` to calculate the search rate for each combination of gender and violation. Are males and females searched at about the same rate for each violation?"
   ]
  },
  {
   "cell_type": "code",
   "execution_count": 45,
   "metadata": {
    "scrolled": true
   },
   "outputs": [
    {
     "data": {
      "text/html": [
       "<div>\n",
       "<style scoped>\n",
       "    .dataframe tbody tr th:only-of-type {\n",
       "        vertical-align: middle;\n",
       "    }\n",
       "\n",
       "    .dataframe tbody tr th {\n",
       "        vertical-align: top;\n",
       "    }\n",
       "\n",
       "    .dataframe thead th {\n",
       "        text-align: right;\n",
       "    }\n",
       "</style>\n",
       "<table border=\"1\" class=\"dataframe\">\n",
       "  <thead>\n",
       "    <tr style=\"text-align: right;\">\n",
       "      <th></th>\n",
       "      <th></th>\n",
       "      <th>search_conducted</th>\n",
       "    </tr>\n",
       "    <tr>\n",
       "      <th>violation</th>\n",
       "      <th>search_conducted</th>\n",
       "      <th></th>\n",
       "    </tr>\n",
       "  </thead>\n",
       "  <tbody>\n",
       "    <tr>\n",
       "      <th rowspan=\"2\" valign=\"top\">Equipment</th>\n",
       "      <th>False</th>\n",
       "      <td>95.975497</td>\n",
       "    </tr>\n",
       "    <tr>\n",
       "      <th>True</th>\n",
       "      <td>4.024503</td>\n",
       "    </tr>\n",
       "    <tr>\n",
       "      <th rowspan=\"2\" valign=\"top\">Moving violation</th>\n",
       "      <th>False</th>\n",
       "      <td>96.197867</td>\n",
       "    </tr>\n",
       "    <tr>\n",
       "      <th>True</th>\n",
       "      <td>3.802133</td>\n",
       "    </tr>\n",
       "    <tr>\n",
       "      <th rowspan=\"2\" valign=\"top\">Other</th>\n",
       "      <th>False</th>\n",
       "      <td>95.410182</td>\n",
       "    </tr>\n",
       "    <tr>\n",
       "      <th>True</th>\n",
       "      <td>4.589818</td>\n",
       "    </tr>\n",
       "    <tr>\n",
       "      <th rowspan=\"2\" valign=\"top\">Registration/plates</th>\n",
       "      <th>False</th>\n",
       "      <td>94.530005</td>\n",
       "    </tr>\n",
       "    <tr>\n",
       "      <th>True</th>\n",
       "      <td>5.469995</td>\n",
       "    </tr>\n",
       "    <tr>\n",
       "      <th rowspan=\"2\" valign=\"top\">Seat belt</th>\n",
       "      <th>False</th>\n",
       "      <td>98.225352</td>\n",
       "    </tr>\n",
       "    <tr>\n",
       "      <th>True</th>\n",
       "      <td>1.774648</td>\n",
       "    </tr>\n",
       "    <tr>\n",
       "      <th rowspan=\"2\" valign=\"top\">Speeding</th>\n",
       "      <th>False</th>\n",
       "      <td>99.226200</td>\n",
       "    </tr>\n",
       "    <tr>\n",
       "      <th>True</th>\n",
       "      <td>0.773800</td>\n",
       "    </tr>\n",
       "  </tbody>\n",
       "</table>\n",
       "</div>"
      ],
      "text/plain": [
       "                                      search_conducted\n",
       "violation           search_conducted                  \n",
       "Equipment           False                    95.975497\n",
       "                    True                      4.024503\n",
       "Moving violation    False                    96.197867\n",
       "                    True                      3.802133\n",
       "Other               False                    95.410182\n",
       "                    True                      4.589818\n",
       "Registration/plates False                    94.530005\n",
       "                    True                      5.469995\n",
       "Seat belt           False                    98.225352\n",
       "                    True                      1.774648\n",
       "Speeding            False                    99.226200\n",
       "                    True                      0.773800"
      ]
     },
     "execution_count": 45,
     "metadata": {},
     "output_type": "execute_result"
    }
   ],
   "source": [
    "dff.groupby(['violation','search_conducted']).agg({'search_conducted':'count'}).groupby(level=0).apply(lambda x:\n",
    "                                                 100 * x / float(x.sum()))"
   ]
  },
  {
   "cell_type": "code",
   "execution_count": 46,
   "metadata": {},
   "outputs": [
    {
     "data": {
      "text/html": [
       "<div>\n",
       "<style scoped>\n",
       "    .dataframe tbody tr th:only-of-type {\n",
       "        vertical-align: middle;\n",
       "    }\n",
       "\n",
       "    .dataframe tbody tr th {\n",
       "        vertical-align: top;\n",
       "    }\n",
       "\n",
       "    .dataframe thead th {\n",
       "        text-align: right;\n",
       "    }\n",
       "</style>\n",
       "<table border=\"1\" class=\"dataframe\">\n",
       "  <thead>\n",
       "    <tr style=\"text-align: right;\">\n",
       "      <th></th>\n",
       "      <th></th>\n",
       "      <th>search_conducted</th>\n",
       "    </tr>\n",
       "    <tr>\n",
       "      <th>violation</th>\n",
       "      <th>search_conducted</th>\n",
       "      <th></th>\n",
       "    </tr>\n",
       "  </thead>\n",
       "  <tbody>\n",
       "    <tr>\n",
       "      <th rowspan=\"2\" valign=\"top\">Equipment</th>\n",
       "      <th>False</th>\n",
       "      <td>92.908432</td>\n",
       "    </tr>\n",
       "    <tr>\n",
       "      <th>True</th>\n",
       "      <td>7.091568</td>\n",
       "    </tr>\n",
       "    <tr>\n",
       "      <th rowspan=\"2\" valign=\"top\">Moving violation</th>\n",
       "      <th>False</th>\n",
       "      <td>94.084379</td>\n",
       "    </tr>\n",
       "    <tr>\n",
       "      <th>True</th>\n",
       "      <td>5.915621</td>\n",
       "    </tr>\n",
       "    <tr>\n",
       "      <th rowspan=\"2\" valign=\"top\">Other</th>\n",
       "      <th>False</th>\n",
       "      <td>95.388005</td>\n",
       "    </tr>\n",
       "    <tr>\n",
       "      <th>True</th>\n",
       "      <td>4.611995</td>\n",
       "    </tr>\n",
       "    <tr>\n",
       "      <th rowspan=\"2\" valign=\"top\">Registration/plates</th>\n",
       "      <th>False</th>\n",
       "      <td>89.641069</td>\n",
       "    </tr>\n",
       "    <tr>\n",
       "      <th>True</th>\n",
       "      <td>10.358931</td>\n",
       "    </tr>\n",
       "    <tr>\n",
       "      <th rowspan=\"2\" valign=\"top\">Seat belt</th>\n",
       "      <th>False</th>\n",
       "      <td>96.829497</td>\n",
       "    </tr>\n",
       "    <tr>\n",
       "      <th>True</th>\n",
       "      <td>3.170503</td>\n",
       "    </tr>\n",
       "    <tr>\n",
       "      <th rowspan=\"2\" valign=\"top\">Speeding</th>\n",
       "      <th>False</th>\n",
       "      <td>97.336993</td>\n",
       "    </tr>\n",
       "    <tr>\n",
       "      <th>True</th>\n",
       "      <td>2.663007</td>\n",
       "    </tr>\n",
       "  </tbody>\n",
       "</table>\n",
       "</div>"
      ],
      "text/plain": [
       "                                      search_conducted\n",
       "violation           search_conducted                  \n",
       "Equipment           False                    92.908432\n",
       "                    True                      7.091568\n",
       "Moving violation    False                    94.084379\n",
       "                    True                      5.915621\n",
       "Other               False                    95.388005\n",
       "                    True                      4.611995\n",
       "Registration/plates False                    89.641069\n",
       "                    True                     10.358931\n",
       "Seat belt           False                    96.829497\n",
       "                    True                      3.170503\n",
       "Speeding            False                    97.336993\n",
       "                    True                      2.663007"
      ]
     },
     "execution_count": 46,
     "metadata": {},
     "output_type": "execute_result"
    }
   ],
   "source": [
    "dfm.groupby(['violation','search_conducted']).agg({'search_conducted':'count'}).groupby(level=0).apply(lambda x:\n",
    "                                                 100 * x / float(x.sum()))"
   ]
  },
  {
   "cell_type": "markdown",
   "metadata": {},
   "source": [
    "**INSTRUCTIONS 2/2**\n",
    "\n",
    "*   Reverse the ordering to group by violation before gender. The results may be easier to compare when presented this way."
   ]
  },
  {
   "cell_type": "code",
   "execution_count": 47,
   "metadata": {
    "scrolled": true
   },
   "outputs": [
    {
     "data": {
      "text/html": [
       "<div>\n",
       "<style scoped>\n",
       "    .dataframe tbody tr th:only-of-type {\n",
       "        vertical-align: middle;\n",
       "    }\n",
       "\n",
       "    .dataframe tbody tr th {\n",
       "        vertical-align: top;\n",
       "    }\n",
       "\n",
       "    .dataframe thead th {\n",
       "        text-align: right;\n",
       "    }\n",
       "</style>\n",
       "<table border=\"1\" class=\"dataframe\">\n",
       "  <thead>\n",
       "    <tr style=\"text-align: right;\">\n",
       "      <th></th>\n",
       "      <th></th>\n",
       "      <th></th>\n",
       "      <th>search_conducted</th>\n",
       "    </tr>\n",
       "    <tr>\n",
       "      <th>driver_gender</th>\n",
       "      <th>violation</th>\n",
       "      <th>search_conducted</th>\n",
       "      <th></th>\n",
       "    </tr>\n",
       "  </thead>\n",
       "  <tbody>\n",
       "    <tr>\n",
       "      <th rowspan=\"12\" valign=\"top\">F</th>\n",
       "      <th rowspan=\"2\" valign=\"top\">Equipment</th>\n",
       "      <th>False</th>\n",
       "      <td>95.975497</td>\n",
       "    </tr>\n",
       "    <tr>\n",
       "      <th>True</th>\n",
       "      <td>4.024503</td>\n",
       "    </tr>\n",
       "    <tr>\n",
       "      <th rowspan=\"2\" valign=\"top\">Moving violation</th>\n",
       "      <th>False</th>\n",
       "      <td>96.197867</td>\n",
       "    </tr>\n",
       "    <tr>\n",
       "      <th>True</th>\n",
       "      <td>3.802133</td>\n",
       "    </tr>\n",
       "    <tr>\n",
       "      <th rowspan=\"2\" valign=\"top\">Other</th>\n",
       "      <th>False</th>\n",
       "      <td>95.410182</td>\n",
       "    </tr>\n",
       "    <tr>\n",
       "      <th>True</th>\n",
       "      <td>4.589818</td>\n",
       "    </tr>\n",
       "    <tr>\n",
       "      <th rowspan=\"2\" valign=\"top\">Registration/plates</th>\n",
       "      <th>False</th>\n",
       "      <td>94.530005</td>\n",
       "    </tr>\n",
       "    <tr>\n",
       "      <th>True</th>\n",
       "      <td>5.469995</td>\n",
       "    </tr>\n",
       "    <tr>\n",
       "      <th rowspan=\"2\" valign=\"top\">Seat belt</th>\n",
       "      <th>False</th>\n",
       "      <td>98.225352</td>\n",
       "    </tr>\n",
       "    <tr>\n",
       "      <th>True</th>\n",
       "      <td>1.774648</td>\n",
       "    </tr>\n",
       "    <tr>\n",
       "      <th rowspan=\"2\" valign=\"top\">Speeding</th>\n",
       "      <th>False</th>\n",
       "      <td>99.226200</td>\n",
       "    </tr>\n",
       "    <tr>\n",
       "      <th>True</th>\n",
       "      <td>0.773800</td>\n",
       "    </tr>\n",
       "    <tr>\n",
       "      <th rowspan=\"12\" valign=\"top\">M</th>\n",
       "      <th rowspan=\"2\" valign=\"top\">Equipment</th>\n",
       "      <th>False</th>\n",
       "      <td>92.908432</td>\n",
       "    </tr>\n",
       "    <tr>\n",
       "      <th>True</th>\n",
       "      <td>7.091568</td>\n",
       "    </tr>\n",
       "    <tr>\n",
       "      <th rowspan=\"2\" valign=\"top\">Moving violation</th>\n",
       "      <th>False</th>\n",
       "      <td>94.084379</td>\n",
       "    </tr>\n",
       "    <tr>\n",
       "      <th>True</th>\n",
       "      <td>5.915621</td>\n",
       "    </tr>\n",
       "    <tr>\n",
       "      <th rowspan=\"2\" valign=\"top\">Other</th>\n",
       "      <th>False</th>\n",
       "      <td>95.388005</td>\n",
       "    </tr>\n",
       "    <tr>\n",
       "      <th>True</th>\n",
       "      <td>4.611995</td>\n",
       "    </tr>\n",
       "    <tr>\n",
       "      <th rowspan=\"2\" valign=\"top\">Registration/plates</th>\n",
       "      <th>False</th>\n",
       "      <td>89.641069</td>\n",
       "    </tr>\n",
       "    <tr>\n",
       "      <th>True</th>\n",
       "      <td>10.358931</td>\n",
       "    </tr>\n",
       "    <tr>\n",
       "      <th rowspan=\"2\" valign=\"top\">Seat belt</th>\n",
       "      <th>False</th>\n",
       "      <td>96.829497</td>\n",
       "    </tr>\n",
       "    <tr>\n",
       "      <th>True</th>\n",
       "      <td>3.170503</td>\n",
       "    </tr>\n",
       "    <tr>\n",
       "      <th rowspan=\"2\" valign=\"top\">Speeding</th>\n",
       "      <th>False</th>\n",
       "      <td>97.336993</td>\n",
       "    </tr>\n",
       "    <tr>\n",
       "      <th>True</th>\n",
       "      <td>2.663007</td>\n",
       "    </tr>\n",
       "  </tbody>\n",
       "</table>\n",
       "</div>"
      ],
      "text/plain": [
       "                                                    search_conducted\n",
       "driver_gender violation           search_conducted                  \n",
       "F             Equipment           False                    95.975497\n",
       "                                  True                      4.024503\n",
       "              Moving violation    False                    96.197867\n",
       "                                  True                      3.802133\n",
       "              Other               False                    95.410182\n",
       "                                  True                      4.589818\n",
       "              Registration/plates False                    94.530005\n",
       "                                  True                      5.469995\n",
       "              Seat belt           False                    98.225352\n",
       "                                  True                      1.774648\n",
       "              Speeding            False                    99.226200\n",
       "                                  True                      0.773800\n",
       "M             Equipment           False                    92.908432\n",
       "                                  True                      7.091568\n",
       "              Moving violation    False                    94.084379\n",
       "                                  True                      5.915621\n",
       "              Other               False                    95.388005\n",
       "                                  True                      4.611995\n",
       "              Registration/plates False                    89.641069\n",
       "                                  True                     10.358931\n",
       "              Seat belt           False                    96.829497\n",
       "                                  True                      3.170503\n",
       "              Speeding            False                    97.336993\n",
       "                                  True                      2.663007"
      ]
     },
     "execution_count": 47,
     "metadata": {},
     "output_type": "execute_result"
    }
   ],
   "source": [
    "ri.groupby(['driver_gender','violation','search_conducted']).agg({'search_conducted':'count'}).groupby(level=(0,1)).apply(lambda x:\n",
    "                                                 100 * x / float(x.sum()))"
   ]
  },
  {
   "cell_type": "code",
   "execution_count": 48,
   "metadata": {},
   "outputs": [
    {
     "data": {
      "text/html": [
       "<div>\n",
       "<style scoped>\n",
       "    .dataframe tbody tr th:only-of-type {\n",
       "        vertical-align: middle;\n",
       "    }\n",
       "\n",
       "    .dataframe tbody tr th {\n",
       "        vertical-align: top;\n",
       "    }\n",
       "\n",
       "    .dataframe thead th {\n",
       "        text-align: right;\n",
       "    }\n",
       "</style>\n",
       "<table border=\"1\" class=\"dataframe\">\n",
       "  <thead>\n",
       "    <tr style=\"text-align: right;\">\n",
       "      <th></th>\n",
       "      <th></th>\n",
       "      <th></th>\n",
       "      <th>search_conducted</th>\n",
       "    </tr>\n",
       "    <tr>\n",
       "      <th>violation</th>\n",
       "      <th>driver_gender</th>\n",
       "      <th>search_conducted</th>\n",
       "      <th></th>\n",
       "    </tr>\n",
       "  </thead>\n",
       "  <tbody>\n",
       "    <tr>\n",
       "      <th rowspan=\"4\" valign=\"top\">Equipment</th>\n",
       "      <th rowspan=\"2\" valign=\"top\">F</th>\n",
       "      <th>False</th>\n",
       "      <td>95.975497</td>\n",
       "    </tr>\n",
       "    <tr>\n",
       "      <th>True</th>\n",
       "      <td>4.024503</td>\n",
       "    </tr>\n",
       "    <tr>\n",
       "      <th rowspan=\"2\" valign=\"top\">M</th>\n",
       "      <th>False</th>\n",
       "      <td>92.908432</td>\n",
       "    </tr>\n",
       "    <tr>\n",
       "      <th>True</th>\n",
       "      <td>7.091568</td>\n",
       "    </tr>\n",
       "    <tr>\n",
       "      <th rowspan=\"4\" valign=\"top\">Moving violation</th>\n",
       "      <th rowspan=\"2\" valign=\"top\">F</th>\n",
       "      <th>False</th>\n",
       "      <td>96.197867</td>\n",
       "    </tr>\n",
       "    <tr>\n",
       "      <th>True</th>\n",
       "      <td>3.802133</td>\n",
       "    </tr>\n",
       "    <tr>\n",
       "      <th rowspan=\"2\" valign=\"top\">M</th>\n",
       "      <th>False</th>\n",
       "      <td>94.084379</td>\n",
       "    </tr>\n",
       "    <tr>\n",
       "      <th>True</th>\n",
       "      <td>5.915621</td>\n",
       "    </tr>\n",
       "    <tr>\n",
       "      <th rowspan=\"4\" valign=\"top\">Other</th>\n",
       "      <th rowspan=\"2\" valign=\"top\">F</th>\n",
       "      <th>False</th>\n",
       "      <td>95.410182</td>\n",
       "    </tr>\n",
       "    <tr>\n",
       "      <th>True</th>\n",
       "      <td>4.589818</td>\n",
       "    </tr>\n",
       "    <tr>\n",
       "      <th rowspan=\"2\" valign=\"top\">M</th>\n",
       "      <th>False</th>\n",
       "      <td>95.388005</td>\n",
       "    </tr>\n",
       "    <tr>\n",
       "      <th>True</th>\n",
       "      <td>4.611995</td>\n",
       "    </tr>\n",
       "    <tr>\n",
       "      <th rowspan=\"4\" valign=\"top\">Registration/plates</th>\n",
       "      <th rowspan=\"2\" valign=\"top\">F</th>\n",
       "      <th>False</th>\n",
       "      <td>94.530005</td>\n",
       "    </tr>\n",
       "    <tr>\n",
       "      <th>True</th>\n",
       "      <td>5.469995</td>\n",
       "    </tr>\n",
       "    <tr>\n",
       "      <th rowspan=\"2\" valign=\"top\">M</th>\n",
       "      <th>False</th>\n",
       "      <td>89.641069</td>\n",
       "    </tr>\n",
       "    <tr>\n",
       "      <th>True</th>\n",
       "      <td>10.358931</td>\n",
       "    </tr>\n",
       "    <tr>\n",
       "      <th rowspan=\"4\" valign=\"top\">Seat belt</th>\n",
       "      <th rowspan=\"2\" valign=\"top\">F</th>\n",
       "      <th>False</th>\n",
       "      <td>98.225352</td>\n",
       "    </tr>\n",
       "    <tr>\n",
       "      <th>True</th>\n",
       "      <td>1.774648</td>\n",
       "    </tr>\n",
       "    <tr>\n",
       "      <th rowspan=\"2\" valign=\"top\">M</th>\n",
       "      <th>False</th>\n",
       "      <td>96.829497</td>\n",
       "    </tr>\n",
       "    <tr>\n",
       "      <th>True</th>\n",
       "      <td>3.170503</td>\n",
       "    </tr>\n",
       "    <tr>\n",
       "      <th rowspan=\"4\" valign=\"top\">Speeding</th>\n",
       "      <th rowspan=\"2\" valign=\"top\">F</th>\n",
       "      <th>False</th>\n",
       "      <td>99.226200</td>\n",
       "    </tr>\n",
       "    <tr>\n",
       "      <th>True</th>\n",
       "      <td>0.773800</td>\n",
       "    </tr>\n",
       "    <tr>\n",
       "      <th rowspan=\"2\" valign=\"top\">M</th>\n",
       "      <th>False</th>\n",
       "      <td>97.336993</td>\n",
       "    </tr>\n",
       "    <tr>\n",
       "      <th>True</th>\n",
       "      <td>2.663007</td>\n",
       "    </tr>\n",
       "  </tbody>\n",
       "</table>\n",
       "</div>"
      ],
      "text/plain": [
       "                                                    search_conducted\n",
       "violation           driver_gender search_conducted                  \n",
       "Equipment           F             False                    95.975497\n",
       "                                  True                      4.024503\n",
       "                    M             False                    92.908432\n",
       "                                  True                      7.091568\n",
       "Moving violation    F             False                    96.197867\n",
       "                                  True                      3.802133\n",
       "                    M             False                    94.084379\n",
       "                                  True                      5.915621\n",
       "Other               F             False                    95.410182\n",
       "                                  True                      4.589818\n",
       "                    M             False                    95.388005\n",
       "                                  True                      4.611995\n",
       "Registration/plates F             False                    94.530005\n",
       "                                  True                      5.469995\n",
       "                    M             False                    89.641069\n",
       "                                  True                     10.358931\n",
       "Seat belt           F             False                    98.225352\n",
       "                                  True                      1.774648\n",
       "                    M             False                    96.829497\n",
       "                                  True                      3.170503\n",
       "Speeding            F             False                    99.226200\n",
       "                                  True                      0.773800\n",
       "                    M             False                    97.336993\n",
       "                                  True                      2.663007"
      ]
     },
     "execution_count": 48,
     "metadata": {},
     "output_type": "execute_result"
    }
   ],
   "source": [
    "ri.groupby(['violation','driver_gender','search_conducted']).agg({'search_conducted':'count'}).groupby(level=(0,1)).apply(lambda x:\n",
    "                                                 100 * x / float(x.sum()))"
   ]
  },
  {
   "cell_type": "markdown",
   "metadata": {},
   "source": [
    "***"
   ]
  },
  {
   "cell_type": "markdown",
   "metadata": {},
   "source": [
    "## Counting protective frisks"
   ]
  },
  {
   "cell_type": "markdown",
   "metadata": {},
   "source": [
    "During a vehicle search, the police officer may pat down the driver to check if they have a weapon. This is known as a ``\"protective frisk.\"``\n",
    "\n",
    "You'll first check to see how many times \"Protective Frisk\" was the only search type. Then, you'll use a string method to locate all instances in which the driver was frisked."
   ]
  },
  {
   "cell_type": "markdown",
   "metadata": {},
   "source": [
    "**INSTRUCTIONS**\n",
    "\n",
    "*   Count the ``search_type`` values to see how many times ``\"Protective Frisk\"`` was the only search type.\n",
    "*   Create a new column, frisk, that is ``True`` if ``search_type`` contains the string ``\"Protective Frisk\"`` and ``False`` otherwise.\n",
    "*   Check the data type of frisk to confirm that it's a ``Boolean Series``.\n",
    "*   Take the sum of frisk to count the total number of frisks."
   ]
  },
  {
   "cell_type": "code",
   "execution_count": 49,
   "metadata": {},
   "outputs": [
    {
     "data": {
      "text/plain": [
       "Incident to Arrest                                          6998\n",
       "Probable Cause                                              4989\n",
       "Reasonable Suspicion                                        1141\n",
       "Inventory                                                   1101\n",
       "Protective Frisk                                             879\n",
       "Incident to Arrest,Inventory                                 649\n",
       "Incident to Arrest,Probable Cause                            552\n",
       "Probable Cause,Reasonable Suspicion                          334\n",
       "Probable Cause,Protective Frisk                              221\n",
       "Incident to Arrest,Protective Frisk                          158\n",
       "Incident to Arrest,Inventory,Probable Cause                  151\n",
       "Inventory,Probable Cause                                     132\n",
       "Protective Frisk,Reasonable Suspicion                         83\n",
       "Incident to Arrest,Inventory,Protective Frisk                 77\n",
       "Incident to Arrest,Probable Cause,Protective Frisk            74\n",
       "Inventory,Protective Frisk                                    52\n",
       "Incident to Arrest,Reasonable Suspicion                       49\n",
       "Probable Cause,Protective Frisk,Reasonable Suspicion          31\n",
       "Incident to Arrest,Probable Cause,Reasonable Suspicion        31\n",
       "Inventory,Reasonable Suspicion                                17\n",
       "Inventory,Probable Cause,Protective Frisk                     14\n",
       "Incident to Arrest,Inventory,Reasonable Suspicion             12\n",
       "Incident to Arrest,Protective Frisk,Reasonable Suspicion       8\n",
       "Inventory,Probable Cause,Reasonable Suspicion                  8\n",
       "Inventory,Protective Frisk,Reasonable Suspicion                1\n",
       "Name: search_type, dtype: int64"
      ]
     },
     "execution_count": 49,
     "metadata": {},
     "output_type": "execute_result"
    }
   ],
   "source": [
    "ri['search_type'].value_counts()"
   ]
  },
  {
   "cell_type": "code",
   "execution_count": 54,
   "metadata": {},
   "outputs": [],
   "source": [
    "ri['frisk'] = ri['search_type'].str.lower().str.contains('protective frisk',na=False, regex=True)"
   ]
  },
  {
   "cell_type": "code",
   "execution_count": 55,
   "metadata": {},
   "outputs": [
    {
     "data": {
      "text/plain": [
       "False    478986\n",
       "True       1598\n",
       "Name: frisk, dtype: int64"
      ]
     },
     "execution_count": 55,
     "metadata": {},
     "output_type": "execute_result"
    }
   ],
   "source": [
    "ri['frisk'].value_counts()"
   ]
  },
  {
   "cell_type": "markdown",
   "metadata": {},
   "source": [
    "***"
   ]
  },
  {
   "cell_type": "markdown",
   "metadata": {},
   "source": [
    "## Comparing frisk rates by gender"
   ]
  },
  {
   "cell_type": "markdown",
   "metadata": {},
   "source": [
    "You'll compare the rates at which female and male drivers are frisked during a search. Are males frisked more often than females, perhaps because police officers consider them to be higher risk?\n",
    "\n",
    "Before doing any calculations, it's important to filter the ``DataFrame`` to only include the relevant subset of data, namely stops in which a search was conducted."
   ]
  },
  {
   "cell_type": "markdown",
   "metadata": {},
   "source": [
    "**INSTRUCTIONS**\n",
    "\n",
    "*   Create a ``DataFrame``, searched, that only contains rows in which ``search_conducted`` is ``True``.\n",
    "*   Take the mean of the frisk column to find out what percentage of searches included a frisk.\n",
    "*   Calculate the frisk rate for each gender using a ``.groupby()``."
   ]
  },
  {
   "cell_type": "code",
   "execution_count": 93,
   "metadata": {},
   "outputs": [
    {
     "data": {
      "text/html": [
       "<div>\n",
       "<style scoped>\n",
       "    .dataframe tbody tr th:only-of-type {\n",
       "        vertical-align: middle;\n",
       "    }\n",
       "\n",
       "    .dataframe tbody tr th {\n",
       "        vertical-align: top;\n",
       "    }\n",
       "\n",
       "    .dataframe thead th {\n",
       "        text-align: right;\n",
       "    }\n",
       "</style>\n",
       "<table border=\"1\" class=\"dataframe\">\n",
       "  <thead>\n",
       "    <tr style=\"text-align: right;\">\n",
       "      <th></th>\n",
       "      <th>id</th>\n",
       "      <th>stop_date</th>\n",
       "      <th>stop_time</th>\n",
       "      <th>location_raw</th>\n",
       "      <th>police_department</th>\n",
       "      <th>driver_gender</th>\n",
       "      <th>driver_age_raw</th>\n",
       "      <th>driver_age</th>\n",
       "      <th>driver_race_raw</th>\n",
       "      <th>driver_race</th>\n",
       "      <th>violation_raw</th>\n",
       "      <th>violation</th>\n",
       "      <th>search_conducted</th>\n",
       "      <th>search_type_raw</th>\n",
       "      <th>search_type</th>\n",
       "      <th>contraband_found</th>\n",
       "      <th>stop_outcome</th>\n",
       "      <th>is_arrested</th>\n",
       "      <th>stop_duration</th>\n",
       "      <th>out_of_state</th>\n",
       "      <th>drugs_related_stop</th>\n",
       "      <th>district</th>\n",
       "      <th>frisk</th>\n",
       "    </tr>\n",
       "    <tr>\n",
       "      <th>stop_datetime</th>\n",
       "      <th></th>\n",
       "      <th></th>\n",
       "      <th></th>\n",
       "      <th></th>\n",
       "      <th></th>\n",
       "      <th></th>\n",
       "      <th></th>\n",
       "      <th></th>\n",
       "      <th></th>\n",
       "      <th></th>\n",
       "      <th></th>\n",
       "      <th></th>\n",
       "      <th></th>\n",
       "      <th></th>\n",
       "      <th></th>\n",
       "      <th></th>\n",
       "      <th></th>\n",
       "      <th></th>\n",
       "      <th></th>\n",
       "      <th></th>\n",
       "      <th></th>\n",
       "      <th></th>\n",
       "      <th></th>\n",
       "    </tr>\n",
       "  </thead>\n",
       "  <tbody>\n",
       "    <tr>\n",
       "      <th>2005-01-02 01:55:00</th>\n",
       "      <td>RI-2005-00001</td>\n",
       "      <td>2005-01-02</td>\n",
       "      <td>01:55</td>\n",
       "      <td>Zone K1</td>\n",
       "      <td>600</td>\n",
       "      <td>M</td>\n",
       "      <td>1985.0</td>\n",
       "      <td>20.0</td>\n",
       "      <td>W</td>\n",
       "      <td>White</td>\n",
       "      <td>Speeding</td>\n",
       "      <td>Speeding</td>\n",
       "      <td>False</td>\n",
       "      <td>NaN</td>\n",
       "      <td>NaN</td>\n",
       "      <td>False</td>\n",
       "      <td>Citation</td>\n",
       "      <td>False</td>\n",
       "      <td>0-15 Min</td>\n",
       "      <td>False</td>\n",
       "      <td>False</td>\n",
       "      <td>Zone K1</td>\n",
       "      <td>False</td>\n",
       "    </tr>\n",
       "    <tr>\n",
       "      <th>2005-01-02 20:30:00</th>\n",
       "      <td>RI-2005-00002</td>\n",
       "      <td>2005-01-02</td>\n",
       "      <td>20:30</td>\n",
       "      <td>Zone X4</td>\n",
       "      <td>500</td>\n",
       "      <td>M</td>\n",
       "      <td>1987.0</td>\n",
       "      <td>18.0</td>\n",
       "      <td>W</td>\n",
       "      <td>White</td>\n",
       "      <td>Speeding</td>\n",
       "      <td>Speeding</td>\n",
       "      <td>False</td>\n",
       "      <td>NaN</td>\n",
       "      <td>NaN</td>\n",
       "      <td>False</td>\n",
       "      <td>Citation</td>\n",
       "      <td>False</td>\n",
       "      <td>16-30 Min</td>\n",
       "      <td>False</td>\n",
       "      <td>False</td>\n",
       "      <td>Zone X4</td>\n",
       "      <td>False</td>\n",
       "    </tr>\n",
       "    <tr>\n",
       "      <th>2005-01-04 12:55:00</th>\n",
       "      <td>RI-2005-00004</td>\n",
       "      <td>2005-01-04</td>\n",
       "      <td>12:55</td>\n",
       "      <td>Zone X4</td>\n",
       "      <td>500</td>\n",
       "      <td>M</td>\n",
       "      <td>1986.0</td>\n",
       "      <td>19.0</td>\n",
       "      <td>W</td>\n",
       "      <td>White</td>\n",
       "      <td>Equipment/Inspection Violation</td>\n",
       "      <td>Equipment</td>\n",
       "      <td>False</td>\n",
       "      <td>NaN</td>\n",
       "      <td>NaN</td>\n",
       "      <td>False</td>\n",
       "      <td>Citation</td>\n",
       "      <td>False</td>\n",
       "      <td>0-15 Min</td>\n",
       "      <td>False</td>\n",
       "      <td>False</td>\n",
       "      <td>Zone X4</td>\n",
       "      <td>False</td>\n",
       "    </tr>\n",
       "    <tr>\n",
       "      <th>2005-01-06 01:30:00</th>\n",
       "      <td>RI-2005-00005</td>\n",
       "      <td>2005-01-06</td>\n",
       "      <td>01:30</td>\n",
       "      <td>Zone X4</td>\n",
       "      <td>500</td>\n",
       "      <td>M</td>\n",
       "      <td>1978.0</td>\n",
       "      <td>27.0</td>\n",
       "      <td>B</td>\n",
       "      <td>Black</td>\n",
       "      <td>Equipment/Inspection Violation</td>\n",
       "      <td>Equipment</td>\n",
       "      <td>False</td>\n",
       "      <td>NaN</td>\n",
       "      <td>NaN</td>\n",
       "      <td>False</td>\n",
       "      <td>Citation</td>\n",
       "      <td>False</td>\n",
       "      <td>0-15 Min</td>\n",
       "      <td>False</td>\n",
       "      <td>False</td>\n",
       "      <td>Zone X4</td>\n",
       "      <td>False</td>\n",
       "    </tr>\n",
       "    <tr>\n",
       "      <th>2005-01-12 08:05:00</th>\n",
       "      <td>RI-2005-00006</td>\n",
       "      <td>2005-01-12</td>\n",
       "      <td>08:05</td>\n",
       "      <td>Zone X1</td>\n",
       "      <td>000</td>\n",
       "      <td>M</td>\n",
       "      <td>1973.0</td>\n",
       "      <td>32.0</td>\n",
       "      <td>B</td>\n",
       "      <td>Black</td>\n",
       "      <td>Call for Service</td>\n",
       "      <td>Other</td>\n",
       "      <td>False</td>\n",
       "      <td>NaN</td>\n",
       "      <td>NaN</td>\n",
       "      <td>False</td>\n",
       "      <td>Citation</td>\n",
       "      <td>False</td>\n",
       "      <td>30+ Min</td>\n",
       "      <td>True</td>\n",
       "      <td>False</td>\n",
       "      <td>Zone X1</td>\n",
       "      <td>False</td>\n",
       "    </tr>\n",
       "  </tbody>\n",
       "</table>\n",
       "</div>"
      ],
      "text/plain": [
       "                                id   stop_date stop_time location_raw  \\\n",
       "stop_datetime                                                           \n",
       "2005-01-02 01:55:00  RI-2005-00001  2005-01-02     01:55      Zone K1   \n",
       "2005-01-02 20:30:00  RI-2005-00002  2005-01-02     20:30      Zone X4   \n",
       "2005-01-04 12:55:00  RI-2005-00004  2005-01-04     12:55      Zone X4   \n",
       "2005-01-06 01:30:00  RI-2005-00005  2005-01-06     01:30      Zone X4   \n",
       "2005-01-12 08:05:00  RI-2005-00006  2005-01-12     08:05      Zone X1   \n",
       "\n",
       "                    police_department driver_gender  driver_age_raw  \\\n",
       "stop_datetime                                                         \n",
       "2005-01-02 01:55:00               600             M          1985.0   \n",
       "2005-01-02 20:30:00               500             M          1987.0   \n",
       "2005-01-04 12:55:00               500             M          1986.0   \n",
       "2005-01-06 01:30:00               500             M          1978.0   \n",
       "2005-01-12 08:05:00               000             M          1973.0   \n",
       "\n",
       "                     driver_age driver_race_raw driver_race  \\\n",
       "stop_datetime                                                 \n",
       "2005-01-02 01:55:00        20.0               W       White   \n",
       "2005-01-02 20:30:00        18.0               W       White   \n",
       "2005-01-04 12:55:00        19.0               W       White   \n",
       "2005-01-06 01:30:00        27.0               B       Black   \n",
       "2005-01-12 08:05:00        32.0               B       Black   \n",
       "\n",
       "                                      violation_raw  violation  \\\n",
       "stop_datetime                                                    \n",
       "2005-01-02 01:55:00                        Speeding   Speeding   \n",
       "2005-01-02 20:30:00                        Speeding   Speeding   \n",
       "2005-01-04 12:55:00  Equipment/Inspection Violation  Equipment   \n",
       "2005-01-06 01:30:00  Equipment/Inspection Violation  Equipment   \n",
       "2005-01-12 08:05:00                Call for Service      Other   \n",
       "\n",
       "                    search_conducted search_type_raw search_type  \\\n",
       "stop_datetime                                                      \n",
       "2005-01-02 01:55:00            False             NaN         NaN   \n",
       "2005-01-02 20:30:00            False             NaN         NaN   \n",
       "2005-01-04 12:55:00            False             NaN         NaN   \n",
       "2005-01-06 01:30:00            False             NaN         NaN   \n",
       "2005-01-12 08:05:00            False             NaN         NaN   \n",
       "\n",
       "                     contraband_found stop_outcome  is_arrested stop_duration  \\\n",
       "stop_datetime                                                                   \n",
       "2005-01-02 01:55:00             False     Citation        False      0-15 Min   \n",
       "2005-01-02 20:30:00             False     Citation        False     16-30 Min   \n",
       "2005-01-04 12:55:00             False     Citation        False      0-15 Min   \n",
       "2005-01-06 01:30:00             False     Citation        False      0-15 Min   \n",
       "2005-01-12 08:05:00             False     Citation        False       30+ Min   \n",
       "\n",
       "                    out_of_state  drugs_related_stop district  frisk  \n",
       "stop_datetime                                                         \n",
       "2005-01-02 01:55:00        False               False  Zone K1  False  \n",
       "2005-01-02 20:30:00        False               False  Zone X4  False  \n",
       "2005-01-04 12:55:00        False               False  Zone X4  False  \n",
       "2005-01-06 01:30:00        False               False  Zone X4  False  \n",
       "2005-01-12 08:05:00         True               False  Zone X1  False  "
      ]
     },
     "execution_count": 93,
     "metadata": {},
     "output_type": "execute_result"
    }
   ],
   "source": [
    "ri.head()"
   ]
  },
  {
   "cell_type": "code",
   "execution_count": 63,
   "metadata": {},
   "outputs": [],
   "source": [
    "searched = ri[ri['search_conducted'] == True]"
   ]
  },
  {
   "cell_type": "code",
   "execution_count": 64,
   "metadata": {},
   "outputs": [
    {
     "data": {
      "text/html": [
       "<div>\n",
       "<style scoped>\n",
       "    .dataframe tbody tr th:only-of-type {\n",
       "        vertical-align: middle;\n",
       "    }\n",
       "\n",
       "    .dataframe tbody tr th {\n",
       "        vertical-align: top;\n",
       "    }\n",
       "\n",
       "    .dataframe thead th {\n",
       "        text-align: right;\n",
       "    }\n",
       "</style>\n",
       "<table border=\"1\" class=\"dataframe\">\n",
       "  <thead>\n",
       "    <tr style=\"text-align: right;\">\n",
       "      <th></th>\n",
       "      <th>id</th>\n",
       "      <th>stop_date</th>\n",
       "      <th>stop_time</th>\n",
       "      <th>location_raw</th>\n",
       "      <th>police_department</th>\n",
       "      <th>driver_gender</th>\n",
       "      <th>driver_age_raw</th>\n",
       "      <th>driver_age</th>\n",
       "      <th>driver_race_raw</th>\n",
       "      <th>driver_race</th>\n",
       "      <th>violation_raw</th>\n",
       "      <th>violation</th>\n",
       "      <th>search_conducted</th>\n",
       "      <th>search_type_raw</th>\n",
       "      <th>search_type</th>\n",
       "      <th>contraband_found</th>\n",
       "      <th>stop_outcome</th>\n",
       "      <th>is_arrested</th>\n",
       "      <th>stop_duration</th>\n",
       "      <th>out_of_state</th>\n",
       "      <th>drugs_related_stop</th>\n",
       "      <th>district</th>\n",
       "      <th>frisk</th>\n",
       "    </tr>\n",
       "    <tr>\n",
       "      <th>stop_datetime</th>\n",
       "      <th></th>\n",
       "      <th></th>\n",
       "      <th></th>\n",
       "      <th></th>\n",
       "      <th></th>\n",
       "      <th></th>\n",
       "      <th></th>\n",
       "      <th></th>\n",
       "      <th></th>\n",
       "      <th></th>\n",
       "      <th></th>\n",
       "      <th></th>\n",
       "      <th></th>\n",
       "      <th></th>\n",
       "      <th></th>\n",
       "      <th></th>\n",
       "      <th></th>\n",
       "      <th></th>\n",
       "      <th></th>\n",
       "      <th></th>\n",
       "      <th></th>\n",
       "      <th></th>\n",
       "      <th></th>\n",
       "    </tr>\n",
       "  </thead>\n",
       "  <tbody>\n",
       "    <tr>\n",
       "      <th>2005-01-24 20:32:00</th>\n",
       "      <td>RI-2005-00010</td>\n",
       "      <td>2005-01-24</td>\n",
       "      <td>20:32</td>\n",
       "      <td>Zone K1</td>\n",
       "      <td>600</td>\n",
       "      <td>M</td>\n",
       "      <td>1987.0</td>\n",
       "      <td>18.0</td>\n",
       "      <td>W</td>\n",
       "      <td>White</td>\n",
       "      <td>Speeding</td>\n",
       "      <td>Speeding</td>\n",
       "      <td>True</td>\n",
       "      <td>Probable Cause</td>\n",
       "      <td>Probable Cause</td>\n",
       "      <td>True</td>\n",
       "      <td>Citation</td>\n",
       "      <td>False</td>\n",
       "      <td>0-15 Min</td>\n",
       "      <td>True</td>\n",
       "      <td>True</td>\n",
       "      <td>Zone K1</td>\n",
       "      <td>False</td>\n",
       "    </tr>\n",
       "    <tr>\n",
       "      <th>2005-02-09 03:05:00</th>\n",
       "      <td>RI-2005-00011</td>\n",
       "      <td>2005-02-09</td>\n",
       "      <td>03:05</td>\n",
       "      <td>Zone X4</td>\n",
       "      <td>500</td>\n",
       "      <td>M</td>\n",
       "      <td>1976.0</td>\n",
       "      <td>29.0</td>\n",
       "      <td>W</td>\n",
       "      <td>White</td>\n",
       "      <td>Registration Violation</td>\n",
       "      <td>Registration/plates</td>\n",
       "      <td>True</td>\n",
       "      <td>Probable Cause,Terry Frisk</td>\n",
       "      <td>Probable Cause,Protective Frisk</td>\n",
       "      <td>False</td>\n",
       "      <td>Citation</td>\n",
       "      <td>False</td>\n",
       "      <td>0-15 Min</td>\n",
       "      <td>False</td>\n",
       "      <td>False</td>\n",
       "      <td>Zone X4</td>\n",
       "      <td>True</td>\n",
       "    </tr>\n",
       "    <tr>\n",
       "      <th>2005-08-28 01:00:00</th>\n",
       "      <td>RI-2005-00084</td>\n",
       "      <td>2005-08-28</td>\n",
       "      <td>01:00</td>\n",
       "      <td>Zone X1</td>\n",
       "      <td>000</td>\n",
       "      <td>M</td>\n",
       "      <td>1979.0</td>\n",
       "      <td>26.0</td>\n",
       "      <td>W</td>\n",
       "      <td>White</td>\n",
       "      <td>Other Traffic Violation</td>\n",
       "      <td>Moving violation</td>\n",
       "      <td>True</td>\n",
       "      <td>Incident to Arrest,Terry Frisk</td>\n",
       "      <td>Incident to Arrest,Protective Frisk</td>\n",
       "      <td>False</td>\n",
       "      <td>Arrest Driver</td>\n",
       "      <td>True</td>\n",
       "      <td>16-30 Min</td>\n",
       "      <td>True</td>\n",
       "      <td>False</td>\n",
       "      <td>Zone X1</td>\n",
       "      <td>True</td>\n",
       "    </tr>\n",
       "    <tr>\n",
       "      <th>2005-09-15 02:20:00</th>\n",
       "      <td>RI-2005-00094</td>\n",
       "      <td>2005-09-15</td>\n",
       "      <td>02:20</td>\n",
       "      <td>Zone X4</td>\n",
       "      <td>500</td>\n",
       "      <td>M</td>\n",
       "      <td>1988.0</td>\n",
       "      <td>17.0</td>\n",
       "      <td>W</td>\n",
       "      <td>White</td>\n",
       "      <td>Other Traffic Violation</td>\n",
       "      <td>Moving violation</td>\n",
       "      <td>True</td>\n",
       "      <td>Incident to Arrest</td>\n",
       "      <td>Incident to Arrest</td>\n",
       "      <td>False</td>\n",
       "      <td>Arrest Driver</td>\n",
       "      <td>True</td>\n",
       "      <td>16-30 Min</td>\n",
       "      <td>False</td>\n",
       "      <td>False</td>\n",
       "      <td>Zone X4</td>\n",
       "      <td>False</td>\n",
       "    </tr>\n",
       "    <tr>\n",
       "      <th>2005-09-24 02:20:00</th>\n",
       "      <td>RI-2005-00115</td>\n",
       "      <td>2005-09-24</td>\n",
       "      <td>02:20</td>\n",
       "      <td>Zone K3</td>\n",
       "      <td>300</td>\n",
       "      <td>M</td>\n",
       "      <td>1987.0</td>\n",
       "      <td>18.0</td>\n",
       "      <td>W</td>\n",
       "      <td>White</td>\n",
       "      <td>Other Traffic Violation</td>\n",
       "      <td>Moving violation</td>\n",
       "      <td>True</td>\n",
       "      <td>Incident to Arrest</td>\n",
       "      <td>Incident to Arrest</td>\n",
       "      <td>False</td>\n",
       "      <td>Arrest Driver</td>\n",
       "      <td>True</td>\n",
       "      <td>16-30 Min</td>\n",
       "      <td>False</td>\n",
       "      <td>False</td>\n",
       "      <td>Zone K3</td>\n",
       "      <td>False</td>\n",
       "    </tr>\n",
       "    <tr>\n",
       "      <th>...</th>\n",
       "      <td>...</td>\n",
       "      <td>...</td>\n",
       "      <td>...</td>\n",
       "      <td>...</td>\n",
       "      <td>...</td>\n",
       "      <td>...</td>\n",
       "      <td>...</td>\n",
       "      <td>...</td>\n",
       "      <td>...</td>\n",
       "      <td>...</td>\n",
       "      <td>...</td>\n",
       "      <td>...</td>\n",
       "      <td>...</td>\n",
       "      <td>...</td>\n",
       "      <td>...</td>\n",
       "      <td>...</td>\n",
       "      <td>...</td>\n",
       "      <td>...</td>\n",
       "      <td>...</td>\n",
       "      <td>...</td>\n",
       "      <td>...</td>\n",
       "      <td>...</td>\n",
       "      <td>...</td>\n",
       "    </tr>\n",
       "    <tr>\n",
       "      <th>2015-12-28 11:05:00</th>\n",
       "      <td>RI-2015-46706</td>\n",
       "      <td>2015-12-28</td>\n",
       "      <td>11:05</td>\n",
       "      <td>Zone K3</td>\n",
       "      <td>300</td>\n",
       "      <td>F</td>\n",
       "      <td>1996.0</td>\n",
       "      <td>19.0</td>\n",
       "      <td>W</td>\n",
       "      <td>White</td>\n",
       "      <td>APB</td>\n",
       "      <td>Other</td>\n",
       "      <td>True</td>\n",
       "      <td>Incident to Arrest</td>\n",
       "      <td>Incident to Arrest</td>\n",
       "      <td>True</td>\n",
       "      <td>Citation</td>\n",
       "      <td>False</td>\n",
       "      <td>16-30 Min</td>\n",
       "      <td>True</td>\n",
       "      <td>True</td>\n",
       "      <td>Zone K3</td>\n",
       "      <td>False</td>\n",
       "    </tr>\n",
       "    <tr>\n",
       "      <th>2015-12-30 01:37:00</th>\n",
       "      <td>RI-2015-46870</td>\n",
       "      <td>2015-12-30</td>\n",
       "      <td>01:37</td>\n",
       "      <td>Zone X4</td>\n",
       "      <td>500</td>\n",
       "      <td>M</td>\n",
       "      <td>1979.0</td>\n",
       "      <td>36.0</td>\n",
       "      <td>W</td>\n",
       "      <td>White</td>\n",
       "      <td>Registration Violation</td>\n",
       "      <td>Registration/plates</td>\n",
       "      <td>True</td>\n",
       "      <td>Terry Frisk</td>\n",
       "      <td>Protective Frisk</td>\n",
       "      <td>False</td>\n",
       "      <td>Citation</td>\n",
       "      <td>False</td>\n",
       "      <td>0-15 Min</td>\n",
       "      <td>False</td>\n",
       "      <td>False</td>\n",
       "      <td>Zone X4</td>\n",
       "      <td>True</td>\n",
       "    </tr>\n",
       "    <tr>\n",
       "      <th>2015-12-30 08:51:00</th>\n",
       "      <td>RI-2015-46903</td>\n",
       "      <td>2015-12-30</td>\n",
       "      <td>08:51</td>\n",
       "      <td>Zone K3</td>\n",
       "      <td>300</td>\n",
       "      <td>F</td>\n",
       "      <td>1987.0</td>\n",
       "      <td>28.0</td>\n",
       "      <td>H</td>\n",
       "      <td>Hispanic</td>\n",
       "      <td>Speeding</td>\n",
       "      <td>Speeding</td>\n",
       "      <td>True</td>\n",
       "      <td>Probable Cause,Reasonable Suspicion</td>\n",
       "      <td>Probable Cause,Reasonable Suspicion</td>\n",
       "      <td>True</td>\n",
       "      <td>Citation</td>\n",
       "      <td>False</td>\n",
       "      <td>30+ Min</td>\n",
       "      <td>True</td>\n",
       "      <td>True</td>\n",
       "      <td>Zone K3</td>\n",
       "      <td>False</td>\n",
       "    </tr>\n",
       "    <tr>\n",
       "      <th>2015-12-30 13:15:00</th>\n",
       "      <td>RI-2015-46934</td>\n",
       "      <td>2015-12-30</td>\n",
       "      <td>13:15</td>\n",
       "      <td>Zone X3</td>\n",
       "      <td>200</td>\n",
       "      <td>M</td>\n",
       "      <td>1992.0</td>\n",
       "      <td>23.0</td>\n",
       "      <td>W</td>\n",
       "      <td>White</td>\n",
       "      <td>Seatbelt Violation</td>\n",
       "      <td>Seat belt</td>\n",
       "      <td>True</td>\n",
       "      <td>Incident to Arrest</td>\n",
       "      <td>Incident to Arrest</td>\n",
       "      <td>False</td>\n",
       "      <td>Arrest Passenger</td>\n",
       "      <td>True</td>\n",
       "      <td>16-30 Min</td>\n",
       "      <td>True</td>\n",
       "      <td>False</td>\n",
       "      <td>Zone X3</td>\n",
       "      <td>False</td>\n",
       "    </tr>\n",
       "    <tr>\n",
       "      <th>2015-12-30 15:58:00</th>\n",
       "      <td>RI-2015-46950</td>\n",
       "      <td>2015-12-30</td>\n",
       "      <td>15:58</td>\n",
       "      <td>Zone K2</td>\n",
       "      <td>900</td>\n",
       "      <td>M</td>\n",
       "      <td>1976.0</td>\n",
       "      <td>39.0</td>\n",
       "      <td>W</td>\n",
       "      <td>White</td>\n",
       "      <td>Other Traffic Violation</td>\n",
       "      <td>Moving violation</td>\n",
       "      <td>True</td>\n",
       "      <td>Odor of Drugs/Alcohol,Probable Cause,Reasonabl...</td>\n",
       "      <td>Probable Cause,Reasonable Suspicion</td>\n",
       "      <td>False</td>\n",
       "      <td>Citation</td>\n",
       "      <td>False</td>\n",
       "      <td>30+ Min</td>\n",
       "      <td>True</td>\n",
       "      <td>False</td>\n",
       "      <td>Zone K2</td>\n",
       "      <td>False</td>\n",
       "    </tr>\n",
       "  </tbody>\n",
       "</table>\n",
       "<p>17762 rows × 23 columns</p>\n",
       "</div>"
      ],
      "text/plain": [
       "                                id   stop_date stop_time location_raw  \\\n",
       "stop_datetime                                                           \n",
       "2005-01-24 20:32:00  RI-2005-00010  2005-01-24     20:32      Zone K1   \n",
       "2005-02-09 03:05:00  RI-2005-00011  2005-02-09     03:05      Zone X4   \n",
       "2005-08-28 01:00:00  RI-2005-00084  2005-08-28     01:00      Zone X1   \n",
       "2005-09-15 02:20:00  RI-2005-00094  2005-09-15     02:20      Zone X4   \n",
       "2005-09-24 02:20:00  RI-2005-00115  2005-09-24     02:20      Zone K3   \n",
       "...                            ...         ...       ...          ...   \n",
       "2015-12-28 11:05:00  RI-2015-46706  2015-12-28     11:05      Zone K3   \n",
       "2015-12-30 01:37:00  RI-2015-46870  2015-12-30     01:37      Zone X4   \n",
       "2015-12-30 08:51:00  RI-2015-46903  2015-12-30     08:51      Zone K3   \n",
       "2015-12-30 13:15:00  RI-2015-46934  2015-12-30     13:15      Zone X3   \n",
       "2015-12-30 15:58:00  RI-2015-46950  2015-12-30     15:58      Zone K2   \n",
       "\n",
       "                    police_department driver_gender  driver_age_raw  \\\n",
       "stop_datetime                                                         \n",
       "2005-01-24 20:32:00               600             M          1987.0   \n",
       "2005-02-09 03:05:00               500             M          1976.0   \n",
       "2005-08-28 01:00:00               000             M          1979.0   \n",
       "2005-09-15 02:20:00               500             M          1988.0   \n",
       "2005-09-24 02:20:00               300             M          1987.0   \n",
       "...                               ...           ...             ...   \n",
       "2015-12-28 11:05:00               300             F          1996.0   \n",
       "2015-12-30 01:37:00               500             M          1979.0   \n",
       "2015-12-30 08:51:00               300             F          1987.0   \n",
       "2015-12-30 13:15:00               200             M          1992.0   \n",
       "2015-12-30 15:58:00               900             M          1976.0   \n",
       "\n",
       "                     driver_age driver_race_raw driver_race  \\\n",
       "stop_datetime                                                 \n",
       "2005-01-24 20:32:00        18.0               W       White   \n",
       "2005-02-09 03:05:00        29.0               W       White   \n",
       "2005-08-28 01:00:00        26.0               W       White   \n",
       "2005-09-15 02:20:00        17.0               W       White   \n",
       "2005-09-24 02:20:00        18.0               W       White   \n",
       "...                         ...             ...         ...   \n",
       "2015-12-28 11:05:00        19.0               W       White   \n",
       "2015-12-30 01:37:00        36.0               W       White   \n",
       "2015-12-30 08:51:00        28.0               H    Hispanic   \n",
       "2015-12-30 13:15:00        23.0               W       White   \n",
       "2015-12-30 15:58:00        39.0               W       White   \n",
       "\n",
       "                               violation_raw            violation  \\\n",
       "stop_datetime                                                       \n",
       "2005-01-24 20:32:00                 Speeding             Speeding   \n",
       "2005-02-09 03:05:00   Registration Violation  Registration/plates   \n",
       "2005-08-28 01:00:00  Other Traffic Violation     Moving violation   \n",
       "2005-09-15 02:20:00  Other Traffic Violation     Moving violation   \n",
       "2005-09-24 02:20:00  Other Traffic Violation     Moving violation   \n",
       "...                                      ...                  ...   \n",
       "2015-12-28 11:05:00                      APB                Other   \n",
       "2015-12-30 01:37:00   Registration Violation  Registration/plates   \n",
       "2015-12-30 08:51:00                 Speeding             Speeding   \n",
       "2015-12-30 13:15:00       Seatbelt Violation            Seat belt   \n",
       "2015-12-30 15:58:00  Other Traffic Violation     Moving violation   \n",
       "\n",
       "                    search_conducted  \\\n",
       "stop_datetime                          \n",
       "2005-01-24 20:32:00             True   \n",
       "2005-02-09 03:05:00             True   \n",
       "2005-08-28 01:00:00             True   \n",
       "2005-09-15 02:20:00             True   \n",
       "2005-09-24 02:20:00             True   \n",
       "...                              ...   \n",
       "2015-12-28 11:05:00             True   \n",
       "2015-12-30 01:37:00             True   \n",
       "2015-12-30 08:51:00             True   \n",
       "2015-12-30 13:15:00             True   \n",
       "2015-12-30 15:58:00             True   \n",
       "\n",
       "                                                       search_type_raw  \\\n",
       "stop_datetime                                                            \n",
       "2005-01-24 20:32:00                                     Probable Cause   \n",
       "2005-02-09 03:05:00                         Probable Cause,Terry Frisk   \n",
       "2005-08-28 01:00:00                     Incident to Arrest,Terry Frisk   \n",
       "2005-09-15 02:20:00                                 Incident to Arrest   \n",
       "2005-09-24 02:20:00                                 Incident to Arrest   \n",
       "...                                                                ...   \n",
       "2015-12-28 11:05:00                                 Incident to Arrest   \n",
       "2015-12-30 01:37:00                                        Terry Frisk   \n",
       "2015-12-30 08:51:00                Probable Cause,Reasonable Suspicion   \n",
       "2015-12-30 13:15:00                                 Incident to Arrest   \n",
       "2015-12-30 15:58:00  Odor of Drugs/Alcohol,Probable Cause,Reasonabl...   \n",
       "\n",
       "                                             search_type  contraband_found  \\\n",
       "stop_datetime                                                                \n",
       "2005-01-24 20:32:00                       Probable Cause              True   \n",
       "2005-02-09 03:05:00      Probable Cause,Protective Frisk             False   \n",
       "2005-08-28 01:00:00  Incident to Arrest,Protective Frisk             False   \n",
       "2005-09-15 02:20:00                   Incident to Arrest             False   \n",
       "2005-09-24 02:20:00                   Incident to Arrest             False   \n",
       "...                                                  ...               ...   \n",
       "2015-12-28 11:05:00                   Incident to Arrest              True   \n",
       "2015-12-30 01:37:00                     Protective Frisk             False   \n",
       "2015-12-30 08:51:00  Probable Cause,Reasonable Suspicion              True   \n",
       "2015-12-30 13:15:00                   Incident to Arrest             False   \n",
       "2015-12-30 15:58:00  Probable Cause,Reasonable Suspicion             False   \n",
       "\n",
       "                         stop_outcome  is_arrested stop_duration out_of_state  \\\n",
       "stop_datetime                                                                   \n",
       "2005-01-24 20:32:00          Citation        False      0-15 Min         True   \n",
       "2005-02-09 03:05:00          Citation        False      0-15 Min        False   \n",
       "2005-08-28 01:00:00     Arrest Driver         True     16-30 Min         True   \n",
       "2005-09-15 02:20:00     Arrest Driver         True     16-30 Min        False   \n",
       "2005-09-24 02:20:00     Arrest Driver         True     16-30 Min        False   \n",
       "...                               ...          ...           ...          ...   \n",
       "2015-12-28 11:05:00          Citation        False     16-30 Min         True   \n",
       "2015-12-30 01:37:00          Citation        False      0-15 Min        False   \n",
       "2015-12-30 08:51:00          Citation        False       30+ Min         True   \n",
       "2015-12-30 13:15:00  Arrest Passenger         True     16-30 Min         True   \n",
       "2015-12-30 15:58:00          Citation        False       30+ Min         True   \n",
       "\n",
       "                     drugs_related_stop district  frisk  \n",
       "stop_datetime                                            \n",
       "2005-01-24 20:32:00                True  Zone K1  False  \n",
       "2005-02-09 03:05:00               False  Zone X4   True  \n",
       "2005-08-28 01:00:00               False  Zone X1   True  \n",
       "2005-09-15 02:20:00               False  Zone X4  False  \n",
       "2005-09-24 02:20:00               False  Zone K3  False  \n",
       "...                                 ...      ...    ...  \n",
       "2015-12-28 11:05:00                True  Zone K3  False  \n",
       "2015-12-30 01:37:00               False  Zone X4   True  \n",
       "2015-12-30 08:51:00                True  Zone K3  False  \n",
       "2015-12-30 13:15:00               False  Zone X3  False  \n",
       "2015-12-30 15:58:00               False  Zone K2  False  \n",
       "\n",
       "[17762 rows x 23 columns]"
      ]
     },
     "execution_count": 64,
     "metadata": {},
     "output_type": "execute_result"
    }
   ],
   "source": [
    "searched"
   ]
  },
  {
   "cell_type": "code",
   "execution_count": 57,
   "metadata": {},
   "outputs": [
    {
     "data": {
      "text/plain": [
       "False    462822\n",
       "True      17762\n",
       "Name: search_conducted, dtype: int64"
      ]
     },
     "execution_count": 57,
     "metadata": {},
     "output_type": "execute_result"
    }
   ],
   "source": [
    "ri['search_conducted'].value_counts()"
   ]
  },
  {
   "cell_type": "code",
   "execution_count": 65,
   "metadata": {},
   "outputs": [
    {
     "name": "stdout",
     "output_type": "stream",
     "text": [
      "<class 'pandas.core.frame.DataFrame'>\n",
      "DatetimeIndex: 17762 entries, 2005-01-24 20:32:00 to 2015-12-30 15:58:00\n",
      "Data columns (total 23 columns):\n",
      " #   Column              Non-Null Count  Dtype  \n",
      "---  ------              --------------  -----  \n",
      " 0   id                  17762 non-null  object \n",
      " 1   stop_date           17762 non-null  object \n",
      " 2   stop_time           17762 non-null  object \n",
      " 3   location_raw        17762 non-null  object \n",
      " 4   police_department   17762 non-null  object \n",
      " 5   driver_gender       17762 non-null  object \n",
      " 6   driver_age_raw      17762 non-null  float64\n",
      " 7   driver_age          17750 non-null  float64\n",
      " 8   driver_race_raw     17762 non-null  object \n",
      " 9   driver_race         17762 non-null  object \n",
      " 10  violation_raw       17762 non-null  object \n",
      " 11  violation           17762 non-null  object \n",
      " 12  search_conducted    17762 non-null  object \n",
      " 13  search_type_raw     17762 non-null  object \n",
      " 14  search_type         17762 non-null  object \n",
      " 15  contraband_found    17762 non-null  bool   \n",
      " 16  stop_outcome        17762 non-null  object \n",
      " 17  is_arrested         17762 non-null  bool   \n",
      " 18  stop_duration       17762 non-null  object \n",
      " 19  out_of_state        17698 non-null  object \n",
      " 20  drugs_related_stop  17762 non-null  bool   \n",
      " 21  district            17762 non-null  object \n",
      " 22  frisk               17762 non-null  bool   \n",
      "dtypes: bool(4), float64(2), object(17)\n",
      "memory usage: 2.8+ MB\n"
     ]
    }
   ],
   "source": [
    "searched.info()"
   ]
  },
  {
   "cell_type": "code",
   "execution_count": 68,
   "metadata": {},
   "outputs": [
    {
     "data": {
      "text/plain": [
       "False    0.910033\n",
       "True     0.089967\n",
       "Name: frisk, dtype: float64"
      ]
     },
     "execution_count": 68,
     "metadata": {},
     "output_type": "execute_result"
    }
   ],
   "source": [
    "searched['frisk'].value_counts(normalize=True)"
   ]
  },
  {
   "cell_type": "code",
   "execution_count": 73,
   "metadata": {},
   "outputs": [
    {
     "data": {
      "text/plain": [
       "driver_gender  frisk\n",
       "F              False     2295\n",
       "               True       164\n",
       "M              False    13869\n",
       "               True      1434\n",
       "Name: frisk, dtype: int64"
      ]
     },
     "execution_count": 73,
     "metadata": {},
     "output_type": "execute_result"
    }
   ],
   "source": [
    "searched.groupby('driver_gender')['frisk'].value_counts()"
   ]
  },
  {
   "cell_type": "code",
   "execution_count": 72,
   "metadata": {
    "scrolled": true
   },
   "outputs": [
    {
     "data": {
      "text/plain": [
       "driver_gender  frisk\n",
       "F              False    0.933306\n",
       "               True     0.066694\n",
       "M              False    0.906293\n",
       "               True     0.093707\n",
       "Name: frisk, dtype: float64"
      ]
     },
     "execution_count": 72,
     "metadata": {},
     "output_type": "execute_result"
    }
   ],
   "source": [
    "searched.groupby('driver_gender')['frisk'].value_counts(normalize=True)"
   ]
  }
 ],
 "metadata": {
  "kernelspec": {
   "display_name": "Python 3",
   "language": "python",
   "name": "python3"
  },
  "language_info": {
   "codemirror_mode": {
    "name": "ipython",
    "version": 3
   },
   "file_extension": ".py",
   "mimetype": "text/x-python",
   "name": "python",
   "nbconvert_exporter": "python",
   "pygments_lexer": "ipython3",
   "version": "3.8.10"
  }
 },
 "nbformat": 4,
 "nbformat_minor": 4
}
